{
  "nbformat": 4,
  "nbformat_minor": 0,
  "metadata": {
    "colab": {
      "name": "LearnML.ipynb",
      "version": "0.3.2",
      "provenance": [],
      "collapsed_sections": [
        "IPZTMfEvtvRT"
      ],
      "toc_visible": true,
      "include_colab_link": true
    },
    "kernelspec": {
      "name": "python3",
      "display_name": "Python 3"
    }
  },
  "cells": [
    {
      "cell_type": "markdown",
      "metadata": {
        "id": "view-in-github",
        "colab_type": "text"
      },
      "source": [
        "<a href=\"https://colab.research.google.com/github/nivethsaran/PythonForDataScience/blob/master/LearnML.ipynb\" target=\"_parent\"><img src=\"https://colab.research.google.com/assets/colab-badge.svg\" alt=\"Open In Colab\"/></a>"
      ]
    },
    {
      "cell_type": "markdown",
      "metadata": {
        "id": "Rg7ebIqfITII",
        "colab_type": "text"
      },
      "source": [
        "**This notebook is created under the assumption that the reader has basic python and OOPS knowledge.**"
      ]
    },
    {
      "cell_type": "markdown",
      "metadata": {
        "id": "UZHVlidDJTiH",
        "colab_type": "text"
      },
      "source": [
        "# **DATASCIENCE AND ML(Dataquest Notes)**\n",
        "\n",
        "---\n",
        "\n"
      ]
    },
    {
      "cell_type": "markdown",
      "metadata": {
        "id": "IPZTMfEvtvRT",
        "colab_type": "text"
      },
      "source": [
        "## **Importing Libraris and Reading Datasets**"
      ]
    },
    {
      "cell_type": "markdown",
      "metadata": {
        "colab_type": "text",
        "id": "FFwfuBJYhBAI"
      },
      "source": [
        "**`The above lines of code includes all libraries to be imported and also the code to upload the required datasets.`**\n"
      ]
    },
    {
      "cell_type": "code",
      "metadata": {
        "colab_type": "code",
        "id": "SzAKQ2SNiLw2",
        "outputId": "2efe5631-60b9-4a40-b98c-e4d8ffd9c38f",
        "colab": {
          "resources": {
            "http://localhost:8080/nbextensions/google.colab/files.js": {
              "data": "Ly8gQ29weXJpZ2h0IDIwMTcgR29vZ2xlIExMQwovLwovLyBMaWNlbnNlZCB1bmRlciB0aGUgQXBhY2hlIExpY2Vuc2UsIFZlcnNpb24gMi4wICh0aGUgIkxpY2Vuc2UiKTsKLy8geW91IG1heSBub3QgdXNlIHRoaXMgZmlsZSBleGNlcHQgaW4gY29tcGxpYW5jZSB3aXRoIHRoZSBMaWNlbnNlLgovLyBZb3UgbWF5IG9idGFpbiBhIGNvcHkgb2YgdGhlIExpY2Vuc2UgYXQKLy8KLy8gICAgICBodHRwOi8vd3d3LmFwYWNoZS5vcmcvbGljZW5zZXMvTElDRU5TRS0yLjAKLy8KLy8gVW5sZXNzIHJlcXVpcmVkIGJ5IGFwcGxpY2FibGUgbGF3IG9yIGFncmVlZCB0byBpbiB3cml0aW5nLCBzb2Z0d2FyZQovLyBkaXN0cmlidXRlZCB1bmRlciB0aGUgTGljZW5zZSBpcyBkaXN0cmlidXRlZCBvbiBhbiAiQVMgSVMiIEJBU0lTLAovLyBXSVRIT1VUIFdBUlJBTlRJRVMgT1IgQ09ORElUSU9OUyBPRiBBTlkgS0lORCwgZWl0aGVyIGV4cHJlc3Mgb3IgaW1wbGllZC4KLy8gU2VlIHRoZSBMaWNlbnNlIGZvciB0aGUgc3BlY2lmaWMgbGFuZ3VhZ2UgZ292ZXJuaW5nIHBlcm1pc3Npb25zIGFuZAovLyBsaW1pdGF0aW9ucyB1bmRlciB0aGUgTGljZW5zZS4KCi8qKgogKiBAZmlsZW92ZXJ2aWV3IEhlbHBlcnMgZm9yIGdvb2dsZS5jb2xhYiBQeXRob24gbW9kdWxlLgogKi8KKGZ1bmN0aW9uKHNjb3BlKSB7CmZ1bmN0aW9uIHNwYW4odGV4dCwgc3R5bGVBdHRyaWJ1dGVzID0ge30pIHsKICBjb25zdCBlbGVtZW50ID0gZG9jdW1lbnQuY3JlYXRlRWxlbWVudCgnc3BhbicpOwogIGVsZW1lbnQudGV4dENvbnRlbnQgPSB0ZXh0OwogIGZvciAoY29uc3Qga2V5IG9mIE9iamVjdC5rZXlzKHN0eWxlQXR0cmlidXRlcykpIHsKICAgIGVsZW1lbnQuc3R5bGVba2V5XSA9IHN0eWxlQXR0cmlidXRlc1trZXldOwogIH0KICByZXR1cm4gZWxlbWVudDsKfQoKLy8gTWF4IG51bWJlciBvZiBieXRlcyB3aGljaCB3aWxsIGJlIHVwbG9hZGVkIGF0IGEgdGltZS4KY29uc3QgTUFYX1BBWUxPQURfU0laRSA9IDEwMCAqIDEwMjQ7Ci8vIE1heCBhbW91bnQgb2YgdGltZSB0byBibG9jayB3YWl0aW5nIGZvciB0aGUgdXNlci4KY29uc3QgRklMRV9DSEFOR0VfVElNRU9VVF9NUyA9IDMwICogMTAwMDsKCmZ1bmN0aW9uIF91cGxvYWRGaWxlcyhpbnB1dElkLCBvdXRwdXRJZCkgewogIGNvbnN0IHN0ZXBzID0gdXBsb2FkRmlsZXNTdGVwKGlucHV0SWQsIG91dHB1dElkKTsKICBjb25zdCBvdXRwdXRFbGVtZW50ID0gZG9jdW1lbnQuZ2V0RWxlbWVudEJ5SWQob3V0cHV0SWQpOwogIC8vIENhY2hlIHN0ZXBzIG9uIHRoZSBvdXRwdXRFbGVtZW50IHRvIG1ha2UgaXQgYXZhaWxhYmxlIGZvciB0aGUgbmV4dCBjYWxsCiAgLy8gdG8gdXBsb2FkRmlsZXNDb250aW51ZSBmcm9tIFB5dGhvbi4KICBvdXRwdXRFbGVtZW50LnN0ZXBzID0gc3RlcHM7CgogIHJldHVybiBfdXBsb2FkRmlsZXNDb250aW51ZShvdXRwdXRJZCk7Cn0KCi8vIFRoaXMgaXMgcm91Z2hseSBhbiBhc3luYyBnZW5lcmF0b3IgKG5vdCBzdXBwb3J0ZWQgaW4gdGhlIGJyb3dzZXIgeWV0KSwKLy8gd2hlcmUgdGhlcmUgYXJlIG11bHRpcGxlIGFzeW5jaHJvbm91cyBzdGVwcyBhbmQgdGhlIFB5dGhvbiBzaWRlIGlzIGdvaW5nCi8vIHRvIHBvbGwgZm9yIGNvbXBsZXRpb24gb2YgZWFjaCBzdGVwLgovLyBUaGlzIHVzZXMgYSBQcm9taXNlIHRvIGJsb2NrIHRoZSBweXRob24gc2lkZSBvbiBjb21wbGV0aW9uIG9mIGVhY2ggc3RlcCwKLy8gdGhlbiBwYXNzZXMgdGhlIHJlc3VsdCBvZiB0aGUgcHJldmlvdXMgc3RlcCBhcyB0aGUgaW5wdXQgdG8gdGhlIG5leHQgc3RlcC4KZnVuY3Rpb24gX3VwbG9hZEZpbGVzQ29udGludWUob3V0cHV0SWQpIHsKICBjb25zdCBvdXRwdXRFbGVtZW50ID0gZG9jdW1lbnQuZ2V0RWxlbWVudEJ5SWQob3V0cHV0SWQpOwogIGNvbnN0IHN0ZXBzID0gb3V0cHV0RWxlbWVudC5zdGVwczsKCiAgY29uc3QgbmV4dCA9IHN0ZXBzLm5leHQob3V0cHV0RWxlbWVudC5sYXN0UHJvbWlzZVZhbHVlKTsKICByZXR1cm4gUHJvbWlzZS5yZXNvbHZlKG5leHQudmFsdWUucHJvbWlzZSkudGhlbigodmFsdWUpID0+IHsKICAgIC8vIENhY2hlIHRoZSBsYXN0IHByb21pc2UgdmFsdWUgdG8gbWFrZSBpdCBhdmFpbGFibGUgdG8gdGhlIG5leHQKICAgIC8vIHN0ZXAgb2YgdGhlIGdlbmVyYXRvci4KICAgIG91dHB1dEVsZW1lbnQubGFzdFByb21pc2VWYWx1ZSA9IHZhbHVlOwogICAgcmV0dXJuIG5leHQudmFsdWUucmVzcG9uc2U7CiAgfSk7Cn0KCi8qKgogKiBHZW5lcmF0b3IgZnVuY3Rpb24gd2hpY2ggaXMgY2FsbGVkIGJldHdlZW4gZWFjaCBhc3luYyBzdGVwIG9mIHRoZSB1cGxvYWQKICogcHJvY2Vzcy4KICogQHBhcmFtIHtzdHJpbmd9IGlucHV0SWQgRWxlbWVudCBJRCBvZiB0aGUgaW5wdXQgZmlsZSBwaWNrZXIgZWxlbWVudC4KICogQHBhcmFtIHtzdHJpbmd9IG91dHB1dElkIEVsZW1lbnQgSUQgb2YgdGhlIG91dHB1dCBkaXNwbGF5LgogKiBAcmV0dXJuIHshSXRlcmFibGU8IU9iamVjdD59IEl0ZXJhYmxlIG9mIG5leHQgc3RlcHMuCiAqLwpmdW5jdGlvbiogdXBsb2FkRmlsZXNTdGVwKGlucHV0SWQsIG91dHB1dElkKSB7CiAgY29uc3QgaW5wdXRFbGVtZW50ID0gZG9jdW1lbnQuZ2V0RWxlbWVudEJ5SWQoaW5wdXRJZCk7CiAgaW5wdXRFbGVtZW50LmRpc2FibGVkID0gZmFsc2U7CgogIGNvbnN0IG91dHB1dEVsZW1lbnQgPSBkb2N1bWVudC5nZXRFbGVtZW50QnlJZChvdXRwdXRJZCk7CiAgb3V0cHV0RWxlbWVudC5pbm5lckhUTUwgPSAnJzsKCiAgY29uc3QgcGlja2VkUHJvbWlzZSA9IG5ldyBQcm9taXNlKChyZXNvbHZlKSA9PiB7CiAgICBpbnB1dEVsZW1lbnQuYWRkRXZlbnRMaXN0ZW5lcignY2hhbmdlJywgKGUpID0+IHsKICAgICAgcmVzb2x2ZShlLnRhcmdldC5maWxlcyk7CiAgICB9KTsKICB9KTsKCiAgY29uc3QgY2FuY2VsID0gZG9jdW1lbnQuY3JlYXRlRWxlbWVudCgnYnV0dG9uJyk7CiAgaW5wdXRFbGVtZW50LnBhcmVudEVsZW1lbnQuYXBwZW5kQ2hpbGQoY2FuY2VsKTsKICBjYW5jZWwudGV4dENvbnRlbnQgPSAnQ2FuY2VsIHVwbG9hZCc7CiAgY29uc3QgY2FuY2VsUHJvbWlzZSA9IG5ldyBQcm9taXNlKChyZXNvbHZlKSA9PiB7CiAgICBjYW5jZWwub25jbGljayA9ICgpID0+IHsKICAgICAgcmVzb2x2ZShudWxsKTsKICAgIH07CiAgfSk7CgogIC8vIENhbmNlbCB1cGxvYWQgaWYgdXNlciBoYXNuJ3QgcGlja2VkIGFueXRoaW5nIGluIHRpbWVvdXQuCiAgY29uc3QgdGltZW91dFByb21pc2UgPSBuZXcgUHJvbWlzZSgocmVzb2x2ZSkgPT4gewogICAgc2V0VGltZW91dCgoKSA9PiB7CiAgICAgIHJlc29sdmUobnVsbCk7CiAgICB9LCBGSUxFX0NIQU5HRV9USU1FT1VUX01TKTsKICB9KTsKCiAgLy8gV2FpdCBmb3IgdGhlIHVzZXIgdG8gcGljayB0aGUgZmlsZXMuCiAgY29uc3QgZmlsZXMgPSB5aWVsZCB7CiAgICBwcm9taXNlOiBQcm9taXNlLnJhY2UoW3BpY2tlZFByb21pc2UsIHRpbWVvdXRQcm9taXNlLCBjYW5jZWxQcm9taXNlXSksCiAgICByZXNwb25zZTogewogICAgICBhY3Rpb246ICdzdGFydGluZycsCiAgICB9CiAgfTsKCiAgaWYgKCFmaWxlcykgewogICAgcmV0dXJuIHsKICAgICAgcmVzcG9uc2U6IHsKICAgICAgICBhY3Rpb246ICdjb21wbGV0ZScsCiAgICAgIH0KICAgIH07CiAgfQoKICBjYW5jZWwucmVtb3ZlKCk7CgogIC8vIERpc2FibGUgdGhlIGlucHV0IGVsZW1lbnQgc2luY2UgZnVydGhlciBwaWNrcyBhcmUgbm90IGFsbG93ZWQuCiAgaW5wdXRFbGVtZW50LmRpc2FibGVkID0gdHJ1ZTsKCiAgZm9yIChjb25zdCBmaWxlIG9mIGZpbGVzKSB7CiAgICBjb25zdCBsaSA9IGRvY3VtZW50LmNyZWF0ZUVsZW1lbnQoJ2xpJyk7CiAgICBsaS5hcHBlbmQoc3BhbihmaWxlLm5hbWUsIHtmb250V2VpZ2h0OiAnYm9sZCd9KSk7CiAgICBsaS5hcHBlbmQoc3BhbigKICAgICAgICBgKCR7ZmlsZS50eXBlIHx8ICduL2EnfSkgLSAke2ZpbGUuc2l6ZX0gYnl0ZXMsIGAgKwogICAgICAgIGBsYXN0IG1vZGlmaWVkOiAkewogICAgICAgICAgICBmaWxlLmxhc3RNb2RpZmllZERhdGUgPyBmaWxlLmxhc3RNb2RpZmllZERhdGUudG9Mb2NhbGVEYXRlU3RyaW5nKCkgOgogICAgICAgICAgICAgICAgICAgICAgICAgICAgICAgICAgICAnbi9hJ30gLSBgKSk7CiAgICBjb25zdCBwZXJjZW50ID0gc3BhbignMCUgZG9uZScpOwogICAgbGkuYXBwZW5kQ2hpbGQocGVyY2VudCk7CgogICAgb3V0cHV0RWxlbWVudC5hcHBlbmRDaGlsZChsaSk7CgogICAgY29uc3QgZmlsZURhdGFQcm9taXNlID0gbmV3IFByb21pc2UoKHJlc29sdmUpID0+IHsKICAgICAgY29uc3QgcmVhZGVyID0gbmV3IEZpbGVSZWFkZXIoKTsKICAgICAgcmVhZGVyLm9ubG9hZCA9IChlKSA9PiB7CiAgICAgICAgcmVzb2x2ZShlLnRhcmdldC5yZXN1bHQpOwogICAgICB9OwogICAgICByZWFkZXIucmVhZEFzQXJyYXlCdWZmZXIoZmlsZSk7CiAgICB9KTsKICAgIC8vIFdhaXQgZm9yIHRoZSBkYXRhIHRvIGJlIHJlYWR5LgogICAgbGV0IGZpbGVEYXRhID0geWllbGQgewogICAgICBwcm9taXNlOiBmaWxlRGF0YVByb21pc2UsCiAgICAgIHJlc3BvbnNlOiB7CiAgICAgICAgYWN0aW9uOiAnY29udGludWUnLAogICAgICB9CiAgICB9OwoKICAgIC8vIFVzZSBhIGNodW5rZWQgc2VuZGluZyB0byBhdm9pZCBtZXNzYWdlIHNpemUgbGltaXRzLiBTZWUgYi82MjExNTY2MC4KICAgIGxldCBwb3NpdGlvbiA9IDA7CiAgICB3aGlsZSAocG9zaXRpb24gPCBmaWxlRGF0YS5ieXRlTGVuZ3RoKSB7CiAgICAgIGNvbnN0IGxlbmd0aCA9IE1hdGgubWluKGZpbGVEYXRhLmJ5dGVMZW5ndGggLSBwb3NpdGlvbiwgTUFYX1BBWUxPQURfU0laRSk7CiAgICAgIGNvbnN0IGNodW5rID0gbmV3IFVpbnQ4QXJyYXkoZmlsZURhdGEsIHBvc2l0aW9uLCBsZW5ndGgpOwogICAgICBwb3NpdGlvbiArPSBsZW5ndGg7CgogICAgICBjb25zdCBiYXNlNjQgPSBidG9hKFN0cmluZy5mcm9tQ2hhckNvZGUuYXBwbHkobnVsbCwgY2h1bmspKTsKICAgICAgeWllbGQgewogICAgICAgIHJlc3BvbnNlOiB7CiAgICAgICAgICBhY3Rpb246ICdhcHBlbmQnLAogICAgICAgICAgZmlsZTogZmlsZS5uYW1lLAogICAgICAgICAgZGF0YTogYmFzZTY0LAogICAgICAgIH0sCiAgICAgIH07CiAgICAgIHBlcmNlbnQudGV4dENvbnRlbnQgPQogICAgICAgICAgYCR7TWF0aC5yb3VuZCgocG9zaXRpb24gLyBmaWxlRGF0YS5ieXRlTGVuZ3RoKSAqIDEwMCl9JSBkb25lYDsKICAgIH0KICB9CgogIC8vIEFsbCBkb25lLgogIHlpZWxkIHsKICAgIHJlc3BvbnNlOiB7CiAgICAgIGFjdGlvbjogJ2NvbXBsZXRlJywKICAgIH0KICB9Owp9CgpzY29wZS5nb29nbGUgPSBzY29wZS5nb29nbGUgfHwge307CnNjb3BlLmdvb2dsZS5jb2xhYiA9IHNjb3BlLmdvb2dsZS5jb2xhYiB8fCB7fTsKc2NvcGUuZ29vZ2xlLmNvbGFiLl9maWxlcyA9IHsKICBfdXBsb2FkRmlsZXMsCiAgX3VwbG9hZEZpbGVzQ29udGludWUsCn07Cn0pKHNlbGYpOwo=",
              "ok": true,
              "headers": [
                [
                  "content-type",
                  "application/javascript"
                ]
              ],
              "status": 200,
              "status_text": ""
            }
          },
          "base_uri": "https://localhost:8080/",
          "height": 74
        }
      },
      "source": [
        "import pandas as pd\n",
        "import numpy as np\n",
        "from csv import *\n",
        "import io\n",
        "import matplotlib.pyplot as plt\n",
        "from google.colab import files\n",
        "\n",
        "uploaded = files.upload()    #upload the dataset using the given code"
      ],
      "execution_count": 0,
      "outputs": [
        {
          "output_type": "display_data",
          "data": {
            "text/html": [
              "\n",
              "     <input type=\"file\" id=\"files-a60a9f9a-caf3-4eb6-9aea-cb7a3b61add5\" name=\"files[]\" multiple disabled />\n",
              "     <output id=\"result-a60a9f9a-caf3-4eb6-9aea-cb7a3b61add5\">\n",
              "      Upload widget is only available when the cell has been executed in the\n",
              "      current browser session. Please rerun this cell to enable.\n",
              "      </output>\n",
              "      <script src=\"/nbextensions/google.colab/files.js\"></script> "
            ],
            "text/plain": [
              "<IPython.core.display.HTML object>"
            ]
          },
          "metadata": {
            "tags": []
          }
        },
        {
          "output_type": "stream",
          "text": [
            "Saving Players_Stats.csv to Players_Stats.csv\n"
          ],
          "name": "stdout"
        }
      ]
    },
    {
      "cell_type": "code",
      "metadata": {
        "colab_type": "code",
        "id": "m9KrC5uchBAN",
        "colab": {}
      },
      "source": [
        "from google.colab import drive\n",
        "drive.mount('/content/drive')"
      ],
      "execution_count": 0,
      "outputs": []
    },
    {
      "cell_type": "code",
      "metadata": {
        "colab_type": "code",
        "outputId": "d794b233-f332-44e0-e9eb-8b4e078193d8",
        "id": "mATeuM99hA__",
        "colab": {
          "base_uri": "https://localhost:8080/",
          "height": 50
        }
      },
      "source": [
        "#reading a file\n",
        "opened=open(\"/content/Players_Stats.csv\")\n",
        "readfile=reader(opened)\n",
        "data=list(readfile)\n",
        "# print(data)\n",
        "\n",
        "#reading data as a dataframe\n",
        "df=pd.read_csv(\"/content/Players_Stats.csv\")\n",
        "# df2 = pd.read_csv(io.BytesIO(uploaded['california_housing_train.csv']))\n",
        "print(df.shape)\n",
        "\n",
        "\n",
        "#reading file as numpy array\n",
        "\n",
        "data_np=np.array(data)\n",
        "print(data_np.shape)\n",
        "\n",
        "# data_np=np.genfromtxt('/content/Players_Stats.csv',delimiter=',',skip_header=1)\n",
        "# print(data_np[1:])\n",
        "# print(data_np.shape)"
      ],
      "execution_count": 152,
      "outputs": [
        {
          "output_type": "stream",
          "text": [
            "(9133, 9)\n",
            "(9134, 9)\n"
          ],
          "name": "stdout"
        }
      ]
    },
    {
      "cell_type": "markdown",
      "metadata": {
        "id": "rsCsUqJYp9Gm",
        "colab_type": "text"
      },
      "source": [
        "## **Numpy  Funtions,Array Slicing and Boolean indexing on Numpy Arrays**"
      ]
    },
    {
      "cell_type": "markdown",
      "metadata": {
        "id": "1lzAhrVdvISO",
        "colab_type": "text"
      },
      "source": [
        "### `Numpy Array Slicing`"
      ]
    },
    {
      "cell_type": "code",
      "metadata": {
        "colab_type": "code",
        "id": "RdIp-pJDhA_z",
        "colab": {}
      },
      "source": [
        "print(data_np[1])  #Selecting a Row in numpy\n",
        "\n",
        "print(data_np[:,2]) #Selecting a Column\n",
        "\n",
        "print(data_np[1:6]) #Selecting Multiple Rows\n",
        "\n",
        "print(data_np[:,2:4]) #Selecting Multiple Columns\n",
        "\n",
        "cols=[1,4,6]\n",
        "print(data_np[:,cols]) #Selecting specific columns,same can be applied to rows as well\n",
        "\n",
        "print(data_np[1,4]) #Selecting a specific value in the dataset - similiar to a 2D Matrix\n",
        "\n",
        "print(data_np[0:5,cols]) #2D Slicing"
      ],
      "execution_count": 0,
      "outputs": []
    },
    {
      "cell_type": "markdown",
      "metadata": {
        "id": "BcFH3qiAvW_O",
        "colab_type": "text"
      },
      "source": [
        "### `Numpy Functions`"
      ]
    },
    {
      "cell_type": "code",
      "metadata": {
        "id": "-xYLlclprajL",
        "colab_type": "code",
        "colab": {}
      },
      "source": [
        "#numpy functions\n",
        "\n",
        "playedmins=data_np[1:,4].astype(float)\n",
        "\n",
        "print(playedmins.mean())\n",
        "\n",
        "print(np.mean(playedmins)) #another way to use numpy methods\n",
        "\n",
        "print(playedmins.min())    #other functions include the below ones\n",
        "\n",
        "print(playedmins.sum()/playedmins.size)\n",
        "\n",
        "print(playedmins.max())\n"
      ],
      "execution_count": 0,
      "outputs": []
    },
    {
      "cell_type": "markdown",
      "metadata": {
        "id": "Sy8d_RpZvgEp",
        "colab_type": "text"
      },
      "source": [
        "### `Boolean Indexing on Numpy Arrays`"
      ]
    },
    {
      "cell_type": "code",
      "metadata": {
        "colab_type": "code",
        "cellView": "code",
        "id": "XvRXJi9ShA_q",
        "colab": {}
      },
      "source": [
        "played_mins=data_np[1:,4].astype(int)\n",
        "\n",
        "club=data_np[1:,2]\n",
        "\n",
        "data_np=data_np[1:]\n",
        "print(played_mins<2800)     #basic filtering gives you a boolean array. This boolean array is the filter\n",
        "\n",
        "filter=(played_mins<2900)\n",
        "print(data_np[filter,2:3])  #the filter chooses the rows, and we can print necessary columns\n",
        "\n",
        "data_np[filter,4]=1         #assigning values using the filters(boolean masks)\n"
      ],
      "execution_count": 0,
      "outputs": []
    },
    {
      "cell_type": "markdown",
      "metadata": {
        "id": "HeONTEuo1By4",
        "colab_type": "text"
      },
      "source": [
        "## **Pandas(Dataframes and Related Stuff including Boolean Indexing)**"
      ]
    },
    {
      "cell_type": "markdown",
      "metadata": {
        "id": "4x2geYTf10nB",
        "colab_type": "text"
      },
      "source": [
        "### `Collecting Basic Details about Dataframes`"
      ]
    },
    {
      "cell_type": "code",
      "metadata": {
        "id": "HxQIpBQm1Kt3",
        "colab_type": "code",
        "colab": {
          "base_uri": "https://localhost:8080/",
          "height": 1000
        },
        "outputId": "26c772c8-68f7-4c96-dd4a-e2e031a6b22f"
      },
      "source": [
        "print(df.shape)       #Order of the dataframe\n",
        "print(df.dtypes)      #Schema of the dataframe\n",
        "print(df.describe)    #SELECT*FROM DATAFRAME seen from the mysql perspective\n"
      ],
      "execution_count": 106,
      "outputs": [
        {
          "output_type": "stream",
          "text": [
            "(9133, 9)\n",
            "Rank            int64\n",
            "player         object\n",
            "club           object\n",
            "playedgames     int64\n",
            "playedmins      int64\n",
            "perfdef        object\n",
            "perfattack     object\n",
            "perfposs        int64\n",
            "total          object\n",
            "dtype: object\n",
            "<bound method NDFrame.describe of       Rank              player  ... perfposs  total\n",
            "0        1       Mohamed Salah  ...     -151  1,419\n",
            "1        2         Eden Hazard  ...      205  1,375\n",
            "2        3     Kevin De Bruyne  ...      331  1,305\n",
            "3        4          Harry Kane  ...     -165  1,200\n",
            "4        5         David Silva  ...      511  1,136\n",
            "5        6    Nicolas Otamendi  ...      612  1,068\n",
            "6        7       Sergio Aguero  ...        9  1,050\n",
            "7        8      Jan Vertonghen  ...      318  1,022\n",
            "8        9     Raheem Sterling  ...      122  1,003\n",
            "9       10   Christian Eriksen  ...       50    965\n",
            "10      11          Mesut Ozil  ...      513    949\n",
            "11      12         Fernandinho  ...      459    873\n",
            "12      13   Cesar Azpilicueta  ...      294    871\n",
            "13      14          Paul Pogba  ...      120    824\n",
            "14      15          Leroy Sane  ...       14    813\n",
            "15      16             Willian  ...      103    804\n",
            "16      17             Ederson  ...      329    791\n",
            "17      18      Chris Smalling  ...      180    766\n",
            "18      19        Granit Xhaka  ...      339    761\n",
            "19      20            Coutinho  ...       87    760\n",
            "20      21      Alexis Sanchez  ...     -125    751\n",
            "21      22       Son Heung-Min  ...      -50    750\n",
            "22      23        N'Golo Kante  ...      270    712\n",
            "23      24       Nacho Monreal  ...      271    708\n",
            "24      25     Virgil van Dijk  ...      311    682\n",
            "25      26  Oxlade-Chamberlain  ...       -1    652\n",
            "26      27   Laurent Koscielny  ...      260    639\n",
            "27      28        Fabian Delph  ...      318    637\n",
            "28      29    Shkodran Mustafi  ...      212    636\n",
            "29      30          Phil Jones  ...      201    630\n",
            "...    ...                 ...  ...      ...    ...\n",
            "9103   501      Jairo Samperio  ...      -61    -93\n",
            "9104   502         Brown Ideye  ...     -109    -97\n",
            "9105   503        Alex Alegria  ...     -138   -102\n",
            "9106   504    Jonathan Calleri  ...     -414   -105\n",
            "9107   505       Damian Suarez  ...     -237   -106\n",
            "9108   506                Keko  ...     -121   -106\n",
            "9109   507     Alfonso Pedraza  ...     -297   -112\n",
            "9110   508         Manu Garcia  ...     -182   -113\n",
            "9111   509     Mauro Arambarri  ...     -203   -118\n",
            "9112   510      Geronimo Rulli  ...      113   -119\n",
            "9113   511        Antonio Adan  ...       32   -122\n",
            "9114   512         Samu Garcia  ...      -89   -131\n",
            "9115   513       Oier Olazabal  ...     -102   -132\n",
            "9116   514        Eneko Boveda  ...     -102   -141\n",
            "9117   515                 Ivi  ...     -284   -147\n",
            "9118   516         Sergio Rico  ...       22   -149\n",
            "9119   517        Raul Lizoain  ...       61   -165\n",
            "9120   518       Inigo Cordoba  ...     -223   -168\n",
            "9121   519     Fabian Orellana  ...     -111   -168\n",
            "9122   520      Nordin Amrabat  ...     -333   -178\n",
            "9123   521        Jorge Molina  ...     -418   -182\n",
            "9124   522   Youssef En-Nesyri  ...     -274   -187\n",
            "9125   523     Claudio Beauvue  ...     -263   -190\n",
            "9126   524        Hernan Perez  ...      -97   -209\n",
            "9127   525    Vitorino Antunes  ...     -293   -213\n",
            "9128   526       Florin Andone  ...     -315   -225\n",
            "9129   527      Carlos Vigaray  ...     -105   -226\n",
            "9130   528           Pere Pons  ...     -177   -233\n",
            "9131   529      Ruben Martinez  ...      -30   -280\n",
            "9132   530        Amath Ndiaye  ...     -443   -453\n",
            "\n",
            "[9133 rows x 9 columns]>\n"
          ],
          "name": "stdout"
        }
      ]
    },
    {
      "cell_type": "markdown",
      "metadata": {
        "id": "QPvGzBP32AAx",
        "colab_type": "text"
      },
      "source": [
        "### `Selecting Rows and Columns`"
      ]
    },
    {
      "cell_type": "code",
      "metadata": {
        "id": "YdrpN4Zz1wPg",
        "colab_type": "code",
        "colab": {}
      },
      "source": [
        "# Rank            int64\n",
        "# player         object\n",
        "# club           object\n",
        "# playedgames     int64\n",
        "# playedmins      int64\n",
        "# perfdef        object\n",
        "# perfattack     object\n",
        "# perfposs        int64\n",
        "# total          object\n",
        "\n",
        "#Explicit\n",
        "\n",
        "print(df.loc[:,'player'])    #Single Column\n",
        "\n",
        "collist=['player', 'club']\n",
        "\n",
        "print(df.loc[:,collist])     #List of columns, you can directly mention thhe list or store the list in a variable beforehand\n",
        "\n",
        "print(df.loc[:,'player':'total'].head())  #head() prints the first five rows,pretty useful in many cases\n",
        "\n",
        "#All the above selections or slices from dataframes return objects of Series datatypes\n",
        "#Rows can also be sliced in similiar manner as columns if Rows are labelled\n",
        "\n",
        "#ShortHand\n",
        "\n",
        "print(df['player'])          #Single Column in a shorter way\n",
        "\n",
        "print(df[collist])           #List of Columns in a shorter way,there is no way to slice columns using shorthand expressions\n",
        "\n",
        "\n",
        "series_df=df.iloc[1,0:6]   #Series should be having labels, else we find using index.\n",
        "\n",
        "#NOTE SERIES IS ONE DIMENSIONALLLLLL ELSE IT IS A DATAFRAME\n",
        "\n",
        "print(series_df)\n",
        "\n",
        "print(series_df.loc['perfdef'])         #item from series\n",
        "\n",
        "print(series_df.loc[collist])           #list from series\n",
        "\n",
        "print(series_df.loc['player':'perfdef']) #slice from series\n",
        "\n",
        "#Using ILOC\n",
        "\n",
        "print(df.iloc[2,0])\n",
        "\n",
        "print(df.iloc[:,2:7])\n",
        "\n",
        "#Using ILOC Is pretty much the same as numpy indexing."
      ],
      "execution_count": 0,
      "outputs": []
    },
    {
      "cell_type": "markdown",
      "metadata": {
        "id": "hUVijhxpCq8J",
        "colab_type": "text"
      },
      "source": [
        "### `Boolean Indexing`"
      ]
    },
    {
      "cell_type": "code",
      "metadata": {
        "id": "7sO0f0EcCtNC",
        "colab_type": "code",
        "colab": {}
      },
      "source": [
        "filter=df['club']=='Midfielder - Chelsea'\n",
        "\n",
        "print(filter)      #now we use this filter to choose rows\n",
        "\n",
        "print(df['perfdef'].isnull())\n",
        "\n",
        "filter2=df['perfdef'].isnull()    #another way to use filters.\n",
        "\n",
        "print(df.loc[filter])\n",
        "\n",
        "print(df.loc[filter,collist])   \n",
        "\n",
        "print(df[filter])"
      ],
      "execution_count": 0,
      "outputs": []
    },
    {
      "cell_type": "markdown",
      "metadata": {
        "id": "IYLPaTuPHjBQ",
        "colab_type": "text"
      },
      "source": [
        "### `Data Cleaning(Renaming and Modifying Columns and Data inside columns`"
      ]
    },
    {
      "cell_type": "code",
      "metadata": {
        "id": "6X3EsahQJkFY",
        "colab_type": "code",
        "colab": {}
      },
      "source": [
        "df.rename(columns={'club':'club-positions'},inplace=True)        #Rename a Column\n",
        "\n",
        "print(df.loc[:,'club-positions':'perfdef'])                      \n",
        "\n",
        "#In the data set, we want to know the position of every player.\n",
        "\n",
        "df['positions']=df.loc[:,'club-positions'].str.split('-').str[0];#Adding another column \n",
        "\n",
        "print(df.loc[:,'club-positions':'positions'])\n",
        "\n",
        "Now we modify the value 'Midfielder' to 'Mid-fielder'\n",
        "\n",
        "mappingdict={\n",
        "    'Midfielder ':'MF',\n",
        "    'Forward ':'FW',\n",
        "    'Defender ':'DF',\n",
        "    'Goalkeeper ':'GK'\n",
        "}\n",
        "\n",
        "#the mapping dictionary must include all values, else all the columns would be saved as Nan\n",
        "\n",
        "df['positions']=df['positions'].map(mappingdict)   #modifying all columns in a database\n",
        "\n",
        "print(df['positions'])     #If a column's value neednt be changed, the key and value should be the same in mappingdict value\n",
        "\n",
        "no_null_rows=df.dropna(axis=0)     #drops missing values\n",
        "\n",
        "df.to_csv(\"/content/Players_Stats_Modified.csv\",index=False)\n"
      ],
      "execution_count": 0,
      "outputs": []
    },
    {
      "cell_type": "markdown",
      "metadata": {
        "colab_type": "text",
        "id": "w69WjpNYhA_n"
      },
      "source": [
        "## **Plotting Graphs using Mathplotlib.pyplot**"
      ]
    },
    {
      "cell_type": "code",
      "metadata": {
        "colab_type": "code",
        "id": "h3WqlegPhA_b",
        "colab": {}
      },
      "source": [
        "# pandafile=pd.read_csv(\"/content/sample_data/california_housing_train.csv\")\n",
        "# print(pandafile)\n",
        "# print(pandafile.dtypes)\n",
        "# print(pandafile.shape)\n",
        "# print((pandafile.iloc[1,2]))\n",
        "# print(type(pandafile.loc[:,[\"median_house_value\",\"total_rooms\"]]))\n",
        "# pandafile=pandafile.sort_values(by=['median_house_value'])\n",
        "# plt.plot(pandafile[\"median_house_value\"].head(100),pandafile[\"total_bedrooms\"].head(100))\n",
        "# plt.show()\n",
        "\n"
      ],
      "execution_count": 0,
      "outputs": []
    }
  ]
}
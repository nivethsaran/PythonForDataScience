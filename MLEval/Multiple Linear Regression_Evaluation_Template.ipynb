{
 "cells": [
  {
   "cell_type": "markdown",
   "metadata": {},
   "source": [
    "## Import all necessary libraries here"
   ]
  },
  {
   "cell_type": "code",
   "execution_count": null,
   "metadata": {},
   "outputs": [],
   "source": [
    "import numpy as np\n",
    "#Import all other required packages here"
   ]
  },
  {
   "cell_type": "markdown",
   "metadata": {},
   "source": [
    "## Import given dataset named 'dataset2.csv'"
   ]
  },
  {
   "cell_type": "code",
   "execution_count": 1,
   "metadata": {},
   "outputs": [],
   "source": [
    "def read_data():\n",
    "    data = #Your code here\n",
    "    number_of_rows, number_of_columns = #Your code here\n",
    "    return data, number_of_rows, number_of_columns"
   ]
  },
  {
   "cell_type": "markdown",
   "metadata": {},
   "source": [
    "## Imputation: Fill missing data using \"median\" strategy"
   ]
  },
  {
   "cell_type": "code",
   "execution_count": 1,
   "metadata": {},
   "outputs": [],
   "source": [
    "def impute():\n",
    "    data,_,_ = read_data()\n",
    "    number_of_missing_values = #Your code here\n",
    "    imputer = #Your code here\n",
    "    imputed_data = #Your code here\n",
    "    return imputed_data, number_of_missing_values"
   ]
  },
  {
   "cell_type": "markdown",
   "metadata": {},
   "source": [
    "## Remove outliers using standard deviation method"
   ]
  },
  {
   "cell_type": "code",
   "execution_count": 1,
   "metadata": {},
   "outputs": [],
   "source": [
    "def remove_outliers():\n",
    "    imputed_data,_ = impute() \n",
    "    cleaned_data = #Your code for removing outliers\n",
    "    number_of_rows_after_removal = #Your code here\n",
    "    return cleaned_data, number_of_rows_after_removal"
   ]
  },
  {
   "cell_type": "markdown",
   "metadata": {},
   "source": [
    "## Split dataset into variable components"
   ]
  },
  {
   "cell_type": "code",
   "execution_count": 4,
   "metadata": {},
   "outputs": [],
   "source": [
    "def test_train_split():\n",
    "    data,_,_ = read_data()\n",
    "    X = #Your code here\n",
    "    Y = #Your code here\n",
    "    return X, Y"
   ]
  },
  {
   "cell_type": "markdown",
   "metadata": {},
   "source": [
    "## Split the dataset into test and train parts, use 33% for testing"
   ]
  },
  {
   "cell_type": "code",
   "execution_count": 4,
   "metadata": {},
   "outputs": [],
   "source": [
    "def X_Y_split():\n",
    "    X, Y = test_train_split()\n",
    "    X_train, X_test, y_train, y_test = #Your code here\n",
    "    return X_train, X_test, y_train, y_test"
   ]
  },
  {
   "cell_type": "markdown",
   "metadata": {},
   "source": [
    "## Create and train the model"
   ]
  },
  {
   "cell_type": "code",
   "execution_count": 5,
   "metadata": {},
   "outputs": [],
   "source": [
    "def fit():\n",
    "    X_train,_,y_train,_ = X_Y_split()\n",
    "    regressor = #Your code here\n",
    "    #Your code to train the model on the given training data\n",
    "    return regressor"
   ]
  },
  {
   "cell_type": "markdown",
   "metadata": {},
   "source": [
    "## Compute the RMSE error value using the predictions on the X_test data"
   ]
  },
  {
   "cell_type": "code",
   "execution_count": 6,
   "metadata": {},
   "outputs": [],
   "source": [
    "def error_values():\n",
    "    regressor = fit()\n",
    "    _,X_test,_,y_test = X_Y_split()\n",
    "    #Your code to find predictions on test data\n",
    "    rmse = #Your code here\n",
    "    return rmse"
   ]
  }
 ],
 "metadata": {
  "kernelspec": {
   "display_name": "Python 3",
   "language": "python",
   "name": "python3"
  },
  "language_info": {
   "codemirror_mode": {
    "name": "ipython",
    "version": 3
   },
   "file_extension": ".py",
   "mimetype": "text/x-python",
   "name": "python",
   "nbconvert_exporter": "python",
   "pygments_lexer": "ipython3",
   "version": "3.6.9"
  }
 },
 "nbformat": 4,
 "nbformat_minor": 2
}

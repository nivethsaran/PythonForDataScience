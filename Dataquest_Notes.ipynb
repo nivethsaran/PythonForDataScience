{
  "nbformat": 4,
  "nbformat_minor": 0,
  "metadata": {
    "colab": {
      "name": "Dataquest Notes.ipynb",
      "provenance": [],
      "collapsed_sections": [
        "IPZTMfEvtvRT",
        "rsCsUqJYp9Gm",
        "1lzAhrVdvISO",
        "BcFH3qiAvW_O",
        "Sy8d_RpZvgEp",
        "HeONTEuo1By4",
        "4x2geYTf10nB",
        "QPvGzBP32AAx",
        "hUVijhxpCq8J",
        "IYLPaTuPHjBQ",
        "w69WjpNYhA_n",
        "cbwmTb7gTBzN",
        "UKaAHhyDHFnr",
        "EudF-xr6n7kl",
        "ZYFOjahgojrF",
        "kxtZdZsbN0pc",
        "Lpryo0GySSGL",
        "ffTNH0wZc6dY"
      ],
      "toc_visible": true,
      "include_colab_link": true
    },
    "kernelspec": {
      "name": "python3",
      "display_name": "Python 3"
    }
  },
  "cells": [
    {
      "cell_type": "markdown",
      "metadata": {
        "id": "view-in-github",
        "colab_type": "text"
      },
      "source": [
        "<a href=\"https://colab.research.google.com/github/nivethsaran/PythonForDataScience/blob/master/Dataquest_Notes.ipynb\" target=\"_parent\"><img src=\"https://colab.research.google.com/assets/colab-badge.svg\" alt=\"Open In Colab\"/></a>"
      ]
    },
    {
      "cell_type": "markdown",
      "metadata": {
        "id": "Rg7ebIqfITII",
        "colab_type": "text"
      },
      "source": [
        "**This notebook is created under the assumption that the reader has basic python and OOPS knowledge.**"
      ]
    },
    {
      "cell_type": "markdown",
      "metadata": {
        "id": "UZHVlidDJTiH",
        "colab_type": "text"
      },
      "source": [
        "# **DATASCIENCE AND ML(Dataquest Notes)**\n",
        "\n",
        "---\n",
        "\n"
      ]
    },
    {
      "cell_type": "markdown",
      "metadata": {
        "id": "IPZTMfEvtvRT",
        "colab_type": "text"
      },
      "source": [
        "## **Importing Libraris and Reading Datasets**"
      ]
    },
    {
      "cell_type": "markdown",
      "metadata": {
        "colab_type": "text",
        "id": "FFwfuBJYhBAI"
      },
      "source": [
        "**`The above lines of code includes all libraries to be imported and also the code to upload the required datasets.`**\n"
      ]
    },
    {
      "cell_type": "code",
      "metadata": {
        "colab_type": "code",
        "id": "SzAKQ2SNiLw2",
        "outputId": "538e7672-03b7-487b-a8ae-cceab1cbeb6e",
        "colab": {
          "resources": {
            "http://localhost:8080/nbextensions/google.colab/files.js": {
              "data": "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",
              "ok": true,
              "headers": [
                [
                  "content-type",
                  "application/javascript"
                ]
              ],
              "status": 200,
              "status_text": ""
            }
          },
          "base_uri": "https://localhost:8080/",
          "height": 74
        }
      },
      "source": [
        "import pandas as pd       \n",
        "import numpy as np          \n",
        "from csv import *            #for reading csv files\n",
        "import io                    #for input and output\n",
        "import re                    #for regex\n",
        "import matplotlib.pyplot as plt\n",
        "import seaborn as sns\n",
        "from google.colab import files\n",
        "\n",
        "uploaded = files.upload()    #upload the dataset using the given code"
      ],
      "execution_count": 0,
      "outputs": [
        {
          "output_type": "display_data",
          "data": {
            "text/html": [
              "\n",
              "     <input type=\"file\" id=\"files-87a48e46-4adb-4903-9921-58ed0c6b74f1\" name=\"files[]\" multiple disabled />\n",
              "     <output id=\"result-87a48e46-4adb-4903-9921-58ed0c6b74f1\">\n",
              "      Upload widget is only available when the cell has been executed in the\n",
              "      current browser session. Please rerun this cell to enable.\n",
              "      </output>\n",
              "      <script src=\"/nbextensions/google.colab/files.js\"></script> "
            ],
            "text/plain": [
              "<IPython.core.display.HTML object>"
            ]
          },
          "metadata": {
            "tags": []
          }
        },
        {
          "output_type": "stream",
          "text": [
            "Saving Players_Stats.csv to Players_Stats.csv\n"
          ],
          "name": "stdout"
        }
      ]
    },
    {
      "cell_type": "code",
      "metadata": {
        "colab_type": "code",
        "id": "m9KrC5uchBAN",
        "colab": {}
      },
      "source": [
        "from google.colab import drive\n",
        "drive.mount('/content/drive')"
      ],
      "execution_count": 0,
      "outputs": []
    },
    {
      "cell_type": "code",
      "metadata": {
        "colab_type": "code",
        "id": "mATeuM99hA__",
        "colab": {}
      },
      "source": [
        "#reading a file\n",
        "opened=open(\"/content/Players_Stats.csv\")\n",
        "readfile=reader(opened)\n",
        "data=list(readfile)\n",
        "# print(data)\n",
        "\n",
        "#reading data as a dataframe\n",
        "df=pd.read_csv(\"/content/Players_Stats.csv\")\n",
        "# df2 = pd.read_csv(io.BytesIO(uploaded['california_housing_train.csv']))\n",
        "print(df.shape)\n",
        "\n",
        "\n",
        "#reading file as numpy array\n",
        "\n",
        "data_np=np.array(data)\n",
        "print(data_np.shape)\n",
        "\n",
        "# data_np=np.genfromtxt('/content/Players_Stats.csv',delimiter=',',skip_header=1)\n",
        "# print(data_np[1:])\n",
        "# print(data_np.shape)"
      ],
      "execution_count": 0,
      "outputs": []
    },
    {
      "cell_type": "markdown",
      "metadata": {
        "id": "rsCsUqJYp9Gm",
        "colab_type": "text"
      },
      "source": [
        "## **Numpy  Funtions,Array Slicing and Boolean indexing on Numpy Arrays**"
      ]
    },
    {
      "cell_type": "markdown",
      "metadata": {
        "id": "1lzAhrVdvISO",
        "colab_type": "text"
      },
      "source": [
        "### `Numpy Array Slicing`"
      ]
    },
    {
      "cell_type": "code",
      "metadata": {
        "colab_type": "code",
        "id": "RdIp-pJDhA_z",
        "colab": {}
      },
      "source": [
        "print(data_np[1])  #Selecting a Row in numpy\n",
        "\n",
        "print(data_np[:,2]) #Selecting a Column\n",
        "\n",
        "print(data_np[1:6]) #Selecting Multiple Rows\n",
        "\n",
        "print(data_np[:,2:4]) #Selecting Multiple Columns\n",
        "\n",
        "cols=[1,4,6]\n",
        "print(data_np[:,cols]) #Selecting specific columns,same can be applied to rows as well\n",
        "\n",
        "print(data_np[1,4]) #Selecting a specific value in the dataset - similiar to a 2D Matrix\n",
        "\n",
        "print(data_np[0:5,cols]) #2D Slicing"
      ],
      "execution_count": 0,
      "outputs": []
    },
    {
      "cell_type": "markdown",
      "metadata": {
        "id": "BcFH3qiAvW_O",
        "colab_type": "text"
      },
      "source": [
        "### `Numpy Functions`"
      ]
    },
    {
      "cell_type": "code",
      "metadata": {
        "id": "-xYLlclprajL",
        "colab_type": "code",
        "colab": {}
      },
      "source": [
        "#numpy functions\n",
        "\n",
        "playedmins=data_np[1:,4].astype(float)\n",
        "\n",
        "print(playedmins.mean())\n",
        "\n",
        "print(np.mean(playedmins)) #another way to use numpy methods\n",
        "\n",
        "print(playedmins.min())    #other functions include the below ones\n",
        "\n",
        "print(playedmins.sum()/playedmins.size)\n",
        "\n",
        "print(playedmins.max())\n"
      ],
      "execution_count": 0,
      "outputs": []
    },
    {
      "cell_type": "markdown",
      "metadata": {
        "id": "Sy8d_RpZvgEp",
        "colab_type": "text"
      },
      "source": [
        "### `Boolean Indexing on Numpy Arrays`"
      ]
    },
    {
      "cell_type": "code",
      "metadata": {
        "colab_type": "code",
        "cellView": "code",
        "id": "XvRXJi9ShA_q",
        "colab": {}
      },
      "source": [
        "played_mins=data_np[1:,4].astype(int)\n",
        "\n",
        "club=data_np[1:,2]\n",
        "\n",
        "data_np=data_np[1:]\n",
        "print(played_mins<2800)     #basic filtering gives you a boolean array. This boolean array is the filter\n",
        "\n",
        "filter=(played_mins<2900)\n",
        "print(data_np[filter,2:3])  #the filter chooses the rows, and we can print necessary columns\n",
        "\n",
        "data_np[filter,4]=1         #assigning values using the filters(boolean masks)\n"
      ],
      "execution_count": 0,
      "outputs": []
    },
    {
      "cell_type": "markdown",
      "metadata": {
        "id": "HeONTEuo1By4",
        "colab_type": "text"
      },
      "source": [
        "## **Pandas(Dataframes and Related Stuff including Boolean Indexing)**"
      ]
    },
    {
      "cell_type": "markdown",
      "metadata": {
        "id": "4x2geYTf10nB",
        "colab_type": "text"
      },
      "source": [
        "### `Collecting Basic Details about Dataframes`"
      ]
    },
    {
      "cell_type": "code",
      "metadata": {
        "id": "HxQIpBQm1Kt3",
        "colab_type": "code",
        "colab": {}
      },
      "source": [
        "print(df.shape)       #Order of the dataframe\n",
        "print(df.dtypes)      #Schema of the dataframe\n",
        "print(df.describe)    #SELECT*FROM DATAFRAME seen from the mysql perspective\n",
        "print(df.info())\n"
      ],
      "execution_count": 0,
      "outputs": []
    },
    {
      "cell_type": "markdown",
      "metadata": {
        "id": "QPvGzBP32AAx",
        "colab_type": "text"
      },
      "source": [
        "### `Selecting Rows and Columns`"
      ]
    },
    {
      "cell_type": "code",
      "metadata": {
        "id": "YdrpN4Zz1wPg",
        "colab_type": "code",
        "colab": {}
      },
      "source": [
        "# Rank            int64\n",
        "# player         object\n",
        "# club           object\n",
        "# playedgames     int64\n",
        "# playedmins      int64\n",
        "# perfdef        object\n",
        "# perfattack     object\n",
        "# perfposs        int64\n",
        "# total          object\n",
        "\n",
        "#Explicit\n",
        "\n",
        "print(df.loc[:,'player'])    #Single Column\n",
        "\n",
        "collist=['player', 'club']\n",
        "\n",
        "print(df.loc[:,collist])     #List of columns, you can directly mention thhe list or store the list in a variable beforehand\n",
        "\n",
        "print(df.loc[:,'player':'total'].head())  #head() prints the first five rows,pretty useful in many cases\n",
        "\n",
        "#All the above selections or slices from dataframes return objects of Series datatypes\n",
        "#Rows can also be sliced in similiar manner as columns if Rows are labelled\n",
        "\n",
        "#ShortHand\n",
        "\n",
        "print(df['player'])          #Single Column in a shorter way\n",
        "\n",
        "print(df[collist])           #List of Columns in a shorter way,there is no way to slice columns using shorthand expressions\n",
        "\n",
        "\n",
        "series_df=df.iloc[1,0:6]   #Series should be having labels, else we find using index.\n",
        "\n",
        "#NOTE SERIES IS ONE DIMENSIONALLLLLL ELSE IT IS A DATAFRAME\n",
        "\n",
        "print(series_df)\n",
        "\n",
        "print(series_df.loc['perfdef'])         #item from series\n",
        "\n",
        "print(series_df.loc[collist])           #list from series\n",
        "\n",
        "print(series_df.loc['player':'perfdef']) #slice from series\n",
        "\n",
        "#Using ILOC\n",
        "\n",
        "print(df.iloc[2,0])\n",
        "\n",
        "print(df.iloc[:,2:7])\n",
        "\n",
        "#Using ILOC Is pretty much the same as numpy indexing."
      ],
      "execution_count": 0,
      "outputs": []
    },
    {
      "cell_type": "markdown",
      "metadata": {
        "id": "hUVijhxpCq8J",
        "colab_type": "text"
      },
      "source": [
        "### `Boolean Indexing`"
      ]
    },
    {
      "cell_type": "code",
      "metadata": {
        "id": "7sO0f0EcCtNC",
        "colab_type": "code",
        "colab": {}
      },
      "source": [
        "filter=df['club']=='Midfielder - Chelsea'\n",
        "\n",
        "print(filter)      #now we use this filter to choose rows\n",
        "\n",
        "print(df['perfdef'].isnull())\n",
        "\n",
        "filter2=df['perfdef'].isnull()    #another way to use filters.\n",
        "\n",
        "print(df.loc[filter])\n",
        "\n",
        "print(df.loc[filter,collist])   \n",
        "\n",
        "print(df[filter])"
      ],
      "execution_count": 0,
      "outputs": []
    },
    {
      "cell_type": "markdown",
      "metadata": {
        "id": "IYLPaTuPHjBQ",
        "colab_type": "text"
      },
      "source": [
        "### `Data Cleaning(Renaming and Modifying Columns and Data inside columns`"
      ]
    },
    {
      "cell_type": "code",
      "metadata": {
        "id": "6X3EsahQJkFY",
        "colab_type": "code",
        "colab": {}
      },
      "source": [
        "df.rename(columns={'club':'club-positions'},inplace=True)        #Rename a Column\n",
        "\n",
        "print(df.loc[:,'club-positions':'perfdef'])                      \n",
        "\n",
        "#In the data set, we want to know the position of every player.\n",
        "\n",
        "df['positions']=df.loc[:,'club-positions'].str.split('-').str[0];#Adding another column \n",
        "\n",
        "print(df.loc[:,'club-positions':'positions'])\n",
        "\n",
        "#Now we modify the value 'Midfielder' to 'Mid-fielder'\n",
        "\n",
        "mappingdict={\n",
        "    'Midfielder ':'MF',\n",
        "    'Forward ':'FW',\n",
        "    'Defender ':'DF',\n",
        "    'Goalkeeper ':'GK'\n",
        "}\n",
        "\n",
        "#the mapping dictionary must include all values, else all the columns would be saved as Nan\n",
        "\n",
        "df['positions']=df['positions'].map(mappingdict)   #modifying all columns in a database\n",
        "\n",
        "# print(df['positions'])     #If a column's value neednt be changed, the key and value should be the same in mappingdict value\n",
        "\n",
        "no_null_rows=df.dropna(axis=0)     #drops missing values\n",
        "\n",
        "df.to_csv(\"/content/Players_Stats_Modified.csv\",index=False)\n"
      ],
      "execution_count": 0,
      "outputs": []
    },
    {
      "cell_type": "markdown",
      "metadata": {
        "colab_type": "text",
        "id": "w69WjpNYhA_n"
      },
      "source": [
        "## **Plotting Graphs using Mathplotlib.pyplot**"
      ]
    },
    {
      "cell_type": "markdown",
      "metadata": {
        "id": "cbwmTb7gTBzN",
        "colab_type": "text"
      },
      "source": [
        "### `Basic Graphs`"
      ]
    },
    {
      "cell_type": "markdown",
      "metadata": {
        "id": "jOqa4RDXG8Jq",
        "colab_type": "text"
      },
      "source": [
        "TODO: Add details about each graph\n",
        "\n",
        "Note: The below graphs may not convey much meaning"
      ]
    },
    {
      "cell_type": "code",
      "metadata": {
        "colab_type": "code",
        "id": "h3WqlegPhA_b",
        "colab": {}
      },
      "source": [
        "df_for_plotting=df.head(100)           #data i am gonna use for plotting sample graphs\n",
        "\n",
        "# print(df['positions'].value_counts().dtype)     \n",
        "\n",
        "list_freq=[]\n",
        "for value in df['positions'].value_counts():     #value_counts is very useful in finding frequency\n",
        "    list_freq.append(value)\n",
        "    \n",
        "    \n",
        "list_names=df['positions'].unique()\n",
        "\n",
        "# print(list_names)\n",
        "\n",
        "fig=plt.figure(figsize=(12,7))       #figure is the container to hold all subplots\n",
        "ax1=fig.add_subplot(3,2,1)\n",
        "ax1.plot(df_for_plotting['Rank'],df_for_plotting['playedmins'],color='#7e97a6')\n",
        "ax1.plot(df_for_plotting['Rank'],df_for_plotting['playedmins']+200,color='red')      #plotting two line graphs in same plot\n",
        "ax2=fig.add_subplot(3,2,2)\n",
        "ax2.hist(df_for_plotting['playedmins'].head(20),color='#7e97a6')\n",
        "ax3=fig.add_subplot(3,2,3)\n",
        "ax3.bar(list_names,list_freq)           #axes is the container for each subplot\n",
        "ax4=fig.add_subplot(3,2,4)\n",
        "ax4.scatter(df_for_plotting['total'].head(30),df_for_plotting['playedmins'].head(30),color='#7e97a6')\n",
        "ax5=fig.add_subplot(3,2,5)\n",
        "ax5.boxplot(df_for_plotting['playedmins'])\n",
        "ax6=fig.add_subplot(3,2,6)\n",
        "ax6.stackplot(df_for_plotting['Rank'],df_for_plotting['perfdef'].str.replace(',','').astype(int),df_for_plotting['perfattack'].str.replace(',','').astype(int),df_for_plotting['perfposs'])\n",
        "\n",
        "ax1.title.set_text(\"Graph 1-Line Plot\")\n",
        "ax2.title.set_text(\"Graph 2-Histogram\")\n",
        "ax3.title.set_text(\"Graph 3-Bar Graph\")\n",
        "ax4.title.set_text(\"Graph 4-Scatter Plot\")\n",
        "ax5.title.set_text(\"Graph 5-Box Plot\")\n",
        "ax6.title.set_text(\"Graph 5-Stack Plot(Area Plot)\")\n",
        "\n",
        "\n",
        "\n",
        "#Plot Aesthetics(Keep it as minimal as possible)\n",
        "\n",
        "ax1.tick_params(bottom='off',top='off',left='off',right='off')\n",
        "\n",
        "for key,spine in ax1.spines.items():\n",
        "  spine.set_visible(False)\n",
        "\n",
        "ax1.set_xlabel('Rank')\n",
        "ax1.set_ylabel('Minutes Played')\n",
        "\n",
        "ax1.legend()\n",
        "ax2.legend()\n",
        "ax3.legend()\n",
        "ax4.legend()\n",
        "ax5.legend()\n",
        "ax6.legend()\n",
        "\n",
        "plt.show()\n",
        "\n"
      ],
      "execution_count": 0,
      "outputs": []
    },
    {
      "cell_type": "markdown",
      "metadata": {
        "id": "UKaAHhyDHFnr",
        "colab_type": "text"
      },
      "source": [
        "### `Geographic Maps`"
      ]
    },
    {
      "cell_type": "code",
      "metadata": {
        "id": "qDQAy78mHPia",
        "colab_type": "code",
        "colab": {}
      },
      "source": [
        "#Yet to be done"
      ],
      "execution_count": 0,
      "outputs": []
    },
    {
      "cell_type": "markdown",
      "metadata": {
        "id": "S1PWOiBcbL_n",
        "colab_type": "text"
      },
      "source": [
        "### `Conditional Plot(Seaborn Module)`"
      ]
    },
    {
      "cell_type": "code",
      "metadata": {
        "id": "fjX8wVslbSPP",
        "colab_type": "code",
        "colab": {}
      },
      "source": [
        "#Yet to be done\n",
        "fig1=sns.distplot(df_for_plotting['playedmins'])\n",
        "\n",
        "fig2=sns.kdeplot(df_for_plotting['playedmins'])"
      ],
      "execution_count": 0,
      "outputs": []
    },
    {
      "cell_type": "markdown",
      "metadata": {
        "id": "WuvQ9gcjeIuv",
        "colab_type": "text"
      },
      "source": [
        "## Data Cleaning and Analysis"
      ]
    },
    {
      "cell_type": "markdown",
      "metadata": {
        "id": "EudF-xr6n7kl",
        "colab_type": "text"
      },
      "source": [
        "### `Data Aggregation`"
      ]
    },
    {
      "cell_type": "markdown",
      "metadata": {
        "id": "mauC8z2GrGLq",
        "colab_type": "text"
      },
      "source": [
        "\n",
        "\n",
        "```\n",
        "Things to note in the below code cell\n",
        "\n",
        "1.   New ways to plot graphs\n",
        "2.   pivot table function can take params as strings or list of strings\n",
        "           for values,index,aggfunc parameters\n",
        "3.   df.groupby returns GroupBy object\n",
        "4.   df.pivot_table returns a Dataframe\n",
        "\n",
        "\n",
        "```\n",
        "\n"
      ]
    },
    {
      "cell_type": "code",
      "metadata": {
        "id": "sXm6RrureNE-",
        "colab_type": "code",
        "colab": {}
      },
      "source": [
        "df_grouped=(df.groupby('positions'))     #groupby positions of all players\n",
        "\n",
        "print(df_grouped.mean())         #object returned is GroupBy object\n",
        "\n",
        "print(df_grouped.agg(['mean','sum']))           #there are two ways to use aggregate functions on GroupBy Objects\n",
        "\n",
        "print(df_grouped['playedmins'].agg(['mean','max','min','sum','size','count']))    #all functions available with groupby object\n",
        "\n",
        "print(type(df.pivot_table('playedmins','positions',aggfunc='mean')))   #second parameter is the param to apply agg\n",
        "\n",
        "df_pt=df.pivot_table('playedmins','positions',aggfunc='mean');  #first parameter is the param to groupby\n",
        "\n",
        "df_pt_multiple=df.pivot_table(['playedmins','playedgames'],['positions','club-positions'],aggfunc=['mean','min'])\n",
        "\n",
        "print(df_pt_multiple.info())\n",
        "\n",
        "print(df_pt_multiple)\n",
        "df_pt.plot(kind='bar')\n"
      ],
      "execution_count": 0,
      "outputs": []
    },
    {
      "cell_type": "markdown",
      "metadata": {
        "id": "ZYFOjahgojrF",
        "colab_type": "text"
      },
      "source": [
        "###`Combining Data with Pandas`\n",
        "\n"
      ]
    },
    {
      "cell_type": "code",
      "metadata": {
        "id": "CJXlKxlCeNac",
        "colab_type": "code",
        "outputId": "ba1b3147-d634-4293-8522-722a589d5101",
        "colab": {
          "base_uri": "https://localhost:8080/",
          "height": 150
        }
      },
      "source": [
        "#To combine the data I am gonna split the the initial dataframe into two and then these operations\n",
        "df_part1=df.iloc[:,0:4].head(10)\n",
        "df_part2=df.iloc[:,5:].head(10)\n",
        "\n",
        "df_part2['Rank']=df_part1['Rank']\n",
        "\n",
        "# print(df_part1)\n",
        "# print(df_part2)\n",
        "\n",
        "df_combined=pd.concat([df_part1,df_part2],axis=1)    #axis=1 for horizontal and axis=0 for vertical\n",
        "\n",
        "# print(df_combined)\n",
        "\n",
        "df_merge=pd.merge(left=df_part1,right=df_part2,on='Rank')\n",
        "\n",
        "# print(df_merge)\n",
        "\n",
        "df_merge=pd.merge(left=df_part1.iloc[:5],right=df_part2,on='Rank',how='outer')    #left, right, inner\n",
        "\n",
        "# print(df_merge)\n",
        "\n",
        "df_merge=pd.merge(left=df_part1.iloc[:5],right=df_part2,left_index=True,right_index=True)  #joining using index\n",
        "\n",
        "# print(df_merge)\n",
        "\n",
        "df_merge=pd.merge(left=df_part1.iloc[:5],right=df_part2,left_index=True,right_index=True,suffixes=('_a','_b'))  #add suffixes\n",
        "\n",
        "# print(df_merge)\n",
        "\n",
        "df_merge=pd.merge(left=df_part1.iloc[:5],right=df_part2,how='left',on='Rank',suffixes=('_a','_b')) #add suffxes to column names\n",
        "\n",
        "# print(df_merge)\n"
      ],
      "execution_count": 0,
      "outputs": [
        {
          "output_type": "stream",
          "text": [
            "   Rank           player         club-positions  ...  perfposs  total positions\n",
            "0     1    Mohamed Salah    Forward - Liverpool  ...      -151  1,419        FW\n",
            "1     2      Eden Hazard   Midfielder - Chelsea  ...       205  1,375        MF\n",
            "2     3  Kevin De Bruyne  Midfielder - Man City  ...       331  1,305        MF\n",
            "3     4       Harry Kane        Forward - Spurs  ...      -165  1,200        FW\n",
            "4     5      David Silva  Midfielder - Man City  ...       511  1,136        MF\n",
            "\n",
            "[5 rows x 9 columns]\n"
          ],
          "name": "stdout"
        }
      ]
    },
    {
      "cell_type": "markdown",
      "metadata": {
        "id": "kxtZdZsbN0pc",
        "colab_type": "text"
      },
      "source": [
        "### `Transforming Data With Pandas`"
      ]
    },
    {
      "cell_type": "code",
      "metadata": {
        "id": "v3-7iV5DN6Ha",
        "colab_type": "code",
        "colab": {}
      },
      "source": [
        "def label(element):\n",
        "  if element=='DF' or element=='GK':\n",
        "    return 'BACK'\n",
        "  else:\n",
        "    return 'FORWARD'\n",
        "  \n",
        "df_mod=df['positions'].apply(label)\n",
        "\n",
        "#.map() also does the same as .apply. They return a Series object\n",
        "#They dont change the dataframe.\n",
        "#Using apply, we can pass extra parameters to label function. Thats the Difference\n",
        "#.applymap() again does the same with multiple columns\n",
        "\n",
        "df_multicolumn_df=df[['perfdef','perfattack']].applymap(label)\n",
        "\n",
        "# print(df_multicolumn_df)\n",
        "\n",
        "def count(col):\n",
        "  return col.value_counts()\n",
        "\n",
        "df_df=df[['positions','Rank']].apply(count)       #applies funnction to columns\n",
        "\n",
        "                                                  #above seen is the use of df.apply() instead of series.apply()\n",
        "  \n",
        "print(df_df)\n",
        "\n",
        "\n",
        "#TODO: Melt function also to be applied here\n",
        "\n"
      ],
      "execution_count": 0,
      "outputs": []
    },
    {
      "cell_type": "markdown",
      "metadata": {
        "id": "Lpryo0GySSGL",
        "colab_type": "text"
      },
      "source": [
        "###`Strings in Pandas`"
      ]
    },
    {
      "cell_type": "code",
      "metadata": {
        "id": "owdkB3ybSVi1",
        "colab_type": "code",
        "outputId": "d7c54312-7801-4e65-94ac-9abe0d1b1175",
        "colab": {
          "base_uri": "https://localhost:8080/",
          "height": 336
        }
      },
      "source": [
        "# p1=r\"[0-9]\"\n",
        "\n",
        "# p2=r\"([1-2][0-9][0-9][0-9])\"\n",
        "\n",
        "# p3=r\"([1-2][0-9]{3})\"\n",
        "\n",
        "# p4=r\"(?P<Years>[1-2][0-9]{3})\"\n",
        "\n",
        "# p_df=r\"?P<Goal>\"\n",
        "\n",
        "# sol=df['club-positions'].str.contains(p_df)"
      ],
      "execution_count": 0,
      "outputs": [
        {
          "output_type": "error",
          "ename": "error",
          "evalue": "ignored",
          "traceback": [
            "\u001b[0;31m---------------------------------------------------------------------------\u001b[0m",
            "\u001b[0;31merror\u001b[0m                                     Traceback (most recent call last)",
            "\u001b[0;32m<ipython-input-7-1da7a0eae8de>\u001b[0m in \u001b[0;36m<module>\u001b[0;34m()\u001b[0m\n\u001b[1;32m      9\u001b[0m \u001b[0mp_df\u001b[0m\u001b[0;34m=\u001b[0m\u001b[0;34mr\"?P<Goal>\"\u001b[0m\u001b[0;34m\u001b[0m\u001b[0;34m\u001b[0m\u001b[0m\n\u001b[1;32m     10\u001b[0m \u001b[0;34m\u001b[0m\u001b[0m\n\u001b[0;32m---> 11\u001b[0;31m \u001b[0msol\u001b[0m\u001b[0;34m=\u001b[0m\u001b[0mdf\u001b[0m\u001b[0;34m[\u001b[0m\u001b[0;34m'club-positions'\u001b[0m\u001b[0;34m]\u001b[0m\u001b[0;34m.\u001b[0m\u001b[0mstr\u001b[0m\u001b[0;34m.\u001b[0m\u001b[0mcontains\u001b[0m\u001b[0;34m(\u001b[0m\u001b[0mp_df\u001b[0m\u001b[0;34m)\u001b[0m\u001b[0;34m\u001b[0m\u001b[0;34m\u001b[0m\u001b[0m\n\u001b[0m",
            "\u001b[0;32m/usr/local/lib/python3.6/dist-packages/pandas/core/strings.py\u001b[0m in \u001b[0;36mcontains\u001b[0;34m(self, pat, case, flags, na, regex)\u001b[0m\n\u001b[1;32m   2521\u001b[0m     \u001b[0;32mdef\u001b[0m \u001b[0mcontains\u001b[0m\u001b[0;34m(\u001b[0m\u001b[0mself\u001b[0m\u001b[0;34m,\u001b[0m \u001b[0mpat\u001b[0m\u001b[0;34m,\u001b[0m \u001b[0mcase\u001b[0m\u001b[0;34m=\u001b[0m\u001b[0;32mTrue\u001b[0m\u001b[0;34m,\u001b[0m \u001b[0mflags\u001b[0m\u001b[0;34m=\u001b[0m\u001b[0;36m0\u001b[0m\u001b[0;34m,\u001b[0m \u001b[0mna\u001b[0m\u001b[0;34m=\u001b[0m\u001b[0mnp\u001b[0m\u001b[0;34m.\u001b[0m\u001b[0mnan\u001b[0m\u001b[0;34m,\u001b[0m \u001b[0mregex\u001b[0m\u001b[0;34m=\u001b[0m\u001b[0;32mTrue\u001b[0m\u001b[0;34m)\u001b[0m\u001b[0;34m:\u001b[0m\u001b[0;34m\u001b[0m\u001b[0;34m\u001b[0m\u001b[0m\n\u001b[1;32m   2522\u001b[0m         result = str_contains(self._parent, pat, case=case, flags=flags, na=na,\n\u001b[0;32m-> 2523\u001b[0;31m                               regex=regex)\n\u001b[0m\u001b[1;32m   2524\u001b[0m         \u001b[0;32mreturn\u001b[0m \u001b[0mself\u001b[0m\u001b[0;34m.\u001b[0m\u001b[0m_wrap_result\u001b[0m\u001b[0;34m(\u001b[0m\u001b[0mresult\u001b[0m\u001b[0;34m,\u001b[0m \u001b[0mfill_value\u001b[0m\u001b[0;34m=\u001b[0m\u001b[0mna\u001b[0m\u001b[0;34m)\u001b[0m\u001b[0;34m\u001b[0m\u001b[0;34m\u001b[0m\u001b[0m\n\u001b[1;32m   2525\u001b[0m \u001b[0;34m\u001b[0m\u001b[0m\n",
            "\u001b[0;32m/usr/local/lib/python3.6/dist-packages/pandas/core/strings.py\u001b[0m in \u001b[0;36mstr_contains\u001b[0;34m(arr, pat, case, flags, na, regex)\u001b[0m\n\u001b[1;32m    297\u001b[0m             \u001b[0mflags\u001b[0m \u001b[0;34m|=\u001b[0m \u001b[0mre\u001b[0m\u001b[0;34m.\u001b[0m\u001b[0mIGNORECASE\u001b[0m\u001b[0;34m\u001b[0m\u001b[0;34m\u001b[0m\u001b[0m\n\u001b[1;32m    298\u001b[0m \u001b[0;34m\u001b[0m\u001b[0m\n\u001b[0;32m--> 299\u001b[0;31m         \u001b[0mregex\u001b[0m \u001b[0;34m=\u001b[0m \u001b[0mre\u001b[0m\u001b[0;34m.\u001b[0m\u001b[0mcompile\u001b[0m\u001b[0;34m(\u001b[0m\u001b[0mpat\u001b[0m\u001b[0;34m,\u001b[0m \u001b[0mflags\u001b[0m\u001b[0;34m=\u001b[0m\u001b[0mflags\u001b[0m\u001b[0;34m)\u001b[0m\u001b[0;34m\u001b[0m\u001b[0;34m\u001b[0m\u001b[0m\n\u001b[0m\u001b[1;32m    300\u001b[0m \u001b[0;34m\u001b[0m\u001b[0m\n\u001b[1;32m    301\u001b[0m         \u001b[0;32mif\u001b[0m \u001b[0mregex\u001b[0m\u001b[0;34m.\u001b[0m\u001b[0mgroups\u001b[0m \u001b[0;34m>\u001b[0m \u001b[0;36m0\u001b[0m\u001b[0;34m:\u001b[0m\u001b[0;34m\u001b[0m\u001b[0;34m\u001b[0m\u001b[0m\n",
            "\u001b[0;32m/usr/lib/python3.6/re.py\u001b[0m in \u001b[0;36mcompile\u001b[0;34m(pattern, flags)\u001b[0m\n\u001b[1;32m    231\u001b[0m \u001b[0;32mdef\u001b[0m \u001b[0mcompile\u001b[0m\u001b[0;34m(\u001b[0m\u001b[0mpattern\u001b[0m\u001b[0;34m,\u001b[0m \u001b[0mflags\u001b[0m\u001b[0;34m=\u001b[0m\u001b[0;36m0\u001b[0m\u001b[0;34m)\u001b[0m\u001b[0;34m:\u001b[0m\u001b[0;34m\u001b[0m\u001b[0;34m\u001b[0m\u001b[0m\n\u001b[1;32m    232\u001b[0m     \u001b[0;34m\"Compile a regular expression pattern, returning a pattern object.\"\u001b[0m\u001b[0;34m\u001b[0m\u001b[0;34m\u001b[0m\u001b[0m\n\u001b[0;32m--> 233\u001b[0;31m     \u001b[0;32mreturn\u001b[0m \u001b[0m_compile\u001b[0m\u001b[0;34m(\u001b[0m\u001b[0mpattern\u001b[0m\u001b[0;34m,\u001b[0m \u001b[0mflags\u001b[0m\u001b[0;34m)\u001b[0m\u001b[0;34m\u001b[0m\u001b[0;34m\u001b[0m\u001b[0m\n\u001b[0m\u001b[1;32m    234\u001b[0m \u001b[0;34m\u001b[0m\u001b[0m\n\u001b[1;32m    235\u001b[0m \u001b[0;32mdef\u001b[0m \u001b[0mpurge\u001b[0m\u001b[0;34m(\u001b[0m\u001b[0;34m)\u001b[0m\u001b[0;34m:\u001b[0m\u001b[0;34m\u001b[0m\u001b[0;34m\u001b[0m\u001b[0m\n",
            "\u001b[0;32m/usr/lib/python3.6/re.py\u001b[0m in \u001b[0;36m_compile\u001b[0;34m(pattern, flags)\u001b[0m\n\u001b[1;32m    299\u001b[0m     \u001b[0;32mif\u001b[0m \u001b[0;32mnot\u001b[0m \u001b[0msre_compile\u001b[0m\u001b[0;34m.\u001b[0m\u001b[0misstring\u001b[0m\u001b[0;34m(\u001b[0m\u001b[0mpattern\u001b[0m\u001b[0;34m)\u001b[0m\u001b[0;34m:\u001b[0m\u001b[0;34m\u001b[0m\u001b[0;34m\u001b[0m\u001b[0m\n\u001b[1;32m    300\u001b[0m         \u001b[0;32mraise\u001b[0m \u001b[0mTypeError\u001b[0m\u001b[0;34m(\u001b[0m\u001b[0;34m\"first argument must be string or compiled pattern\"\u001b[0m\u001b[0;34m)\u001b[0m\u001b[0;34m\u001b[0m\u001b[0;34m\u001b[0m\u001b[0m\n\u001b[0;32m--> 301\u001b[0;31m     \u001b[0mp\u001b[0m \u001b[0;34m=\u001b[0m \u001b[0msre_compile\u001b[0m\u001b[0;34m.\u001b[0m\u001b[0mcompile\u001b[0m\u001b[0;34m(\u001b[0m\u001b[0mpattern\u001b[0m\u001b[0;34m,\u001b[0m \u001b[0mflags\u001b[0m\u001b[0;34m)\u001b[0m\u001b[0;34m\u001b[0m\u001b[0;34m\u001b[0m\u001b[0m\n\u001b[0m\u001b[1;32m    302\u001b[0m     \u001b[0;32mif\u001b[0m \u001b[0;32mnot\u001b[0m \u001b[0;34m(\u001b[0m\u001b[0mflags\u001b[0m \u001b[0;34m&\u001b[0m \u001b[0mDEBUG\u001b[0m\u001b[0;34m)\u001b[0m\u001b[0;34m:\u001b[0m\u001b[0;34m\u001b[0m\u001b[0;34m\u001b[0m\u001b[0m\n\u001b[1;32m    303\u001b[0m         \u001b[0;32mif\u001b[0m \u001b[0mlen\u001b[0m\u001b[0;34m(\u001b[0m\u001b[0m_cache\u001b[0m\u001b[0;34m)\u001b[0m \u001b[0;34m>=\u001b[0m \u001b[0m_MAXCACHE\u001b[0m\u001b[0;34m:\u001b[0m\u001b[0;34m\u001b[0m\u001b[0;34m\u001b[0m\u001b[0m\n",
            "\u001b[0;32m/usr/lib/python3.6/sre_compile.py\u001b[0m in \u001b[0;36mcompile\u001b[0;34m(p, flags)\u001b[0m\n\u001b[1;32m    560\u001b[0m     \u001b[0;32mif\u001b[0m \u001b[0misstring\u001b[0m\u001b[0;34m(\u001b[0m\u001b[0mp\u001b[0m\u001b[0;34m)\u001b[0m\u001b[0;34m:\u001b[0m\u001b[0;34m\u001b[0m\u001b[0;34m\u001b[0m\u001b[0m\n\u001b[1;32m    561\u001b[0m         \u001b[0mpattern\u001b[0m \u001b[0;34m=\u001b[0m \u001b[0mp\u001b[0m\u001b[0;34m\u001b[0m\u001b[0;34m\u001b[0m\u001b[0m\n\u001b[0;32m--> 562\u001b[0;31m         \u001b[0mp\u001b[0m \u001b[0;34m=\u001b[0m \u001b[0msre_parse\u001b[0m\u001b[0;34m.\u001b[0m\u001b[0mparse\u001b[0m\u001b[0;34m(\u001b[0m\u001b[0mp\u001b[0m\u001b[0;34m,\u001b[0m \u001b[0mflags\u001b[0m\u001b[0;34m)\u001b[0m\u001b[0;34m\u001b[0m\u001b[0;34m\u001b[0m\u001b[0m\n\u001b[0m\u001b[1;32m    563\u001b[0m     \u001b[0;32melse\u001b[0m\u001b[0;34m:\u001b[0m\u001b[0;34m\u001b[0m\u001b[0;34m\u001b[0m\u001b[0m\n\u001b[1;32m    564\u001b[0m         \u001b[0mpattern\u001b[0m \u001b[0;34m=\u001b[0m \u001b[0;32mNone\u001b[0m\u001b[0;34m\u001b[0m\u001b[0;34m\u001b[0m\u001b[0m\n",
            "\u001b[0;32m/usr/lib/python3.6/sre_parse.py\u001b[0m in \u001b[0;36mparse\u001b[0;34m(str, flags, pattern)\u001b[0m\n\u001b[1;32m    853\u001b[0m \u001b[0;34m\u001b[0m\u001b[0m\n\u001b[1;32m    854\u001b[0m     \u001b[0;32mtry\u001b[0m\u001b[0;34m:\u001b[0m\u001b[0;34m\u001b[0m\u001b[0;34m\u001b[0m\u001b[0m\n\u001b[0;32m--> 855\u001b[0;31m         \u001b[0mp\u001b[0m \u001b[0;34m=\u001b[0m \u001b[0m_parse_sub\u001b[0m\u001b[0;34m(\u001b[0m\u001b[0msource\u001b[0m\u001b[0;34m,\u001b[0m \u001b[0mpattern\u001b[0m\u001b[0;34m,\u001b[0m \u001b[0mflags\u001b[0m \u001b[0;34m&\u001b[0m \u001b[0mSRE_FLAG_VERBOSE\u001b[0m\u001b[0;34m,\u001b[0m \u001b[0;36m0\u001b[0m\u001b[0;34m)\u001b[0m\u001b[0;34m\u001b[0m\u001b[0;34m\u001b[0m\u001b[0m\n\u001b[0m\u001b[1;32m    856\u001b[0m     \u001b[0;32mexcept\u001b[0m \u001b[0mVerbose\u001b[0m\u001b[0;34m:\u001b[0m\u001b[0;34m\u001b[0m\u001b[0;34m\u001b[0m\u001b[0m\n\u001b[1;32m    857\u001b[0m         \u001b[0;31m# the VERBOSE flag was switched on inside the pattern.  to be\u001b[0m\u001b[0;34m\u001b[0m\u001b[0;34m\u001b[0m\u001b[0;34m\u001b[0m\u001b[0m\n",
            "\u001b[0;32m/usr/lib/python3.6/sre_parse.py\u001b[0m in \u001b[0;36m_parse_sub\u001b[0;34m(source, state, verbose, nested)\u001b[0m\n\u001b[1;32m    414\u001b[0m     \u001b[0;32mwhile\u001b[0m \u001b[0;32mTrue\u001b[0m\u001b[0;34m:\u001b[0m\u001b[0;34m\u001b[0m\u001b[0;34m\u001b[0m\u001b[0m\n\u001b[1;32m    415\u001b[0m         itemsappend(_parse(source, state, verbose, nested + 1,\n\u001b[0;32m--> 416\u001b[0;31m                            not nested and not items))\n\u001b[0m\u001b[1;32m    417\u001b[0m         \u001b[0;32mif\u001b[0m \u001b[0;32mnot\u001b[0m \u001b[0msourcematch\u001b[0m\u001b[0;34m(\u001b[0m\u001b[0;34m\"|\"\u001b[0m\u001b[0;34m)\u001b[0m\u001b[0;34m:\u001b[0m\u001b[0;34m\u001b[0m\u001b[0;34m\u001b[0m\u001b[0m\n\u001b[1;32m    418\u001b[0m             \u001b[0;32mbreak\u001b[0m\u001b[0;34m\u001b[0m\u001b[0;34m\u001b[0m\u001b[0m\n",
            "\u001b[0;32m/usr/lib/python3.6/sre_parse.py\u001b[0m in \u001b[0;36m_parse\u001b[0;34m(source, state, verbose, nested, first)\u001b[0m\n\u001b[1;32m    614\u001b[0m             \u001b[0;32mif\u001b[0m \u001b[0;32mnot\u001b[0m \u001b[0mitem\u001b[0m \u001b[0;32mor\u001b[0m \u001b[0;34m(\u001b[0m\u001b[0m_len\u001b[0m\u001b[0;34m(\u001b[0m\u001b[0mitem\u001b[0m\u001b[0;34m)\u001b[0m \u001b[0;34m==\u001b[0m \u001b[0;36m1\u001b[0m \u001b[0;32mand\u001b[0m \u001b[0mitem\u001b[0m\u001b[0;34m[\u001b[0m\u001b[0;36m0\u001b[0m\u001b[0;34m]\u001b[0m\u001b[0;34m[\u001b[0m\u001b[0;36m0\u001b[0m\u001b[0;34m]\u001b[0m \u001b[0;32mis\u001b[0m \u001b[0mAT\u001b[0m\u001b[0;34m)\u001b[0m\u001b[0;34m:\u001b[0m\u001b[0;34m\u001b[0m\u001b[0;34m\u001b[0m\u001b[0m\n\u001b[1;32m    615\u001b[0m                 raise source.error(\"nothing to repeat\",\n\u001b[0;32m--> 616\u001b[0;31m                                    source.tell() - here + len(this))\n\u001b[0m\u001b[1;32m    617\u001b[0m             \u001b[0;32mif\u001b[0m \u001b[0mitem\u001b[0m\u001b[0;34m[\u001b[0m\u001b[0;36m0\u001b[0m\u001b[0;34m]\u001b[0m\u001b[0;34m[\u001b[0m\u001b[0;36m0\u001b[0m\u001b[0;34m]\u001b[0m \u001b[0;32min\u001b[0m \u001b[0m_REPEATCODES\u001b[0m\u001b[0;34m:\u001b[0m\u001b[0;34m\u001b[0m\u001b[0;34m\u001b[0m\u001b[0m\n\u001b[1;32m    618\u001b[0m                 raise source.error(\"multiple repeat\",\n",
            "\u001b[0;31merror\u001b[0m: nothing to repeat at position 0"
          ]
        }
      ]
    },
    {
      "cell_type": "markdown",
      "metadata": {
        "id": "C3_Q9n5DSWWc",
        "colab_type": "text"
      },
      "source": [
        "###`Handling Missing and Duplicate Data`"
      ]
    },
    {
      "cell_type": "code",
      "metadata": {
        "id": "3TLy-XYsSbrh",
        "colab_type": "code",
        "colab": {}
      },
      "source": [
        ""
      ],
      "execution_count": 0,
      "outputs": []
    },
    {
      "cell_type": "markdown",
      "metadata": {
        "id": "Ol2bNpvsc0Pu",
        "colab_type": "text"
      },
      "source": [
        "## **Statistics**"
      ]
    },
    {
      "cell_type": "markdown",
      "metadata": {
        "id": "ffTNH0wZc6dY",
        "colab_type": "text"
      },
      "source": [
        "### `Sampling`"
      ]
    },
    {
      "cell_type": "code",
      "metadata": {
        "id": "vlcMqnrbc5MS",
        "colab_type": "code",
        "colab": {}
      },
      "source": [
        ""
      ],
      "execution_count": 0,
      "outputs": []
    },
    {
      "cell_type": "code",
      "metadata": {
        "id": "wZpuRPs3c1Uc",
        "colab_type": "code",
        "colab": {}
      },
      "source": [
        "!pip install thanos"
      ],
      "execution_count": 0,
      "outputs": []
    },
    {
      "cell_type": "code",
      "metadata": {
        "id": "kPRSJG9qc5Pj",
        "colab_type": "code",
        "colab": {}
      },
      "source": [
        ""
      ],
      "execution_count": 0,
      "outputs": []
    }
  ]
}
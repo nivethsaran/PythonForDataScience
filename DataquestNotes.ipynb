{
  "nbformat": 4,
  "nbformat_minor": 0,
  "metadata": {
    "colab": {
      "name": "LearnML.ipynb",
      "version": "0.3.2",
      "provenance": [],
      "collapsed_sections": [
        "IPZTMfEvtvRT",
        "rsCsUqJYp9Gm",
        "1lzAhrVdvISO",
        "BcFH3qiAvW_O",
        "Sy8d_RpZvgEp",
        "HeONTEuo1By4",
        "4x2geYTf10nB",
        "QPvGzBP32AAx",
        "hUVijhxpCq8J",
        "IYLPaTuPHjBQ",
        "w69WjpNYhA_n",
        "cbwmTb7gTBzN",
        "UKaAHhyDHFnr",
        "WuvQ9gcjeIuv"
      ],
      "toc_visible": true,
      "include_colab_link": true
    },
    "kernelspec": {
      "name": "python3",
      "display_name": "Python 3"
    }
  },
  "cells": [
    {
      "cell_type": "markdown",
      "metadata": {
        "id": "view-in-github",
        "colab_type": "text"
      },
      "source": [
        "<a href=\"https://colab.research.google.com/github/nivethsaran/PythonForDataScience/blob/master/LearnML.ipynb\" target=\"_parent\"><img src=\"https://colab.research.google.com/assets/colab-badge.svg\" alt=\"Open In Colab\"/></a>"
      ]
    },
    {
      "cell_type": "markdown",
      "metadata": {
        "id": "Rg7ebIqfITII",
        "colab_type": "text"
      },
      "source": [
        "**This notebook is created under the assumption that the reader has basic python and OOPS knowledge.**"
      ]
    },
    {
      "cell_type": "markdown",
      "metadata": {
        "id": "UZHVlidDJTiH",
        "colab_type": "text"
      },
      "source": [
        "# **DATASCIENCE AND ML(Dataquest Notes)**\n",
        "\n",
        "---\n",
        "\n"
      ]
    },
    {
      "cell_type": "markdown",
      "metadata": {
        "id": "IPZTMfEvtvRT",
        "colab_type": "text"
      },
      "source": [
        "## **Importing Libraris and Reading Datasets**"
      ]
    },
    {
      "cell_type": "markdown",
      "metadata": {
        "colab_type": "text",
        "id": "FFwfuBJYhBAI"
      },
      "source": [
        "**`The above lines of code includes all libraries to be imported and also the code to upload the required datasets.`**\n"
      ]
    },
    {
      "cell_type": "code",
      "metadata": {
        "colab_type": "code",
        "id": "SzAKQ2SNiLw2",
        "colab": {}
      },
      "source": [
        "import pandas as pd       \n",
        "import numpy as np\n",
        "from csv import *\n",
        "import io\n",
        "import re\n",
        "import matplotlib.pyplot as plt\n",
        "import seaborn as sns\n",
        "from google.colab import files\n",
        "\n",
        "# uploaded = files.upload()    #upload the dataset using the given code"
      ],
      "execution_count": 0,
      "outputs": []
    },
    {
      "cell_type": "code",
      "metadata": {
        "colab_type": "code",
        "id": "m9KrC5uchBAN",
        "colab": {}
      },
      "source": [
        "from google.colab import drive\n",
        "drive.mount('/content/drive')"
      ],
      "execution_count": 0,
      "outputs": []
    },
    {
      "cell_type": "code",
      "metadata": {
        "colab_type": "code",
        "outputId": "641b8796-286f-4bf2-bff1-83142531e6f7",
        "id": "mATeuM99hA__",
        "colab": {
          "base_uri": "https://localhost:8080/",
          "height": 50
        }
      },
      "source": [
        "#reading a file\n",
        "opened=open(\"/content/Players_Stats.csv\")\n",
        "readfile=reader(opened)\n",
        "data=list(readfile)\n",
        "# print(data)\n",
        "\n",
        "#reading data as a dataframe\n",
        "df=pd.read_csv(\"/content/Players_Stats.csv\")\n",
        "# df2 = pd.read_csv(io.BytesIO(uploaded['california_housing_train.csv']))\n",
        "print(df.shape)\n",
        "\n",
        "\n",
        "#reading file as numpy array\n",
        "\n",
        "data_np=np.array(data)\n",
        "print(data_np.shape)\n",
        "\n",
        "# data_np=np.genfromtxt('/content/Players_Stats.csv',delimiter=',',skip_header=1)\n",
        "# print(data_np[1:])\n",
        "# print(data_np.shape)"
      ],
      "execution_count": 213,
      "outputs": [
        {
          "output_type": "stream",
          "text": [
            "(9133, 9)\n",
            "(9134, 9)\n"
          ],
          "name": "stdout"
        }
      ]
    },
    {
      "cell_type": "markdown",
      "metadata": {
        "id": "rsCsUqJYp9Gm",
        "colab_type": "text"
      },
      "source": [
        "## **Numpy  Funtions,Array Slicing and Boolean indexing on Numpy Arrays**"
      ]
    },
    {
      "cell_type": "markdown",
      "metadata": {
        "id": "1lzAhrVdvISO",
        "colab_type": "text"
      },
      "source": [
        "### `Numpy Array Slicing`"
      ]
    },
    {
      "cell_type": "code",
      "metadata": {
        "colab_type": "code",
        "id": "RdIp-pJDhA_z",
        "colab": {}
      },
      "source": [
        "print(data_np[1])  #Selecting a Row in numpy\n",
        "\n",
        "print(data_np[:,2]) #Selecting a Column\n",
        "\n",
        "print(data_np[1:6]) #Selecting Multiple Rows\n",
        "\n",
        "print(data_np[:,2:4]) #Selecting Multiple Columns\n",
        "\n",
        "cols=[1,4,6]\n",
        "print(data_np[:,cols]) #Selecting specific columns,same can be applied to rows as well\n",
        "\n",
        "print(data_np[1,4]) #Selecting a specific value in the dataset - similiar to a 2D Matrix\n",
        "\n",
        "print(data_np[0:5,cols]) #2D Slicing"
      ],
      "execution_count": 0,
      "outputs": []
    },
    {
      "cell_type": "markdown",
      "metadata": {
        "id": "BcFH3qiAvW_O",
        "colab_type": "text"
      },
      "source": [
        "### `Numpy Functions`"
      ]
    },
    {
      "cell_type": "code",
      "metadata": {
        "id": "-xYLlclprajL",
        "colab_type": "code",
        "colab": {}
      },
      "source": [
        "#numpy functions\n",
        "\n",
        "playedmins=data_np[1:,4].astype(float)\n",
        "\n",
        "print(playedmins.mean())\n",
        "\n",
        "print(np.mean(playedmins)) #another way to use numpy methods\n",
        "\n",
        "print(playedmins.min())    #other functions include the below ones\n",
        "\n",
        "print(playedmins.sum()/playedmins.size)\n",
        "\n",
        "print(playedmins.max())\n"
      ],
      "execution_count": 0,
      "outputs": []
    },
    {
      "cell_type": "markdown",
      "metadata": {
        "id": "Sy8d_RpZvgEp",
        "colab_type": "text"
      },
      "source": [
        "### `Boolean Indexing on Numpy Arrays`"
      ]
    },
    {
      "cell_type": "code",
      "metadata": {
        "colab_type": "code",
        "cellView": "code",
        "id": "XvRXJi9ShA_q",
        "colab": {}
      },
      "source": [
        "played_mins=data_np[1:,4].astype(int)\n",
        "\n",
        "club=data_np[1:,2]\n",
        "\n",
        "data_np=data_np[1:]\n",
        "print(played_mins<2800)     #basic filtering gives you a boolean array. This boolean array is the filter\n",
        "\n",
        "filter=(played_mins<2900)\n",
        "print(data_np[filter,2:3])  #the filter chooses the rows, and we can print necessary columns\n",
        "\n",
        "data_np[filter,4]=1         #assigning values using the filters(boolean masks)\n"
      ],
      "execution_count": 0,
      "outputs": []
    },
    {
      "cell_type": "markdown",
      "metadata": {
        "id": "HeONTEuo1By4",
        "colab_type": "text"
      },
      "source": [
        "## **Pandas(Dataframes and Related Stuff including Boolean Indexing)**"
      ]
    },
    {
      "cell_type": "markdown",
      "metadata": {
        "id": "4x2geYTf10nB",
        "colab_type": "text"
      },
      "source": [
        "### `Collecting Basic Details about Dataframes`"
      ]
    },
    {
      "cell_type": "code",
      "metadata": {
        "id": "HxQIpBQm1Kt3",
        "colab_type": "code",
        "colab": {}
      },
      "source": [
        "print(df.shape)       #Order of the dataframe\n",
        "print(df.dtypes)      #Schema of the dataframe\n",
        "print(df.describe)    #SELECT*FROM DATAFRAME seen from the mysql perspective\n",
        "print(df.info())\n"
      ],
      "execution_count": 0,
      "outputs": []
    },
    {
      "cell_type": "markdown",
      "metadata": {
        "id": "QPvGzBP32AAx",
        "colab_type": "text"
      },
      "source": [
        "### `Selecting Rows and Columns`"
      ]
    },
    {
      "cell_type": "code",
      "metadata": {
        "id": "YdrpN4Zz1wPg",
        "colab_type": "code",
        "colab": {}
      },
      "source": [
        "# Rank            int64\n",
        "# player         object\n",
        "# club           object\n",
        "# playedgames     int64\n",
        "# playedmins      int64\n",
        "# perfdef        object\n",
        "# perfattack     object\n",
        "# perfposs        int64\n",
        "# total          object\n",
        "\n",
        "#Explicit\n",
        "\n",
        "print(df.loc[:,'player'])    #Single Column\n",
        "\n",
        "collist=['player', 'club']\n",
        "\n",
        "print(df.loc[:,collist])     #List of columns, you can directly mention thhe list or store the list in a variable beforehand\n",
        "\n",
        "print(df.loc[:,'player':'total'].head())  #head() prints the first five rows,pretty useful in many cases\n",
        "\n",
        "#All the above selections or slices from dataframes return objects of Series datatypes\n",
        "#Rows can also be sliced in similiar manner as columns if Rows are labelled\n",
        "\n",
        "#ShortHand\n",
        "\n",
        "print(df['player'])          #Single Column in a shorter way\n",
        "\n",
        "print(df[collist])           #List of Columns in a shorter way,there is no way to slice columns using shorthand expressions\n",
        "\n",
        "\n",
        "series_df=df.iloc[1,0:6]   #Series should be having labels, else we find using index.\n",
        "\n",
        "#NOTE SERIES IS ONE DIMENSIONALLLLLL ELSE IT IS A DATAFRAME\n",
        "\n",
        "print(series_df)\n",
        "\n",
        "print(series_df.loc['perfdef'])         #item from series\n",
        "\n",
        "print(series_df.loc[collist])           #list from series\n",
        "\n",
        "print(series_df.loc['player':'perfdef']) #slice from series\n",
        "\n",
        "#Using ILOC\n",
        "\n",
        "print(df.iloc[2,0])\n",
        "\n",
        "print(df.iloc[:,2:7])\n",
        "\n",
        "#Using ILOC Is pretty much the same as numpy indexing."
      ],
      "execution_count": 0,
      "outputs": []
    },
    {
      "cell_type": "markdown",
      "metadata": {
        "id": "hUVijhxpCq8J",
        "colab_type": "text"
      },
      "source": [
        "### `Boolean Indexing`"
      ]
    },
    {
      "cell_type": "code",
      "metadata": {
        "id": "7sO0f0EcCtNC",
        "colab_type": "code",
        "colab": {}
      },
      "source": [
        "filter=df['club']=='Midfielder - Chelsea'\n",
        "\n",
        "print(filter)      #now we use this filter to choose rows\n",
        "\n",
        "print(df['perfdef'].isnull())\n",
        "\n",
        "filter2=df['perfdef'].isnull()    #another way to use filters.\n",
        "\n",
        "print(df.loc[filter])\n",
        "\n",
        "print(df.loc[filter,collist])   \n",
        "\n",
        "print(df[filter])"
      ],
      "execution_count": 0,
      "outputs": []
    },
    {
      "cell_type": "markdown",
      "metadata": {
        "id": "IYLPaTuPHjBQ",
        "colab_type": "text"
      },
      "source": [
        "### `Data Cleaning(Renaming and Modifying Columns and Data inside columns`"
      ]
    },
    {
      "cell_type": "code",
      "metadata": {
        "id": "6X3EsahQJkFY",
        "colab_type": "code",
        "colab": {}
      },
      "source": [
        "df.rename(columns={'club':'club-positions'},inplace=True)        #Rename a Column\n",
        "\n",
        "print(df.loc[:,'club-positions':'perfdef'])                      \n",
        "\n",
        "#In the data set, we want to know the position of every player.\n",
        "\n",
        "df['positions']=df.loc[:,'club-positions'].str.split('-').str[0];#Adding another column \n",
        "\n",
        "print(df.loc[:,'club-positions':'positions'])\n",
        "\n",
        "#Now we modify the value 'Midfielder' to 'Mid-fielder'\n",
        "\n",
        "mappingdict={\n",
        "    'Midfielder ':'MF',\n",
        "    'Forward ':'FW',\n",
        "    'Defender ':'DF',\n",
        "    'Goalkeeper ':'GK'\n",
        "}\n",
        "\n",
        "#the mapping dictionary must include all values, else all the columns would be saved as Nan\n",
        "\n",
        "df['positions']=df['positions'].map(mappingdict)   #modifying all columns in a database\n",
        "\n",
        "# print(df['positions'])     #If a column's value neednt be changed, the key and value should be the same in mappingdict value\n",
        "\n",
        "no_null_rows=df.dropna(axis=0)     #drops missing values\n",
        "\n",
        "df.to_csv(\"/content/Players_Stats_Modified.csv\",index=False)\n"
      ],
      "execution_count": 0,
      "outputs": []
    },
    {
      "cell_type": "markdown",
      "metadata": {
        "colab_type": "text",
        "id": "w69WjpNYhA_n"
      },
      "source": [
        "## **Plotting Graphs using Mathplotlib.pyplot**"
      ]
    },
    {
      "cell_type": "markdown",
      "metadata": {
        "id": "cbwmTb7gTBzN",
        "colab_type": "text"
      },
      "source": [
        "### `Basic Graphs`"
      ]
    },
    {
      "cell_type": "markdown",
      "metadata": {
        "id": "jOqa4RDXG8Jq",
        "colab_type": "text"
      },
      "source": [
        "TODO: Add details about each graph\n",
        "\n",
        "Note: The below graphs may not convey much meaning"
      ]
    },
    {
      "cell_type": "code",
      "metadata": {
        "colab_type": "code",
        "id": "h3WqlegPhA_b",
        "colab": {}
      },
      "source": [
        "df_for_plotting=df.head(100)           #data i am gonna use for plotting sample graphs\n",
        "\n",
        "# print(df['positions'].value_counts().dtype)     \n",
        "\n",
        "list_freq=[]\n",
        "for value in df['positions'].value_counts():     #value_counts is very useful in finding frequency\n",
        "    list_freq.append(value)\n",
        "    \n",
        "    \n",
        "list_names=df['positions'].unique()\n",
        "\n",
        "# print(list_names)\n",
        "\n",
        "fig=plt.figure(figsize=(12,7))       #figure is the container to hold all subplots\n",
        "ax1=fig.add_subplot(3,2,1)\n",
        "ax1.plot(df_for_plotting['Rank'],df_for_plotting['playedmins'],color='#7e97a6')\n",
        "ax1.plot(df_for_plotting['Rank'],df_for_plotting['playedmins']+200,color='red')      #plotting two line graphs in same plot\n",
        "ax2=fig.add_subplot(3,2,2)\n",
        "ax2.hist(df_for_plotting['playedmins'].head(20),color='#7e97a6')\n",
        "ax3=fig.add_subplot(3,2,3)\n",
        "ax3.bar(list_names,list_freq)           #axes is the container for each subplot\n",
        "ax4=fig.add_subplot(3,2,4)\n",
        "ax4.scatter(df_for_plotting['total'].head(30),df_for_plotting['playedmins'].head(30),color='#7e97a6')\n",
        "ax5=fig.add_subplot(3,2,5)\n",
        "ax5.boxplot(df_for_plotting['playedmins'])\n",
        "ax6=fig.add_subplot(3,2,6)\n",
        "ax6.stackplot(df_for_plotting['Rank'],df_for_plotting['perfdef'].str.replace(',','').astype(int),df_for_plotting['perfattack'].str.replace(',','').astype(int),df_for_plotting['perfposs'])\n",
        "\n",
        "ax1.title.set_text(\"Graph 1-Line Plot\")\n",
        "ax2.title.set_text(\"Graph 2-Histogram\")\n",
        "ax3.title.set_text(\"Graph 3-Bar Graph\")\n",
        "ax4.title.set_text(\"Graph 4-Scatter Plot\")\n",
        "ax5.title.set_text(\"Graph 5-Box Plot\")\n",
        "ax6.title.set_text(\"Graph 5-Stack Plot(Area Plot)\")\n",
        "\n",
        "\n",
        "\n",
        "#Plot Aesthetics(Keep it as minimal as possible)\n",
        "\n",
        "ax1.tick_params(bottom='off',top='off',left='off',right='off')\n",
        "\n",
        "for key,spine in ax1.spines.items():\n",
        "  spine.set_visible(False)\n",
        "\n",
        "ax1.set_xlabel('Rank')\n",
        "ax1.set_ylabel('Minutes Played')\n",
        "\n",
        "ax1.legend()\n",
        "ax2.legend()\n",
        "ax3.legend()\n",
        "ax4.legend()\n",
        "ax5.legend()\n",
        "ax6.legend()\n",
        "\n",
        "plt.show()\n",
        "\n"
      ],
      "execution_count": 0,
      "outputs": []
    },
    {
      "cell_type": "markdown",
      "metadata": {
        "id": "UKaAHhyDHFnr",
        "colab_type": "text"
      },
      "source": [
        "### `Geographic Maps`"
      ]
    },
    {
      "cell_type": "code",
      "metadata": {
        "id": "qDQAy78mHPia",
        "colab_type": "code",
        "colab": {}
      },
      "source": [
        "#Yet to be done"
      ],
      "execution_count": 0,
      "outputs": []
    },
    {
      "cell_type": "markdown",
      "metadata": {
        "id": "S1PWOiBcbL_n",
        "colab_type": "text"
      },
      "source": [
        "### `Conditional Plot(Seaborn Module)`"
      ]
    },
    {
      "cell_type": "code",
      "metadata": {
        "id": "fjX8wVslbSPP",
        "colab_type": "code",
        "colab": {}
      },
      "source": [
        "#Yet to be done\n",
        "fig1=sns.distplot(df_for_plotting['playedmins'])\n",
        "\n",
        "fig2=sns.kdeplot(df_for_plotting['playedmins'])"
      ],
      "execution_count": 0,
      "outputs": []
    },
    {
      "cell_type": "markdown",
      "metadata": {
        "id": "WuvQ9gcjeIuv",
        "colab_type": "text"
      },
      "source": [
        "## Data Cleaning and Analysis"
      ]
    },
    {
      "cell_type": "markdown",
      "metadata": {
        "id": "EudF-xr6n7kl",
        "colab_type": "text"
      },
      "source": [
        "### `Data Aggregation`"
      ]
    },
    {
      "cell_type": "markdown",
      "metadata": {
        "id": "mauC8z2GrGLq",
        "colab_type": "text"
      },
      "source": [
        "\n",
        "\n",
        "```\n",
        "Things to note in the below code cell\n",
        "\n",
        "1.   New ways to plot graphs\n",
        "2.   pivot table function can take params as strings or list of strings\n",
        "           for values,index,aggfunc parameters\n",
        "3.   df.groupby returns GroupBy object\n",
        "4.   df.pivot_table returns a Dataframe\n",
        "\n",
        "\n",
        "```\n",
        "\n"
      ]
    },
    {
      "cell_type": "code",
      "metadata": {
        "id": "sXm6RrureNE-",
        "colab_type": "code",
        "colab": {}
      },
      "source": [
        "df_grouped=(df.groupby('positions'))     #groupby positions of all players\n",
        "\n",
        "print(df_grouped.mean())         #object returned is GroupBy object\n",
        "\n",
        "print(df_grouped.agg(['mean','sum']))           #there are two ways to use aggregate functions on GroupBy Objects\n",
        "\n",
        "print(df_grouped['playedmins'].agg(['mean','max','min','sum','size','count']))    #all functions available with groupby object\n",
        "\n",
        "print(type(df.pivot_table('playedmins','positions',aggfunc='mean')))\n",
        "\n",
        "df_pt=df.pivot_table('playedmins','positions',aggfunc='mean');\n",
        "\n",
        "df_pt_multiple=df.pivot_table(['playedmins','playedgames'],['positions','club-positions'],aggfunc=['mean','min'])\n",
        "\n",
        "print(df_pt_multiple.info())\n",
        "\n",
        "print(df_pt_multiple)\n",
        "df_pt.plot(kind='bar')\n"
      ],
      "execution_count": 0,
      "outputs": []
    },
    {
      "cell_type": "markdown",
      "metadata": {
        "id": "ZYFOjahgojrF",
        "colab_type": "text"
      },
      "source": [
        "###`Combining and Transforming Data with Pandas`"
      ]
    },
    {
      "cell_type": "code",
      "metadata": {
        "id": "CJXlKxlCeNac",
        "colab_type": "code",
        "colab": {}
      },
      "source": [
        ""
      ],
      "execution_count": 0,
      "outputs": []
    }
  ]
}

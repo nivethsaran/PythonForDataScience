{
  "nbformat": 4,
  "nbformat_minor": 0,
  "metadata": {
    "colab": {
      "name": "TensorFlow in Practice Specialization Notes.ipynb",
      "provenance": [],
      "collapsed_sections": [
        "PCmXihv1Bejv",
        "ecfBn-z-Bl8C",
        "XqfbH_oAR96Z",
        "BA0pF-d0szTY"
      ],
      "include_colab_link": true
    },
    "kernelspec": {
      "name": "python3",
      "display_name": "Python 3"
    }
  },
  "cells": [
    {
      "cell_type": "markdown",
      "metadata": {
        "id": "view-in-github",
        "colab_type": "text"
      },
      "source": [
        "<a href=\"https://colab.research.google.com/github/nivethsaran/PythonForDataScience/blob/master/TensorFlow_in_Practice_Specialization_Notes.ipynb\" target=\"_parent\"><img src=\"https://colab.research.google.com/assets/colab-badge.svg\" alt=\"Open In Colab\"/></a>"
      ]
    },
    {
      "cell_type": "markdown",
      "metadata": {
        "id": "ftLw6-iQBkOU",
        "colab_type": "text"
      },
      "source": [
        "## Libraries"
      ]
    },
    {
      "cell_type": "code",
      "metadata": {
        "id": "5NqktYcMepVJ",
        "colab_type": "code",
        "colab": {}
      },
      "source": [
        "!pip install tensorflow==2.0.0-alpha0"
      ],
      "execution_count": 0,
      "outputs": []
    },
    {
      "cell_type": "code",
      "metadata": {
        "id": "H8LasBirfLoZ",
        "colab_type": "code",
        "colab": {}
      },
      "source": [
        "import tensorflow as tf\n",
        "import numpy as np\n",
        "from tensorflow import keras\n",
        "import matplotlib.pyplot as plt"
      ],
      "execution_count": 0,
      "outputs": []
    },
    {
      "cell_type": "markdown",
      "metadata": {
        "id": "PCmXihv1Bejv",
        "colab_type": "text"
      },
      "source": [
        "#Course 1"
      ]
    },
    {
      "cell_type": "markdown",
      "metadata": {
        "id": "2x3vCZatBFo3",
        "colab_type": "text"
      },
      "source": [
        "##Course1 Week1"
      ]
    },
    {
      "cell_type": "code",
      "metadata": {
        "id": "0W85bSl5fXOA",
        "colab_type": "code",
        "colab": {}
      },
      "source": [
        "xs = np.array([1.0,2.0,3.0,4.0,5.0,6.0],dtype=float)\n",
        "ys=np.array([2.0,4.0,6.0,8.0,10.0,12.0],dtype=float)\n"
      ],
      "execution_count": 0,
      "outputs": []
    },
    {
      "cell_type": "code",
      "metadata": {
        "id": "8YIWaVx-ftzf",
        "colab_type": "code",
        "colab": {}
      },
      "source": [
        "model=keras.Sequential([keras.layers.Dense(units=1,input_shape=[1])])\n",
        "model.compile(optimizer='sgd',loss='mean_squared_error')"
      ],
      "execution_count": 0,
      "outputs": []
    },
    {
      "cell_type": "code",
      "metadata": {
        "id": "C8OqsKnTgBSO",
        "colab_type": "code",
        "colab": {}
      },
      "source": [
        "model.fit(xs,ys,epochs=500)"
      ],
      "execution_count": 0,
      "outputs": []
    },
    {
      "cell_type": "code",
      "metadata": {
        "id": "V-AR9hhOgFvG",
        "colab_type": "code",
        "outputId": "4ab7835f-2980-4764-ea06-6c10a75d9d2a",
        "colab": {
          "base_uri": "https://localhost:8080/",
          "height": 34
        }
      },
      "source": [
        "model.predict([13.0])"
      ],
      "execution_count": 0,
      "outputs": [
        {
          "output_type": "execute_result",
          "data": {
            "text/plain": [
              "array([[24.916258]], dtype=float32)"
            ]
          },
          "metadata": {
            "tags": []
          },
          "execution_count": 9
        }
      ]
    },
    {
      "cell_type": "markdown",
      "metadata": {
        "id": "0sqgey70BTt1",
        "colab_type": "text"
      },
      "source": [
        "##Course1 Week2"
      ]
    },
    {
      "cell_type": "code",
      "metadata": {
        "id": "gUfMfO48BcfK",
        "colab_type": "code",
        "colab": {}
      },
      "source": [
        "mnist=tf.keras.datasets.fashion_mnist"
      ],
      "execution_count": 0,
      "outputs": []
    },
    {
      "cell_type": "code",
      "metadata": {
        "id": "6v3_qFS8CBmn",
        "colab_type": "code",
        "colab": {}
      },
      "source": [
        "(training_images,training_labels),(test_images,test_labels)=mnist.load_data()"
      ],
      "execution_count": 0,
      "outputs": []
    },
    {
      "cell_type": "code",
      "metadata": {
        "id": "q3G9F0vCCL82",
        "colab_type": "code",
        "colab": {}
      },
      "source": [
        "plt.imshow(training_images[0])\n",
        "print(training_labels[0])\n",
        "print(training_images[0])"
      ],
      "execution_count": 0,
      "outputs": []
    },
    {
      "cell_type": "code",
      "metadata": {
        "id": "mLc_KOwACjJw",
        "colab_type": "code",
        "colab": {}
      },
      "source": [
        "training_images=training_images/255.0\n",
        "test_images=test_images/255.0"
      ],
      "execution_count": 0,
      "outputs": []
    },
    {
      "cell_type": "code",
      "metadata": {
        "id": "YjtkcFazC8er",
        "colab_type": "code",
        "colab": {}
      },
      "source": [
        "model=tf.keras.Sequential([tf.keras.layers.Flatten(),tf.keras.layers.Dense(128,activation=tf.nn.relu),tf.keras. layers.Dense(10,activation=tf.nn.softmax)])"
      ],
      "execution_count": 0,
      "outputs": []
    },
    {
      "cell_type": "code",
      "metadata": {
        "id": "2d7n4aAHDZuy",
        "colab_type": "code",
        "outputId": "253a758f-8821-4d3e-e192-474e53b6ba88",
        "colab": {
          "base_uri": "https://localhost:8080/",
          "height": 202
        }
      },
      "source": [
        "model.compile(optimizer=tf.optimizers.Adam(),loss='sparse_categorical_crossentropy')\n",
        "\n",
        "model.fit(training_images,training_labels, epochs=5)"
      ],
      "execution_count": 0,
      "outputs": [
        {
          "output_type": "stream",
          "text": [
            "Epoch 1/5\n",
            "60000/60000 [==============================] - 5s 82us/sample - loss: 0.5003\n",
            "Epoch 2/5\n",
            "60000/60000 [==============================] - 5s 76us/sample - loss: 0.3776\n",
            "Epoch 3/5\n",
            "60000/60000 [==============================] - 4s 73us/sample - loss: 0.3395\n",
            "Epoch 4/5\n",
            "60000/60000 [==============================] - 4s 72us/sample - loss: 0.3149\n",
            "Epoch 5/5\n",
            "60000/60000 [==============================] - 4s 72us/sample - loss: 0.2995\n"
          ],
          "name": "stdout"
        },
        {
          "output_type": "execute_result",
          "data": {
            "text/plain": [
              "<tensorflow.python.keras.callbacks.History at 0x7f0a8c410d68>"
            ]
          },
          "metadata": {
            "tags": []
          },
          "execution_count": 22
        }
      ]
    },
    {
      "cell_type": "code",
      "metadata": {
        "id": "mfYFPm6CD1ya",
        "colab_type": "code",
        "outputId": "67ef0397-edc7-4764-ad42-64113e016acf",
        "colab": {
          "base_uri": "https://localhost:8080/",
          "height": 50
        }
      },
      "source": [
        "model.evaluate(test_images,test_labels)"
      ],
      "execution_count": 0,
      "outputs": [
        {
          "output_type": "stream",
          "text": [
            "10000/10000 [==============================] - 0s 36us/sample - loss: 63.1228\n"
          ],
          "name": "stdout"
        },
        {
          "output_type": "execute_result",
          "data": {
            "text/plain": [
              "63.1228435874939"
            ]
          },
          "metadata": {
            "tags": []
          },
          "execution_count": 26
        }
      ]
    },
    {
      "cell_type": "markdown",
      "metadata": {
        "id": "t3Cdnvx6_I7e",
        "colab_type": "text"
      },
      "source": [
        "## Course 1 Week 2"
      ]
    },
    {
      "cell_type": "code",
      "metadata": {
        "id": "z-YMJyvd_Mci",
        "colab_type": "code",
        "outputId": "8430f709-35de-46b5-f5b4-1e486ba23485",
        "colab": {
          "base_uri": "https://localhost:8080/",
          "height": 235
        }
      },
      "source": [
        "import tensorflow as tf\n",
        "\n",
        "class myCallback(tf.keras.callbacks.Callback):\n",
        "  def on_epoch_end(self, epoch, logs={}):\n",
        "    if(logs.get('accuracy')>0.6):\n",
        "      print(\"\\nReached 60% accuracy so cancelling training!\")\n",
        "      self.model.stop_training = True\n",
        "\n",
        "mnist = tf.keras.datasets.fashion_mnist\n",
        "\n",
        "(x_train, y_train),(x_test, y_test) = mnist.load_data()\n",
        "x_train, x_test = x_train / 255.0, x_test / 255.0\n",
        "\n",
        "callbacks = myCallback()\n",
        "\n",
        "model = tf.keras.models.Sequential([\n",
        "  tf.keras.layers.Flatten(input_shape=(28, 28)),\n",
        "  tf.keras.layers.Dense(512, activation=tf.nn.relu),\n",
        "  tf.keras.layers.Dense(10, activation=tf.nn.softmax)\n",
        "])\n",
        "model.compile(optimizer=tf.optimizers.Adam(),\n",
        "              loss='sparse_categorical_crossentropy',\n",
        "              metrics=['accuracy'])\n",
        "\n",
        "model.fit(x_train, y_train, epochs=10, callbacks=[callbacks])"
      ],
      "execution_count": 0,
      "outputs": [
        {
          "output_type": "stream",
          "text": [
            "Downloading data from https://storage.googleapis.com/tensorflow/tf-keras-datasets/train-labels-idx1-ubyte.gz\n",
            "32768/29515 [=================================] - 0s 0us/step\n",
            "Downloading data from https://storage.googleapis.com/tensorflow/tf-keras-datasets/train-images-idx3-ubyte.gz\n",
            "26427392/26421880 [==============================] - 0s 0us/step\n",
            "Downloading data from https://storage.googleapis.com/tensorflow/tf-keras-datasets/t10k-labels-idx1-ubyte.gz\n",
            "8192/5148 [===============================================] - 0s 0us/step\n",
            "Downloading data from https://storage.googleapis.com/tensorflow/tf-keras-datasets/t10k-images-idx3-ubyte.gz\n",
            "4423680/4422102 [==============================] - 0s 0us/step\n",
            "Epoch 1/10\n",
            "1866/1875 [============================>.] - ETA: 0s - loss: 0.4801 - accuracy: 0.8288\n",
            "Reached 60% accuracy so cancelling training!\n",
            "1875/1875 [==============================] - 8s 4ms/step - loss: 0.4797 - accuracy: 0.8289\n"
          ],
          "name": "stdout"
        },
        {
          "output_type": "execute_result",
          "data": {
            "text/plain": [
              "<tensorflow.python.keras.callbacks.History at 0x7fb620594518>"
            ]
          },
          "metadata": {
            "tags": []
          },
          "execution_count": 1
        }
      ]
    },
    {
      "cell_type": "markdown",
      "metadata": {
        "id": "YL7EYR9imIi7",
        "colab_type": "text"
      },
      "source": [
        "## Course 1 Week 3"
      ]
    },
    {
      "cell_type": "code",
      "metadata": {
        "id": "nn2BfpSWmOWw",
        "colab_type": "code",
        "outputId": "ab62faf0-4c26-418a-9411-044e746d2d8d",
        "colab": {
          "base_uri": "https://localhost:8080/",
          "height": 420
        }
      },
      "source": [
        "mnist = tf.keras.datasets.mnist\n",
        "(training_images, training_labels), (test_images, test_labels) = mnist.load_data()\n",
        "training_images=training_images.reshape(60000, 28, 28, 1)\n",
        "training_images=training_images / 255.0\n",
        "test_images = test_images.reshape(10000, 28, 28, 1)\n",
        "test_images=test_images/255.0\n",
        "model = tf.keras.models.Sequential([\n",
        "  tf.keras.layers.Conv2D(32, (3,3), activation='relu', input_shape=(28, 28, 1)),\n",
        "  tf.keras.layers.MaxPooling2D(2, 2),\n",
        "  tf.keras.layers.Flatten(),\n",
        "  tf.keras.layers.Dense(128, activation='relu'),\n",
        "  tf.keras.layers.Dense(10, activation='softmax')\n",
        "])\n",
        "model.compile(optimizer='adam', loss='sparse_categorical_crossentropy', metrics=['accuracy'])\n",
        "model.fit(training_images, training_labels, epochs=10)\n",
        "test_loss, test_acc = model.evaluate(test_images, test_labels)\n",
        "print(test_acc)"
      ],
      "execution_count": 0,
      "outputs": [
        {
          "output_type": "stream",
          "text": [
            "Downloading data from https://storage.googleapis.com/tensorflow/tf-keras-datasets/mnist.npz\n",
            "11493376/11490434 [==============================] - 0s 0us/step\n",
            "Epoch 1/10\n",
            "1875/1875 [==============================] - 33s 18ms/step - loss: 0.1401 - accuracy: 0.9579\n",
            "Epoch 2/10\n",
            "1875/1875 [==============================] - 33s 18ms/step - loss: 0.0473 - accuracy: 0.9854\n",
            "Epoch 3/10\n",
            "1875/1875 [==============================] - 32s 17ms/step - loss: 0.0302 - accuracy: 0.9908\n",
            "Epoch 4/10\n",
            "1875/1875 [==============================] - 33s 18ms/step - loss: 0.0197 - accuracy: 0.9940\n",
            "Epoch 5/10\n",
            "1875/1875 [==============================] - 32s 17ms/step - loss: 0.0137 - accuracy: 0.9953\n",
            "Epoch 6/10\n",
            "1875/1875 [==============================] - 32s 17ms/step - loss: 0.0095 - accuracy: 0.9970\n",
            "Epoch 7/10\n",
            "1875/1875 [==============================] - 31s 17ms/step - loss: 0.0074 - accuracy: 0.9975\n",
            "Epoch 8/10\n",
            "1875/1875 [==============================] - 31s 17ms/step - loss: 0.0060 - accuracy: 0.9980\n",
            "Epoch 9/10\n",
            "1875/1875 [==============================] - 31s 17ms/step - loss: 0.0054 - accuracy: 0.9982\n",
            "Epoch 10/10\n",
            "1875/1875 [==============================] - 32s 17ms/step - loss: 0.0031 - accuracy: 0.9989\n",
            "313/313 [==============================] - 2s 6ms/step - loss: 0.0620 - accuracy: 0.9867\n",
            "0.9866999983787537\n"
          ],
          "name": "stdout"
        }
      ]
    },
    {
      "cell_type": "markdown",
      "metadata": {
        "id": "JiHnj__M_BAi",
        "colab_type": "text"
      },
      "source": [
        "## Course 1 Week 4"
      ]
    },
    {
      "cell_type": "markdown",
      "metadata": {
        "id": "BqKqJi4RBBn_",
        "colab_type": "text"
      },
      "source": [
        "Refer  my github gists\n",
        "Specific Link for Week 4 content: https://gist.github.com/nivethsaran/a0941b0156d1f61ac4c8c064d7085d72"
      ]
    },
    {
      "cell_type": "markdown",
      "metadata": {
        "id": "LvdkIPuCCdZp",
        "colab_type": "text"
      },
      "source": [
        "Refer my github gists https://gist.github.com/nivethsaran/428e56e102f8afc19e025902fe36edad  This is the same thing as above except it includes Validation stuff"
      ]
    },
    {
      "cell_type": "markdown",
      "metadata": {
        "id": "ZJllh1u5DvxJ",
        "colab_type": "text"
      },
      "source": [
        "https://gist.github.com/nivethsaran/030c36a2d6e39045d31c022c0bc8adf6 Refer this link to play around when images are compressed and trained in the same neural network"
      ]
    },
    {
      "cell_type": "markdown",
      "metadata": {
        "id": "9Vdftn0wBjfi",
        "colab_type": "text"
      },
      "source": [
        "#Course 2"
      ]
    },
    {
      "cell_type": "markdown",
      "metadata": {
        "id": "ecfBn-z-Bl8C",
        "colab_type": "text"
      },
      "source": [
        "## Course 2 Week 1"
      ]
    },
    {
      "cell_type": "code",
      "metadata": {
        "id": "W6bTvf8WBph7",
        "colab_type": "code",
        "colab": {}
      },
      "source": [
        "#Go to the below url for the gist cats vs dogs.\n",
        "# https://gist.github.com/nivethsaran/2a89184222f87b0f82a4f154dd4aa8dc"
      ],
      "execution_count": 0,
      "outputs": []
    },
    {
      "cell_type": "markdown",
      "metadata": {
        "id": "XqfbH_oAR96Z",
        "colab_type": "text"
      },
      "source": [
        "## Course 2 Week 2\n"
      ]
    },
    {
      "cell_type": "code",
      "metadata": {
        "id": "oS4Wmzp-SA3R",
        "colab_type": "code",
        "colab": {}
      },
      "source": [
        "#Go to the below url for the gist cats vs dogs with augmentation\n",
        "#https://gist.github.com/nivethsaran/57c8aafae29f2102ee30fcbcdd1c9120"
      ],
      "execution_count": 0,
      "outputs": []
    },
    {
      "cell_type": "markdown",
      "metadata": {
        "id": "BA0pF-d0szTY",
        "colab_type": "text"
      },
      "source": [
        "##Course 2 Week 3 Transfer Learning"
      ]
    },
    {
      "cell_type": "code",
      "metadata": {
        "id": "QjnUJTmRtLth",
        "colab_type": "code",
        "colab": {}
      },
      "source": [
        "# https://gist.github.com/nivethsaran/0f89c6e63b30eb940ddd8af8e076642c"
      ],
      "execution_count": 0,
      "outputs": []
    },
    {
      "cell_type": "markdown",
      "metadata": {
        "id": "CETRpniESJJ5",
        "colab_type": "text"
      },
      "source": [
        "##Course 2 Week 4 Multiclass Classification"
      ]
    },
    {
      "cell_type": "code",
      "metadata": {
        "id": "Tooo0d5tSOrz",
        "colab_type": "code",
        "colab": {}
      },
      "source": [
        "#Rock Paper Scissors Multiclass classification\n",
        "#https://gist.github.com/nivethsaran/881011b3a888b1e90f94d04009682afe"
      ],
      "execution_count": 0,
      "outputs": []
    },
    {
      "cell_type": "markdown",
      "metadata": {
        "id": "QyEJrxBYWAd6",
        "colab_type": "text"
      },
      "source": [
        "#Course 3"
      ]
    },
    {
      "cell_type": "markdown",
      "metadata": {
        "id": "-9kT-7E9WCMQ",
        "colab_type": "text"
      },
      "source": [
        "## Course 3 Week 1"
      ]
    },
    {
      "cell_type": "code",
      "metadata": {
        "id": "lAQXI7zaWFkj",
        "colab_type": "code",
        "colab": {
          "base_uri": "https://localhost:8080/",
          "height": 50
        },
        "outputId": "a4043add-109f-4926-9251-605767a2e454"
      },
      "source": [
        "from tensorflow.keras.preprocessing.text import Tokenizer\n",
        "from tensorflow.keras.preprocessing.sequence import pad_sequences\n",
        "\n",
        "sentences=['I love my dog','I love my cat','You love my dog!','Do  you think my dog is amazing?']\n",
        "\n",
        "tokenizer=Tokenizer(num_words=100, oov_token=\"<OOV>\")\n",
        "tokenizer.fit_on_texts(sentences)\n",
        "word_index=tokenizer.word_index\n",
        "\n",
        "sequences=tokenizer.texts_to_sequences(sentences)\n",
        "\n",
        "print(word_index)\n",
        "\n",
        "print(sequences)"
      ],
      "execution_count": 3,
      "outputs": [
        {
          "output_type": "stream",
          "text": [
            "{'my': 1, 'love': 2, 'dog': 3, 'i': 4, 'you': 5, 'cat': 6, 'do': 7, 'think': 8, 'is': 9, 'amazing': 10}\n",
            "[[4, 2, 1, 3], [4, 2, 1, 6], [5, 2, 1, 3], [7, 5, 8, 1, 3, 9, 10]]\n"
          ],
          "name": "stdout"
        }
      ]
    }
  ]
}
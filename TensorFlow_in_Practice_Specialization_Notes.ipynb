{
  "nbformat": 4,
  "nbformat_minor": 0,
  "metadata": {
    "colab": {
      "name": "TensorFlow in Practice Specialization Notes.ipynb",
      "provenance": [],
      "collapsed_sections": [
        "kr7qkFkGX1mK",
        "ftLw6-iQBkOU",
        "PCmXihv1Bejv",
        "2x3vCZatBFo3",
        "0sqgey70BTt1",
        "YL7EYR9imIi7",
        "JiHnj__M_BAi",
        "9Vdftn0wBjfi",
        "ecfBn-z-Bl8C",
        "XqfbH_oAR96Z",
        "BA0pF-d0szTY",
        "CETRpniESJJ5",
        "QyEJrxBYWAd6",
        "-9kT-7E9WCMQ",
        "2x41xIwNulF-",
        "WSzK4exxhYAr",
        "1cMzsz3DhlWC",
        "ovFZ88nah0t-",
        "yjPNT0U1S7Hm",
        "agJEB6cUun6q",
        "pNHjsR-MutU9",
        "zf36iirTQitN",
        "H33dXUTZUhJO",
        "mncPq_84XzCP",
        "v0xRv2RwWWpn",
        "YEQ1Yl_LWJgB"
      ],
      "toc_visible": true,
      "include_colab_link": true
    },
    "kernelspec": {
      "name": "python3",
      "display_name": "Python 3"
    }
  },
  "cells": [
    {
      "cell_type": "markdown",
      "metadata": {
        "id": "view-in-github",
        "colab_type": "text"
      },
      "source": [
        "<a href=\"https://colab.research.google.com/github/nivethsaran/PythonForDataScience/blob/master/TensorFlow_in_Practice_Specialization_Notes.ipynb\" target=\"_parent\"><img src=\"https://colab.research.google.com/assets/colab-badge.svg\" alt=\"Open In Colab\"/></a>"
      ]
    },
    {
      "cell_type": "markdown",
      "metadata": {
        "id": "kr7qkFkGX1mK",
        "colab_type": "text"
      },
      "source": [
        "#Tensorflow in Practice Specialization Complete Notes"
      ]
    },
    {
      "cell_type": "markdown",
      "metadata": {
        "id": "ftLw6-iQBkOU",
        "colab_type": "text"
      },
      "source": [
        "## Libraries"
      ]
    },
    {
      "cell_type": "code",
      "metadata": {
        "id": "5NqktYcMepVJ",
        "colab_type": "code",
        "colab": {}
      },
      "source": [
        "!pip install tensorflow==2.0.0-alpha0"
      ],
      "execution_count": 0,
      "outputs": []
    },
    {
      "cell_type": "code",
      "metadata": {
        "id": "H8LasBirfLoZ",
        "colab_type": "code",
        "colab": {}
      },
      "source": [
        "import tensorflow as tf\n",
        "import numpy as np\n",
        "from tensorflow import keras\n",
        "import matplotlib.pyplot as plt\n",
        "import tensorflow_datasets as tfds"
      ],
      "execution_count": 0,
      "outputs": []
    },
    {
      "cell_type": "markdown",
      "metadata": {
        "id": "PCmXihv1Bejv",
        "colab_type": "text"
      },
      "source": [
        "##Course 1"
      ]
    },
    {
      "cell_type": "markdown",
      "metadata": {
        "id": "2x3vCZatBFo3",
        "colab_type": "text"
      },
      "source": [
        "###Course1 Week1"
      ]
    },
    {
      "cell_type": "code",
      "metadata": {
        "id": "0W85bSl5fXOA",
        "colab_type": "code",
        "colab": {}
      },
      "source": [
        "xs = np.array([1.0,2.0,3.0,4.0,5.0,6.0],dtype=float)\n",
        "ys=np.array([2.0,4.0,6.0,8.0,10.0,12.0],dtype=float)\n"
      ],
      "execution_count": 0,
      "outputs": []
    },
    {
      "cell_type": "code",
      "metadata": {
        "id": "8YIWaVx-ftzf",
        "colab_type": "code",
        "colab": {}
      },
      "source": [
        "model=keras.Sequential([keras.layers.Dense(units=1,input_shape=[1])])\n",
        "model.compile(optimizer='sgd',loss='mean_squared_error')"
      ],
      "execution_count": 0,
      "outputs": []
    },
    {
      "cell_type": "code",
      "metadata": {
        "id": "C8OqsKnTgBSO",
        "colab_type": "code",
        "colab": {}
      },
      "source": [
        "model.fit(xs,ys,epochs=500)"
      ],
      "execution_count": 0,
      "outputs": []
    },
    {
      "cell_type": "code",
      "metadata": {
        "id": "V-AR9hhOgFvG",
        "colab_type": "code",
        "colab": {}
      },
      "source": [
        "model.predict([13.0])"
      ],
      "execution_count": 0,
      "outputs": []
    },
    {
      "cell_type": "markdown",
      "metadata": {
        "id": "0sqgey70BTt1",
        "colab_type": "text"
      },
      "source": [
        "###Course1 Week 2"
      ]
    },
    {
      "cell_type": "code",
      "metadata": {
        "id": "gUfMfO48BcfK",
        "colab_type": "code",
        "colab": {}
      },
      "source": [
        "mnist=tf.keras.datasets.fashion_mnist"
      ],
      "execution_count": 0,
      "outputs": []
    },
    {
      "cell_type": "code",
      "metadata": {
        "id": "6v3_qFS8CBmn",
        "colab_type": "code",
        "colab": {}
      },
      "source": [
        "(training_images,training_labels),(test_images,test_labels)=mnist.load_data()"
      ],
      "execution_count": 0,
      "outputs": []
    },
    {
      "cell_type": "code",
      "metadata": {
        "id": "q3G9F0vCCL82",
        "colab_type": "code",
        "colab": {}
      },
      "source": [
        "plt.imshow(training_images[0])\n",
        "print(training_labels[0])\n",
        "print(training_images[0])"
      ],
      "execution_count": 0,
      "outputs": []
    },
    {
      "cell_type": "code",
      "metadata": {
        "id": "mLc_KOwACjJw",
        "colab_type": "code",
        "colab": {}
      },
      "source": [
        "training_images=training_images/255.0\n",
        "test_images=test_images/255.0"
      ],
      "execution_count": 0,
      "outputs": []
    },
    {
      "cell_type": "code",
      "metadata": {
        "id": "YjtkcFazC8er",
        "colab_type": "code",
        "colab": {}
      },
      "source": [
        "model=tf.keras.Sequential([tf.keras.layers.Flatten(),tf.keras.layers.Dense(128,activation=tf.nn.relu),tf.keras. layers.Dense(10,activation=tf.nn.softmax)])"
      ],
      "execution_count": 0,
      "outputs": []
    },
    {
      "cell_type": "code",
      "metadata": {
        "id": "2d7n4aAHDZuy",
        "colab_type": "code",
        "colab": {}
      },
      "source": [
        "model.compile(optimizer=tf.optimizers.Adam(),loss='sparse_categorical_crossentropy')\n",
        "\n",
        "model.fit(training_images,training_labels, epochs=5)"
      ],
      "execution_count": 0,
      "outputs": []
    },
    {
      "cell_type": "code",
      "metadata": {
        "id": "mfYFPm6CD1ya",
        "colab_type": "code",
        "colab": {}
      },
      "source": [
        "model.evaluate(test_images,test_labels)"
      ],
      "execution_count": 0,
      "outputs": []
    },
    {
      "cell_type": "code",
      "metadata": {
        "id": "2Ey0KGWXtALu",
        "colab_type": "code",
        "colab": {}
      },
      "source": [
        "import tensorflow as tf\n",
        "\n",
        "class myCallback(tf.keras.callbacks.Callback):\n",
        "  def on_epoch_end(self, epoch, logs={}):\n",
        "    if(logs.get('accuracy')>0.6):\n",
        "      print(\"\\nReached 60% accuracy so cancelling training!\")\n",
        "      self.model.stop_training = True\n",
        "\n",
        "mnist = tf.keras.datasets.fashion_mnist\n",
        "\n",
        "(x_train, y_train),(x_test, y_test) = mnist.load_data()\n",
        "x_train, x_test = x_train / 255.0, x_test / 255.0\n",
        "\n",
        "callbacks = myCallback()\n",
        "\n",
        "model = tf.keras.models.Sequential([\n",
        "  tf.keras.layers.Flatten(input_shape=(28, 28)),\n",
        "  tf.keras.layers.Dense(512, activation=tf.nn.relu),\n",
        "  tf.keras.layers.Dense(10, activation=tf.nn.softmax)\n",
        "])\n",
        "model.compile(optimizer=tf.optimizers.Adam(),\n",
        "              loss='sparse_categorical_crossentropy',\n",
        "              metrics=['accuracy'])\n",
        "\n",
        "model.fit(x_train, y_train, epochs=10, callbacks=[callbacks])"
      ],
      "execution_count": 0,
      "outputs": []
    },
    {
      "cell_type": "markdown",
      "metadata": {
        "id": "YL7EYR9imIi7",
        "colab_type": "text"
      },
      "source": [
        "### Course 1 Week 3"
      ]
    },
    {
      "cell_type": "code",
      "metadata": {
        "id": "nn2BfpSWmOWw",
        "colab_type": "code",
        "colab": {}
      },
      "source": [
        "mnist = tf.keras.datasets.mnist\n",
        "(training_images, training_labels), (test_images, test_labels) = mnist.load_data()\n",
        "training_images=training_images.reshape(60000, 28, 28, 1)\n",
        "training_images=training_images / 255.0\n",
        "test_images = test_images.reshape(10000, 28, 28, 1)\n",
        "test_images=test_images/255.0\n",
        "model = tf.keras.models.Sequential([\n",
        "  tf.keras.layers.Conv2D(32, (3,3), activation='relu', input_shape=(28, 28, 1)),\n",
        "  tf.keras.layers.MaxPooling2D(2, 2),\n",
        "  tf.keras.layers.Flatten(),\n",
        "  tf.keras.layers.Dense(128, activation='relu'),\n",
        "  tf.keras.layers.Dense(10, activation='softmax')\n",
        "])\n",
        "model.compile(optimizer='adam', loss='sparse_categorical_crossentropy', metrics=['accuracy'])\n",
        "model.fit(training_images, training_labels, epochs=10)\n",
        "test_loss, test_acc = model.evaluate(test_images, test_labels)\n",
        "print(test_acc)"
      ],
      "execution_count": 0,
      "outputs": []
    },
    {
      "cell_type": "markdown",
      "metadata": {
        "id": "JiHnj__M_BAi",
        "colab_type": "text"
      },
      "source": [
        "### Course 1 Week 4"
      ]
    },
    {
      "cell_type": "markdown",
      "metadata": {
        "id": "BqKqJi4RBBn_",
        "colab_type": "text"
      },
      "source": [
        "Refer  my github gists\n",
        "Specific Link for Week 4 content: \n",
        "\n",
        "https://gist.github.com/nivethsaran/a0941b0156d1f61ac4c8c064d7085d72\n",
        "\n",
        "-----------------------------------------------------------------------"
      ]
    },
    {
      "cell_type": "markdown",
      "metadata": {
        "id": "LvdkIPuCCdZp",
        "colab_type": "text"
      },
      "source": [
        "Refer my github gists \n",
        "\n",
        "https://gist.github.com/nivethsaran/428e56e102f8afc19e025902fe36edad  \n",
        "\n",
        "This is the same thing as above except it includes Validation stuff\n",
        "\n",
        "--------------------------------------------------------------------------------"
      ]
    },
    {
      "cell_type": "markdown",
      "metadata": {
        "id": "ZJllh1u5DvxJ",
        "colab_type": "text"
      },
      "source": [
        "https://gist.github.com/nivethsaran/030c36a2d6e39045d31c022c0bc8adf6 \n",
        "\n",
        "Refer this link to play around when images are compressed and trained in the same neural network\n",
        "\n",
        "--------------------------------------------------------------------------------"
      ]
    },
    {
      "cell_type": "markdown",
      "metadata": {
        "id": "9Vdftn0wBjfi",
        "colab_type": "text"
      },
      "source": [
        "##Course 2"
      ]
    },
    {
      "cell_type": "markdown",
      "metadata": {
        "id": "ecfBn-z-Bl8C",
        "colab_type": "text"
      },
      "source": [
        "### Course 2 Week 1"
      ]
    },
    {
      "cell_type": "markdown",
      "metadata": {
        "id": "W6bTvf8WBph7",
        "colab_type": "text"
      },
      "source": [
        "Go to the below url for the gist cats vs dogs.\n",
        " https://gist.github.com/nivethsaran/2a89184222f87b0f82a4f154dd4aa8dc"
      ]
    },
    {
      "cell_type": "markdown",
      "metadata": {
        "id": "XqfbH_oAR96Z",
        "colab_type": "text"
      },
      "source": [
        "### Course 2 Week 2\n"
      ]
    },
    {
      "cell_type": "markdown",
      "metadata": {
        "id": "oS4Wmzp-SA3R",
        "colab_type": "text"
      },
      "source": [
        "Go to the below url for the gist cats vs dogs with augmentation\n",
        "\n",
        "https://gist.github.com/nivethsaran/57c8aafae29f2102ee30fcbcdd1c9120\n"
      ]
    },
    {
      "cell_type": "markdown",
      "metadata": {
        "id": "BA0pF-d0szTY",
        "colab_type": "text"
      },
      "source": [
        "###Course 2 Week 3 Transfer Learning"
      ]
    },
    {
      "cell_type": "markdown",
      "metadata": {
        "id": "QjnUJTmRtLth",
        "colab_type": "text"
      },
      "source": [
        "Resource: https://gist.github.com/nivethsaran/0f89c6e63b30eb940ddd8af8e076642c"
      ]
    },
    {
      "cell_type": "markdown",
      "metadata": {
        "id": "CETRpniESJJ5",
        "colab_type": "text"
      },
      "source": [
        "###Course 2 Week 4 Multiclass Classification"
      ]
    },
    {
      "cell_type": "markdown",
      "metadata": {
        "id": "Tooo0d5tSOrz",
        "colab_type": "text"
      },
      "source": [
        "Rock Paper Scissors Multiclass classification\n",
        "https://gist.github.com/nivethsaran/881011b3a888b1e90f94d04009682afe"
      ]
    },
    {
      "cell_type": "markdown",
      "metadata": {
        "id": "QyEJrxBYWAd6",
        "colab_type": "text"
      },
      "source": [
        "##Course 3"
      ]
    },
    {
      "cell_type": "markdown",
      "metadata": {
        "id": "-9kT-7E9WCMQ",
        "colab_type": "text"
      },
      "source": [
        "### Course 3 Week 1"
      ]
    },
    {
      "cell_type": "code",
      "metadata": {
        "id": "2DkVggTNs-K9",
        "colab_type": "code",
        "colab": {}
      },
      "source": [
        "#Get the dataset and store in the /tmp folder of colab\n",
        "\n",
        "!wget  --no-check-certificate \\\n",
        "        https://storage.googleapis.com/laurencemoroney-blog.appspot.com/sarcasm.json \\\n",
        "        -O /tmp/sarcasm.json"
      ],
      "execution_count": 0,
      "outputs": []
    },
    {
      "cell_type": "code",
      "metadata": {
        "id": "lAQXI7zaWFkj",
        "colab_type": "code",
        "colab": {}
      },
      "source": [
        "from tensorflow.keras.preprocessing.text import Tokenizer\n",
        "from tensorflow.keras.preprocessing.sequence import pad_sequences\n",
        "\n",
        "sentences=['I love my dog','I love my cat','You love my dog!','Do  you think my dog is amazing?']\n",
        "\n",
        "tokenizer=Tokenizer(num_words=100, oov_token=\"<OOV>\")\n",
        "tokenizer.fit_on_texts(sentences)\n",
        "word_index=tokenizer.word_index\n",
        "\n",
        "sequences=tokenizer.texts_to_sequences(sentences)\n",
        "padded =pad_sequences(sequences,padding='post')\n",
        "print(word_index)\n",
        "\n",
        "print(sequences)\n",
        "\n",
        "print(padded)\n",
        "\n",
        "print(padded.shape)"
      ],
      "execution_count": 0,
      "outputs": []
    },
    {
      "cell_type": "code",
      "metadata": {
        "id": "8bNRkkJUtpxH",
        "colab_type": "code",
        "colab": {}
      },
      "source": [
        "import json\n",
        "\n",
        "with open('/tmp/sarcasm.json','r') as f:\n",
        "  datastore=json.load(f)\n",
        "\n",
        "sentences=[]\n",
        "labels=[]\n",
        "urls=[]\n",
        "\n",
        "print(datastore[0])\n",
        "\n",
        "for item in datastore:\n",
        "  sentences.append(item['headline'])\n",
        "  labels.append(item['is_sarcastic'])\n",
        "  urls.append(item['article_link'])\n",
        "\n",
        "from tensorflow.keras.preprocessing.text import Tokenizer\n",
        "from tensorflow.keras.preprocessing.sequence import pad_sequences\n",
        "\n",
        "tokenizer=Tokenizer(oov_token=\"<OOV>\")\n",
        "\n",
        "tokenizer.fit_on_texts(sentences)\n",
        "word_index=tokenizer.word_index\n",
        "\n",
        "sequences=tokenizer.texts_to_sequences(sentences)\n",
        "padded =pad_sequences(sequences,padding='post')\n",
        "print(word_index)\n",
        "\n",
        "print(sequences)\n",
        "\n",
        "print(padded)\n",
        "\n",
        "print(padded.shape)\n"
      ],
      "execution_count": 0,
      "outputs": []
    },
    {
      "cell_type": "markdown",
      "metadata": {
        "id": "2x41xIwNulF-",
        "colab_type": "text"
      },
      "source": [
        "###Course 3 Week 2 Word Embeddings"
      ]
    },
    {
      "cell_type": "markdown",
      "metadata": {
        "id": "WSzK4exxhYAr",
        "colab_type": "text"
      },
      "source": [
        "#### IMDB Review Exercise"
      ]
    },
    {
      "cell_type": "markdown",
      "metadata": {
        "id": "uMj5GWCd2c4x",
        "colab_type": "text"
      },
      "source": [
        "Gist for reference: https://gist.github.com/nivethsaran/12300eaa5d698cc032c44ee43cff39ed"
      ]
    },
    {
      "cell_type": "code",
      "metadata": {
        "id": "AQtN829KuseW",
        "colab_type": "code",
        "colab": {}
      },
      "source": [
        "#Load Dataset from tfds\n",
        "imdb,info = tfds.load(\"imdb_reviews\",with_info=True,as_supervised=True)\n",
        "\n"
      ],
      "execution_count": 0,
      "outputs": []
    },
    {
      "cell_type": "code",
      "metadata": {
        "id": "JuzPJS-NwXxM",
        "colab_type": "code",
        "colab": {}
      },
      "source": [
        "train_data,test_data=imdb['train'],imdb['test']\n",
        "\n",
        "training_sentences=[]\n",
        "training_labels=[]\n",
        "\n",
        "testing_sentences=[]\n",
        "testing_labels=[]\n",
        "\n",
        "for s,l in train_data:\n",
        "  training_sentences.append(str(s.numpy()))\n",
        "  training_labels.append(l.numpy())\n",
        "\n",
        "for s,l in test_data:\n",
        "  testing_sentences.append(str(s.numpy()))\n",
        "  testing_labels.append(l.numpy())\n",
        "\n",
        "\n",
        "training_labels_final = np.array(training_labels)\n",
        "testing_labels_final = np.array(testing_labels)"
      ],
      "execution_count": 0,
      "outputs": []
    },
    {
      "cell_type": "code",
      "metadata": {
        "id": "xnpUVfVSxhr5",
        "colab_type": "code",
        "colab": {}
      },
      "source": [
        "from tensorflow.keras.preprocessing.text import Tokenizer\n",
        "from tensorflow.keras.preprocessing.sequence import pad_sequences\n",
        "\n",
        "vocab_size = 10000\n",
        "embedding_dim = 16\n",
        "max_length = 120\n",
        "trunc_type='post'\n",
        "oov_tok = \"<OOV>\"\n",
        "\n",
        "\n",
        "tokenizer = Tokenizer(num_words = vocab_size, oov_token=oov_tok)\n",
        "tokenizer.fit_on_texts(training_sentences)\n",
        "word_index = tokenizer.word_index\n",
        "sequences = tokenizer.texts_to_sequences(training_sentences)\n",
        "padded = pad_sequences(sequences,maxlen=max_length, truncating=trunc_type)\n",
        "\n",
        "testing_sequences = tokenizer.texts_to_sequences(testing_sentences)\n",
        "testing_padded = pad_sequences(testing_sequences,maxlen=max_length)"
      ],
      "execution_count": 0,
      "outputs": []
    },
    {
      "cell_type": "code",
      "metadata": {
        "id": "O8O1TO5R57NL",
        "colab_type": "code",
        "colab": {}
      },
      "source": [
        "model = tf.keras.Sequential([\n",
        "    tf.keras.layers.Embedding(vocab_size, embedding_dim, input_length=max_length),\n",
        "    tf.keras.layers.Flatten(),\n",
        "    tf.keras.layers.Dense(6, activation='relu'),\n",
        "    tf.keras.layers.Dense(1, activation='sigmoid')\n",
        "])\n",
        "model.compile(loss='binary_crossentropy',optimizer='adam',metrics=['accuracy'])\n",
        "model.summary()"
      ],
      "execution_count": 0,
      "outputs": []
    },
    {
      "cell_type": "code",
      "metadata": {
        "id": "rNjKq8vP57yQ",
        "colab_type": "code",
        "colab": {}
      },
      "source": [
        "num_epochs = 10\n",
        "model.fit(padded, training_labels_final, epochs=num_epochs, validation_data=(testing_padded, testing_labels_final))"
      ],
      "execution_count": 0,
      "outputs": []
    },
    {
      "cell_type": "code",
      "metadata": {
        "id": "vg5-9qBObUi_",
        "colab_type": "code",
        "colab": {}
      },
      "source": [
        "e = model.layers[0]\n",
        "weights = e.get_weights()[0]\n",
        "print(weights.shape) # shape: (vocab_size, embedding_dim)"
      ],
      "execution_count": 0,
      "outputs": []
    },
    {
      "cell_type": "code",
      "metadata": {
        "id": "6WmBDB4QcAfm",
        "colab_type": "code",
        "colab": {}
      },
      "source": [
        "reverse_word_index = dict([(value, key) for (key, value) in word_index.items()])\n",
        "\n",
        "def decode_review(text):\n",
        "    return ' '.join([reverse_word_index.get(i, '?') for i in text])\n",
        "\n",
        "print(decode_review(padded[3]))\n",
        "print(training_sentences[3])"
      ],
      "execution_count": 0,
      "outputs": []
    },
    {
      "cell_type": "code",
      "metadata": {
        "id": "uV0vBR-CcBaj",
        "colab_type": "code",
        "colab": {}
      },
      "source": [
        "import io\n",
        "\n",
        "out_v = io.open('vecs.tsv', 'w', encoding='utf-8')\n",
        "out_m = io.open('meta.tsv', 'w', encoding='utf-8')\n",
        "for word_num in range(1, vocab_size):\n",
        "  word = reverse_word_index[word_num]\n",
        "  embeddings = weights[word_num]\n",
        "  out_m.write(word + \"\\n\")\n",
        "  out_v.write('\\t'.join([str(x) for x in embeddings]) + \"\\n\")\n",
        "out_v.close()\n",
        "out_m.close()"
      ],
      "execution_count": 0,
      "outputs": []
    },
    {
      "cell_type": "code",
      "metadata": {
        "id": "vp9QVSIpcFw9",
        "colab_type": "code",
        "colab": {}
      },
      "source": [
        "try:\n",
        "  from google.colab import files\n",
        "except ImportError:\n",
        "  pass\n",
        "else:\n",
        "  files.download('vecs.tsv')\n",
        "  files.download('meta.tsv')"
      ],
      "execution_count": 0,
      "outputs": []
    },
    {
      "cell_type": "markdown",
      "metadata": {
        "id": "1cMzsz3DhlWC",
        "colab_type": "text"
      },
      "source": [
        "#### Sarcasm with tokenizer "
      ]
    },
    {
      "cell_type": "code",
      "metadata": {
        "id": "WGnV4h6zhr1t",
        "colab_type": "code",
        "colab": {}
      },
      "source": [
        "import json\n",
        "import tensorflow as tf\n",
        "\n",
        "from tensorflow.keras.preprocessing.text import Tokenizer\n",
        "from tensorflow.keras.preprocessing.sequence import pad_sequences\n",
        "\n",
        "!wget --no-check-certificate \\\n",
        "    https://storage.googleapis.com/laurencemoroney-blog.appspot.com/sarcasm.json \\\n",
        "    -O /tmp/sarcasm.json\n",
        "\n",
        "vocab_size = 1000\n",
        "embedding_dim = 16\n",
        "max_length = 120\n",
        "trunc_type='post'\n",
        "padding_type='post'\n",
        "oov_tok = \"<OOV>\"\n",
        "training_size = 20000\n",
        "\n",
        "\n",
        "with open(\"/tmp/sarcasm.json\", 'r') as f:\n",
        "    datastore = json.load(f)\n",
        "\n",
        "\n",
        "sentences = []\n",
        "labels = []\n",
        "urls = []\n",
        "for item in datastore:\n",
        "    sentences.append(item['headline'])\n",
        "    labels.append(item['is_sarcastic'])\n",
        "\n",
        "training_sentences = sentences[0:training_size]\n",
        "testing_sentences = sentences[training_size:]\n",
        "training_labels = labels[0:training_size]\n",
        "testing_labels = labels[training_size:]\n",
        "\n",
        "tokenizer = Tokenizer(num_words=vocab_size, oov_token=oov_tok)\n",
        "tokenizer.fit_on_texts(training_sentences)\n",
        "\n",
        "word_index = tokenizer.word_index\n",
        "\n",
        "training_sequences = tokenizer.texts_to_sequences(training_sentences)\n",
        "training_padded = pad_sequences(training_sequences, maxlen=max_length, padding=padding_type, truncating=trunc_type)\n",
        "\n",
        "testing_sequences = tokenizer.texts_to_sequences(testing_sentences)\n",
        "testing_padded = pad_sequences(testing_sequences, maxlen=max_length, padding=padding_type, truncating=trunc_type)\n",
        "\n",
        "model = tf.keras.Sequential([\n",
        "    tf.keras.layers.Embedding(vocab_size, embedding_dim, input_length=max_length),\n",
        "    tf.keras.layers.Bidirectional(tf.keras.layers.LSTM(32)),\n",
        "    tf.keras.layers.Dense(24, activation='relu'),\n",
        "    tf.keras.layers.Dense(1, activation='sigmoid')\n",
        "])\n",
        "model.compile(loss='binary_crossentropy',optimizer='adam',metrics=['accuracy'])\n",
        "model.summary()\n",
        "\n",
        "num_epochs = 5\n",
        "history = model.fit(training_padded, training_labels, epochs=num_epochs, validation_data=(testing_padded, testing_labels), verbose=1)"
      ],
      "execution_count": 0,
      "outputs": []
    },
    {
      "cell_type": "code",
      "metadata": {
        "id": "nKV1BsschttU",
        "colab_type": "code",
        "colab": {}
      },
      "source": [
        "import matplotlib.pyplot as plt\n",
        "\n",
        "\n",
        "def plot_graphs(history, string):\n",
        "  plt.plot(history.history[string])\n",
        "  plt.plot(history.history['val_'+string])\n",
        "  plt.xlabel(\"Epochs\")\n",
        "  plt.ylabel(string)\n",
        "  plt.legend([string, 'val_'+string])\n",
        "  plt.show()\n",
        "\n",
        "plot_graphs(history, 'acc')\n",
        "plot_graphs(history, 'loss')"
      ],
      "execution_count": 0,
      "outputs": []
    },
    {
      "cell_type": "markdown",
      "metadata": {
        "id": "ovFZ88nah0t-",
        "colab_type": "text"
      },
      "source": [
        "### Course 3 Week 3 Sequence Models"
      ]
    },
    {
      "cell_type": "markdown",
      "metadata": {
        "id": "hMXduqPSiBFl",
        "colab_type": "text"
      },
      "source": [
        "IMDB Subwords 8K with Single Layer LSTM\n",
        "https://gist.github.com/nivethsaran/409c43b0ded51eaed2df32807782ed12\n",
        "\n",
        "\n",
        "IMDB Subwords 8K with Multi Layer LSTM\n",
        "https://gist.github.com/nivethsaran/4e82d1a3b2fed15b9b400c308c0a8b03\n",
        "\n",
        "\n",
        "IMDB Subwords 8K with 1D Convolutional Layer\n",
        "https://gist.github.com/nivethsaran/3ab4ca4b05853b1f75f614529a76eebc\n",
        "\n",
        "\n",
        "Sarcasm with Bidirectional LSTM\n",
        "https://gist.github.com/nivethsaran/13c8100dc63d8d051dbf3cb921c15124\n",
        "\n",
        "\n",
        "Sarcasm with 1D Convolutional Layer\n",
        "https://gist.github.com/nivethsaran/ade8b8c8f41d3b2bdb305305ed629b5b\n",
        "\n",
        "\n",
        "IMDB Reviews with GRU (and optional LSTM and Conv1D)\n",
        "https://gist.github.com/nivethsaran/61a763105fabc3fdade59434d0bc985b"
      ]
    },
    {
      "cell_type": "markdown",
      "metadata": {
        "id": "yjPNT0U1S7Hm",
        "colab_type": "text"
      },
      "source": [
        "### Course 3 Week 4 Sequence Models and Literature"
      ]
    },
    {
      "cell_type": "code",
      "metadata": {
        "id": "A_hehM40qCrz",
        "colab_type": "code",
        "colab": {}
      },
      "source": [
        "#Lyrics Dataset\n",
        "!wget  --no-check-certificate \\\n",
        "        https://storage.googleapis.com/laurencemoroney-blog.appspot.com/irish-lyrics-eof.txt \\\n",
        "        -O /tmp/irish-lyrics-eof.txt"
      ],
      "execution_count": 0,
      "outputs": []
    },
    {
      "cell_type": "code",
      "metadata": {
        "id": "SvWfyzuiS4_c",
        "colab_type": "code",
        "colab": {}
      },
      "source": [
        "from tensorflow.keras.preprocessing.sequence import pad_sequences\n",
        "from tensorflow.keras.layers import LSTM,Embedding,Dense,Bidirectional\n",
        "from tensorflow.keras.preprocessing.text import Tokenizer\n",
        "from tensorflow.keras.optimizers import Adam\n",
        "from tensorflow.keras import Sequential\n"
      ],
      "execution_count": 0,
      "outputs": []
    },
    {
      "cell_type": "code",
      "metadata": {
        "id": "bcLjKlu2UbFl",
        "colab_type": "code",
        "colab": {}
      },
      "source": [
        "f=open('/tmp/irish-lyrics-eof.txt','r')\n",
        "data=\"\"\n",
        "for line in f:\n",
        "  data+=line"
      ],
      "execution_count": 0,
      "outputs": []
    },
    {
      "cell_type": "code",
      "metadata": {
        "id": "XzxcwOPTTlyE",
        "colab_type": "code",
        "colab": {}
      },
      "source": [
        "tokenizer=Tokenizer()\n",
        "\n",
        "corpus=data.lower().split('\\n')\n",
        "\n",
        "tokenizer.fit_on_texts(corpus)\n",
        "total_words =len(tokenizer.word_index)+1\n",
        "\n",
        "print(tokenizer.word_index)\n",
        "print(total_words)"
      ],
      "execution_count": 0,
      "outputs": []
    },
    {
      "cell_type": "code",
      "metadata": {
        "id": "sNWIULWEUvPi",
        "colab_type": "code",
        "colab": {}
      },
      "source": [
        "input_sequeneces=[]\n",
        "for line in corpus:\n",
        "  token_list=tokenizer.texts_to_sequences([line])[0]\n",
        "  for i in range(1,len(token_list)):\n",
        "    n_gram_sequence=token_list[:i+1]\n",
        "    input_sequeneces.append(n_gram_sequence)\n",
        "    print(token_list[:i+1])"
      ],
      "execution_count": 0,
      "outputs": []
    },
    {
      "cell_type": "code",
      "metadata": {
        "id": "pabqES3sVnu4",
        "colab_type": "code",
        "colab": {}
      },
      "source": [
        "max_sequence_len=max(len(x) for x in input_sequeneces)\n",
        "\n",
        "input_sequeneces=np.array(pad_sequences(input_sequeneces,maxlen=max_sequence_len,padding='pre'))\n",
        "\n",
        "xs,labels=input_sequeneces[:,:-1],input_sequeneces[:,-1]\n",
        "\n",
        "ys= tf.keras.utils.to_categorical(labels,num_classes=total_words)"
      ],
      "execution_count": 0,
      "outputs": []
    },
    {
      "cell_type": "code",
      "metadata": {
        "id": "qBnwpmn8kpdL",
        "colab_type": "code",
        "colab": {}
      },
      "source": [
        "print(tokenizer.word_index['in'])\n",
        "\n",
        "print(xs[6])\n",
        "\n",
        "print(ys[6])"
      ],
      "execution_count": 0,
      "outputs": []
    },
    {
      "cell_type": "code",
      "metadata": {
        "id": "LGI3ygO1lAp5",
        "colab_type": "code",
        "colab": {}
      },
      "source": [
        "model=Sequential()\n",
        "model.add(Embedding(total_words,64,input_length=max_sequence_len))\n",
        "model.add(Bidirectional(LSTM(20)))\n",
        "model.add(Dense(total_words,activation='softmax'))\n",
        "model.compile(loss='categorical_crossentropy',optimizer='adam',metrics=['acc'])\n",
        "model.summary()\n",
        "history=model.fit(xs,ys,epochs=100,verbose=1)\n",
        "\n"
      ],
      "execution_count": 0,
      "outputs": []
    },
    {
      "cell_type": "code",
      "metadata": {
        "id": "CztYXSNvlo55",
        "colab_type": "code",
        "colab": {}
      },
      "source": [
        "seed_text=\"Lawrence went to dublin\"\n",
        "next_words=50\n",
        "for i in range(next_words):\n",
        "  token_list=tokenizer.texts_to_sequences([seed_text])[0]\n",
        "  token_list=pad_sequences([token_list],maxlen=max_sequence_len-1,padding='pre')\n",
        "  predicted=model.predict_classes(token_list,verbose=0)\n",
        "  output_word=0\n",
        "  for word,index in tokenizer.word_index.items():\n",
        "    output_word=word\n",
        "    break\n",
        "  seed_text+=\" \"+output_word\n",
        "print(seed_text)"
      ],
      "execution_count": 0,
      "outputs": []
    },
    {
      "cell_type": "markdown",
      "metadata": {
        "id": "ByQNOGTDudTZ",
        "colab_type": "text"
      },
      "source": [
        "Challenge: https://www.tensorflow.org/tutorials/text/text_generation"
      ]
    },
    {
      "cell_type": "markdown",
      "metadata": {
        "id": "agJEB6cUun6q",
        "colab_type": "text"
      },
      "source": [
        "##Course 4"
      ]
    },
    {
      "cell_type": "markdown",
      "metadata": {
        "id": "pNHjsR-MutU9",
        "colab_type": "text"
      },
      "source": [
        "### Course 4 Week 1 Time Series Intro"
      ]
    },
    {
      "cell_type": "markdown",
      "metadata": {
        "id": "H9WT1FjK1_8C",
        "colab_type": "text"
      },
      "source": [
        "https://gist.github.com/nivethsaran/978f250dcd50ce65edfa2b69f9fb90a4"
      ]
    },
    {
      "cell_type": "markdown",
      "metadata": {
        "id": "f8sqTcjuQOl2",
        "colab_type": "text"
      },
      "source": [
        "--------------------------------------------------------------------------------\n",
        "https://gist.github.com/nivethsaran/48dfa1e71e7862af3393b50bb1ad9dc2"
      ]
    },
    {
      "cell_type": "markdown",
      "metadata": {
        "id": "zf36iirTQitN",
        "colab_type": "text"
      },
      "source": [
        "### Course 4 Week 2 Time Series Implementation"
      ]
    },
    {
      "cell_type": "markdown",
      "metadata": {
        "id": "VP4V4HMDQnGY",
        "colab_type": "text"
      },
      "source": [
        "Refernce:\n",
        "\n",
        "https://gist.github.com/nivethsaran/48dfa1e71e7862af3393b50bb1ad9dc2\n",
        "\n",
        "\n",
        "--------------------------------------------------------------------------------"
      ]
    },
    {
      "cell_type": "markdown",
      "metadata": {
        "id": "J9oqMUUITuFi",
        "colab_type": "text"
      },
      "source": [
        "Below is the beggining of preparing sample data to train"
      ]
    },
    {
      "cell_type": "code",
      "metadata": {
        "id": "dZbikuL4R7y6",
        "colab_type": "code",
        "colab": {}
      },
      "source": [
        "dataset= tf.data.Dataset.range(10)\n",
        "for val in dataset:\n",
        "  print(val.numpy())"
      ],
      "execution_count": 0,
      "outputs": []
    },
    {
      "cell_type": "code",
      "metadata": {
        "id": "etkTlI66SKcN",
        "colab_type": "code",
        "colab": {}
      },
      "source": [
        "dataset= tf.data.Dataset.range(10)\n",
        "dataset= dataset.window(5,shift=1)\n",
        "for window_dataset in dataset:\n",
        "  for val in window_dataset:\n",
        "    print(val.numpy(),end=\" \")\n",
        "  print()"
      ],
      "execution_count": 0,
      "outputs": []
    },
    {
      "cell_type": "code",
      "metadata": {
        "id": "TGk7LK8nSfi4",
        "colab_type": "code",
        "colab": {}
      },
      "source": [
        "dataset= tf.data.Dataset.range(10)\n",
        "dataset= dataset.window(5,shift=1,drop_remainder=True)\n",
        "for window_dataset in dataset:\n",
        "  for val in window_dataset:\n",
        "    print(val.numpy(),end=\" \")\n",
        "  print()"
      ],
      "execution_count": 0,
      "outputs": []
    },
    {
      "cell_type": "code",
      "metadata": {
        "id": "oM35ZmmsSijT",
        "colab_type": "code",
        "colab": {}
      },
      "source": [
        "dataset= tf.data.Dataset.range(10)\n",
        "dataset= dataset.window(5,shift=1,drop_remainder=True)\n",
        "dataset= dataset.flat_map(lambda window: window.batch(5))\n",
        "for window in dataset:\n",
        "  print(window.numpy())"
      ],
      "execution_count": 0,
      "outputs": []
    },
    {
      "cell_type": "code",
      "metadata": {
        "id": "h9UKl6btS3Cm",
        "colab_type": "code",
        "colab": {}
      },
      "source": [
        "dataset= tf.data.Dataset.range(10)\n",
        "dataset= dataset.window(5,shift=1,drop_remainder=True)\n",
        "dataset= dataset.flat_map(lambda window: window.batch(5))\n",
        "dataset=dataset.map(lambda window:(window[:-1],window[-1:]))\n",
        "for x,y in dataset:\n",
        "  print(x.numpy(),y.numpy())"
      ],
      "execution_count": 0,
      "outputs": []
    },
    {
      "cell_type": "code",
      "metadata": {
        "id": "-gOpVWveTLUB",
        "colab_type": "code",
        "colab": {}
      },
      "source": [
        "dataset= tf.data.Dataset.range(10)\n",
        "dataset= dataset.window(5,shift=1,drop_remainder=True)\n",
        "dataset= dataset.flat_map(lambda window: window.batch(5))\n",
        "dataset=dataset.map(lambda window:(window[:-1],window[-1:]))\n",
        "dataset = dataset.shuffle(buffer_size=10)\n",
        "for x,y in dataset:\n",
        "  print(x.numpy(),y.numpy())"
      ],
      "execution_count": 0,
      "outputs": []
    },
    {
      "cell_type": "code",
      "metadata": {
        "id": "noKc0BxYTT43",
        "colab_type": "code",
        "colab": {}
      },
      "source": [
        "dataset= tf.data.Dataset.range(10)\n",
        "dataset= dataset.window(5,shift=1,drop_remainder=True)\n",
        "dataset= dataset.flat_map(lambda window: window.batch(5))\n",
        "dataset=dataset.map(lambda window:(window[:-1],window[-1:]))\n",
        "dataset = dataset.shuffle(buffer_size=10)\n",
        "dataset = dataset.batch(2).prefetch(1)\n",
        "for x,y in dataset:\n",
        "  print(x.numpy(),y.numpy())"
      ],
      "execution_count": 0,
      "outputs": []
    },
    {
      "cell_type": "markdown",
      "metadata": {
        "id": "sBl6fUdqTzI0",
        "colab_type": "text"
      },
      "source": [
        "End of preparing sample"
      ]
    },
    {
      "cell_type": "markdown",
      "metadata": {
        "id": "7270QLZSTjpI",
        "colab_type": "text"
      },
      "source": [
        "After creating sample data as show above, refer the given gists to train a simple model\n",
        "\n",
        "https://gist.github.com/nivethsaran/4d0dd77226331d3356674e7038ac0715\n",
        "\n",
        "--------------------------------------------------------------------------------\n",
        "\n",
        "https://gist.github.com/nivethsaran/6a380f83c3bd15e14fd71364a93c3f80\n",
        "\n",
        "--------------------------------------------------------------------------------\n",
        "\n",
        "https://gist.github.com/nivethsaran/36f96e25e2c1fb0bee8556fe135e6491\n",
        "\n",
        "--------------------------------------------------------------------------------\n"
      ]
    },
    {
      "cell_type": "markdown",
      "metadata": {
        "id": "H33dXUTZUhJO",
        "colab_type": "text"
      },
      "source": [
        "###Course 4 Week 3 RNN for Time Series"
      ]
    },
    {
      "cell_type": "markdown",
      "metadata": {
        "id": "Ayom-IMyUlMn",
        "colab_type": "text"
      },
      "source": [
        "RNN Code:\n",
        "\n",
        "https://gist.github.com/nivethsaran/e24d4024abc2066a7af6d3ea82edbb78\n",
        "\n",
        "LSTM Code:\n",
        "\n",
        "https://gist.github.com/nivethsaran/e1c334174dc138384292f8c34445dc33"
      ]
    },
    {
      "cell_type": "markdown",
      "metadata": {
        "id": "mncPq_84XzCP",
        "colab_type": "text"
      },
      "source": [
        "### Course 4 Week 4 Real World Data"
      ]
    },
    {
      "cell_type": "markdown",
      "metadata": {
        "id": "d6luokspX3aA",
        "colab_type": "text"
      },
      "source": [
        "https://gist.github.com/nivethsaran/ad5990ae35c5b30bf8f3bb5d61662026"
      ]
    },
    {
      "cell_type": "code",
      "metadata": {
        "id": "frem0hfVVncI",
        "colab_type": "code",
        "colab": {}
      },
      "source": [
        "def plot_series(time, series, format=\"-\", start=0, end=None):\n",
        "    plt.plot(time[start:end], series[start:end], format)\n",
        "    plt.xlabel(\"Time\")\n",
        "    plt.ylabel(\"Value\")\n",
        "    plt.grid(True)"
      ],
      "execution_count": 0,
      "outputs": []
    },
    {
      "cell_type": "code",
      "metadata": {
        "id": "fjaK7zCjVEew",
        "colab_type": "code",
        "colab": {}
      },
      "source": [
        "!wget  --no-check-certificate \\\n",
        "        https://storage.googleapis.com/laurencemoroney-blog.appspot.com/Sunspots.csv \\\n",
        "        -O /tmp/Sunspots.csv"
      ],
      "execution_count": 0,
      "outputs": []
    },
    {
      "cell_type": "code",
      "metadata": {
        "id": "bQPPTp_cVQFF",
        "colab_type": "code",
        "colab": {}
      },
      "source": [
        "import csv\n",
        "time_step = []\n",
        "sunspots = []\n",
        "\n",
        "with open('/tmp/Sunspots.csv') as csvfile:\n",
        "  reader = csv.reader(csvfile, delimiter=',')\n",
        "  next(reader)\n",
        "  for row in reader:\n",
        "    sunspots.append(float(row[2]))\n",
        "    time_step.append(int(row[0]))\n",
        "\n",
        "series = np.array(sunspots)\n",
        "time = np.array(time_step)\n",
        "plt.figure(figsize=(10, 6))\n",
        "plot_series(time, series)"
      ],
      "execution_count": 0,
      "outputs": []
    },
    {
      "cell_type": "markdown",
      "metadata": {
        "id": "v0xRv2RwWWpn",
        "colab_type": "text"
      },
      "source": [
        "#### Sunspots Notebook Purely DNN"
      ]
    },
    {
      "cell_type": "markdown",
      "metadata": {
        "id": "LSvaFw9MW71t",
        "colab_type": "text"
      },
      "source": [
        "For Reference:\n",
        "\n",
        "https://gist.github.com/nivethsaran/e5cb3b5fbb5ba23429aa44df5a25cf08 \n"
      ]
    },
    {
      "cell_type": "code",
      "metadata": {
        "id": "In4Lj3y5Vbd_",
        "colab_type": "code",
        "colab": {
          "base_uri": "https://localhost:8080/",
          "height": 388
        },
        "outputId": "d6df1faf-09b3-4fa1-9d94-263ef2d7dbe6"
      },
      "source": [
        "series = np.array(sunspots)\n",
        "time = np.array(time_step)\n",
        "plt.figure(figsize=(10, 6))\n",
        "plot_series(time, series)"
      ],
      "execution_count": 10,
      "outputs": [
        {
          "output_type": "display_data",
          "data": {
            "image/png": "[encoded data removed]",
            "text/plain": [
              "<Figure size 720x432 with 1 Axes>"
            ]
          },
          "metadata": {
            "tags": [],
            "needs_background": "light"
          }
        }
      ]
    },
    {
      "cell_type": "code",
      "metadata": {
        "id": "CznHNqBcVq5S",
        "colab_type": "code",
        "colab": {}
      },
      "source": [
        "split_time = 3000\n",
        "time_train = time[:split_time]\n",
        "x_train = series[:split_time]\n",
        "time_valid = time[split_time:]\n",
        "x_valid = series[split_time:]\n",
        "\n",
        "window_size = 30\n",
        "batch_size = 32\n",
        "shuffle_buffer_size = 1000"
      ],
      "execution_count": 0,
      "outputs": []
    },
    {
      "cell_type": "code",
      "metadata": {
        "id": "ke0D9yJkVspq",
        "colab_type": "code",
        "colab": {}
      },
      "source": [
        "def windowed_dataset(series, window_size, batch_size, shuffle_buffer):\n",
        "    series = tf.expand_dims(series, axis=-1)\n",
        "    ds = tf.data.Dataset.from_tensor_slices(series)\n",
        "    ds = ds.window(window_size + 1, shift=1, drop_remainder=True)\n",
        "    ds = ds.flat_map(lambda w: w.batch(window_size + 1))\n",
        "    ds = ds.shuffle(shuffle_buffer)\n",
        "    ds = ds.map(lambda w: (w[:-1], w[1:]))\n",
        "    return ds.batch(batch_size).prefetch(1)"
      ],
      "execution_count": 0,
      "outputs": []
    },
    {
      "cell_type": "code",
      "metadata": {
        "id": "Iwt814GoVuOz",
        "colab_type": "code",
        "colab": {}
      },
      "source": [
        "def model_forecast(model, series, window_size):\n",
        "    ds = tf.data.Dataset.from_tensor_slices(series)\n",
        "    ds = ds.window(window_size, shift=1, drop_remainder=True)\n",
        "    ds = ds.flat_map(lambda w: w.batch(window_size))\n",
        "    ds = ds.batch(32).prefetch(1)\n",
        "    forecast = model.predict(ds)\n",
        "    return forecast"
      ],
      "execution_count": 0,
      "outputs": []
    },
    {
      "cell_type": "code",
      "metadata": {
        "id": "tByohQFWVvxl",
        "colab_type": "code",
        "colab": {
          "base_uri": "https://localhost:8080/",
          "height": 1000
        },
        "outputId": "af5fead0-ac16-4fb9-9ab9-bd3ff69738dd"
      },
      "source": [
        "tf.keras.backend.clear_session()\n",
        "tf.random.set_seed(51)\n",
        "np.random.seed(51)\n",
        "window_size = 64\n",
        "batch_size = 256\n",
        "train_set = windowed_dataset(x_train, window_size, batch_size, shuffle_buffer_size)\n",
        "print(train_set)\n",
        "print(x_train.shape)\n",
        "\n",
        "model = tf.keras.models.Sequential([\n",
        "  tf.keras.layers.Conv1D(filters=32, kernel_size=5,\n",
        "                      strides=1, padding=\"causal\",\n",
        "                      activation=\"relu\",\n",
        "                      input_shape=[None, 1]),\n",
        "  tf.keras.layers.LSTM(64, return_sequences=True),\n",
        "  tf.keras.layers.LSTM(64, return_sequences=True),\n",
        "  tf.keras.layers.Dense(30, activation=\"relu\"),\n",
        "  tf.keras.layers.Dense(10, activation=\"relu\"),\n",
        "  tf.keras.layers.Dense(1),\n",
        "  tf.keras.layers.Lambda(lambda x: x * 400)\n",
        "])\n",
        "\n",
        "lr_schedule = tf.keras.callbacks.LearningRateScheduler(\n",
        "    lambda epoch: 1e-8 * 10**(epoch / 20))\n",
        "optimizer = tf.keras.optimizers.SGD(lr=1e-8, momentum=0.9)\n",
        "model.compile(loss=tf.keras.losses.Huber(),\n",
        "              optimizer=optimizer,\n",
        "              metrics=[\"mae\"])\n",
        "history = model.fit(train_set, epochs=100, callbacks=[lr_schedule])\n"
      ],
      "execution_count": 14,
      "outputs": [
        {
          "output_type": "stream",
          "text": [
            "<PrefetchDataset shapes: ((None, None, 1), (None, None, 1)), types: (tf.float64, tf.float64)>\n",
            "(3000,)\n",
            "Epoch 1/100\n",
            "12/12 [==============================] - 3s 291ms/step - loss: 79.8340 - mae: 80.3314 - lr: 1.0000e-08\n",
            "Epoch 2/100\n",
            "12/12 [==============================] - 3s 284ms/step - loss: 78.0944 - mae: 78.5918 - lr: 1.1220e-08\n",
            "Epoch 3/100\n",
            "12/12 [==============================] - 3s 284ms/step - loss: 75.4519 - mae: 75.9497 - lr: 1.2589e-08\n",
            "Epoch 4/100\n",
            "12/12 [==============================] - 3s 287ms/step - loss: 72.2679 - mae: 72.7658 - lr: 1.4125e-08\n",
            "Epoch 5/100\n",
            "12/12 [==============================] - 3s 284ms/step - loss: 68.7693 - mae: 69.2672 - lr: 1.5849e-08\n",
            "Epoch 6/100\n",
            "12/12 [==============================] - 3s 281ms/step - loss: 65.1128 - mae: 65.6099 - lr: 1.7783e-08\n",
            "Epoch 7/100\n",
            "12/12 [==============================] - 3s 285ms/step - loss: 61.5272 - mae: 62.0241 - lr: 1.9953e-08\n",
            "Epoch 8/100\n",
            "12/12 [==============================] - 3s 283ms/step - loss: 58.1406 - mae: 58.6369 - lr: 2.2387e-08\n",
            "Epoch 9/100\n",
            "12/12 [==============================] - 3s 287ms/step - loss: 55.0732 - mae: 55.5697 - lr: 2.5119e-08\n",
            "Epoch 10/100\n",
            "12/12 [==============================] - 3s 288ms/step - loss: 52.3436 - mae: 52.8399 - lr: 2.8184e-08\n",
            "Epoch 11/100\n",
            "12/12 [==============================] - 3s 289ms/step - loss: 49.9148 - mae: 50.4113 - lr: 3.1623e-08\n",
            "Epoch 12/100\n",
            "12/12 [==============================] - 3s 285ms/step - loss: 47.8592 - mae: 48.3560 - lr: 3.5481e-08\n",
            "Epoch 13/100\n",
            "12/12 [==============================] - 3s 285ms/step - loss: 46.0553 - mae: 46.5517 - lr: 3.9811e-08\n",
            "Epoch 14/100\n",
            "12/12 [==============================] - 3s 282ms/step - loss: 44.5444 - mae: 45.0406 - lr: 4.4668e-08\n",
            "Epoch 15/100\n",
            "12/12 [==============================] - 3s 283ms/step - loss: 43.3078 - mae: 43.8045 - lr: 5.0119e-08\n",
            "Epoch 16/100\n",
            "12/12 [==============================] - 3s 284ms/step - loss: 42.2855 - mae: 42.7826 - lr: 5.6234e-08\n",
            "Epoch 17/100\n",
            "12/12 [==============================] - 3s 285ms/step - loss: 41.3797 - mae: 41.8767 - lr: 6.3096e-08\n",
            "Epoch 18/100\n",
            "12/12 [==============================] - 3s 284ms/step - loss: 40.5481 - mae: 41.0453 - lr: 7.0795e-08\n",
            "Epoch 19/100\n",
            "12/12 [==============================] - 3s 284ms/step - loss: 39.7690 - mae: 40.2659 - lr: 7.9433e-08\n",
            "Epoch 20/100\n",
            "12/12 [==============================] - 3s 285ms/step - loss: 39.0213 - mae: 39.5181 - lr: 8.9125e-08\n",
            "Epoch 21/100\n",
            "12/12 [==============================] - 3s 283ms/step - loss: 38.2735 - mae: 38.7699 - lr: 1.0000e-07\n",
            "Epoch 22/100\n",
            "12/12 [==============================] - 3s 285ms/step - loss: 37.4213 - mae: 37.9177 - lr: 1.1220e-07\n",
            "Epoch 23/100\n",
            "12/12 [==============================] - 3s 285ms/step - loss: 36.3874 - mae: 36.8841 - lr: 1.2589e-07\n",
            "Epoch 24/100\n",
            "12/12 [==============================] - 3s 285ms/step - loss: 35.3032 - mae: 35.7995 - lr: 1.4125e-07\n",
            "Epoch 25/100\n",
            "12/12 [==============================] - 3s 287ms/step - loss: 34.0848 - mae: 34.5806 - lr: 1.5849e-07\n",
            "Epoch 26/100\n",
            "12/12 [==============================] - 3s 284ms/step - loss: 32.9498 - mae: 33.4455 - lr: 1.7783e-07\n",
            "Epoch 27/100\n",
            "12/12 [==============================] - 3s 284ms/step - loss: 31.8647 - mae: 32.3602 - lr: 1.9953e-07\n",
            "Epoch 28/100\n",
            "12/12 [==============================] - 3s 286ms/step - loss: 31.1202 - mae: 31.6159 - lr: 2.2387e-07\n",
            "Epoch 29/100\n",
            "12/12 [==============================] - 3s 289ms/step - loss: 30.3695 - mae: 30.8652 - lr: 2.5119e-07\n",
            "Epoch 30/100\n",
            "12/12 [==============================] - 3s 291ms/step - loss: 29.6518 - mae: 30.1471 - lr: 2.8184e-07\n",
            "Epoch 31/100\n",
            "12/12 [==============================] - 3s 290ms/step - loss: 29.0423 - mae: 29.5375 - lr: 3.1623e-07\n",
            "Epoch 32/100\n",
            "12/12 [==============================] - 3s 284ms/step - loss: 28.5891 - mae: 29.0844 - lr: 3.5481e-07\n",
            "Epoch 33/100\n",
            "12/12 [==============================] - 3s 288ms/step - loss: 28.1763 - mae: 28.6714 - lr: 3.9811e-07\n",
            "Epoch 34/100\n",
            "12/12 [==============================] - 3s 288ms/step - loss: 27.9622 - mae: 28.4569 - lr: 4.4668e-07\n",
            "Epoch 35/100\n",
            "12/12 [==============================] - 3s 285ms/step - loss: 27.8020 - mae: 28.2967 - lr: 5.0119e-07\n",
            "Epoch 36/100\n",
            "12/12 [==============================] - 3s 288ms/step - loss: 27.4179 - mae: 27.9125 - lr: 5.6234e-07\n",
            "Epoch 37/100\n",
            "12/12 [==============================] - 3s 284ms/step - loss: 26.9243 - mae: 27.4188 - lr: 6.3096e-07\n",
            "Epoch 38/100\n",
            "12/12 [==============================] - 3s 285ms/step - loss: 26.7148 - mae: 27.2094 - lr: 7.0795e-07\n",
            "Epoch 39/100\n",
            "12/12 [==============================] - 3s 285ms/step - loss: 26.3645 - mae: 26.8590 - lr: 7.9433e-07\n",
            "Epoch 40/100\n",
            "12/12 [==============================] - 3s 286ms/step - loss: 25.7756 - mae: 26.2702 - lr: 8.9125e-07\n",
            "Epoch 41/100\n",
            "12/12 [==============================] - 3s 286ms/step - loss: 25.4270 - mae: 25.9214 - lr: 1.0000e-06\n",
            "Epoch 42/100\n",
            "12/12 [==============================] - 3s 287ms/step - loss: 25.0455 - mae: 25.5401 - lr: 1.1220e-06\n",
            "Epoch 43/100\n",
            "12/12 [==============================] - 3s 285ms/step - loss: 24.6401 - mae: 25.1344 - lr: 1.2589e-06\n",
            "Epoch 44/100\n",
            "12/12 [==============================] - 3s 285ms/step - loss: 24.5626 - mae: 25.0571 - lr: 1.4125e-06\n",
            "Epoch 45/100\n",
            "12/12 [==============================] - 3s 285ms/step - loss: 24.6037 - mae: 25.0983 - lr: 1.5849e-06\n",
            "Epoch 46/100\n",
            "12/12 [==============================] - 3s 287ms/step - loss: 24.0835 - mae: 24.5778 - lr: 1.7783e-06\n",
            "Epoch 47/100\n",
            "12/12 [==============================] - 3s 284ms/step - loss: 23.5426 - mae: 24.0367 - lr: 1.9953e-06\n",
            "Epoch 48/100\n",
            "12/12 [==============================] - 3s 284ms/step - loss: 22.9517 - mae: 23.4456 - lr: 2.2387e-06\n",
            "Epoch 49/100\n",
            "12/12 [==============================] - 3s 281ms/step - loss: 22.6361 - mae: 23.1299 - lr: 2.5119e-06\n",
            "Epoch 50/100\n",
            "12/12 [==============================] - 3s 281ms/step - loss: 22.1921 - mae: 22.6859 - lr: 2.8184e-06\n",
            "Epoch 51/100\n",
            "12/12 [==============================] - 3s 281ms/step - loss: 22.1868 - mae: 22.6807 - lr: 3.1623e-06\n",
            "Epoch 52/100\n",
            "12/12 [==============================] - 3s 288ms/step - loss: 21.7962 - mae: 22.2903 - lr: 3.5481e-06\n",
            "Epoch 53/100\n",
            "12/12 [==============================] - 3s 286ms/step - loss: 21.6506 - mae: 22.1445 - lr: 3.9811e-06\n",
            "Epoch 54/100\n",
            "12/12 [==============================] - 3s 286ms/step - loss: 21.1620 - mae: 21.6556 - lr: 4.4668e-06\n",
            "Epoch 55/100\n",
            "12/12 [==============================] - 3s 286ms/step - loss: 20.9732 - mae: 21.4668 - lr: 5.0119e-06\n",
            "Epoch 56/100\n",
            "12/12 [==============================] - 3s 282ms/step - loss: 21.7885 - mae: 22.2824 - lr: 5.6234e-06\n",
            "Epoch 57/100\n",
            "12/12 [==============================] - 3s 288ms/step - loss: 20.8594 - mae: 21.3533 - lr: 6.3096e-06\n",
            "Epoch 58/100\n",
            "12/12 [==============================] - 3s 286ms/step - loss: 20.2909 - mae: 20.7839 - lr: 7.0795e-06\n",
            "Epoch 59/100\n",
            "12/12 [==============================] - 3s 284ms/step - loss: 20.8516 - mae: 21.3449 - lr: 7.9433e-06\n",
            "Epoch 60/100\n",
            "12/12 [==============================] - 3s 287ms/step - loss: 20.2653 - mae: 20.7587 - lr: 8.9125e-06\n",
            "Epoch 61/100\n",
            "12/12 [==============================] - 3s 285ms/step - loss: 20.2126 - mae: 20.7056 - lr: 1.0000e-05\n",
            "Epoch 62/100\n",
            "12/12 [==============================] - 3s 285ms/step - loss: 20.3114 - mae: 20.8048 - lr: 1.1220e-05\n",
            "Epoch 63/100\n",
            "12/12 [==============================] - 3s 285ms/step - loss: 20.7228 - mae: 21.2163 - lr: 1.2589e-05\n",
            "Epoch 64/100\n",
            "12/12 [==============================] - 3s 284ms/step - loss: 20.5389 - mae: 21.0323 - lr: 1.4125e-05\n",
            "Epoch 65/100\n",
            "12/12 [==============================] - 3s 288ms/step - loss: 20.5121 - mae: 21.0057 - lr: 1.5849e-05\n",
            "Epoch 66/100\n",
            "12/12 [==============================] - 3s 284ms/step - loss: 19.1044 - mae: 19.5972 - lr: 1.7783e-05\n",
            "Epoch 67/100\n",
            "12/12 [==============================] - 3s 284ms/step - loss: 22.7851 - mae: 23.2793 - lr: 1.9953e-05\n",
            "Epoch 68/100\n",
            "12/12 [==============================] - 3s 286ms/step - loss: 22.2145 - mae: 22.7084 - lr: 2.2387e-05\n",
            "Epoch 69/100\n",
            "12/12 [==============================] - 3s 283ms/step - loss: 20.6393 - mae: 21.1328 - lr: 2.5119e-05\n",
            "Epoch 70/100\n",
            "12/12 [==============================] - 3s 284ms/step - loss: 19.9831 - mae: 20.4763 - lr: 2.8184e-05\n",
            "Epoch 71/100\n",
            "12/12 [==============================] - 3s 286ms/step - loss: 20.1831 - mae: 20.6759 - lr: 3.1623e-05\n",
            "Epoch 72/100\n",
            "12/12 [==============================] - 3s 284ms/step - loss: 23.1268 - mae: 23.6209 - lr: 3.5481e-05\n",
            "Epoch 73/100\n",
            "12/12 [==============================] - 3s 287ms/step - loss: 21.9941 - mae: 22.4878 - lr: 3.9811e-05\n",
            "Epoch 74/100\n",
            "12/12 [==============================] - 3s 284ms/step - loss: 19.6482 - mae: 20.1410 - lr: 4.4668e-05\n",
            "Epoch 75/100\n",
            "12/12 [==============================] - 3s 284ms/step - loss: 19.9717 - mae: 20.4644 - lr: 5.0119e-05\n",
            "Epoch 76/100\n",
            "12/12 [==============================] - 3s 288ms/step - loss: 24.5849 - mae: 25.0789 - lr: 5.6234e-05\n",
            "Epoch 77/100\n",
            "12/12 [==============================] - 3s 285ms/step - loss: 22.2458 - mae: 22.7393 - lr: 6.3096e-05\n",
            "Epoch 78/100\n",
            "12/12 [==============================] - 3s 286ms/step - loss: 21.2633 - mae: 21.7565 - lr: 7.0795e-05\n",
            "Epoch 79/100\n",
            "12/12 [==============================] - 3s 284ms/step - loss: 20.8127 - mae: 21.3061 - lr: 7.9433e-05\n",
            "Epoch 80/100\n",
            "12/12 [==============================] - 3s 284ms/step - loss: 20.8630 - mae: 21.3561 - lr: 8.9125e-05\n",
            "Epoch 81/100\n",
            "12/12 [==============================] - 3s 284ms/step - loss: 23.4546 - mae: 23.9481 - lr: 1.0000e-04\n",
            "Epoch 82/100\n",
            "12/12 [==============================] - 3s 284ms/step - loss: 26.7702 - mae: 27.2649 - lr: 1.1220e-04\n",
            "Epoch 83/100\n",
            "12/12 [==============================] - 3s 283ms/step - loss: 22.8811 - mae: 23.3746 - lr: 1.2589e-04\n",
            "Epoch 84/100\n",
            "12/12 [==============================] - 3s 287ms/step - loss: 60.7715 - mae: 61.2693 - lr: 1.4125e-04\n",
            "Epoch 85/100\n",
            "12/12 [==============================] - 3s 284ms/step - loss: 51.8799 - mae: 52.3778 - lr: 1.5849e-04\n",
            "Epoch 86/100\n",
            "12/12 [==============================] - 3s 284ms/step - loss: 50.6030 - mae: 51.1009 - lr: 1.7783e-04\n",
            "Epoch 87/100\n",
            "12/12 [==============================] - 3s 289ms/step - loss: 51.1961 - mae: 51.6942 - lr: 1.9953e-04\n",
            "Epoch 88/100\n",
            "12/12 [==============================] - 3s 287ms/step - loss: 54.1224 - mae: 54.6201 - lr: 2.2387e-04\n",
            "Epoch 89/100\n",
            "12/12 [==============================] - 3s 291ms/step - loss: 54.6014 - mae: 55.0994 - lr: 2.5119e-04\n",
            "Epoch 90/100\n",
            "12/12 [==============================] - 3s 283ms/step - loss: 53.6318 - mae: 54.1298 - lr: 2.8184e-04\n",
            "Epoch 91/100\n",
            "12/12 [==============================] - 3s 286ms/step - loss: 52.7767 - mae: 53.2750 - lr: 3.1623e-04\n",
            "Epoch 92/100\n",
            "12/12 [==============================] - 3s 286ms/step - loss: 53.4286 - mae: 53.9267 - lr: 3.5481e-04\n",
            "Epoch 93/100\n",
            "12/12 [==============================] - 3s 283ms/step - loss: 62.9800 - mae: 63.4784 - lr: 3.9811e-04\n",
            "Epoch 94/100\n",
            "12/12 [==============================] - 3s 285ms/step - loss: 58.1651 - mae: 58.6634 - lr: 4.4668e-04\n",
            "Epoch 95/100\n",
            "12/12 [==============================] - 3s 286ms/step - loss: 54.7507 - mae: 55.2490 - lr: 5.0119e-04\n",
            "Epoch 96/100\n",
            "12/12 [==============================] - 3s 284ms/step - loss: 53.9718 - mae: 54.4700 - lr: 5.6234e-04\n",
            "Epoch 97/100\n",
            "12/12 [==============================] - 3s 286ms/step - loss: 55.0236 - mae: 55.5216 - lr: 6.3096e-04\n",
            "Epoch 98/100\n",
            "12/12 [==============================] - 3s 284ms/step - loss: 67.3678 - mae: 67.8660 - lr: 7.0795e-04\n",
            "Epoch 99/100\n",
            "12/12 [==============================] - 3s 285ms/step - loss: 66.3564 - mae: 66.8547 - lr: 7.9433e-04\n",
            "Epoch 100/100\n",
            "12/12 [==============================] - 3s 286ms/step - loss: 61.7068 - mae: 62.2049 - lr: 8.9125e-04\n"
          ],
          "name": "stdout"
        }
      ]
    },
    {
      "cell_type": "code",
      "metadata": {
        "id": "-MWEjYtfVxX2",
        "colab_type": "code",
        "colab": {
          "base_uri": "https://localhost:8080/",
          "height": 290
        },
        "outputId": "ed09b0d6-0b10-4d53-c2f9-a27c75bcfda0"
      },
      "source": [
        "plt.semilogx(history.history[\"lr\"], history.history[\"loss\"])\n",
        "plt.axis([1e-8, 1e-4, 0, 60])"
      ],
      "execution_count": 16,
      "outputs": [
        {
          "output_type": "execute_result",
          "data": {
            "text/plain": [
              "(1e-08, 0.0001, 0.0, 60.0)"
            ]
          },
          "metadata": {
            "tags": []
          },
          "execution_count": 16
        },
        {
          "output_type": "display_data",
          "data": {
            "image/png": "[encoded data removed]",
            "text/plain": [
              "<Figure size 432x288 with 1 Axes>"
            ]
          },
          "metadata": {
            "tags": [],
            "needs_background": "light"
          }
        }
      ]
    },
    {
      "cell_type": "code",
      "metadata": {
        "id": "KC9zJxRzV0m0",
        "colab_type": "code",
        "colab": {
          "base_uri": "https://localhost:8080/",
          "height": 0
        },
        "outputId": "de3c86f3-cb08-4445-a2e9-78404c5f5b44"
      },
      "source": [
        "tf.keras.backend.clear_session()\n",
        "tf.random.set_seed(51)\n",
        "np.random.seed(51)\n",
        "train_set = windowed_dataset(x_train, window_size=60, batch_size=100, shuffle_buffer=shuffle_buffer_size)\n",
        "model = tf.keras.models.Sequential([\n",
        "  tf.keras.layers.Conv1D(filters=60, kernel_size=5,\n",
        "                      strides=1, padding=\"causal\",\n",
        "                      activation=\"relu\",\n",
        "                      input_shape=[None, 1]),\n",
        "  tf.keras.layers.LSTM(60, return_sequences=True),\n",
        "  tf.keras.layers.LSTM(60, return_sequences=True),\n",
        "  tf.keras.layers.Dense(30, activation=\"relu\"),\n",
        "  tf.keras.layers.Dense(10, activation=\"relu\"),\n",
        "  tf.keras.layers.Dense(1),\n",
        "  tf.keras.layers.Lambda(lambda x: x * 400)\n",
        "])\n",
        "\n",
        "\n",
        "optimizer = tf.keras.optimizers.SGD(lr=1e-5, momentum=0.9)\n",
        "model.compile(loss=tf.keras.losses.Huber(),\n",
        "              optimizer=optimizer,\n",
        "              metrics=[\"mae\"])\n",
        "history = model.fit(train_set,epochs=500)"
      ],
      "execution_count": 17,
      "outputs": [
        {
          "output_type": "stream",
          "text": [
            "30/30 [==============================] - 4s 117ms/step - loss: 38.9180 - mae: 39.4144\n",
            "Epoch 2/500\n",
            "30/30 [==============================] - 4s 117ms/step - loss: 25.7652 - mae: 26.2597\n",
            "Epoch 3/500\n",
            "30/30 [==============================] - 4s 117ms/step - loss: 22.0764 - mae: 22.5701\n",
            "Epoch 4/500\n",
            "30/30 [==============================] - 4s 118ms/step - loss: 20.4601 - mae: 20.9529\n",
            "Epoch 5/500\n",
            "30/30 [==============================] - 4s 118ms/step - loss: 19.7085 - mae: 20.2010\n",
            "Epoch 6/500\n",
            "30/30 [==============================] - 4s 118ms/step - loss: 19.3149 - mae: 19.8069\n",
            "Epoch 7/500\n",
            "30/30 [==============================] - 4s 117ms/step - loss: 18.7104 - mae: 19.2024\n",
            "Epoch 8/500\n",
            "30/30 [==============================] - 4s 118ms/step - loss: 18.1212 - mae: 18.6128\n",
            "Epoch 9/500\n",
            "30/30 [==============================] - 4s 119ms/step - loss: 18.0739 - mae: 18.5654\n",
            "Epoch 10/500\n",
            "30/30 [==============================] - 4s 117ms/step - loss: 17.9504 - mae: 18.4419\n",
            "Epoch 11/500\n",
            "30/30 [==============================] - 4s 118ms/step - loss: 17.7363 - mae: 18.2272\n",
            "Epoch 12/500\n",
            "30/30 [==============================] - 4s 120ms/step - loss: 18.3537 - mae: 18.8446\n",
            "Epoch 13/500\n",
            "30/30 [==============================] - 4s 118ms/step - loss: 17.7069 - mae: 18.1977\n",
            "Epoch 14/500\n",
            "30/30 [==============================] - 4s 118ms/step - loss: 17.7187 - mae: 18.2093\n",
            "Epoch 15/500\n",
            "30/30 [==============================] - 4s 118ms/step - loss: 18.0154 - mae: 18.5061\n",
            "Epoch 16/500\n",
            "30/30 [==============================] - 4s 117ms/step - loss: 18.3109 - mae: 18.8018\n",
            "Epoch 17/500\n",
            "30/30 [==============================] - 4s 118ms/step - loss: 17.4828 - mae: 17.9732\n",
            "Epoch 18/500\n",
            "30/30 [==============================] - 4s 118ms/step - loss: 17.6499 - mae: 18.1407\n",
            "Epoch 19/500\n",
            "30/30 [==============================] - 4s 119ms/step - loss: 17.2634 - mae: 17.7541\n",
            "Epoch 20/500\n",
            "30/30 [==============================] - 4s 119ms/step - loss: 17.4970 - mae: 17.9879\n",
            "Epoch 21/500\n",
            "30/30 [==============================] - 4s 117ms/step - loss: 17.3841 - mae: 17.8748\n",
            "Epoch 22/500\n",
            "30/30 [==============================] - 4s 118ms/step - loss: 17.1726 - mae: 17.6632\n",
            "Epoch 23/500\n",
            "30/30 [==============================] - 4s 120ms/step - loss: 17.2813 - mae: 17.7721\n",
            "Epoch 24/500\n",
            "30/30 [==============================] - 4s 119ms/step - loss: 17.3486 - mae: 17.8393\n",
            "Epoch 25/500\n",
            "30/30 [==============================] - 4s 119ms/step - loss: 17.2846 - mae: 17.7756\n",
            "Epoch 26/500\n",
            "30/30 [==============================] - 4s 119ms/step - loss: 17.2291 - mae: 17.7199\n",
            "Epoch 27/500\n",
            "30/30 [==============================] - 4s 118ms/step - loss: 17.1994 - mae: 17.6901\n",
            "Epoch 28/500\n",
            "30/30 [==============================] - 4s 119ms/step - loss: 17.1761 - mae: 17.6666\n",
            "Epoch 29/500\n",
            "30/30 [==============================] - 4s 118ms/step - loss: 17.0391 - mae: 17.5295\n",
            "Epoch 30/500\n",
            "30/30 [==============================] - 4s 118ms/step - loss: 17.1277 - mae: 17.6179\n",
            "Epoch 31/500\n",
            "30/30 [==============================] - 4s 119ms/step - loss: 17.1148 - mae: 17.6052\n",
            "Epoch 32/500\n",
            "30/30 [==============================] - 4s 119ms/step - loss: 16.9523 - mae: 17.4427\n",
            "Epoch 33/500\n",
            "30/30 [==============================] - 4s 118ms/step - loss: 17.0137 - mae: 17.5036\n",
            "Epoch 34/500\n",
            "30/30 [==============================] - 4s 119ms/step - loss: 16.8877 - mae: 17.3779\n",
            "Epoch 35/500\n",
            "30/30 [==============================] - 4s 119ms/step - loss: 16.9781 - mae: 17.4685\n",
            "Epoch 36/500\n",
            "30/30 [==============================] - 4s 118ms/step - loss: 16.9637 - mae: 17.4538\n",
            "Epoch 37/500\n",
            "30/30 [==============================] - 4s 118ms/step - loss: 17.0402 - mae: 17.5305\n",
            "Epoch 38/500\n",
            "30/30 [==============================] - 4s 118ms/step - loss: 16.9714 - mae: 17.4614\n",
            "Epoch 39/500\n",
            "30/30 [==============================] - 4s 119ms/step - loss: 17.1382 - mae: 17.6281\n",
            "Epoch 40/500\n",
            "30/30 [==============================] - 4s 119ms/step - loss: 17.0529 - mae: 17.5428\n",
            "Epoch 41/500\n",
            "30/30 [==============================] - 4s 119ms/step - loss: 16.8190 - mae: 17.3089\n",
            "Epoch 42/500\n",
            "30/30 [==============================] - 4s 121ms/step - loss: 16.8694 - mae: 17.3592\n",
            "Epoch 43/500\n",
            "30/30 [==============================] - 4s 120ms/step - loss: 16.7735 - mae: 17.2629\n",
            "Epoch 44/500\n",
            "30/30 [==============================] - 4s 119ms/step - loss: 17.2086 - mae: 17.6986\n",
            "Epoch 45/500\n",
            "30/30 [==============================] - 4s 120ms/step - loss: 16.7672 - mae: 17.2569\n",
            "Epoch 46/500\n",
            "30/30 [==============================] - 4s 119ms/step - loss: 16.8257 - mae: 17.3150\n",
            "Epoch 47/500\n",
            "30/30 [==============================] - 4s 119ms/step - loss: 16.7778 - mae: 17.2672\n",
            "Epoch 48/500\n",
            "30/30 [==============================] - 4s 121ms/step - loss: 16.9261 - mae: 17.4155\n",
            "Epoch 49/500\n",
            "30/30 [==============================] - 4s 120ms/step - loss: 16.9059 - mae: 17.3954\n",
            "Epoch 50/500\n",
            "30/30 [==============================] - 4s 122ms/step - loss: 16.7310 - mae: 17.2203\n",
            "Epoch 51/500\n",
            "30/30 [==============================] - 4s 120ms/step - loss: 16.7296 - mae: 17.2190\n",
            "Epoch 52/500\n",
            "30/30 [==============================] - 4s 120ms/step - loss: 16.9758 - mae: 17.4652\n",
            "Epoch 53/500\n",
            "30/30 [==============================] - 4s 121ms/step - loss: 16.6819 - mae: 17.1714\n",
            "Epoch 54/500\n",
            "30/30 [==============================] - 4s 119ms/step - loss: 16.7507 - mae: 17.2397\n",
            "Epoch 55/500\n",
            "30/30 [==============================] - 4s 120ms/step - loss: 16.7919 - mae: 17.2813\n",
            "Epoch 56/500\n",
            "30/30 [==============================] - 4s 120ms/step - loss: 16.6366 - mae: 17.1259\n",
            "Epoch 57/500\n",
            "30/30 [==============================] - 4s 120ms/step - loss: 16.6038 - mae: 17.0929\n",
            "Epoch 58/500\n",
            "30/30 [==============================] - 4s 121ms/step - loss: 16.5665 - mae: 17.0555\n",
            "Epoch 59/500\n",
            "30/30 [==============================] - 4s 121ms/step - loss: 16.7489 - mae: 17.2379\n",
            "Epoch 60/500\n",
            "30/30 [==============================] - 4s 119ms/step - loss: 16.8218 - mae: 17.3112\n",
            "Epoch 61/500\n",
            "30/30 [==============================] - 4s 120ms/step - loss: 16.6077 - mae: 17.0969\n",
            "Epoch 62/500\n",
            "30/30 [==============================] - 4s 121ms/step - loss: 16.5586 - mae: 17.0478\n",
            "Epoch 63/500\n",
            "30/30 [==============================] - 4s 120ms/step - loss: 16.6003 - mae: 17.0891\n",
            "Epoch 64/500\n",
            "30/30 [==============================] - 4s 121ms/step - loss: 16.5537 - mae: 17.0427\n",
            "Epoch 65/500\n",
            "30/30 [==============================] - 4s 119ms/step - loss: 16.5540 - mae: 17.0429\n",
            "Epoch 66/500\n",
            "30/30 [==============================] - 4s 119ms/step - loss: 16.6375 - mae: 17.1272\n",
            "Epoch 67/500\n",
            "30/30 [==============================] - 4s 122ms/step - loss: 16.5354 - mae: 17.0242\n",
            "Epoch 68/500\n",
            "30/30 [==============================] - 4s 119ms/step - loss: 16.7342 - mae: 17.2237\n",
            "Epoch 69/500\n",
            "30/30 [==============================] - 4s 121ms/step - loss: 16.7647 - mae: 17.2537\n",
            "Epoch 70/500\n",
            "30/30 [==============================] - 4s 119ms/step - loss: 16.7175 - mae: 17.2066\n",
            "Epoch 71/500\n",
            "30/30 [==============================] - 4s 121ms/step - loss: 16.5213 - mae: 17.0103\n",
            "Epoch 72/500\n",
            "30/30 [==============================] - 4s 121ms/step - loss: 16.4760 - mae: 16.9649\n",
            "Epoch 73/500\n",
            "30/30 [==============================] - 4s 120ms/step - loss: 16.5085 - mae: 16.9971\n",
            "Epoch 74/500\n",
            "30/30 [==============================] - 4s 120ms/step - loss: 16.5156 - mae: 17.0044\n",
            "Epoch 75/500\n",
            "30/30 [==============================] - 4s 121ms/step - loss: 16.5026 - mae: 16.9912\n",
            "Epoch 76/500\n",
            "30/30 [==============================] - 4s 119ms/step - loss: 16.5076 - mae: 16.9962\n",
            "Epoch 77/500\n",
            "30/30 [==============================] - 4s 120ms/step - loss: 16.3968 - mae: 16.8854\n",
            "Epoch 78/500\n",
            "30/30 [==============================] - 4s 119ms/step - loss: 16.5620 - mae: 17.0508\n",
            "Epoch 79/500\n",
            "30/30 [==============================] - 4s 119ms/step - loss: 16.4200 - mae: 16.9084\n",
            "Epoch 80/500\n",
            "30/30 [==============================] - 4s 120ms/step - loss: 16.5997 - mae: 17.0886\n",
            "Epoch 81/500\n",
            "30/30 [==============================] - 4s 118ms/step - loss: 16.6942 - mae: 17.1831\n",
            "Epoch 82/500\n",
            "30/30 [==============================] - 4s 120ms/step - loss: 16.4212 - mae: 16.9094\n",
            "Epoch 83/500\n",
            "30/30 [==============================] - 4s 120ms/step - loss: 16.3371 - mae: 16.8255\n",
            "Epoch 84/500\n",
            "30/30 [==============================] - 4s 119ms/step - loss: 16.3742 - mae: 16.8626\n",
            "Epoch 85/500\n",
            "30/30 [==============================] - 4s 119ms/step - loss: 16.4003 - mae: 16.8888\n",
            "Epoch 86/500\n",
            "30/30 [==============================] - 4s 120ms/step - loss: 16.7506 - mae: 17.2396\n",
            "Epoch 87/500\n",
            "30/30 [==============================] - 4s 119ms/step - loss: 16.5914 - mae: 17.0804\n",
            "Epoch 88/500\n",
            "30/30 [==============================] - 4s 119ms/step - loss: 16.5403 - mae: 17.0293\n",
            "Epoch 89/500\n",
            "30/30 [==============================] - 4s 120ms/step - loss: 16.6140 - mae: 17.1025\n",
            "Epoch 90/500\n",
            "30/30 [==============================] - 4s 119ms/step - loss: 16.3649 - mae: 16.8533\n",
            "Epoch 91/500\n",
            "30/30 [==============================] - 4s 120ms/step - loss: 16.4090 - mae: 16.8979\n",
            "Epoch 92/500\n",
            "30/30 [==============================] - 4s 119ms/step - loss: 16.4324 - mae: 16.9209\n",
            "Epoch 93/500\n",
            "30/30 [==============================] - 4s 119ms/step - loss: 16.4421 - mae: 16.9312\n",
            "Epoch 94/500\n",
            "30/30 [==============================] - 4s 120ms/step - loss: 16.6486 - mae: 17.1374\n",
            "Epoch 95/500\n",
            "30/30 [==============================] - 4s 119ms/step - loss: 16.5136 - mae: 17.0026\n",
            "Epoch 96/500\n",
            "30/30 [==============================] - 4s 118ms/step - loss: 16.3134 - mae: 16.8021\n",
            "Epoch 97/500\n",
            "30/30 [==============================] - 4s 120ms/step - loss: 16.3589 - mae: 16.8475\n",
            "Epoch 98/500\n",
            "30/30 [==============================] - 4s 120ms/step - loss: 16.3637 - mae: 16.8523\n",
            "Epoch 99/500\n",
            "30/30 [==============================] - 4s 120ms/step - loss: 16.3203 - mae: 16.8086\n",
            "Epoch 100/500\n",
            "30/30 [==============================] - 4s 118ms/step - loss: 16.2520 - mae: 16.7403\n",
            "Epoch 101/500\n",
            "30/30 [==============================] - 4s 118ms/step - loss: 16.2465 - mae: 16.7350\n",
            "Epoch 102/500\n",
            "30/30 [==============================] - 4s 120ms/step - loss: 16.2618 - mae: 16.7502\n",
            "Epoch 103/500\n",
            "30/30 [==============================] - 4s 118ms/step - loss: 16.2942 - mae: 16.7825\n",
            "Epoch 104/500\n",
            "30/30 [==============================] - 4s 119ms/step - loss: 16.5519 - mae: 17.0410\n",
            "Epoch 105/500\n",
            "30/30 [==============================] - 4s 120ms/step - loss: 16.4009 - mae: 16.8897\n",
            "Epoch 106/500\n",
            "30/30 [==============================] - 4s 120ms/step - loss: 16.2682 - mae: 16.7568\n",
            "Epoch 107/500\n",
            "30/30 [==============================] - 4s 119ms/step - loss: 16.2403 - mae: 16.7289\n",
            "Epoch 108/500\n",
            "30/30 [==============================] - 4s 121ms/step - loss: 16.2621 - mae: 16.7508\n",
            "Epoch 109/500\n",
            "30/30 [==============================] - 4s 120ms/step - loss: 16.2858 - mae: 16.7744\n",
            "Epoch 110/500\n",
            "30/30 [==============================] - 4s 120ms/step - loss: 16.2880 - mae: 16.7764\n",
            "Epoch 111/500\n",
            "30/30 [==============================] - 4s 119ms/step - loss: 16.2672 - mae: 16.7557\n",
            "Epoch 112/500\n",
            "30/30 [==============================] - 4s 118ms/step - loss: 16.2791 - mae: 16.7680\n",
            "Epoch 113/500\n",
            "30/30 [==============================] - 4s 119ms/step - loss: 16.2741 - mae: 16.7631\n",
            "Epoch 114/500\n",
            "30/30 [==============================] - 4s 120ms/step - loss: 16.2312 - mae: 16.7198\n",
            "Epoch 115/500\n",
            "30/30 [==============================] - 4s 119ms/step - loss: 16.2538 - mae: 16.7423\n",
            "Epoch 116/500\n",
            "30/30 [==============================] - 4s 119ms/step - loss: 16.3274 - mae: 16.8161\n",
            "Epoch 117/500\n",
            "30/30 [==============================] - 4s 119ms/step - loss: 16.2180 - mae: 16.7070\n",
            "Epoch 118/500\n",
            "30/30 [==============================] - 4s 119ms/step - loss: 16.2350 - mae: 16.7237\n",
            "Epoch 119/500\n",
            "30/30 [==============================] - 4s 120ms/step - loss: 16.2183 - mae: 16.7071\n",
            "Epoch 120/500\n",
            "30/30 [==============================] - 4s 118ms/step - loss: 16.2020 - mae: 16.6907\n",
            "Epoch 121/500\n",
            "30/30 [==============================] - 4s 120ms/step - loss: 16.3740 - mae: 16.8633\n",
            "Epoch 122/500\n",
            "30/30 [==============================] - 4s 118ms/step - loss: 16.1579 - mae: 16.6465\n",
            "Epoch 123/500\n",
            "30/30 [==============================] - 4s 119ms/step - loss: 16.1790 - mae: 16.6676\n",
            "Epoch 124/500\n",
            "30/30 [==============================] - 4s 119ms/step - loss: 16.3281 - mae: 16.8167\n",
            "Epoch 125/500\n",
            "30/30 [==============================] - 4s 119ms/step - loss: 16.2110 - mae: 16.6998\n",
            "Epoch 126/500\n",
            "30/30 [==============================] - 4s 119ms/step - loss: 16.1906 - mae: 16.6794\n",
            "Epoch 127/500\n",
            "30/30 [==============================] - 4s 119ms/step - loss: 16.1904 - mae: 16.6794\n",
            "Epoch 128/500\n",
            "30/30 [==============================] - 4s 119ms/step - loss: 16.2904 - mae: 16.7794\n",
            "Epoch 129/500\n",
            "30/30 [==============================] - 4s 120ms/step - loss: 16.1873 - mae: 16.6762\n",
            "Epoch 130/500\n",
            "30/30 [==============================] - 4s 122ms/step - loss: 16.0972 - mae: 16.5856\n",
            "Epoch 131/500\n",
            "30/30 [==============================] - 4s 118ms/step - loss: 16.1708 - mae: 16.6595\n",
            "Epoch 132/500\n",
            "30/30 [==============================] - 4s 120ms/step - loss: 16.1030 - mae: 16.5915\n",
            "Epoch 133/500\n",
            "30/30 [==============================] - 4s 119ms/step - loss: 16.1182 - mae: 16.6067\n",
            "Epoch 134/500\n",
            "30/30 [==============================] - 4s 120ms/step - loss: 16.1137 - mae: 16.6022\n",
            "Epoch 135/500\n",
            "30/30 [==============================] - 4s 119ms/step - loss: 16.2348 - mae: 16.7237\n",
            "Epoch 136/500\n",
            "30/30 [==============================] - 4s 119ms/step - loss: 16.1067 - mae: 16.5956\n",
            "Epoch 137/500\n",
            "30/30 [==============================] - 4s 120ms/step - loss: 16.1626 - mae: 16.6513\n",
            "Epoch 138/500\n",
            "30/30 [==============================] - 4s 120ms/step - loss: 16.0949 - mae: 16.5836\n",
            "Epoch 139/500\n",
            "30/30 [==============================] - 4s 118ms/step - loss: 16.0694 - mae: 16.5581\n",
            "Epoch 140/500\n",
            "30/30 [==============================] - 4s 119ms/step - loss: 16.0457 - mae: 16.5343\n",
            "Epoch 141/500\n",
            "30/30 [==============================] - 4s 118ms/step - loss: 16.0796 - mae: 16.5682\n",
            "Epoch 142/500\n",
            "30/30 [==============================] - 4s 120ms/step - loss: 16.1928 - mae: 16.6815\n",
            "Epoch 143/500\n",
            "30/30 [==============================] - 4s 119ms/step - loss: 16.5336 - mae: 17.0230\n",
            "Epoch 144/500\n",
            "30/30 [==============================] - 4s 118ms/step - loss: 16.1359 - mae: 16.6245\n",
            "Epoch 145/500\n",
            "30/30 [==============================] - 4s 118ms/step - loss: 16.0601 - mae: 16.5486\n",
            "Epoch 146/500\n",
            "30/30 [==============================] - 4s 121ms/step - loss: 16.0268 - mae: 16.5154\n",
            "Epoch 147/500\n",
            "30/30 [==============================] - 4s 119ms/step - loss: 16.0389 - mae: 16.5278\n",
            "Epoch 148/500\n",
            "30/30 [==============================] - 4s 118ms/step - loss: 16.0230 - mae: 16.5117\n",
            "Epoch 149/500\n",
            "30/30 [==============================] - 4s 120ms/step - loss: 16.0484 - mae: 16.5371\n",
            "Epoch 150/500\n",
            "30/30 [==============================] - 4s 119ms/step - loss: 16.0215 - mae: 16.5098\n",
            "Epoch 151/500\n",
            "30/30 [==============================] - 4s 119ms/step - loss: 16.2979 - mae: 16.7870\n",
            "Epoch 152/500\n",
            "30/30 [==============================] - 4s 119ms/step - loss: 16.1311 - mae: 16.6199\n",
            "Epoch 153/500\n",
            "30/30 [==============================] - 4s 121ms/step - loss: 15.9728 - mae: 16.4611\n",
            "Epoch 154/500\n",
            "30/30 [==============================] - 4s 122ms/step - loss: 16.0411 - mae: 16.5297\n",
            "Epoch 155/500\n",
            "30/30 [==============================] - 4s 119ms/step - loss: 16.0147 - mae: 16.5031\n",
            "Epoch 156/500\n",
            "30/30 [==============================] - 4s 119ms/step - loss: 16.1040 - mae: 16.5926\n",
            "Epoch 157/500\n",
            "30/30 [==============================] - 4s 120ms/step - loss: 16.2325 - mae: 16.7214\n",
            "Epoch 158/500\n",
            "30/30 [==============================] - 4s 119ms/step - loss: 16.2494 - mae: 16.7385\n",
            "Epoch 159/500\n",
            "30/30 [==============================] - 4s 119ms/step - loss: 15.9558 - mae: 16.4440\n",
            "Epoch 160/500\n",
            "30/30 [==============================] - 4s 120ms/step - loss: 15.9290 - mae: 16.4173\n",
            "Epoch 161/500\n",
            "30/30 [==============================] - 4s 120ms/step - loss: 15.9070 - mae: 16.3951\n",
            "Epoch 162/500\n",
            "30/30 [==============================] - 4s 119ms/step - loss: 16.0129 - mae: 16.5015\n",
            "Epoch 163/500\n",
            "30/30 [==============================] - 4s 119ms/step - loss: 16.0209 - mae: 16.5095\n",
            "Epoch 164/500\n",
            "30/30 [==============================] - 4s 120ms/step - loss: 15.9094 - mae: 16.3977\n",
            "Epoch 165/500\n",
            "30/30 [==============================] - 4s 120ms/step - loss: 15.9277 - mae: 16.4159\n",
            "Epoch 166/500\n",
            "30/30 [==============================] - 4s 119ms/step - loss: 15.9941 - mae: 16.4827\n",
            "Epoch 167/500\n",
            "30/30 [==============================] - 4s 119ms/step - loss: 15.9647 - mae: 16.4531\n",
            "Epoch 168/500\n",
            "30/30 [==============================] - 4s 120ms/step - loss: 16.0233 - mae: 16.5119\n",
            "Epoch 169/500\n",
            "30/30 [==============================] - 4s 119ms/step - loss: 15.8611 - mae: 16.3492\n",
            "Epoch 170/500\n",
            "30/30 [==============================] - 4s 119ms/step - loss: 15.9873 - mae: 16.4755\n",
            "Epoch 171/500\n",
            "30/30 [==============================] - 4s 120ms/step - loss: 15.9025 - mae: 16.3909\n",
            "Epoch 172/500\n",
            "30/30 [==============================] - 4s 119ms/step - loss: 15.8919 - mae: 16.3802\n",
            "Epoch 173/500\n",
            "30/30 [==============================] - 4s 121ms/step - loss: 15.8817 - mae: 16.3697\n",
            "Epoch 174/500\n",
            "30/30 [==============================] - 4s 119ms/step - loss: 16.0350 - mae: 16.5234\n",
            "Epoch 175/500\n",
            "30/30 [==============================] - 4s 120ms/step - loss: 16.0529 - mae: 16.5419\n",
            "Epoch 176/500\n",
            "30/30 [==============================] - 4s 121ms/step - loss: 15.9629 - mae: 16.4515\n",
            "Epoch 177/500\n",
            "30/30 [==============================] - 4s 120ms/step - loss: 15.8773 - mae: 16.3653\n",
            "Epoch 178/500\n",
            "30/30 [==============================] - 4s 119ms/step - loss: 15.8911 - mae: 16.3792\n",
            "Epoch 179/500\n",
            "30/30 [==============================] - 4s 120ms/step - loss: 15.8896 - mae: 16.3778\n",
            "Epoch 180/500\n",
            "30/30 [==============================] - 4s 120ms/step - loss: 15.8480 - mae: 16.3360\n",
            "Epoch 181/500\n",
            "30/30 [==============================] - 4s 120ms/step - loss: 15.9137 - mae: 16.4020\n",
            "Epoch 182/500\n",
            "30/30 [==============================] - 4s 119ms/step - loss: 15.8988 - mae: 16.3873\n",
            "Epoch 183/500\n",
            "30/30 [==============================] - 4s 120ms/step - loss: 15.9605 - mae: 16.4491\n",
            "Epoch 184/500\n",
            "30/30 [==============================] - 4s 121ms/step - loss: 15.9292 - mae: 16.4175\n",
            "Epoch 185/500\n",
            "30/30 [==============================] - 4s 120ms/step - loss: 16.0548 - mae: 16.5435\n",
            "Epoch 186/500\n",
            "30/30 [==============================] - 4s 120ms/step - loss: 15.9039 - mae: 16.3927\n",
            "Epoch 187/500\n",
            "30/30 [==============================] - 4s 120ms/step - loss: 16.0344 - mae: 16.5231\n",
            "Epoch 188/500\n",
            "30/30 [==============================] - 4s 119ms/step - loss: 15.8598 - mae: 16.3480\n",
            "Epoch 189/500\n",
            "30/30 [==============================] - 4s 119ms/step - loss: 15.7819 - mae: 16.2701\n",
            "Epoch 190/500\n",
            "30/30 [==============================] - 4s 119ms/step - loss: 15.8291 - mae: 16.3175\n",
            "Epoch 191/500\n",
            "30/30 [==============================] - 4s 119ms/step - loss: 15.8239 - mae: 16.3122\n",
            "Epoch 192/500\n",
            "30/30 [==============================] - 4s 120ms/step - loss: 15.9681 - mae: 16.4569\n",
            "Epoch 193/500\n",
            "30/30 [==============================] - 4s 120ms/step - loss: 15.8145 - mae: 16.3026\n",
            "Epoch 194/500\n",
            "30/30 [==============================] - 4s 119ms/step - loss: 15.8102 - mae: 16.2984\n",
            "Epoch 195/500\n",
            "30/30 [==============================] - 4s 120ms/step - loss: 15.8507 - mae: 16.3391\n",
            "Epoch 196/500\n",
            "30/30 [==============================] - 4s 120ms/step - loss: 15.9352 - mae: 16.4237\n",
            "Epoch 197/500\n",
            "30/30 [==============================] - 4s 120ms/step - loss: 15.9086 - mae: 16.3972\n",
            "Epoch 198/500\n",
            "30/30 [==============================] - 4s 119ms/step - loss: 15.8287 - mae: 16.3172\n",
            "Epoch 199/500\n",
            "30/30 [==============================] - 4s 121ms/step - loss: 15.9194 - mae: 16.4078\n",
            "Epoch 200/500\n",
            "30/30 [==============================] - 4s 121ms/step - loss: 15.8661 - mae: 16.3545\n",
            "Epoch 201/500\n",
            "30/30 [==============================] - 4s 119ms/step - loss: 15.9005 - mae: 16.3887\n",
            "Epoch 202/500\n",
            "30/30 [==============================] - 4s 119ms/step - loss: 16.0559 - mae: 16.5450\n",
            "Epoch 203/500\n",
            "30/30 [==============================] - 4s 120ms/step - loss: 15.8999 - mae: 16.3882\n",
            "Epoch 204/500\n",
            "30/30 [==============================] - 4s 120ms/step - loss: 15.7443 - mae: 16.2324\n",
            "Epoch 205/500\n",
            "30/30 [==============================] - 4s 120ms/step - loss: 15.8269 - mae: 16.3149\n",
            "Epoch 206/500\n",
            "30/30 [==============================] - 4s 121ms/step - loss: 15.7654 - mae: 16.2539\n",
            "Epoch 207/500\n",
            "30/30 [==============================] - 4s 119ms/step - loss: 15.8033 - mae: 16.2915\n",
            "Epoch 208/500\n",
            "30/30 [==============================] - 4s 121ms/step - loss: 15.7580 - mae: 16.2461\n",
            "Epoch 209/500\n",
            "30/30 [==============================] - 4s 122ms/step - loss: 15.7541 - mae: 16.2420\n",
            "Epoch 210/500\n",
            "30/30 [==============================] - 4s 119ms/step - loss: 15.9135 - mae: 16.4019\n",
            "Epoch 211/500\n",
            "30/30 [==============================] - 4s 119ms/step - loss: 16.0859 - mae: 16.5750\n",
            "Epoch 212/500\n",
            "30/30 [==============================] - 4s 120ms/step - loss: 15.7314 - mae: 16.2197\n",
            "Epoch 213/500\n",
            "30/30 [==============================] - 4s 119ms/step - loss: 15.8841 - mae: 16.3725\n",
            "Epoch 214/500\n",
            "30/30 [==============================] - 4s 119ms/step - loss: 15.7191 - mae: 16.2073\n",
            "Epoch 215/500\n",
            "30/30 [==============================] - 4s 118ms/step - loss: 15.6925 - mae: 16.1805\n",
            "Epoch 216/500\n",
            "30/30 [==============================] - 4s 119ms/step - loss: 15.9664 - mae: 16.4547\n",
            "Epoch 217/500\n",
            "30/30 [==============================] - 4s 119ms/step - loss: 15.8370 - mae: 16.3251\n",
            "Epoch 218/500\n",
            "30/30 [==============================] - 4s 119ms/step - loss: 15.6634 - mae: 16.1513\n",
            "Epoch 219/500\n",
            "30/30 [==============================] - 4s 119ms/step - loss: 15.7214 - mae: 16.2096\n",
            "Epoch 220/500\n",
            "30/30 [==============================] - 4s 119ms/step - loss: 15.7008 - mae: 16.1890\n",
            "Epoch 221/500\n",
            "30/30 [==============================] - 4s 119ms/step - loss: 15.7316 - mae: 16.2194\n",
            "Epoch 222/500\n",
            "30/30 [==============================] - 4s 119ms/step - loss: 15.6619 - mae: 16.1500\n",
            "Epoch 223/500\n",
            "30/30 [==============================] - 4s 120ms/step - loss: 15.7795 - mae: 16.2677\n",
            "Epoch 224/500\n",
            "30/30 [==============================] - 4s 118ms/step - loss: 15.6842 - mae: 16.1721\n",
            "Epoch 225/500\n",
            "30/30 [==============================] - 4s 119ms/step - loss: 15.6519 - mae: 16.1399\n",
            "Epoch 226/500\n",
            "30/30 [==============================] - 4s 119ms/step - loss: 15.7233 - mae: 16.2117\n",
            "Epoch 227/500\n",
            "30/30 [==============================] - 4s 117ms/step - loss: 15.6593 - mae: 16.1469\n",
            "Epoch 228/500\n",
            "30/30 [==============================] - 4s 118ms/step - loss: 15.7805 - mae: 16.2689\n",
            "Epoch 229/500\n",
            "30/30 [==============================] - 4s 117ms/step - loss: 15.7779 - mae: 16.2663\n",
            "Epoch 230/500\n",
            "30/30 [==============================] - 4s 117ms/step - loss: 15.6503 - mae: 16.1382\n",
            "Epoch 231/500\n",
            "30/30 [==============================] - 4s 120ms/step - loss: 15.6186 - mae: 16.1066\n",
            "Epoch 232/500\n",
            "30/30 [==============================] - 4s 118ms/step - loss: 15.5725 - mae: 16.0602\n",
            "Epoch 233/500\n",
            "30/30 [==============================] - 4s 118ms/step - loss: 15.6004 - mae: 16.0882\n",
            "Epoch 234/500\n",
            "30/30 [==============================] - 4s 120ms/step - loss: 15.7522 - mae: 16.2402\n",
            "Epoch 235/500\n",
            "30/30 [==============================] - 4s 119ms/step - loss: 15.6245 - mae: 16.1124\n",
            "Epoch 236/500\n",
            "30/30 [==============================] - 4s 119ms/step - loss: 15.6079 - mae: 16.0958\n",
            "Epoch 237/500\n",
            "30/30 [==============================] - 4s 118ms/step - loss: 15.5996 - mae: 16.0874\n",
            "Epoch 238/500\n",
            "30/30 [==============================] - 4s 118ms/step - loss: 15.8153 - mae: 16.3036\n",
            "Epoch 239/500\n",
            "30/30 [==============================] - 4s 119ms/step - loss: 15.9816 - mae: 16.4699\n",
            "Epoch 240/500\n",
            "30/30 [==============================] - 4s 117ms/step - loss: 15.7028 - mae: 16.1914\n",
            "Epoch 241/500\n",
            "30/30 [==============================] - 3s 117ms/step - loss: 15.7268 - mae: 16.2154\n",
            "Epoch 242/500\n",
            "30/30 [==============================] - 4s 117ms/step - loss: 15.6700 - mae: 16.1585\n",
            "Epoch 243/500\n",
            "30/30 [==============================] - 4s 118ms/step - loss: 15.7748 - mae: 16.2630\n",
            "Epoch 244/500\n",
            "30/30 [==============================] - 3s 116ms/step - loss: 15.5246 - mae: 16.0120\n",
            "Epoch 245/500\n",
            "30/30 [==============================] - 4s 117ms/step - loss: 15.5516 - mae: 16.0393\n",
            "Epoch 246/500\n",
            "30/30 [==============================] - 4s 117ms/step - loss: 15.5421 - mae: 16.0299\n",
            "Epoch 247/500\n",
            "30/30 [==============================] - 4s 117ms/step - loss: 15.5341 - mae: 16.0222\n",
            "Epoch 248/500\n",
            "30/30 [==============================] - 4s 119ms/step - loss: 15.6176 - mae: 16.1053\n",
            "Epoch 249/500\n",
            "30/30 [==============================] - 4s 118ms/step - loss: 16.0864 - mae: 16.5751\n",
            "Epoch 250/500\n",
            "30/30 [==============================] - 4s 118ms/step - loss: 15.6568 - mae: 16.1449\n",
            "Epoch 251/500\n",
            "30/30 [==============================] - 3s 116ms/step - loss: 15.6336 - mae: 16.1214\n",
            "Epoch 252/500\n",
            "30/30 [==============================] - 4s 117ms/step - loss: 15.5907 - mae: 16.0786\n",
            "Epoch 253/500\n",
            "30/30 [==============================] - 4s 118ms/step - loss: 15.4863 - mae: 15.9739\n",
            "Epoch 254/500\n",
            "30/30 [==============================] - 4s 117ms/step - loss: 15.5521 - mae: 16.0398\n",
            "Epoch 255/500\n",
            "30/30 [==============================] - 4s 119ms/step - loss: 15.5774 - mae: 16.0651\n",
            "Epoch 256/500\n",
            "30/30 [==============================] - 4s 117ms/step - loss: 15.4965 - mae: 15.9840\n",
            "Epoch 257/500\n",
            "30/30 [==============================] - 4s 117ms/step - loss: 15.4652 - mae: 15.9527\n",
            "Epoch 258/500\n",
            "30/30 [==============================] - 3s 116ms/step - loss: 15.4426 - mae: 15.9297\n",
            "Epoch 259/500\n",
            "30/30 [==============================] - 4s 118ms/step - loss: 15.4783 - mae: 15.9656\n",
            "Epoch 260/500\n",
            "30/30 [==============================] - 3s 116ms/step - loss: 15.5441 - mae: 16.0318\n",
            "Epoch 261/500\n",
            "30/30 [==============================] - 3s 116ms/step - loss: 15.4309 - mae: 15.9181\n",
            "Epoch 262/500\n",
            "30/30 [==============================] - 4s 118ms/step - loss: 15.4667 - mae: 15.9542\n",
            "Epoch 263/500\n",
            "30/30 [==============================] - 4s 118ms/step - loss: 15.5022 - mae: 15.9900\n",
            "Epoch 264/500\n",
            "30/30 [==============================] - 4s 118ms/step - loss: 15.4773 - mae: 15.9647\n",
            "Epoch 265/500\n",
            "30/30 [==============================] - 3s 117ms/step - loss: 15.4503 - mae: 15.9380\n",
            "Epoch 266/500\n",
            "30/30 [==============================] - 4s 117ms/step - loss: 15.4643 - mae: 15.9516\n",
            "Epoch 267/500\n",
            "30/30 [==============================] - 4s 118ms/step - loss: 15.4604 - mae: 15.9478\n",
            "Epoch 268/500\n",
            "30/30 [==============================] - 4s 118ms/step - loss: 15.5028 - mae: 15.9902\n",
            "Epoch 269/500\n",
            "30/30 [==============================] - 4s 117ms/step - loss: 15.3686 - mae: 15.8555\n",
            "Epoch 270/500\n",
            "30/30 [==============================] - 4s 119ms/step - loss: 15.4611 - mae: 15.9487\n",
            "Epoch 271/500\n",
            "30/30 [==============================] - 4s 119ms/step - loss: 15.3934 - mae: 15.8805\n",
            "Epoch 272/500\n",
            "30/30 [==============================] - 4s 117ms/step - loss: 15.4220 - mae: 15.9093\n",
            "Epoch 273/500\n",
            "30/30 [==============================] - 4s 119ms/step - loss: 15.3855 - mae: 15.8724\n",
            "Epoch 274/500\n",
            "30/30 [==============================] - 4s 117ms/step - loss: 15.4416 - mae: 15.9290\n",
            "Epoch 275/500\n",
            "30/30 [==============================] - 4s 118ms/step - loss: 15.3945 - mae: 15.8818\n",
            "Epoch 276/500\n",
            "30/30 [==============================] - 4s 118ms/step - loss: 15.4002 - mae: 15.8876\n",
            "Epoch 277/500\n",
            "30/30 [==============================] - 4s 118ms/step - loss: 15.6049 - mae: 16.0925\n",
            "Epoch 278/500\n",
            "30/30 [==============================] - 4s 119ms/step - loss: 15.4454 - mae: 15.9326\n",
            "Epoch 279/500\n",
            "30/30 [==============================] - 4s 119ms/step - loss: 15.3608 - mae: 15.8479\n",
            "Epoch 280/500\n",
            "30/30 [==============================] - 4s 117ms/step - loss: 15.5121 - mae: 15.9996\n",
            "Epoch 281/500\n",
            "30/30 [==============================] - 4s 119ms/step - loss: 15.3579 - mae: 15.8451\n",
            "Epoch 282/500\n",
            "30/30 [==============================] - 4s 120ms/step - loss: 15.4296 - mae: 15.9166\n",
            "Epoch 283/500\n",
            "30/30 [==============================] - 4s 119ms/step - loss: 15.3591 - mae: 15.8460\n",
            "Epoch 284/500\n",
            "30/30 [==============================] - 4s 119ms/step - loss: 15.3806 - mae: 15.8679\n",
            "Epoch 285/500\n",
            "30/30 [==============================] - 4s 119ms/step - loss: 15.3421 - mae: 15.8290\n",
            "Epoch 286/500\n",
            "30/30 [==============================] - 4s 120ms/step - loss: 15.4958 - mae: 15.9831\n",
            "Epoch 287/500\n",
            "30/30 [==============================] - 4s 120ms/step - loss: 15.3361 - mae: 15.8232\n",
            "Epoch 288/500\n",
            "30/30 [==============================] - 4s 118ms/step - loss: 15.4462 - mae: 15.9332\n",
            "Epoch 289/500\n",
            "30/30 [==============================] - 4s 120ms/step - loss: 15.5233 - mae: 16.0109\n",
            "Epoch 290/500\n",
            "30/30 [==============================] - 4s 119ms/step - loss: 15.3242 - mae: 15.8111\n",
            "Epoch 291/500\n",
            "30/30 [==============================] - 4s 119ms/step - loss: 15.5646 - mae: 16.0520\n",
            "Epoch 292/500\n",
            "30/30 [==============================] - 4s 119ms/step - loss: 15.3749 - mae: 15.8622\n",
            "Epoch 293/500\n",
            "30/30 [==============================] - 4s 119ms/step - loss: 15.3057 - mae: 15.7927\n",
            "Epoch 294/500\n",
            "30/30 [==============================] - 4s 119ms/step - loss: 15.3237 - mae: 15.8104\n",
            "Epoch 295/500\n",
            "30/30 [==============================] - 4s 120ms/step - loss: 15.3761 - mae: 15.8630\n",
            "Epoch 296/500\n",
            "30/30 [==============================] - 4s 118ms/step - loss: 15.3336 - mae: 15.8206\n",
            "Epoch 297/500\n",
            "30/30 [==============================] - 4s 120ms/step - loss: 15.4162 - mae: 15.9033\n",
            "Epoch 298/500\n",
            "30/30 [==============================] - 4s 119ms/step - loss: 15.4578 - mae: 15.9453\n",
            "Epoch 299/500\n",
            "30/30 [==============================] - 4s 119ms/step - loss: 15.3420 - mae: 15.8290\n",
            "Epoch 300/500\n",
            "30/30 [==============================] - 4s 120ms/step - loss: 15.2980 - mae: 15.7848\n",
            "Epoch 301/500\n",
            "30/30 [==============================] - 4s 119ms/step - loss: 15.2867 - mae: 15.7735\n",
            "Epoch 302/500\n",
            "30/30 [==============================] - 4s 119ms/step - loss: 15.3236 - mae: 15.8102\n",
            "Epoch 303/500\n",
            "30/30 [==============================] - 4s 121ms/step - loss: 15.4813 - mae: 15.9688\n",
            "Epoch 304/500\n",
            "30/30 [==============================] - 4s 119ms/step - loss: 15.3451 - mae: 15.8323\n",
            "Epoch 305/500\n",
            "30/30 [==============================] - 4s 120ms/step - loss: 15.2359 - mae: 15.7224\n",
            "Epoch 306/500\n",
            "30/30 [==============================] - 4s 120ms/step - loss: 15.2519 - mae: 15.7388\n",
            "Epoch 307/500\n",
            "30/30 [==============================] - 4s 119ms/step - loss: 15.3215 - mae: 15.8085\n",
            "Epoch 308/500\n",
            "30/30 [==============================] - 4s 119ms/step - loss: 15.2636 - mae: 15.7502\n",
            "Epoch 309/500\n",
            "30/30 [==============================] - 4s 119ms/step - loss: 15.3606 - mae: 15.8476\n",
            "Epoch 310/500\n",
            "30/30 [==============================] - 4s 119ms/step - loss: 15.3440 - mae: 15.8310\n",
            "Epoch 311/500\n",
            "30/30 [==============================] - 4s 118ms/step - loss: 15.5833 - mae: 16.0709\n",
            "Epoch 312/500\n",
            "30/30 [==============================] - 4s 119ms/step - loss: 15.3457 - mae: 15.8325\n",
            "Epoch 313/500\n",
            "30/30 [==============================] - 4s 119ms/step - loss: 15.2161 - mae: 15.7029\n",
            "Epoch 314/500\n",
            "30/30 [==============================] - 4s 120ms/step - loss: 15.2597 - mae: 15.7462\n",
            "Epoch 315/500\n",
            "30/30 [==============================] - 4s 119ms/step - loss: 15.2697 - mae: 15.7562\n",
            "Epoch 316/500\n",
            "30/30 [==============================] - 4s 121ms/step - loss: 15.2623 - mae: 15.7490\n",
            "Epoch 317/500\n",
            "30/30 [==============================] - 4s 120ms/step - loss: 15.1918 - mae: 15.6782\n",
            "Epoch 318/500\n",
            "30/30 [==============================] - 4s 120ms/step - loss: 15.2952 - mae: 15.7822\n",
            "Epoch 319/500\n",
            "30/30 [==============================] - 4s 120ms/step - loss: 15.5334 - mae: 16.0207\n",
            "Epoch 320/500\n",
            "30/30 [==============================] - 4s 120ms/step - loss: 15.2394 - mae: 15.7261\n",
            "Epoch 321/500\n",
            "30/30 [==============================] - 4s 119ms/step - loss: 15.2010 - mae: 15.6875\n",
            "Epoch 322/500\n",
            "30/30 [==============================] - 4s 121ms/step - loss: 15.5047 - mae: 15.9919\n",
            "Epoch 323/500\n",
            "30/30 [==============================] - 4s 119ms/step - loss: 15.2416 - mae: 15.7286\n",
            "Epoch 324/500\n",
            "30/30 [==============================] - 4s 119ms/step - loss: 15.1575 - mae: 15.6441\n",
            "Epoch 325/500\n",
            "30/30 [==============================] - 4s 119ms/step - loss: 15.1675 - mae: 15.6542\n",
            "Epoch 326/500\n",
            "30/30 [==============================] - 4s 120ms/step - loss: 15.2042 - mae: 15.6903\n",
            "Epoch 327/500\n",
            "30/30 [==============================] - 4s 119ms/step - loss: 15.2018 - mae: 15.6882\n",
            "Epoch 328/500\n",
            "30/30 [==============================] - 4s 118ms/step - loss: 15.1906 - mae: 15.6772\n",
            "Epoch 329/500\n",
            "30/30 [==============================] - 4s 119ms/step - loss: 15.1508 - mae: 15.6372\n",
            "Epoch 330/500\n",
            "30/30 [==============================] - 4s 119ms/step - loss: 15.1874 - mae: 15.6739\n",
            "Epoch 331/500\n",
            "30/30 [==============================] - 4s 118ms/step - loss: 15.1936 - mae: 15.6803\n",
            "Epoch 332/500\n",
            "30/30 [==============================] - 4s 118ms/step - loss: 15.1725 - mae: 15.6587\n",
            "Epoch 333/500\n",
            "30/30 [==============================] - 4s 119ms/step - loss: 15.2142 - mae: 15.7010\n",
            "Epoch 334/500\n",
            "30/30 [==============================] - 4s 118ms/step - loss: 15.1212 - mae: 15.6074\n",
            "Epoch 335/500\n",
            "30/30 [==============================] - 4s 118ms/step - loss: 15.0948 - mae: 15.5811\n",
            "Epoch 336/500\n",
            "30/30 [==============================] - 4s 119ms/step - loss: 15.1128 - mae: 15.5991\n",
            "Epoch 337/500\n",
            "30/30 [==============================] - 4s 119ms/step - loss: 15.2136 - mae: 15.7005\n",
            "Epoch 338/500\n",
            "30/30 [==============================] - 4s 120ms/step - loss: 15.2276 - mae: 15.7142\n",
            "Epoch 339/500\n",
            "30/30 [==============================] - 4s 119ms/step - loss: 15.1558 - mae: 15.6424\n",
            "Epoch 340/500\n",
            "30/30 [==============================] - 4s 118ms/step - loss: 15.0819 - mae: 15.5681\n",
            "Epoch 341/500\n",
            "30/30 [==============================] - 4s 120ms/step - loss: 15.2707 - mae: 15.7578\n",
            "Epoch 342/500\n",
            "30/30 [==============================] - 4s 120ms/step - loss: 15.0749 - mae: 15.5613\n",
            "Epoch 343/500\n",
            "30/30 [==============================] - 4s 118ms/step - loss: 15.1700 - mae: 15.6567\n",
            "Epoch 344/500\n",
            "30/30 [==============================] - 4s 120ms/step - loss: 15.2284 - mae: 15.7154\n",
            "Epoch 345/500\n",
            "30/30 [==============================] - 4s 120ms/step - loss: 15.0976 - mae: 15.5840\n",
            "Epoch 346/500\n",
            "30/30 [==============================] - 4s 119ms/step - loss: 15.0972 - mae: 15.5837\n",
            "Epoch 347/500\n",
            "30/30 [==============================] - 4s 119ms/step - loss: 15.1646 - mae: 15.6513\n",
            "Epoch 348/500\n",
            "30/30 [==============================] - 4s 119ms/step - loss: 15.1567 - mae: 15.6433\n",
            "Epoch 349/500\n",
            "30/30 [==============================] - 4s 120ms/step - loss: 15.1056 - mae: 15.5919\n",
            "Epoch 350/500\n",
            "30/30 [==============================] - 4s 119ms/step - loss: 15.0563 - mae: 15.5425\n",
            "Epoch 351/500\n",
            "30/30 [==============================] - 4s 118ms/step - loss: 15.1741 - mae: 15.6605\n",
            "Epoch 352/500\n",
            "30/30 [==============================] - 4s 119ms/step - loss: 15.6008 - mae: 16.0886\n",
            "Epoch 353/500\n",
            "30/30 [==============================] - 4s 120ms/step - loss: 15.2557 - mae: 15.7425\n",
            "Epoch 354/500\n",
            "30/30 [==============================] - 4s 119ms/step - loss: 15.1092 - mae: 15.5958\n",
            "Epoch 355/500\n",
            "30/30 [==============================] - 4s 120ms/step - loss: 15.0936 - mae: 15.5799\n",
            "Epoch 356/500\n",
            "30/30 [==============================] - 4s 119ms/step - loss: 15.1258 - mae: 15.6125\n",
            "Epoch 357/500\n",
            "30/30 [==============================] - 4s 117ms/step - loss: 15.1400 - mae: 15.6265\n",
            "Epoch 358/500\n",
            "30/30 [==============================] - 4s 120ms/step - loss: 15.9212 - mae: 16.4093\n",
            "Epoch 359/500\n",
            "30/30 [==============================] - 4s 118ms/step - loss: 15.1226 - mae: 15.6092\n",
            "Epoch 360/500\n",
            "30/30 [==============================] - 4s 119ms/step - loss: 15.1458 - mae: 15.6331\n",
            "Epoch 361/500\n",
            "30/30 [==============================] - 4s 119ms/step - loss: 15.0319 - mae: 15.5180\n",
            "Epoch 362/500\n",
            "30/30 [==============================] - 4s 118ms/step - loss: 15.1801 - mae: 15.6666\n",
            "Epoch 363/500\n",
            "30/30 [==============================] - 4s 118ms/step - loss: 15.3791 - mae: 15.8668\n",
            "Epoch 364/500\n",
            "30/30 [==============================] - 4s 119ms/step - loss: 15.0436 - mae: 15.5299\n",
            "Epoch 365/500\n",
            "30/30 [==============================] - 4s 117ms/step - loss: 14.9930 - mae: 15.4790\n",
            "Epoch 366/500\n",
            "30/30 [==============================] - 4s 119ms/step - loss: 15.1617 - mae: 15.6483\n",
            "Epoch 367/500\n",
            "30/30 [==============================] - 4s 118ms/step - loss: 15.1729 - mae: 15.6597\n",
            "Epoch 368/500\n",
            "30/30 [==============================] - 4s 119ms/step - loss: 15.0372 - mae: 15.5234\n",
            "Epoch 369/500\n",
            "30/30 [==============================] - 4s 120ms/step - loss: 15.0574 - mae: 15.5436\n",
            "Epoch 370/500\n",
            "30/30 [==============================] - 4s 120ms/step - loss: 15.3335 - mae: 15.8206\n",
            "Epoch 371/500\n",
            "30/30 [==============================] - 4s 119ms/step - loss: 14.9876 - mae: 15.4737\n",
            "Epoch 372/500\n",
            "30/30 [==============================] - 4s 118ms/step - loss: 14.9909 - mae: 15.4772\n",
            "Epoch 373/500\n",
            "30/30 [==============================] - 4s 118ms/step - loss: 15.1486 - mae: 15.6349\n",
            "Epoch 374/500\n",
            "30/30 [==============================] - 4s 119ms/step - loss: 15.1057 - mae: 15.5925\n",
            "Epoch 375/500\n",
            "30/30 [==============================] - 4s 118ms/step - loss: 15.0510 - mae: 15.5374\n",
            "Epoch 376/500\n",
            "30/30 [==============================] - 4s 119ms/step - loss: 15.0019 - mae: 15.4882\n",
            "Epoch 377/500\n",
            "30/30 [==============================] - 4s 119ms/step - loss: 15.2101 - mae: 15.6968\n",
            "Epoch 378/500\n",
            "30/30 [==============================] - 4s 119ms/step - loss: 15.2111 - mae: 15.6982\n",
            "Epoch 379/500\n",
            "30/30 [==============================] - 4s 118ms/step - loss: 15.0252 - mae: 15.5118\n",
            "Epoch 380/500\n",
            "30/30 [==============================] - 4s 119ms/step - loss: 14.9164 - mae: 15.4027\n",
            "Epoch 381/500\n",
            "30/30 [==============================] - 4s 119ms/step - loss: 14.9544 - mae: 15.4402\n",
            "Epoch 382/500\n",
            "30/30 [==============================] - 4s 119ms/step - loss: 15.2295 - mae: 15.7162\n",
            "Epoch 383/500\n",
            "30/30 [==============================] - 4s 119ms/step - loss: 14.9785 - mae: 15.4650\n",
            "Epoch 384/500\n",
            "30/30 [==============================] - 4s 119ms/step - loss: 14.9342 - mae: 15.4202\n",
            "Epoch 385/500\n",
            "30/30 [==============================] - 4s 119ms/step - loss: 14.9818 - mae: 15.4678\n",
            "Epoch 386/500\n",
            "30/30 [==============================] - 4s 119ms/step - loss: 15.0771 - mae: 15.5638\n",
            "Epoch 387/500\n",
            "30/30 [==============================] - 4s 118ms/step - loss: 14.9243 - mae: 15.4100\n",
            "Epoch 388/500\n",
            "30/30 [==============================] - 4s 118ms/step - loss: 14.9698 - mae: 15.4558\n",
            "Epoch 389/500\n",
            "30/30 [==============================] - 4s 118ms/step - loss: 14.9597 - mae: 15.4458\n",
            "Epoch 390/500\n",
            "30/30 [==============================] - 4s 119ms/step - loss: 14.9713 - mae: 15.4575\n",
            "Epoch 391/500\n",
            "30/30 [==============================] - 4s 118ms/step - loss: 14.9889 - mae: 15.4753\n",
            "Epoch 392/500\n",
            "30/30 [==============================] - 4s 118ms/step - loss: 14.8967 - mae: 15.3823\n",
            "Epoch 393/500\n",
            "30/30 [==============================] - 4s 117ms/step - loss: 15.1342 - mae: 15.6210\n",
            "Epoch 394/500\n",
            "30/30 [==============================] - 4s 119ms/step - loss: 14.9365 - mae: 15.4222\n",
            "Epoch 395/500\n",
            "30/30 [==============================] - 4s 119ms/step - loss: 14.9039 - mae: 15.3899\n",
            "Epoch 396/500\n",
            "30/30 [==============================] - 4s 119ms/step - loss: 14.9705 - mae: 15.4565\n",
            "Epoch 397/500\n",
            "30/30 [==============================] - 4s 121ms/step - loss: 14.9663 - mae: 15.4523\n",
            "Epoch 398/500\n",
            "30/30 [==============================] - 4s 121ms/step - loss: 15.0082 - mae: 15.4940\n",
            "Epoch 399/500\n",
            "30/30 [==============================] - 4s 120ms/step - loss: 14.9659 - mae: 15.4523\n",
            "Epoch 400/500\n",
            "30/30 [==============================] - 4s 118ms/step - loss: 14.9953 - mae: 15.4814\n",
            "Epoch 401/500\n",
            "30/30 [==============================] - 4s 119ms/step - loss: 14.9458 - mae: 15.4317\n",
            "Epoch 402/500\n",
            "30/30 [==============================] - 4s 119ms/step - loss: 14.9775 - mae: 15.4636\n",
            "Epoch 403/500\n",
            "30/30 [==============================] - 4s 118ms/step - loss: 14.8762 - mae: 15.3620\n",
            "Epoch 404/500\n",
            "30/30 [==============================] - 4s 119ms/step - loss: 14.8850 - mae: 15.3711\n",
            "Epoch 405/500\n",
            "30/30 [==============================] - 4s 120ms/step - loss: 14.9468 - mae: 15.4332\n",
            "Epoch 406/500\n",
            "30/30 [==============================] - 4s 118ms/step - loss: 14.8464 - mae: 15.3325\n",
            "Epoch 407/500\n",
            "30/30 [==============================] - 4s 119ms/step - loss: 14.8671 - mae: 15.3527\n",
            "Epoch 408/500\n",
            "30/30 [==============================] - 4s 119ms/step - loss: 14.8454 - mae: 15.3314\n",
            "Epoch 409/500\n",
            "30/30 [==============================] - 4s 119ms/step - loss: 14.8211 - mae: 15.3067\n",
            "Epoch 410/500\n",
            "30/30 [==============================] - 4s 118ms/step - loss: 15.0858 - mae: 15.5728\n",
            "Epoch 411/500\n",
            "30/30 [==============================] - 4s 117ms/step - loss: 14.8441 - mae: 15.3300\n",
            "Epoch 412/500\n",
            "30/30 [==============================] - 4s 119ms/step - loss: 14.8581 - mae: 15.3441\n",
            "Epoch 413/500\n",
            "30/30 [==============================] - 4s 118ms/step - loss: 14.8027 - mae: 15.2884\n",
            "Epoch 414/500\n",
            "30/30 [==============================] - 4s 118ms/step - loss: 14.9479 - mae: 15.4338\n",
            "Epoch 415/500\n",
            "30/30 [==============================] - 4s 118ms/step - loss: 14.8992 - mae: 15.3852\n",
            "Epoch 416/500\n",
            "30/30 [==============================] - 4s 119ms/step - loss: 15.6033 - mae: 16.0906\n",
            "Epoch 417/500\n",
            "30/30 [==============================] - 4s 120ms/step - loss: 15.4651 - mae: 15.9525\n",
            "Epoch 418/500\n",
            "30/30 [==============================] - 4s 119ms/step - loss: 14.9536 - mae: 15.4398\n",
            "Epoch 419/500\n",
            "30/30 [==============================] - 4s 118ms/step - loss: 14.8197 - mae: 15.3052\n",
            "Epoch 420/500\n",
            "30/30 [==============================] - 4s 119ms/step - loss: 14.8604 - mae: 15.3464\n",
            "Epoch 421/500\n",
            "30/30 [==============================] - 4s 120ms/step - loss: 14.8333 - mae: 15.3196\n",
            "Epoch 422/500\n",
            "30/30 [==============================] - 4s 119ms/step - loss: 14.8664 - mae: 15.3521\n",
            "Epoch 423/500\n",
            "30/30 [==============================] - 4s 117ms/step - loss: 14.7744 - mae: 15.2600\n",
            "Epoch 424/500\n",
            "30/30 [==============================] - 4s 118ms/step - loss: 14.7828 - mae: 15.2685\n",
            "Epoch 425/500\n",
            "30/30 [==============================] - 4s 118ms/step - loss: 14.7789 - mae: 15.2643\n",
            "Epoch 426/500\n",
            "30/30 [==============================] - 4s 118ms/step - loss: 14.9010 - mae: 15.3871\n",
            "Epoch 427/500\n",
            "30/30 [==============================] - 4s 117ms/step - loss: 14.8785 - mae: 15.3642\n",
            "Epoch 428/500\n",
            "30/30 [==============================] - 4s 118ms/step - loss: 14.8047 - mae: 15.2902\n",
            "Epoch 429/500\n",
            "30/30 [==============================] - 4s 119ms/step - loss: 14.9361 - mae: 15.4223\n",
            "Epoch 430/500\n",
            "30/30 [==============================] - 4s 118ms/step - loss: 14.7419 - mae: 15.2273\n",
            "Epoch 431/500\n",
            "30/30 [==============================] - 4s 118ms/step - loss: 14.8510 - mae: 15.3371\n",
            "Epoch 432/500\n",
            "30/30 [==============================] - 4s 120ms/step - loss: 14.7897 - mae: 15.2754\n",
            "Epoch 433/500\n",
            "30/30 [==============================] - 4s 119ms/step - loss: 15.1191 - mae: 15.6059\n",
            "Epoch 434/500\n",
            "30/30 [==============================] - 4s 118ms/step - loss: 14.7761 - mae: 15.2619\n",
            "Epoch 435/500\n",
            "30/30 [==============================] - 4s 119ms/step - loss: 14.7621 - mae: 15.2482\n",
            "Epoch 436/500\n",
            "30/30 [==============================] - 4s 120ms/step - loss: 14.8560 - mae: 15.3420\n",
            "Epoch 437/500\n",
            "30/30 [==============================] - 4s 120ms/step - loss: 14.9359 - mae: 15.4222\n",
            "Epoch 438/500\n",
            "30/30 [==============================] - 4s 119ms/step - loss: 14.9169 - mae: 15.4028\n",
            "Epoch 439/500\n",
            "30/30 [==============================] - 4s 119ms/step - loss: 14.7738 - mae: 15.2592\n",
            "Epoch 440/500\n",
            "30/30 [==============================] - 4s 120ms/step - loss: 14.7837 - mae: 15.2696\n",
            "Epoch 441/500\n",
            "30/30 [==============================] - 4s 119ms/step - loss: 14.7750 - mae: 15.2607\n",
            "Epoch 442/500\n",
            "30/30 [==============================] - 4s 118ms/step - loss: 14.7531 - mae: 15.2391\n",
            "Epoch 443/500\n",
            "30/30 [==============================] - 4s 120ms/step - loss: 14.7648 - mae: 15.2505\n",
            "Epoch 444/500\n",
            "30/30 [==============================] - 4s 119ms/step - loss: 14.6797 - mae: 15.1651\n",
            "Epoch 445/500\n",
            "30/30 [==============================] - 4s 118ms/step - loss: 14.8609 - mae: 15.3465\n",
            "Epoch 446/500\n",
            "30/30 [==============================] - 4s 120ms/step - loss: 14.8096 - mae: 15.2960\n",
            "Epoch 447/500\n",
            "30/30 [==============================] - 4s 117ms/step - loss: 14.6769 - mae: 15.1624\n",
            "Epoch 448/500\n",
            "30/30 [==============================] - 4s 120ms/step - loss: 14.7606 - mae: 15.2460\n",
            "Epoch 449/500\n",
            "30/30 [==============================] - 4s 120ms/step - loss: 14.8520 - mae: 15.3374\n",
            "Epoch 450/500\n",
            "30/30 [==============================] - 4s 120ms/step - loss: 14.7675 - mae: 15.2531\n",
            "Epoch 451/500\n",
            "30/30 [==============================] - 4s 120ms/step - loss: 14.7163 - mae: 15.2019\n",
            "Epoch 452/500\n",
            "30/30 [==============================] - 4s 118ms/step - loss: 14.6465 - mae: 15.1319\n",
            "Epoch 453/500\n",
            "30/30 [==============================] - 4s 119ms/step - loss: 14.8747 - mae: 15.3607\n",
            "Epoch 454/500\n",
            "30/30 [==============================] - 4s 120ms/step - loss: 15.5274 - mae: 16.0149\n",
            "Epoch 455/500\n",
            "30/30 [==============================] - 4s 118ms/step - loss: 14.7220 - mae: 15.2076\n",
            "Epoch 456/500\n",
            "30/30 [==============================] - 4s 118ms/step - loss: 14.7285 - mae: 15.2145\n",
            "Epoch 457/500\n",
            "30/30 [==============================] - 4s 119ms/step - loss: 14.7745 - mae: 15.2603\n",
            "Epoch 458/500\n",
            "30/30 [==============================] - 4s 119ms/step - loss: 14.8257 - mae: 15.3117\n",
            "Epoch 459/500\n",
            "30/30 [==============================] - 4s 117ms/step - loss: 14.6195 - mae: 15.1049\n",
            "Epoch 460/500\n",
            "30/30 [==============================] - 4s 119ms/step - loss: 14.6527 - mae: 15.1388\n",
            "Epoch 461/500\n",
            "30/30 [==============================] - 4s 118ms/step - loss: 14.7381 - mae: 15.2239\n",
            "Epoch 462/500\n",
            "30/30 [==============================] - 4s 119ms/step - loss: 14.7568 - mae: 15.2428\n",
            "Epoch 463/500\n",
            "30/30 [==============================] - 4s 118ms/step - loss: 14.6226 - mae: 15.1082\n",
            "Epoch 464/500\n",
            "30/30 [==============================] - 4s 117ms/step - loss: 14.5814 - mae: 15.0671\n",
            "Epoch 465/500\n",
            "30/30 [==============================] - 4s 119ms/step - loss: 14.5901 - mae: 15.0759\n",
            "Epoch 466/500\n",
            "30/30 [==============================] - 4s 118ms/step - loss: 14.7313 - mae: 15.2172\n",
            "Epoch 467/500\n",
            "30/30 [==============================] - 4s 119ms/step - loss: 14.5958 - mae: 15.0813\n",
            "Epoch 468/500\n",
            "30/30 [==============================] - 4s 120ms/step - loss: 14.6297 - mae: 15.1153\n",
            "Epoch 469/500\n",
            "30/30 [==============================] - 4s 119ms/step - loss: 14.7106 - mae: 15.1965\n",
            "Epoch 470/500\n",
            "30/30 [==============================] - 4s 120ms/step - loss: 14.5893 - mae: 15.0745\n",
            "Epoch 471/500\n",
            "30/30 [==============================] - 4s 118ms/step - loss: 14.7826 - mae: 15.2687\n",
            "Epoch 472/500\n",
            "30/30 [==============================] - 4s 119ms/step - loss: 14.8240 - mae: 15.3101\n",
            "Epoch 473/500\n",
            "30/30 [==============================] - 4s 119ms/step - loss: 14.6014 - mae: 15.0873\n",
            "Epoch 474/500\n",
            "30/30 [==============================] - 4s 119ms/step - loss: 14.5591 - mae: 15.0441\n",
            "Epoch 475/500\n",
            "30/30 [==============================] - 4s 119ms/step - loss: 14.6413 - mae: 15.1270\n",
            "Epoch 476/500\n",
            "30/30 [==============================] - 4s 120ms/step - loss: 14.5960 - mae: 15.0817\n",
            "Epoch 477/500\n",
            "30/30 [==============================] - 4s 119ms/step - loss: 14.6395 - mae: 15.1250\n",
            "Epoch 478/500\n",
            "30/30 [==============================] - 4s 120ms/step - loss: 15.1086 - mae: 15.5952\n",
            "Epoch 479/500\n",
            "30/30 [==============================] - 4s 122ms/step - loss: 14.6723 - mae: 15.1582\n",
            "Epoch 480/500\n",
            "30/30 [==============================] - 4s 121ms/step - loss: 14.6293 - mae: 15.1149\n",
            "Epoch 481/500\n",
            "30/30 [==============================] - 4s 119ms/step - loss: 14.5325 - mae: 15.0178\n",
            "Epoch 482/500\n",
            "30/30 [==============================] - 4s 119ms/step - loss: 14.5425 - mae: 15.0278\n",
            "Epoch 483/500\n",
            "30/30 [==============================] - 4s 119ms/step - loss: 14.5095 - mae: 14.9946\n",
            "Epoch 484/500\n",
            "30/30 [==============================] - 4s 120ms/step - loss: 14.5721 - mae: 15.0577\n",
            "Epoch 485/500\n",
            "30/30 [==============================] - 4s 119ms/step - loss: 14.6438 - mae: 15.1297\n",
            "Epoch 486/500\n",
            "30/30 [==============================] - 4s 119ms/step - loss: 14.6382 - mae: 15.1239\n",
            "Epoch 487/500\n",
            "30/30 [==============================] - 4s 120ms/step - loss: 14.7561 - mae: 15.2425\n",
            "Epoch 488/500\n",
            "30/30 [==============================] - 4s 119ms/step - loss: 14.5820 - mae: 15.0671\n",
            "Epoch 489/500\n",
            "30/30 [==============================] - 4s 120ms/step - loss: 14.4409 - mae: 14.9261\n",
            "Epoch 490/500\n",
            "30/30 [==============================] - 4s 120ms/step - loss: 14.6375 - mae: 15.1232\n",
            "Epoch 491/500\n",
            "30/30 [==============================] - 4s 119ms/step - loss: 14.6640 - mae: 15.1495\n",
            "Epoch 492/500\n",
            "30/30 [==============================] - 4s 120ms/step - loss: 14.6369 - mae: 15.1226\n",
            "Epoch 493/500\n",
            "30/30 [==============================] - 4s 119ms/step - loss: 14.5721 - mae: 15.0576\n",
            "Epoch 494/500\n",
            "30/30 [==============================] - 4s 120ms/step - loss: 14.5930 - mae: 15.0786\n",
            "Epoch 495/500\n",
            "30/30 [==============================] - 4s 120ms/step - loss: 14.9496 - mae: 15.4361\n",
            "Epoch 496/500\n",
            "30/30 [==============================] - 4s 118ms/step - loss: 14.5117 - mae: 14.9970\n",
            "Epoch 497/500\n",
            "30/30 [==============================] - 4s 120ms/step - loss: 14.6976 - mae: 15.1836\n",
            "Epoch 498/500\n",
            "30/30 [==============================] - 4s 120ms/step - loss: 14.7821 - mae: 15.2683\n",
            "Epoch 499/500\n",
            "30/30 [==============================] - 4s 120ms/step - loss: 14.4341 - mae: 14.9197\n",
            "Epoch 500/500\n",
            "30/30 [==============================] - 4s 120ms/step - loss: 14.5794 - mae: 15.0651\n"
          ],
          "name": "stdout"
        }
      ]
    },
    {
      "cell_type": "code",
      "metadata": {
        "id": "pEU71nVdV4bK",
        "colab_type": "code",
        "colab": {}
      },
      "source": [
        "rnn_forecast = model_forecast(model, series[..., np.newaxis], window_size)\n",
        "rnn_forecast = rnn_forecast[split_time - window_size:-1, -1, 0]"
      ],
      "execution_count": 0,
      "outputs": []
    },
    {
      "cell_type": "code",
      "metadata": {
        "id": "qOsfggyzV6ez",
        "colab_type": "code",
        "colab": {}
      },
      "source": [
        "plt.figure(figsize=(10, 6))\n",
        "plot_series(time_valid, x_valid)\n",
        "plot_series(time_valid, rnn_forecast)"
      ],
      "execution_count": 0,
      "outputs": []
    },
    {
      "cell_type": "code",
      "metadata": {
        "id": "1uQZESqGV7vL",
        "colab_type": "code",
        "colab": {}
      },
      "source": [
        "tf.keras.metrics.mean_absolute_error(x_valid, rnn_forecast).numpy()"
      ],
      "execution_count": 0,
      "outputs": []
    },
    {
      "cell_type": "code",
      "metadata": {
        "id": "nt-ZFvyZV-LC",
        "colab_type": "code",
        "colab": {}
      },
      "source": [
        "import matplotlib.image  as mpimg\n",
        "import matplotlib.pyplot as plt\n",
        "\n",
        "#-----------------------------------------------------------\n",
        "# Retrieve a list of list results on training and test data\n",
        "# sets for each training epoch\n",
        "#-----------------------------------------------------------\n",
        "loss=history.history['loss']\n",
        "\n",
        "epochs=range(len(loss)) # Get number of epochs\n",
        "\n",
        "\n",
        "#------------------------------------------------\n",
        "# Plot training and validation loss per epoch\n",
        "#------------------------------------------------\n",
        "plt.plot(epochs, loss, 'r')\n",
        "plt.title('Training loss')\n",
        "plt.xlabel(\"Epochs\")\n",
        "plt.ylabel(\"Loss\")\n",
        "plt.legend([\"Loss\"])\n",
        "\n",
        "plt.figure()\n",
        "\n",
        "\n",
        "\n",
        "zoomed_loss = loss[200:]\n",
        "zoomed_epochs = range(200,500)\n",
        "\n",
        "\n",
        "#------------------------------------------------\n",
        "# Plot training and validation loss per epoch\n",
        "#------------------------------------------------\n",
        "plt.plot(zoomed_epochs, zoomed_loss, 'r')\n",
        "plt.title('Training loss')\n",
        "plt.xlabel(\"Epochs\")\n",
        "plt.ylabel(\"Loss\")\n",
        "plt.legend([\"Loss\"])\n",
        "\n",
        "plt.figure()"
      ],
      "execution_count": 0,
      "outputs": []
    },
    {
      "cell_type": "code",
      "metadata": {
        "id": "q_5Y9R1TV_wo",
        "colab_type": "code",
        "colab": {}
      },
      "source": [
        "print(rnn_forecast)"
      ],
      "execution_count": 0,
      "outputs": []
    },
    {
      "cell_type": "markdown",
      "metadata": {
        "id": "YEQ1Yl_LWJgB",
        "colab_type": "text"
      },
      "source": [
        "#### Sunspots Notebook "
      ]
    },
    {
      "cell_type": "markdown",
      "metadata": {
        "id": "mY5pdR8zXC37",
        "colab_type": "text"
      },
      "source": [
        "For Reference: \n",
        "\n",
        "https://gist.github.com/nivethsaran/37c3493b34fc8cf507cf2ab54ad51824"
      ]
    },
    {
      "cell_type": "code",
      "metadata": {
        "id": "1gjvyI1eXZsc",
        "colab_type": "code",
        "colab": {}
      },
      "source": [
        "split_time = 3000\n",
        "time_train = time[:split_time]\n",
        "x_train = series[:split_time]\n",
        "time_valid = time[split_time:]\n",
        "x_valid = series[split_time:]\n",
        "\n",
        "window_size = 60\n",
        "batch_size = 32\n",
        "shuffle_buffer_size = 1000"
      ],
      "execution_count": 0,
      "outputs": []
    },
    {
      "cell_type": "code",
      "metadata": {
        "id": "r8wfGGx8Xbll",
        "colab_type": "code",
        "colab": {}
      },
      "source": [
        "def windowed_dataset(series, window_size, batch_size, shuffle_buffer):\n",
        "  dataset = tf.data.Dataset.from_tensor_slices(series)\n",
        "  dataset = dataset.window(window_size + 1, shift=1, drop_remainder=True)\n",
        "  dataset = dataset.flat_map(lambda window: window.batch(window_size + 1))\n",
        "  dataset = dataset.shuffle(shuffle_buffer).map(lambda window: (window[:-1], window[-1]))\n",
        "  dataset = dataset.batch(batch_size).prefetch(1)\n",
        "  return dataset"
      ],
      "execution_count": 0,
      "outputs": []
    },
    {
      "cell_type": "code",
      "metadata": {
        "id": "oMpkIBp8XcjN",
        "colab_type": "code",
        "colab": {}
      },
      "source": [
        "dataset = windowed_dataset(x_train, window_size, batch_size, shuffle_buffer_size)\n",
        "\n",
        "model = tf.keras.models.Sequential([\n",
        "    tf.keras.layers.Dense(20, input_shape=[window_size], activation=\"relu\"), \n",
        "    tf.keras.layers.Dense(10, activation=\"relu\"),\n",
        "    tf.keras.layers.Dense(1)\n",
        "])\n",
        "\n",
        "model.compile(loss=\"mse\", optimizer=tf.keras.optimizers.SGD(lr=1e-7, momentum=0.9))\n",
        "model.fit(dataset,epochs=100,verbose=0)\n"
      ],
      "execution_count": 0,
      "outputs": []
    },
    {
      "cell_type": "code",
      "metadata": {
        "id": "4WBHU9XWXdx2",
        "colab_type": "code",
        "colab": {}
      },
      "source": [
        "forecast=[]\n",
        "for time in range(len(series) - window_size):\n",
        "  forecast.append(model.predict(series[time:time + window_size][np.newaxis]))\n",
        "\n",
        "forecast = forecast[split_time-window_size:]\n",
        "results = np.array(forecast)[:, 0, 0]\n",
        "\n",
        "\n",
        "plt.figure(figsize=(10, 6))\n",
        "\n",
        "plot_series(time_valid, x_valid)\n",
        "plot_series(time_valid, results)"
      ],
      "execution_count": 0,
      "outputs": []
    },
    {
      "cell_type": "code",
      "metadata": {
        "id": "c7VOBy95Xe8K",
        "colab_type": "code",
        "colab": {}
      },
      "source": [
        "tf.keras.metrics.mean_absolute_error(x_valid, results).numpy()"
      ],
      "execution_count": 0,
      "outputs": []
    }
  ]
}
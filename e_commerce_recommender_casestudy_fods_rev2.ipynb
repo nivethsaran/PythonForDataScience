{
  "nbformat": 4,
  "nbformat_minor": 0,
  "metadata": {
    "kernelspec": {
      "display_name": "Python 3",
      "language": "python",
      "name": "python3"
    },
    "language_info": {
      "codemirror_mode": {
        "name": "ipython",
        "version": 3
      },
      "file_extension": ".py",
      "mimetype": "text/x-python",
      "name": "python",
      "nbconvert_exporter": "python",
      "pygments_lexer": "ipython3",
      "version": "3.7.6"
    },
    "papermill": {
      "duration": 337.253787,
      "end_time": "2020-09-14T09:01:49.076971",
      "environment_variables": {},
      "exception": null,
      "input_path": "__notebook__.ipynb",
      "output_path": "__notebook__.ipynb",
      "parameters": {},
      "start_time": "2020-09-14T08:56:11.823184",
      "version": "2.1.0"
    },
    "colab": {
      "name": "e-commerce-recommender-casestudy-fods-rev2.ipynb",
      "provenance": [],
      "collapsed_sections": [
        "yteuGvRpS7fB",
        "MOZb0HccijB5",
        "iKB3ca1TS7fC",
        "wjvscCazS7fW",
        "9xykRvg1S7fc",
        "zGZoBHpkS7fg",
        "zaOp3okXS7fk",
        "xCg_nQylS7fn",
        "qdG8goePS7fr",
        "nipgs910S7fy",
        "qLwX5IgbS7f1",
        "7-YoDwp3S7f4",
        "Wica-oLcS7f6",
        "UPrClWP5S7gG",
        "VxSSZL7YiESm",
        "SsQZCveNWB2U",
        "h1s2srUJ6PhV"
      ],
      "include_colab_link": true
    }
  },
  "cells": [
    {
      "cell_type": "markdown",
      "metadata": {
        "id": "view-in-github",
        "colab_type": "text"
      },
      "source": [
        "<a href=\"https://colab.research.google.com/github/nivethsaran/PythonForDataScience/blob/master/e_commerce_recommender_casestudy_fods_rev2.ipynb\" target=\"_parent\"><img src=\"https://colab.research.google.com/assets/colab-badge.svg\" alt=\"Open In Colab\"/></a>"
      ]
    },
    {
      "cell_type": "markdown",
      "metadata": {
        "papermill": {
          "duration": 0.095857,
          "end_time": "2020-09-14T08:56:17.516637",
          "exception": false,
          "start_time": "2020-09-14T08:56:17.420780",
          "status": "completed"
        },
        "tags": [],
        "id": "0rRtUDKHS7fA"
      },
      "source": [
        "# FODS Case Study - E-Commerce Recommender System Dataset Analysis"
      ]
    },
    {
      "cell_type": "markdown",
      "metadata": {
        "papermill": {
          "duration": 0.090341,
          "end_time": "2020-09-14T08:56:17.699023",
          "exception": false,
          "start_time": "2020-09-14T08:56:17.608682",
          "status": "completed"
        },
        "tags": [],
        "id": "yteuGvRpS7fB"
      },
      "source": [
        "# About the dataset\n",
        "\n",
        "**This is a Brazilian ecommerce public dataset of orders made at Olist Store. The dataset has information of 100k orders from 2016 to 2018 made at multiple marketplaces in Brazil. Its features allows viewing an order from multiple dimensions: from order status, price, payment and freight performance to customer location, product attributes and finally reviews written by customers. It also contains a geolocation dataset that relates Brazilian zip codes to lat/lng coordinates.**"
      ]
    },
    {
      "cell_type": "markdown",
      "metadata": {
        "id": "MOZb0HccijB5"
      },
      "source": [
        "### Importing Libraries"
      ]
    },
    {
      "cell_type": "code",
      "metadata": {
        "_cell_guid": "fd7b5a57-69a1-4746-b6b7-bd0db8141b7b",
        "_uuid": "90f1951e-3b95-4749-afca-57b72d6a9573",
        "execution": {
          "iopub.execute_input": "2020-09-14T08:58:31.372047Z",
          "iopub.status.busy": "2020-09-14T08:58:31.366174Z",
          "iopub.status.idle": "2020-09-14T08:58:35.874061Z",
          "shell.execute_reply": "2020-09-14T08:58:35.873175Z"
        },
        "papermill": {
          "duration": 4.776546,
          "end_time": "2020-09-14T08:58:35.874235",
          "exception": false,
          "start_time": "2020-09-14T08:58:31.097689",
          "status": "completed"
        },
        "scrolled": true,
        "tags": [],
        "id": "kfQLoXwGS7fW"
      },
      "source": [
        "import numpy as np # linear algebra\n",
        "import pandas as pd # data processing, CSV file I/O (e.g. pd.read_csv)\n",
        "import seaborn as sns\n",
        "import matplotlib.pyplot as plt\n",
        "import tensorflow as tf\n",
        "from sklearn import preprocessing \n",
        "from matplotlib.cm import get_cmap\n",
        "from sklearn.compose import ColumnTransformer\n",
        "from sklearn.preprocessing import OneHotEncoder\n",
        "from sklearn.preprocessing import LabelBinarizer\n",
        "from sklearn.preprocessing import MinMaxScaler\n",
        "import statsmodels.formula.api as sm\n",
        "from sklearn.linear_model import LinearRegression\n",
        "from sklearn.model_selection import train_test_split\n",
        "from sklearn.metrics import r2_score\n",
        "from sklearn.ensemble import RandomForestRegressor\n",
        "from sklearn.tree import DecisionTreeRegressor\n",
        "from sklearn.neighbors import KNeighborsRegressor\n",
        "from sklearn.ensemble import GradientBoostingRegressor\n",
        "from sklearn.ensemble import AdaBoostRegressor\n",
        "from sklearn.metrics import mean_squared_error\n",
        "\n",
        "from scipy.stats import t\n",
        "from scipy.stats import chi2_contingency\n",
        "\n",
        "sns.set(style=\"darkgrid\")\n",
        "from IPython.display import display\n",
        "from plotly.offline import init_notebook_mode, iplot\n",
        "import plotly.graph_objs as go\n",
        "from plotly import tools\n",
        "import colorlover as cl\n",
        "import string\n",
        "import requests\n",
        "import json\n",
        "import urllib\n",
        "import time\n",
        "%matplotlib inline\n",
        "import os"
      ],
      "execution_count": 215,
      "outputs": []
    },
    {
      "cell_type": "markdown",
      "metadata": {
        "papermill": {
          "duration": 0.093099,
          "end_time": "2020-09-14T08:56:17.882623",
          "exception": false,
          "start_time": "2020-09-14T08:56:17.789524",
          "status": "completed"
        },
        "tags": [],
        "id": "iKB3ca1TS7fC"
      },
      "source": [
        "# 1. Data Preprocessing (Review 1)"
      ]
    },
    {
      "cell_type": "markdown",
      "metadata": {
        "papermill": {
          "duration": 0.25237,
          "end_time": "2020-09-14T08:58:30.841729",
          "exception": false,
          "start_time": "2020-09-14T08:58:30.589359",
          "status": "completed"
        },
        "tags": [],
        "id": "wjvscCazS7fW"
      },
      "source": [
        "#### Reading the Dataset"
      ]
    },
    {
      "cell_type": "code",
      "metadata": {
        "execution": {
          "iopub.execute_input": "2020-09-14T08:58:36.386941Z",
          "iopub.status.busy": "2020-09-14T08:58:36.385810Z",
          "iopub.status.idle": "2020-09-14T08:58:37.050393Z",
          "shell.execute_reply": "2020-09-14T08:58:37.049521Z"
        },
        "papermill": {
          "duration": 0.921406,
          "end_time": "2020-09-14T08:58:37.050525",
          "exception": false,
          "start_time": "2020-09-14T08:58:36.129119",
          "status": "completed"
        },
        "tags": [],
        "id": "gfr6gIVvS7fZ",
        "outputId": "2d040247-4a8a-497a-eb32-802a246272a7",
        "colab": {
          "base_uri": "https://localhost:8080/",
          "height": 0
        }
      },
      "source": [
        "customers=pd.read_csv(\"https://raw.githubusercontent.com/nivethsaran/PythonForDataScience/master/FODS_CASESTUDY_DATASET/olist_customers_dataset.csv\")\n",
        "geolocation=pd.read_csv(\"https://raw.githubusercontent.com/nivethsaran/PythonForDataScience/master/FODS_CASESTUDY_DATASET/olist_geolocation_dataset.csv\" )\n",
        "orderitems=pd.read_csv(\"https://raw.githubusercontent.com/nivethsaran/PythonForDataScience/master/FODS_CASESTUDY_DATASET/olist_order_items_dataset.csv\" )\n",
        "orderpayments=pd.read_csv(\"https://raw.githubusercontent.com/nivethsaran/PythonForDataScience/master/FODS_CASESTUDY_DATASET/olist_order_payments_dataset.csv\" )\n",
        "orderreviews=pd.read_csv(\"https://raw.githubusercontent.com/nivethsaran/PythonForDataScience/master/FODS_CASESTUDY_DATASET/olist_order_reviews_dataset.csv\" )\n",
        "orders=pd.read_csv(\"https://raw.githubusercontent.com/nivethsaran/PythonForDataScience/master/FODS_CASESTUDY_DATASET/olist_orders_dataset.csv\" )\n",
        "products=pd.read_csv(\"https://raw.githubusercontent.com/nivethsaran/PythonForDataScience/master/FODS_CASESTUDY_DATASET/olist_products_dataset.csv\")\n",
        "sellers=pd.read_csv(\"https://raw.githubusercontent.com/nivethsaran/PythonForDataScience/master/FODS_CASESTUDY_DATASET/olist_sellers_dataset.csv\")\n",
        "categoryname=pd.read_csv(\"https://raw.githubusercontent.com/nivethsaran/PythonForDataScience/master/FODS_CASESTUDY_DATASET/product_category_name_translation.csv\")\n",
        "sellerlocation = pd.read_csv('https://raw.githubusercontent.com/nivethsaran/PythonForDataScience/master/FODS_CASESTUDY_DATASET/olist_sellers_geolocation.csv')\n",
        "df_list=[customers,geolocation,orderitems,orderpayments,orderreviews,orders,products,sellers,categoryname,sellerlocation]\n",
        "filenamelist=['customers','geolocation','orderitems','orderpayments','orderreviews','orders','products','sellers','categoryname','sellerlocation']\n",
        "stateconn=pd.read_html('https://brazil-help.com/brazilian_states.htm')\n",
        "state_abbrevations=stateconn[2].iloc[2:,0:2]\n",
        "state_abbrevations.reset_index(drop=True,inplace=True)\n",
        "state_abbrevations.columns =['customer_state', 'state_name']\n",
        "state_abbrevations.head(3)"
      ],
      "execution_count": 216,
      "outputs": [
        {
          "output_type": "execute_result",
          "data": {
            "text/html": [
              "<div>\n",
              "<style scoped>\n",
              "    .dataframe tbody tr th:only-of-type {\n",
              "        vertical-align: middle;\n",
              "    }\n",
              "\n",
              "    .dataframe tbody tr th {\n",
              "        vertical-align: top;\n",
              "    }\n",
              "\n",
              "    .dataframe thead th {\n",
              "        text-align: right;\n",
              "    }\n",
              "</style>\n",
              "<table border=\"1\" class=\"dataframe\">\n",
              "  <thead>\n",
              "    <tr style=\"text-align: right;\">\n",
              "      <th></th>\n",
              "      <th>customer_state</th>\n",
              "      <th>state_name</th>\n",
              "    </tr>\n",
              "  </thead>\n",
              "  <tbody>\n",
              "    <tr>\n",
              "      <th>0</th>\n",
              "      <td>AC</td>\n",
              "      <td>Acre</td>\n",
              "    </tr>\n",
              "    <tr>\n",
              "      <th>1</th>\n",
              "      <td>AL</td>\n",
              "      <td>Alagoas</td>\n",
              "    </tr>\n",
              "    <tr>\n",
              "      <th>2</th>\n",
              "      <td>AP</td>\n",
              "      <td>Amapá</td>\n",
              "    </tr>\n",
              "  </tbody>\n",
              "</table>\n",
              "</div>"
            ],
            "text/plain": [
              "  customer_state state_name\n",
              "0             AC       Acre\n",
              "1             AL    Alagoas\n",
              "2             AP      Amapá"
            ]
          },
          "metadata": {
            "tags": []
          },
          "execution_count": 216
        }
      ]
    },
    {
      "cell_type": "code",
      "metadata": {
        "id": "rnr1hn9YixyK"
      },
      "source": [
        "# Code for creating the seller_geolocation_dataset\n",
        "# er=0\n",
        "# listtemp=[]\n",
        "# for i in dataset['seller_city'].unique():\n",
        "#   time.sleep(1)\n",
        "#   jsonout= requests.get('https://geocode.xyz/'+i+',Brazil?json=1')\n",
        "#   jsonout=json.loads(jsonout)\n",
        "#   print(jsonout)\n",
        "#   if(jsonout.status_code==200):\n",
        "#     jsonout=json.loads(jsonout.content)\n",
        "#     listtemp.append([i,jsonout['latt'],jsonout['longt']])\n",
        "#     print(i+':Success')\n",
        "#   else:\n",
        "#     print(i+':Error')\n",
        "#     er+=1\n",
        "#   print(jsonout['longt']+' '+jsonout['latt'])\n",
        "#   print(i)\n",
        "\n",
        "# print(listtemp)\n",
        "\n",
        "# tempdf= pd.DataFrame(listtemp)\n",
        "# tempdf.to_csv('tempdf')\n",
        "\n",
        "# jsonout= requests.get('https://geocode.xyz/'+i+',Brazil?json=1')\n",
        "# #   jsonout=json.loads(jsonout)\n",
        "# print(jsonout.status_code)\n",
        "\n",
        "# print(er)\n",
        "\n",
        "\n",
        "# tempdf2= pd.DataFrame(listtemp,columns=tempdf.columns)\n",
        "# tempdf2['seller_lat']=tempdf2['seller_lat'].astype('float')\n",
        "# tempdf2['seller_long']=tempdf2['seller_long'].astype('float')\n",
        "# tempdf.to_csv('tempdf.csv')\n",
        "\n",
        "# finaltempdf= pd.concat([tempdf,tempdf2])\n",
        "\n",
        "# finaltempdf.head()\n",
        "\n",
        "# finaltempdf.to_csv('finaltempdf.csv')"
      ],
      "execution_count": 217,
      "outputs": []
    },
    {
      "cell_type": "markdown",
      "metadata": {
        "papermill": {
          "duration": 0.251053,
          "end_time": "2020-09-14T08:58:37.557715",
          "exception": false,
          "start_time": "2020-09-14T08:58:37.306662",
          "status": "completed"
        },
        "tags": [],
        "id": "9xykRvg1S7fc"
      },
      "source": [
        "### Printing the dimensions of the dataset"
      ]
    },
    {
      "cell_type": "code",
      "metadata": {
        "_cell_guid": "aedfe8c8-60c7-4a36-84e9-5443bc038846",
        "_uuid": "9fa94ead-f29e-4c18-9176-720d7ea77462",
        "execution": {
          "iopub.execute_input": "2020-09-14T08:58:38.074191Z",
          "iopub.status.busy": "2020-09-14T08:58:38.072892Z",
          "iopub.status.idle": "2020-09-14T08:58:38.079302Z",
          "shell.execute_reply": "2020-09-14T08:58:38.078460Z"
        },
        "papermill": {
          "duration": 0.270944,
          "end_time": "2020-09-14T08:58:38.079439",
          "exception": false,
          "start_time": "2020-09-14T08:58:37.808495",
          "status": "completed"
        },
        "tags": [],
        "id": "4dIWMTRzS7fd",
        "outputId": "2b0cdb3b-8fe0-455d-af63-4b82342ff44f",
        "colab": {
          "base_uri": "https://localhost:8080/"
        }
      },
      "source": [
        "print(len(filenamelist))\n",
        "print(\"Dataset Shapes\")\n",
        "for i in range(len(df_list)):\n",
        "    print(filenamelist[i]+' :'+str(df_list[i].shape))"
      ],
      "execution_count": 218,
      "outputs": [
        {
          "output_type": "stream",
          "text": [
            "10\n",
            "Dataset Shapes\n",
            "customers :(99441, 5)\n",
            "geolocation :(1000163, 5)\n",
            "orderitems :(112650, 7)\n",
            "orderpayments :(103886, 5)\n",
            "orderreviews :(100000, 7)\n",
            "orders :(99441, 8)\n",
            "products :(32951, 9)\n",
            "sellers :(3095, 4)\n",
            "categoryname :(71, 2)\n",
            "sellerlocation :(581, 4)\n"
          ],
          "name": "stdout"
        }
      ]
    },
    {
      "cell_type": "markdown",
      "metadata": {
        "papermill": {
          "duration": 0.25741,
          "end_time": "2020-09-14T08:58:38.592315",
          "exception": false,
          "start_time": "2020-09-14T08:58:38.334905",
          "status": "completed"
        },
        "tags": [],
        "id": "zGZoBHpkS7fg"
      },
      "source": [
        "### Overview of all datasets"
      ]
    },
    {
      "cell_type": "code",
      "metadata": {
        "execution": {
          "iopub.execute_input": "2020-09-14T08:58:39.171061Z",
          "iopub.status.busy": "2020-09-14T08:58:39.170223Z",
          "iopub.status.idle": "2020-09-14T08:58:39.265285Z",
          "shell.execute_reply": "2020-09-14T08:58:39.264595Z"
        },
        "papermill": {
          "duration": 0.41649,
          "end_time": "2020-09-14T08:58:39.265436",
          "exception": false,
          "start_time": "2020-09-14T08:58:38.848946",
          "status": "completed"
        },
        "scrolled": true,
        "tags": [],
        "id": "JU4agBbFS7fg",
        "outputId": "7a9519fd-6d47-4abf-818d-5173cc524977",
        "colab": {
          "base_uri": "https://localhost:8080/",
          "height": 0
        }
      },
      "source": [
        "for i in df_list:\n",
        "    display(i.head())"
      ],
      "execution_count": 219,
      "outputs": [
        {
          "output_type": "display_data",
          "data": {
            "text/html": [
              "<div>\n",
              "<style scoped>\n",
              "    .dataframe tbody tr th:only-of-type {\n",
              "        vertical-align: middle;\n",
              "    }\n",
              "\n",
              "    .dataframe tbody tr th {\n",
              "        vertical-align: top;\n",
              "    }\n",
              "\n",
              "    .dataframe thead th {\n",
              "        text-align: right;\n",
              "    }\n",
              "</style>\n",
              "<table border=\"1\" class=\"dataframe\">\n",
              "  <thead>\n",
              "    <tr style=\"text-align: right;\">\n",
              "      <th></th>\n",
              "      <th>customer_id</th>\n",
              "      <th>customer_unique_id</th>\n",
              "      <th>customer_zip_code_prefix</th>\n",
              "      <th>customer_city</th>\n",
              "      <th>customer_state</th>\n",
              "    </tr>\n",
              "  </thead>\n",
              "  <tbody>\n",
              "    <tr>\n",
              "      <th>0</th>\n",
              "      <td>06b8999e2fba1a1fbc88172c00ba8bc7</td>\n",
              "      <td>861eff4711a542e4b93843c6dd7febb0</td>\n",
              "      <td>14409</td>\n",
              "      <td>franca</td>\n",
              "      <td>SP</td>\n",
              "    </tr>\n",
              "    <tr>\n",
              "      <th>1</th>\n",
              "      <td>18955e83d337fd6b2def6b18a428ac77</td>\n",
              "      <td>290c77bc529b7ac935b93aa66c333dc3</td>\n",
              "      <td>9790</td>\n",
              "      <td>sao bernardo do campo</td>\n",
              "      <td>SP</td>\n",
              "    </tr>\n",
              "    <tr>\n",
              "      <th>2</th>\n",
              "      <td>4e7b3e00288586ebd08712fdd0374a03</td>\n",
              "      <td>060e732b5b29e8181a18229c7b0b2b5e</td>\n",
              "      <td>1151</td>\n",
              "      <td>sao paulo</td>\n",
              "      <td>SP</td>\n",
              "    </tr>\n",
              "    <tr>\n",
              "      <th>3</th>\n",
              "      <td>b2b6027bc5c5109e529d4dc6358b12c3</td>\n",
              "      <td>259dac757896d24d7702b9acbbff3f3c</td>\n",
              "      <td>8775</td>\n",
              "      <td>mogi das cruzes</td>\n",
              "      <td>SP</td>\n",
              "    </tr>\n",
              "    <tr>\n",
              "      <th>4</th>\n",
              "      <td>4f2d8ab171c80ec8364f7c12e35b23ad</td>\n",
              "      <td>345ecd01c38d18a9036ed96c73b8d066</td>\n",
              "      <td>13056</td>\n",
              "      <td>campinas</td>\n",
              "      <td>SP</td>\n",
              "    </tr>\n",
              "  </tbody>\n",
              "</table>\n",
              "</div>"
            ],
            "text/plain": [
              "                        customer_id  ... customer_state\n",
              "0  06b8999e2fba1a1fbc88172c00ba8bc7  ...             SP\n",
              "1  18955e83d337fd6b2def6b18a428ac77  ...             SP\n",
              "2  4e7b3e00288586ebd08712fdd0374a03  ...             SP\n",
              "3  b2b6027bc5c5109e529d4dc6358b12c3  ...             SP\n",
              "4  4f2d8ab171c80ec8364f7c12e35b23ad  ...             SP\n",
              "\n",
              "[5 rows x 5 columns]"
            ]
          },
          "metadata": {
            "tags": []
          }
        },
        {
          "output_type": "display_data",
          "data": {
            "text/html": [
              "<div>\n",
              "<style scoped>\n",
              "    .dataframe tbody tr th:only-of-type {\n",
              "        vertical-align: middle;\n",
              "    }\n",
              "\n",
              "    .dataframe tbody tr th {\n",
              "        vertical-align: top;\n",
              "    }\n",
              "\n",
              "    .dataframe thead th {\n",
              "        text-align: right;\n",
              "    }\n",
              "</style>\n",
              "<table border=\"1\" class=\"dataframe\">\n",
              "  <thead>\n",
              "    <tr style=\"text-align: right;\">\n",
              "      <th></th>\n",
              "      <th>geolocation_zip_code_prefix</th>\n",
              "      <th>geolocation_lat</th>\n",
              "      <th>geolocation_lng</th>\n",
              "      <th>geolocation_city</th>\n",
              "      <th>geolocation_state</th>\n",
              "    </tr>\n",
              "  </thead>\n",
              "  <tbody>\n",
              "    <tr>\n",
              "      <th>0</th>\n",
              "      <td>1037</td>\n",
              "      <td>-23.545621</td>\n",
              "      <td>-46.639292</td>\n",
              "      <td>sao paulo</td>\n",
              "      <td>SP</td>\n",
              "    </tr>\n",
              "    <tr>\n",
              "      <th>1</th>\n",
              "      <td>1046</td>\n",
              "      <td>-23.546081</td>\n",
              "      <td>-46.644820</td>\n",
              "      <td>sao paulo</td>\n",
              "      <td>SP</td>\n",
              "    </tr>\n",
              "    <tr>\n",
              "      <th>2</th>\n",
              "      <td>1046</td>\n",
              "      <td>-23.546129</td>\n",
              "      <td>-46.642951</td>\n",
              "      <td>sao paulo</td>\n",
              "      <td>SP</td>\n",
              "    </tr>\n",
              "    <tr>\n",
              "      <th>3</th>\n",
              "      <td>1041</td>\n",
              "      <td>-23.544392</td>\n",
              "      <td>-46.639499</td>\n",
              "      <td>sao paulo</td>\n",
              "      <td>SP</td>\n",
              "    </tr>\n",
              "    <tr>\n",
              "      <th>4</th>\n",
              "      <td>1035</td>\n",
              "      <td>-23.541578</td>\n",
              "      <td>-46.641607</td>\n",
              "      <td>sao paulo</td>\n",
              "      <td>SP</td>\n",
              "    </tr>\n",
              "  </tbody>\n",
              "</table>\n",
              "</div>"
            ],
            "text/plain": [
              "   geolocation_zip_code_prefix  ...  geolocation_state\n",
              "0                         1037  ...                 SP\n",
              "1                         1046  ...                 SP\n",
              "2                         1046  ...                 SP\n",
              "3                         1041  ...                 SP\n",
              "4                         1035  ...                 SP\n",
              "\n",
              "[5 rows x 5 columns]"
            ]
          },
          "metadata": {
            "tags": []
          }
        },
        {
          "output_type": "display_data",
          "data": {
            "text/html": [
              "<div>\n",
              "<style scoped>\n",
              "    .dataframe tbody tr th:only-of-type {\n",
              "        vertical-align: middle;\n",
              "    }\n",
              "\n",
              "    .dataframe tbody tr th {\n",
              "        vertical-align: top;\n",
              "    }\n",
              "\n",
              "    .dataframe thead th {\n",
              "        text-align: right;\n",
              "    }\n",
              "</style>\n",
              "<table border=\"1\" class=\"dataframe\">\n",
              "  <thead>\n",
              "    <tr style=\"text-align: right;\">\n",
              "      <th></th>\n",
              "      <th>order_id</th>\n",
              "      <th>order_item_id</th>\n",
              "      <th>product_id</th>\n",
              "      <th>seller_id</th>\n",
              "      <th>shipping_limit_date</th>\n",
              "      <th>price</th>\n",
              "      <th>freight_value</th>\n",
              "    </tr>\n",
              "  </thead>\n",
              "  <tbody>\n",
              "    <tr>\n",
              "      <th>0</th>\n",
              "      <td>00010242fe8c5a6d1ba2dd792cb16214</td>\n",
              "      <td>1</td>\n",
              "      <td>4244733e06e7ecb4970a6e2683c13e61</td>\n",
              "      <td>48436dade18ac8b2bce089ec2a041202</td>\n",
              "      <td>2017-09-19 09:45:35</td>\n",
              "      <td>58.90</td>\n",
              "      <td>13.29</td>\n",
              "    </tr>\n",
              "    <tr>\n",
              "      <th>1</th>\n",
              "      <td>00018f77f2f0320c557190d7a144bdd3</td>\n",
              "      <td>1</td>\n",
              "      <td>e5f2d52b802189ee658865ca93d83a8f</td>\n",
              "      <td>dd7ddc04e1b6c2c614352b383efe2d36</td>\n",
              "      <td>2017-05-03 11:05:13</td>\n",
              "      <td>239.90</td>\n",
              "      <td>19.93</td>\n",
              "    </tr>\n",
              "    <tr>\n",
              "      <th>2</th>\n",
              "      <td>000229ec398224ef6ca0657da4fc703e</td>\n",
              "      <td>1</td>\n",
              "      <td>c777355d18b72b67abbeef9df44fd0fd</td>\n",
              "      <td>5b51032eddd242adc84c38acab88f23d</td>\n",
              "      <td>2018-01-18 14:48:30</td>\n",
              "      <td>199.00</td>\n",
              "      <td>17.87</td>\n",
              "    </tr>\n",
              "    <tr>\n",
              "      <th>3</th>\n",
              "      <td>00024acbcdf0a6daa1e931b038114c75</td>\n",
              "      <td>1</td>\n",
              "      <td>7634da152a4610f1595efa32f14722fc</td>\n",
              "      <td>9d7a1d34a5052409006425275ba1c2b4</td>\n",
              "      <td>2018-08-15 10:10:18</td>\n",
              "      <td>12.99</td>\n",
              "      <td>12.79</td>\n",
              "    </tr>\n",
              "    <tr>\n",
              "      <th>4</th>\n",
              "      <td>00042b26cf59d7ce69dfabb4e55b4fd9</td>\n",
              "      <td>1</td>\n",
              "      <td>ac6c3623068f30de03045865e4e10089</td>\n",
              "      <td>df560393f3a51e74553ab94004ba5c87</td>\n",
              "      <td>2017-02-13 13:57:51</td>\n",
              "      <td>199.90</td>\n",
              "      <td>18.14</td>\n",
              "    </tr>\n",
              "  </tbody>\n",
              "</table>\n",
              "</div>"
            ],
            "text/plain": [
              "                           order_id  order_item_id  ...   price freight_value\n",
              "0  00010242fe8c5a6d1ba2dd792cb16214              1  ...   58.90         13.29\n",
              "1  00018f77f2f0320c557190d7a144bdd3              1  ...  239.90         19.93\n",
              "2  000229ec398224ef6ca0657da4fc703e              1  ...  199.00         17.87\n",
              "3  00024acbcdf0a6daa1e931b038114c75              1  ...   12.99         12.79\n",
              "4  00042b26cf59d7ce69dfabb4e55b4fd9              1  ...  199.90         18.14\n",
              "\n",
              "[5 rows x 7 columns]"
            ]
          },
          "metadata": {
            "tags": []
          }
        },
        {
          "output_type": "display_data",
          "data": {
            "text/html": [
              "<div>\n",
              "<style scoped>\n",
              "    .dataframe tbody tr th:only-of-type {\n",
              "        vertical-align: middle;\n",
              "    }\n",
              "\n",
              "    .dataframe tbody tr th {\n",
              "        vertical-align: top;\n",
              "    }\n",
              "\n",
              "    .dataframe thead th {\n",
              "        text-align: right;\n",
              "    }\n",
              "</style>\n",
              "<table border=\"1\" class=\"dataframe\">\n",
              "  <thead>\n",
              "    <tr style=\"text-align: right;\">\n",
              "      <th></th>\n",
              "      <th>order_id</th>\n",
              "      <th>payment_sequential</th>\n",
              "      <th>payment_type</th>\n",
              "      <th>payment_installments</th>\n",
              "      <th>payment_value</th>\n",
              "    </tr>\n",
              "  </thead>\n",
              "  <tbody>\n",
              "    <tr>\n",
              "      <th>0</th>\n",
              "      <td>b81ef226f3fe1789b1e8b2acac839d17</td>\n",
              "      <td>1</td>\n",
              "      <td>credit_card</td>\n",
              "      <td>8</td>\n",
              "      <td>99.33</td>\n",
              "    </tr>\n",
              "    <tr>\n",
              "      <th>1</th>\n",
              "      <td>a9810da82917af2d9aefd1278f1dcfa0</td>\n",
              "      <td>1</td>\n",
              "      <td>credit_card</td>\n",
              "      <td>1</td>\n",
              "      <td>24.39</td>\n",
              "    </tr>\n",
              "    <tr>\n",
              "      <th>2</th>\n",
              "      <td>25e8ea4e93396b6fa0d3dd708e76c1bd</td>\n",
              "      <td>1</td>\n",
              "      <td>credit_card</td>\n",
              "      <td>1</td>\n",
              "      <td>65.71</td>\n",
              "    </tr>\n",
              "    <tr>\n",
              "      <th>3</th>\n",
              "      <td>ba78997921bbcdc1373bb41e913ab953</td>\n",
              "      <td>1</td>\n",
              "      <td>credit_card</td>\n",
              "      <td>8</td>\n",
              "      <td>107.78</td>\n",
              "    </tr>\n",
              "    <tr>\n",
              "      <th>4</th>\n",
              "      <td>42fdf880ba16b47b59251dd489d4441a</td>\n",
              "      <td>1</td>\n",
              "      <td>credit_card</td>\n",
              "      <td>2</td>\n",
              "      <td>128.45</td>\n",
              "    </tr>\n",
              "  </tbody>\n",
              "</table>\n",
              "</div>"
            ],
            "text/plain": [
              "                           order_id  ...  payment_value\n",
              "0  b81ef226f3fe1789b1e8b2acac839d17  ...          99.33\n",
              "1  a9810da82917af2d9aefd1278f1dcfa0  ...          24.39\n",
              "2  25e8ea4e93396b6fa0d3dd708e76c1bd  ...          65.71\n",
              "3  ba78997921bbcdc1373bb41e913ab953  ...         107.78\n",
              "4  42fdf880ba16b47b59251dd489d4441a  ...         128.45\n",
              "\n",
              "[5 rows x 5 columns]"
            ]
          },
          "metadata": {
            "tags": []
          }
        },
        {
          "output_type": "display_data",
          "data": {
            "text/html": [
              "<div>\n",
              "<style scoped>\n",
              "    .dataframe tbody tr th:only-of-type {\n",
              "        vertical-align: middle;\n",
              "    }\n",
              "\n",
              "    .dataframe tbody tr th {\n",
              "        vertical-align: top;\n",
              "    }\n",
              "\n",
              "    .dataframe thead th {\n",
              "        text-align: right;\n",
              "    }\n",
              "</style>\n",
              "<table border=\"1\" class=\"dataframe\">\n",
              "  <thead>\n",
              "    <tr style=\"text-align: right;\">\n",
              "      <th></th>\n",
              "      <th>review_id</th>\n",
              "      <th>order_id</th>\n",
              "      <th>review_score</th>\n",
              "      <th>review_comment_title</th>\n",
              "      <th>review_comment_message</th>\n",
              "      <th>review_creation_date</th>\n",
              "      <th>review_answer_timestamp</th>\n",
              "    </tr>\n",
              "  </thead>\n",
              "  <tbody>\n",
              "    <tr>\n",
              "      <th>0</th>\n",
              "      <td>7bc2406110b926393aa56f80a40eba40</td>\n",
              "      <td>73fc7af87114b39712e6da79b0a377eb</td>\n",
              "      <td>4</td>\n",
              "      <td>NaN</td>\n",
              "      <td>NaN</td>\n",
              "      <td>2018-01-18 00:00:00</td>\n",
              "      <td>2018-01-18 21:46:59</td>\n",
              "    </tr>\n",
              "    <tr>\n",
              "      <th>1</th>\n",
              "      <td>80e641a11e56f04c1ad469d5645fdfde</td>\n",
              "      <td>a548910a1c6147796b98fdf73dbeba33</td>\n",
              "      <td>5</td>\n",
              "      <td>NaN</td>\n",
              "      <td>NaN</td>\n",
              "      <td>2018-03-10 00:00:00</td>\n",
              "      <td>2018-03-11 03:05:13</td>\n",
              "    </tr>\n",
              "    <tr>\n",
              "      <th>2</th>\n",
              "      <td>228ce5500dc1d8e020d8d1322874b6f0</td>\n",
              "      <td>f9e4b658b201a9f2ecdecbb34bed034b</td>\n",
              "      <td>5</td>\n",
              "      <td>NaN</td>\n",
              "      <td>NaN</td>\n",
              "      <td>2018-02-17 00:00:00</td>\n",
              "      <td>2018-02-18 14:36:24</td>\n",
              "    </tr>\n",
              "    <tr>\n",
              "      <th>3</th>\n",
              "      <td>e64fb393e7b32834bb789ff8bb30750e</td>\n",
              "      <td>658677c97b385a9be170737859d3511b</td>\n",
              "      <td>5</td>\n",
              "      <td>NaN</td>\n",
              "      <td>Recebi bem antes do prazo estipulado.</td>\n",
              "      <td>2017-04-21 00:00:00</td>\n",
              "      <td>2017-04-21 22:02:06</td>\n",
              "    </tr>\n",
              "    <tr>\n",
              "      <th>4</th>\n",
              "      <td>f7c4243c7fe1938f181bec41a392bdeb</td>\n",
              "      <td>8e6bfb81e283fa7e4f11123a3fb894f1</td>\n",
              "      <td>5</td>\n",
              "      <td>NaN</td>\n",
              "      <td>Parabéns lojas lannister adorei comprar pela I...</td>\n",
              "      <td>2018-03-01 00:00:00</td>\n",
              "      <td>2018-03-02 10:26:53</td>\n",
              "    </tr>\n",
              "  </tbody>\n",
              "</table>\n",
              "</div>"
            ],
            "text/plain": [
              "                          review_id  ... review_answer_timestamp\n",
              "0  7bc2406110b926393aa56f80a40eba40  ...     2018-01-18 21:46:59\n",
              "1  80e641a11e56f04c1ad469d5645fdfde  ...     2018-03-11 03:05:13\n",
              "2  228ce5500dc1d8e020d8d1322874b6f0  ...     2018-02-18 14:36:24\n",
              "3  e64fb393e7b32834bb789ff8bb30750e  ...     2017-04-21 22:02:06\n",
              "4  f7c4243c7fe1938f181bec41a392bdeb  ...     2018-03-02 10:26:53\n",
              "\n",
              "[5 rows x 7 columns]"
            ]
          },
          "metadata": {
            "tags": []
          }
        },
        {
          "output_type": "display_data",
          "data": {
            "text/html": [
              "<div>\n",
              "<style scoped>\n",
              "    .dataframe tbody tr th:only-of-type {\n",
              "        vertical-align: middle;\n",
              "    }\n",
              "\n",
              "    .dataframe tbody tr th {\n",
              "        vertical-align: top;\n",
              "    }\n",
              "\n",
              "    .dataframe thead th {\n",
              "        text-align: right;\n",
              "    }\n",
              "</style>\n",
              "<table border=\"1\" class=\"dataframe\">\n",
              "  <thead>\n",
              "    <tr style=\"text-align: right;\">\n",
              "      <th></th>\n",
              "      <th>order_id</th>\n",
              "      <th>customer_id</th>\n",
              "      <th>order_status</th>\n",
              "      <th>order_purchase_timestamp</th>\n",
              "      <th>order_approved_at</th>\n",
              "      <th>order_delivered_carrier_date</th>\n",
              "      <th>order_delivered_customer_date</th>\n",
              "      <th>order_estimated_delivery_date</th>\n",
              "    </tr>\n",
              "  </thead>\n",
              "  <tbody>\n",
              "    <tr>\n",
              "      <th>0</th>\n",
              "      <td>e481f51cbdc54678b7cc49136f2d6af7</td>\n",
              "      <td>9ef432eb6251297304e76186b10a928d</td>\n",
              "      <td>delivered</td>\n",
              "      <td>2017-10-02 10:56:33</td>\n",
              "      <td>2017-10-02 11:07:15</td>\n",
              "      <td>2017-10-04 19:55:00</td>\n",
              "      <td>2017-10-10 21:25:13</td>\n",
              "      <td>2017-10-18 00:00:00</td>\n",
              "    </tr>\n",
              "    <tr>\n",
              "      <th>1</th>\n",
              "      <td>53cdb2fc8bc7dce0b6741e2150273451</td>\n",
              "      <td>b0830fb4747a6c6d20dea0b8c802d7ef</td>\n",
              "      <td>delivered</td>\n",
              "      <td>2018-07-24 20:41:37</td>\n",
              "      <td>2018-07-26 03:24:27</td>\n",
              "      <td>2018-07-26 14:31:00</td>\n",
              "      <td>2018-08-07 15:27:45</td>\n",
              "      <td>2018-08-13 00:00:00</td>\n",
              "    </tr>\n",
              "    <tr>\n",
              "      <th>2</th>\n",
              "      <td>47770eb9100c2d0c44946d9cf07ec65d</td>\n",
              "      <td>41ce2a54c0b03bf3443c3d931a367089</td>\n",
              "      <td>delivered</td>\n",
              "      <td>2018-08-08 08:38:49</td>\n",
              "      <td>2018-08-08 08:55:23</td>\n",
              "      <td>2018-08-08 13:50:00</td>\n",
              "      <td>2018-08-17 18:06:29</td>\n",
              "      <td>2018-09-04 00:00:00</td>\n",
              "    </tr>\n",
              "    <tr>\n",
              "      <th>3</th>\n",
              "      <td>949d5b44dbf5de918fe9c16f97b45f8a</td>\n",
              "      <td>f88197465ea7920adcdbec7375364d82</td>\n",
              "      <td>delivered</td>\n",
              "      <td>2017-11-18 19:28:06</td>\n",
              "      <td>2017-11-18 19:45:59</td>\n",
              "      <td>2017-11-22 13:39:59</td>\n",
              "      <td>2017-12-02 00:28:42</td>\n",
              "      <td>2017-12-15 00:00:00</td>\n",
              "    </tr>\n",
              "    <tr>\n",
              "      <th>4</th>\n",
              "      <td>ad21c59c0840e6cb83a9ceb5573f8159</td>\n",
              "      <td>8ab97904e6daea8866dbdbc4fb7aad2c</td>\n",
              "      <td>delivered</td>\n",
              "      <td>2018-02-13 21:18:39</td>\n",
              "      <td>2018-02-13 22:20:29</td>\n",
              "      <td>2018-02-14 19:46:34</td>\n",
              "      <td>2018-02-16 18:17:02</td>\n",
              "      <td>2018-02-26 00:00:00</td>\n",
              "    </tr>\n",
              "  </tbody>\n",
              "</table>\n",
              "</div>"
            ],
            "text/plain": [
              "                           order_id  ... order_estimated_delivery_date\n",
              "0  e481f51cbdc54678b7cc49136f2d6af7  ...           2017-10-18 00:00:00\n",
              "1  53cdb2fc8bc7dce0b6741e2150273451  ...           2018-08-13 00:00:00\n",
              "2  47770eb9100c2d0c44946d9cf07ec65d  ...           2018-09-04 00:00:00\n",
              "3  949d5b44dbf5de918fe9c16f97b45f8a  ...           2017-12-15 00:00:00\n",
              "4  ad21c59c0840e6cb83a9ceb5573f8159  ...           2018-02-26 00:00:00\n",
              "\n",
              "[5 rows x 8 columns]"
            ]
          },
          "metadata": {
            "tags": []
          }
        },
        {
          "output_type": "display_data",
          "data": {
            "text/html": [
              "<div>\n",
              "<style scoped>\n",
              "    .dataframe tbody tr th:only-of-type {\n",
              "        vertical-align: middle;\n",
              "    }\n",
              "\n",
              "    .dataframe tbody tr th {\n",
              "        vertical-align: top;\n",
              "    }\n",
              "\n",
              "    .dataframe thead th {\n",
              "        text-align: right;\n",
              "    }\n",
              "</style>\n",
              "<table border=\"1\" class=\"dataframe\">\n",
              "  <thead>\n",
              "    <tr style=\"text-align: right;\">\n",
              "      <th></th>\n",
              "      <th>product_id</th>\n",
              "      <th>product_category_name</th>\n",
              "      <th>product_name_lenght</th>\n",
              "      <th>product_description_lenght</th>\n",
              "      <th>product_photos_qty</th>\n",
              "      <th>product_weight_g</th>\n",
              "      <th>product_length_cm</th>\n",
              "      <th>product_height_cm</th>\n",
              "      <th>product_width_cm</th>\n",
              "    </tr>\n",
              "  </thead>\n",
              "  <tbody>\n",
              "    <tr>\n",
              "      <th>0</th>\n",
              "      <td>1e9e8ef04dbcff4541ed26657ea517e5</td>\n",
              "      <td>perfumaria</td>\n",
              "      <td>40.0</td>\n",
              "      <td>287.0</td>\n",
              "      <td>1.0</td>\n",
              "      <td>225.0</td>\n",
              "      <td>16.0</td>\n",
              "      <td>10.0</td>\n",
              "      <td>14.0</td>\n",
              "    </tr>\n",
              "    <tr>\n",
              "      <th>1</th>\n",
              "      <td>3aa071139cb16b67ca9e5dea641aaa2f</td>\n",
              "      <td>artes</td>\n",
              "      <td>44.0</td>\n",
              "      <td>276.0</td>\n",
              "      <td>1.0</td>\n",
              "      <td>1000.0</td>\n",
              "      <td>30.0</td>\n",
              "      <td>18.0</td>\n",
              "      <td>20.0</td>\n",
              "    </tr>\n",
              "    <tr>\n",
              "      <th>2</th>\n",
              "      <td>96bd76ec8810374ed1b65e291975717f</td>\n",
              "      <td>esporte_lazer</td>\n",
              "      <td>46.0</td>\n",
              "      <td>250.0</td>\n",
              "      <td>1.0</td>\n",
              "      <td>154.0</td>\n",
              "      <td>18.0</td>\n",
              "      <td>9.0</td>\n",
              "      <td>15.0</td>\n",
              "    </tr>\n",
              "    <tr>\n",
              "      <th>3</th>\n",
              "      <td>cef67bcfe19066a932b7673e239eb23d</td>\n",
              "      <td>bebes</td>\n",
              "      <td>27.0</td>\n",
              "      <td>261.0</td>\n",
              "      <td>1.0</td>\n",
              "      <td>371.0</td>\n",
              "      <td>26.0</td>\n",
              "      <td>4.0</td>\n",
              "      <td>26.0</td>\n",
              "    </tr>\n",
              "    <tr>\n",
              "      <th>4</th>\n",
              "      <td>9dc1a7de274444849c219cff195d0b71</td>\n",
              "      <td>utilidades_domesticas</td>\n",
              "      <td>37.0</td>\n",
              "      <td>402.0</td>\n",
              "      <td>4.0</td>\n",
              "      <td>625.0</td>\n",
              "      <td>20.0</td>\n",
              "      <td>17.0</td>\n",
              "      <td>13.0</td>\n",
              "    </tr>\n",
              "  </tbody>\n",
              "</table>\n",
              "</div>"
            ],
            "text/plain": [
              "                         product_id  ... product_width_cm\n",
              "0  1e9e8ef04dbcff4541ed26657ea517e5  ...             14.0\n",
              "1  3aa071139cb16b67ca9e5dea641aaa2f  ...             20.0\n",
              "2  96bd76ec8810374ed1b65e291975717f  ...             15.0\n",
              "3  cef67bcfe19066a932b7673e239eb23d  ...             26.0\n",
              "4  9dc1a7de274444849c219cff195d0b71  ...             13.0\n",
              "\n",
              "[5 rows x 9 columns]"
            ]
          },
          "metadata": {
            "tags": []
          }
        },
        {
          "output_type": "display_data",
          "data": {
            "text/html": [
              "<div>\n",
              "<style scoped>\n",
              "    .dataframe tbody tr th:only-of-type {\n",
              "        vertical-align: middle;\n",
              "    }\n",
              "\n",
              "    .dataframe tbody tr th {\n",
              "        vertical-align: top;\n",
              "    }\n",
              "\n",
              "    .dataframe thead th {\n",
              "        text-align: right;\n",
              "    }\n",
              "</style>\n",
              "<table border=\"1\" class=\"dataframe\">\n",
              "  <thead>\n",
              "    <tr style=\"text-align: right;\">\n",
              "      <th></th>\n",
              "      <th>seller_id</th>\n",
              "      <th>seller_zip_code_prefix</th>\n",
              "      <th>seller_city</th>\n",
              "      <th>seller_state</th>\n",
              "    </tr>\n",
              "  </thead>\n",
              "  <tbody>\n",
              "    <tr>\n",
              "      <th>0</th>\n",
              "      <td>3442f8959a84dea7ee197c632cb2df15</td>\n",
              "      <td>13023</td>\n",
              "      <td>campinas</td>\n",
              "      <td>SP</td>\n",
              "    </tr>\n",
              "    <tr>\n",
              "      <th>1</th>\n",
              "      <td>d1b65fc7debc3361ea86b5f14c68d2e2</td>\n",
              "      <td>13844</td>\n",
              "      <td>mogi guacu</td>\n",
              "      <td>SP</td>\n",
              "    </tr>\n",
              "    <tr>\n",
              "      <th>2</th>\n",
              "      <td>ce3ad9de960102d0677a81f5d0bb7b2d</td>\n",
              "      <td>20031</td>\n",
              "      <td>rio de janeiro</td>\n",
              "      <td>RJ</td>\n",
              "    </tr>\n",
              "    <tr>\n",
              "      <th>3</th>\n",
              "      <td>c0f3eea2e14555b6faeea3dd58c1b1c3</td>\n",
              "      <td>4195</td>\n",
              "      <td>sao paulo</td>\n",
              "      <td>SP</td>\n",
              "    </tr>\n",
              "    <tr>\n",
              "      <th>4</th>\n",
              "      <td>51a04a8a6bdcb23deccc82b0b80742cf</td>\n",
              "      <td>12914</td>\n",
              "      <td>braganca paulista</td>\n",
              "      <td>SP</td>\n",
              "    </tr>\n",
              "  </tbody>\n",
              "</table>\n",
              "</div>"
            ],
            "text/plain": [
              "                          seller_id  ...  seller_state\n",
              "0  3442f8959a84dea7ee197c632cb2df15  ...            SP\n",
              "1  d1b65fc7debc3361ea86b5f14c68d2e2  ...            SP\n",
              "2  ce3ad9de960102d0677a81f5d0bb7b2d  ...            RJ\n",
              "3  c0f3eea2e14555b6faeea3dd58c1b1c3  ...            SP\n",
              "4  51a04a8a6bdcb23deccc82b0b80742cf  ...            SP\n",
              "\n",
              "[5 rows x 4 columns]"
            ]
          },
          "metadata": {
            "tags": []
          }
        },
        {
          "output_type": "display_data",
          "data": {
            "text/html": [
              "<div>\n",
              "<style scoped>\n",
              "    .dataframe tbody tr th:only-of-type {\n",
              "        vertical-align: middle;\n",
              "    }\n",
              "\n",
              "    .dataframe tbody tr th {\n",
              "        vertical-align: top;\n",
              "    }\n",
              "\n",
              "    .dataframe thead th {\n",
              "        text-align: right;\n",
              "    }\n",
              "</style>\n",
              "<table border=\"1\" class=\"dataframe\">\n",
              "  <thead>\n",
              "    <tr style=\"text-align: right;\">\n",
              "      <th></th>\n",
              "      <th>product_category_name</th>\n",
              "      <th>product_category_name_english</th>\n",
              "    </tr>\n",
              "  </thead>\n",
              "  <tbody>\n",
              "    <tr>\n",
              "      <th>0</th>\n",
              "      <td>beleza_saude</td>\n",
              "      <td>health_beauty</td>\n",
              "    </tr>\n",
              "    <tr>\n",
              "      <th>1</th>\n",
              "      <td>informatica_acessorios</td>\n",
              "      <td>computers_accessories</td>\n",
              "    </tr>\n",
              "    <tr>\n",
              "      <th>2</th>\n",
              "      <td>automotivo</td>\n",
              "      <td>auto</td>\n",
              "    </tr>\n",
              "    <tr>\n",
              "      <th>3</th>\n",
              "      <td>cama_mesa_banho</td>\n",
              "      <td>bed_bath_table</td>\n",
              "    </tr>\n",
              "    <tr>\n",
              "      <th>4</th>\n",
              "      <td>moveis_decoracao</td>\n",
              "      <td>furniture_decor</td>\n",
              "    </tr>\n",
              "  </tbody>\n",
              "</table>\n",
              "</div>"
            ],
            "text/plain": [
              "    product_category_name product_category_name_english\n",
              "0            beleza_saude                 health_beauty\n",
              "1  informatica_acessorios         computers_accessories\n",
              "2              automotivo                          auto\n",
              "3         cama_mesa_banho                bed_bath_table\n",
              "4        moveis_decoracao               furniture_decor"
            ]
          },
          "metadata": {
            "tags": []
          }
        },
        {
          "output_type": "display_data",
          "data": {
            "text/html": [
              "<div>\n",
              "<style scoped>\n",
              "    .dataframe tbody tr th:only-of-type {\n",
              "        vertical-align: middle;\n",
              "    }\n",
              "\n",
              "    .dataframe tbody tr th {\n",
              "        vertical-align: top;\n",
              "    }\n",
              "\n",
              "    .dataframe thead th {\n",
              "        text-align: right;\n",
              "    }\n",
              "</style>\n",
              "<table border=\"1\" class=\"dataframe\">\n",
              "  <thead>\n",
              "    <tr style=\"text-align: right;\">\n",
              "      <th></th>\n",
              "      <th>Unnamed: 0</th>\n",
              "      <th>seller_city</th>\n",
              "      <th>seller_lat</th>\n",
              "      <th>seller_long</th>\n",
              "    </tr>\n",
              "  </thead>\n",
              "  <tbody>\n",
              "    <tr>\n",
              "      <th>0</th>\n",
              "      <td>0</td>\n",
              "      <td>volta redonda</td>\n",
              "      <td>-22.50719</td>\n",
              "      <td>-44.09579</td>\n",
              "    </tr>\n",
              "    <tr>\n",
              "      <th>1</th>\n",
              "      <td>1</td>\n",
              "      <td>santos</td>\n",
              "      <td>-23.95233</td>\n",
              "      <td>-46.33457</td>\n",
              "    </tr>\n",
              "    <tr>\n",
              "      <th>2</th>\n",
              "      <td>2</td>\n",
              "      <td>rio de janeiro</td>\n",
              "      <td>-22.89286</td>\n",
              "      <td>-43.39352</td>\n",
              "    </tr>\n",
              "    <tr>\n",
              "      <th>3</th>\n",
              "      <td>3</td>\n",
              "      <td>sao paulo</td>\n",
              "      <td>-10.54420</td>\n",
              "      <td>-37.54154</td>\n",
              "    </tr>\n",
              "    <tr>\n",
              "      <th>4</th>\n",
              "      <td>4</td>\n",
              "      <td>curitiba</td>\n",
              "      <td>-25.46908</td>\n",
              "      <td>-49.27440</td>\n",
              "    </tr>\n",
              "  </tbody>\n",
              "</table>\n",
              "</div>"
            ],
            "text/plain": [
              "   Unnamed: 0     seller_city  seller_lat  seller_long\n",
              "0           0   volta redonda   -22.50719    -44.09579\n",
              "1           1          santos   -23.95233    -46.33457\n",
              "2           2  rio de janeiro   -22.89286    -43.39352\n",
              "3           3       sao paulo   -10.54420    -37.54154\n",
              "4           4        curitiba   -25.46908    -49.27440"
            ]
          },
          "metadata": {
            "tags": []
          }
        }
      ]
    },
    {
      "cell_type": "markdown",
      "metadata": {
        "papermill": {
          "duration": 0.26104,
          "end_time": "2020-09-14T08:58:39.785856",
          "exception": false,
          "start_time": "2020-09-14T08:58:39.524816",
          "status": "completed"
        },
        "tags": [],
        "id": "zaOp3okXS7fk"
      },
      "source": [
        "### Summary of all the datasets"
      ]
    },
    {
      "cell_type": "code",
      "metadata": {
        "execution": {
          "iopub.execute_input": "2020-09-14T08:58:40.396521Z",
          "iopub.status.busy": "2020-09-14T08:58:40.395399Z",
          "iopub.status.idle": "2020-09-14T08:58:44.256762Z",
          "shell.execute_reply": "2020-09-14T08:58:44.256026Z"
        },
        "papermill": {
          "duration": 4.208569,
          "end_time": "2020-09-14T08:58:44.256901",
          "exception": false,
          "start_time": "2020-09-14T08:58:40.048332",
          "status": "completed"
        },
        "scrolled": true,
        "tags": [],
        "id": "phXVIAZVS7fl",
        "outputId": "c3912e67-bcdc-4b83-c915-de9628dc8bd2",
        "colab": {
          "base_uri": "https://localhost:8080/",
          "height": 0
        }
      },
      "source": [
        "for i in df_list:\n",
        "    display(i.describe(include='all'))"
      ],
      "execution_count": 220,
      "outputs": [
        {
          "output_type": "display_data",
          "data": {
            "text/html": [
              "<div>\n",
              "<style scoped>\n",
              "    .dataframe tbody tr th:only-of-type {\n",
              "        vertical-align: middle;\n",
              "    }\n",
              "\n",
              "    .dataframe tbody tr th {\n",
              "        vertical-align: top;\n",
              "    }\n",
              "\n",
              "    .dataframe thead th {\n",
              "        text-align: right;\n",
              "    }\n",
              "</style>\n",
              "<table border=\"1\" class=\"dataframe\">\n",
              "  <thead>\n",
              "    <tr style=\"text-align: right;\">\n",
              "      <th></th>\n",
              "      <th>customer_id</th>\n",
              "      <th>customer_unique_id</th>\n",
              "      <th>customer_zip_code_prefix</th>\n",
              "      <th>customer_city</th>\n",
              "      <th>customer_state</th>\n",
              "    </tr>\n",
              "  </thead>\n",
              "  <tbody>\n",
              "    <tr>\n",
              "      <th>count</th>\n",
              "      <td>99441</td>\n",
              "      <td>99441</td>\n",
              "      <td>99441.000000</td>\n",
              "      <td>99441</td>\n",
              "      <td>99441</td>\n",
              "    </tr>\n",
              "    <tr>\n",
              "      <th>unique</th>\n",
              "      <td>99441</td>\n",
              "      <td>96096</td>\n",
              "      <td>NaN</td>\n",
              "      <td>4119</td>\n",
              "      <td>27</td>\n",
              "    </tr>\n",
              "    <tr>\n",
              "      <th>top</th>\n",
              "      <td>fabf96df570f9397309836fd077c8ad0</td>\n",
              "      <td>8d50f5eadf50201ccdcedfb9e2ac8455</td>\n",
              "      <td>NaN</td>\n",
              "      <td>sao paulo</td>\n",
              "      <td>SP</td>\n",
              "    </tr>\n",
              "    <tr>\n",
              "      <th>freq</th>\n",
              "      <td>1</td>\n",
              "      <td>17</td>\n",
              "      <td>NaN</td>\n",
              "      <td>15540</td>\n",
              "      <td>41746</td>\n",
              "    </tr>\n",
              "    <tr>\n",
              "      <th>mean</th>\n",
              "      <td>NaN</td>\n",
              "      <td>NaN</td>\n",
              "      <td>35137.474583</td>\n",
              "      <td>NaN</td>\n",
              "      <td>NaN</td>\n",
              "    </tr>\n",
              "    <tr>\n",
              "      <th>std</th>\n",
              "      <td>NaN</td>\n",
              "      <td>NaN</td>\n",
              "      <td>29797.938996</td>\n",
              "      <td>NaN</td>\n",
              "      <td>NaN</td>\n",
              "    </tr>\n",
              "    <tr>\n",
              "      <th>min</th>\n",
              "      <td>NaN</td>\n",
              "      <td>NaN</td>\n",
              "      <td>1003.000000</td>\n",
              "      <td>NaN</td>\n",
              "      <td>NaN</td>\n",
              "    </tr>\n",
              "    <tr>\n",
              "      <th>25%</th>\n",
              "      <td>NaN</td>\n",
              "      <td>NaN</td>\n",
              "      <td>11347.000000</td>\n",
              "      <td>NaN</td>\n",
              "      <td>NaN</td>\n",
              "    </tr>\n",
              "    <tr>\n",
              "      <th>50%</th>\n",
              "      <td>NaN</td>\n",
              "      <td>NaN</td>\n",
              "      <td>24416.000000</td>\n",
              "      <td>NaN</td>\n",
              "      <td>NaN</td>\n",
              "    </tr>\n",
              "    <tr>\n",
              "      <th>75%</th>\n",
              "      <td>NaN</td>\n",
              "      <td>NaN</td>\n",
              "      <td>58900.000000</td>\n",
              "      <td>NaN</td>\n",
              "      <td>NaN</td>\n",
              "    </tr>\n",
              "    <tr>\n",
              "      <th>max</th>\n",
              "      <td>NaN</td>\n",
              "      <td>NaN</td>\n",
              "      <td>99990.000000</td>\n",
              "      <td>NaN</td>\n",
              "      <td>NaN</td>\n",
              "    </tr>\n",
              "  </tbody>\n",
              "</table>\n",
              "</div>"
            ],
            "text/plain": [
              "                             customer_id  ... customer_state\n",
              "count                              99441  ...          99441\n",
              "unique                             99441  ...             27\n",
              "top     fabf96df570f9397309836fd077c8ad0  ...             SP\n",
              "freq                                   1  ...          41746\n",
              "mean                                 NaN  ...            NaN\n",
              "std                                  NaN  ...            NaN\n",
              "min                                  NaN  ...            NaN\n",
              "25%                                  NaN  ...            NaN\n",
              "50%                                  NaN  ...            NaN\n",
              "75%                                  NaN  ...            NaN\n",
              "max                                  NaN  ...            NaN\n",
              "\n",
              "[11 rows x 5 columns]"
            ]
          },
          "metadata": {
            "tags": []
          }
        },
        {
          "output_type": "display_data",
          "data": {
            "text/html": [
              "<div>\n",
              "<style scoped>\n",
              "    .dataframe tbody tr th:only-of-type {\n",
              "        vertical-align: middle;\n",
              "    }\n",
              "\n",
              "    .dataframe tbody tr th {\n",
              "        vertical-align: top;\n",
              "    }\n",
              "\n",
              "    .dataframe thead th {\n",
              "        text-align: right;\n",
              "    }\n",
              "</style>\n",
              "<table border=\"1\" class=\"dataframe\">\n",
              "  <thead>\n",
              "    <tr style=\"text-align: right;\">\n",
              "      <th></th>\n",
              "      <th>geolocation_zip_code_prefix</th>\n",
              "      <th>geolocation_lat</th>\n",
              "      <th>geolocation_lng</th>\n",
              "      <th>geolocation_city</th>\n",
              "      <th>geolocation_state</th>\n",
              "    </tr>\n",
              "  </thead>\n",
              "  <tbody>\n",
              "    <tr>\n",
              "      <th>count</th>\n",
              "      <td>1.000163e+06</td>\n",
              "      <td>1.000163e+06</td>\n",
              "      <td>1.000163e+06</td>\n",
              "      <td>1000163</td>\n",
              "      <td>1000163</td>\n",
              "    </tr>\n",
              "    <tr>\n",
              "      <th>unique</th>\n",
              "      <td>NaN</td>\n",
              "      <td>NaN</td>\n",
              "      <td>NaN</td>\n",
              "      <td>8011</td>\n",
              "      <td>27</td>\n",
              "    </tr>\n",
              "    <tr>\n",
              "      <th>top</th>\n",
              "      <td>NaN</td>\n",
              "      <td>NaN</td>\n",
              "      <td>NaN</td>\n",
              "      <td>sao paulo</td>\n",
              "      <td>SP</td>\n",
              "    </tr>\n",
              "    <tr>\n",
              "      <th>freq</th>\n",
              "      <td>NaN</td>\n",
              "      <td>NaN</td>\n",
              "      <td>NaN</td>\n",
              "      <td>135800</td>\n",
              "      <td>404268</td>\n",
              "    </tr>\n",
              "    <tr>\n",
              "      <th>mean</th>\n",
              "      <td>3.657417e+04</td>\n",
              "      <td>-2.117615e+01</td>\n",
              "      <td>-4.639054e+01</td>\n",
              "      <td>NaN</td>\n",
              "      <td>NaN</td>\n",
              "    </tr>\n",
              "    <tr>\n",
              "      <th>std</th>\n",
              "      <td>3.054934e+04</td>\n",
              "      <td>5.715866e+00</td>\n",
              "      <td>4.269748e+00</td>\n",
              "      <td>NaN</td>\n",
              "      <td>NaN</td>\n",
              "    </tr>\n",
              "    <tr>\n",
              "      <th>min</th>\n",
              "      <td>1.001000e+03</td>\n",
              "      <td>-3.660537e+01</td>\n",
              "      <td>-1.014668e+02</td>\n",
              "      <td>NaN</td>\n",
              "      <td>NaN</td>\n",
              "    </tr>\n",
              "    <tr>\n",
              "      <th>25%</th>\n",
              "      <td>1.107500e+04</td>\n",
              "      <td>-2.360355e+01</td>\n",
              "      <td>-4.857317e+01</td>\n",
              "      <td>NaN</td>\n",
              "      <td>NaN</td>\n",
              "    </tr>\n",
              "    <tr>\n",
              "      <th>50%</th>\n",
              "      <td>2.653000e+04</td>\n",
              "      <td>-2.291938e+01</td>\n",
              "      <td>-4.663788e+01</td>\n",
              "      <td>NaN</td>\n",
              "      <td>NaN</td>\n",
              "    </tr>\n",
              "    <tr>\n",
              "      <th>75%</th>\n",
              "      <td>6.350400e+04</td>\n",
              "      <td>-1.997962e+01</td>\n",
              "      <td>-4.376771e+01</td>\n",
              "      <td>NaN</td>\n",
              "      <td>NaN</td>\n",
              "    </tr>\n",
              "    <tr>\n",
              "      <th>max</th>\n",
              "      <td>9.999000e+04</td>\n",
              "      <td>4.506593e+01</td>\n",
              "      <td>1.211054e+02</td>\n",
              "      <td>NaN</td>\n",
              "      <td>NaN</td>\n",
              "    </tr>\n",
              "  </tbody>\n",
              "</table>\n",
              "</div>"
            ],
            "text/plain": [
              "        geolocation_zip_code_prefix  ...  geolocation_state\n",
              "count                  1.000163e+06  ...            1000163\n",
              "unique                          NaN  ...                 27\n",
              "top                             NaN  ...                 SP\n",
              "freq                            NaN  ...             404268\n",
              "mean                   3.657417e+04  ...                NaN\n",
              "std                    3.054934e+04  ...                NaN\n",
              "min                    1.001000e+03  ...                NaN\n",
              "25%                    1.107500e+04  ...                NaN\n",
              "50%                    2.653000e+04  ...                NaN\n",
              "75%                    6.350400e+04  ...                NaN\n",
              "max                    9.999000e+04  ...                NaN\n",
              "\n",
              "[11 rows x 5 columns]"
            ]
          },
          "metadata": {
            "tags": []
          }
        },
        {
          "output_type": "display_data",
          "data": {
            "text/html": [
              "<div>\n",
              "<style scoped>\n",
              "    .dataframe tbody tr th:only-of-type {\n",
              "        vertical-align: middle;\n",
              "    }\n",
              "\n",
              "    .dataframe tbody tr th {\n",
              "        vertical-align: top;\n",
              "    }\n",
              "\n",
              "    .dataframe thead th {\n",
              "        text-align: right;\n",
              "    }\n",
              "</style>\n",
              "<table border=\"1\" class=\"dataframe\">\n",
              "  <thead>\n",
              "    <tr style=\"text-align: right;\">\n",
              "      <th></th>\n",
              "      <th>order_id</th>\n",
              "      <th>order_item_id</th>\n",
              "      <th>product_id</th>\n",
              "      <th>seller_id</th>\n",
              "      <th>shipping_limit_date</th>\n",
              "      <th>price</th>\n",
              "      <th>freight_value</th>\n",
              "    </tr>\n",
              "  </thead>\n",
              "  <tbody>\n",
              "    <tr>\n",
              "      <th>count</th>\n",
              "      <td>112650</td>\n",
              "      <td>112650.000000</td>\n",
              "      <td>112650</td>\n",
              "      <td>112650</td>\n",
              "      <td>112650</td>\n",
              "      <td>112650.000000</td>\n",
              "      <td>112650.000000</td>\n",
              "    </tr>\n",
              "    <tr>\n",
              "      <th>unique</th>\n",
              "      <td>98666</td>\n",
              "      <td>NaN</td>\n",
              "      <td>32951</td>\n",
              "      <td>3095</td>\n",
              "      <td>93318</td>\n",
              "      <td>NaN</td>\n",
              "      <td>NaN</td>\n",
              "    </tr>\n",
              "    <tr>\n",
              "      <th>top</th>\n",
              "      <td>8272b63d03f5f79c56e9e4120aec44ef</td>\n",
              "      <td>NaN</td>\n",
              "      <td>aca2eb7d00ea1a7b8ebd4e68314663af</td>\n",
              "      <td>6560211a19b47992c3666cc44a7e94c0</td>\n",
              "      <td>2017-07-21 18:25:23</td>\n",
              "      <td>NaN</td>\n",
              "      <td>NaN</td>\n",
              "    </tr>\n",
              "    <tr>\n",
              "      <th>freq</th>\n",
              "      <td>21</td>\n",
              "      <td>NaN</td>\n",
              "      <td>527</td>\n",
              "      <td>2033</td>\n",
              "      <td>21</td>\n",
              "      <td>NaN</td>\n",
              "      <td>NaN</td>\n",
              "    </tr>\n",
              "    <tr>\n",
              "      <th>mean</th>\n",
              "      <td>NaN</td>\n",
              "      <td>1.197834</td>\n",
              "      <td>NaN</td>\n",
              "      <td>NaN</td>\n",
              "      <td>NaN</td>\n",
              "      <td>120.653739</td>\n",
              "      <td>19.990320</td>\n",
              "    </tr>\n",
              "    <tr>\n",
              "      <th>std</th>\n",
              "      <td>NaN</td>\n",
              "      <td>0.705124</td>\n",
              "      <td>NaN</td>\n",
              "      <td>NaN</td>\n",
              "      <td>NaN</td>\n",
              "      <td>183.633928</td>\n",
              "      <td>15.806405</td>\n",
              "    </tr>\n",
              "    <tr>\n",
              "      <th>min</th>\n",
              "      <td>NaN</td>\n",
              "      <td>1.000000</td>\n",
              "      <td>NaN</td>\n",
              "      <td>NaN</td>\n",
              "      <td>NaN</td>\n",
              "      <td>0.850000</td>\n",
              "      <td>0.000000</td>\n",
              "    </tr>\n",
              "    <tr>\n",
              "      <th>25%</th>\n",
              "      <td>NaN</td>\n",
              "      <td>1.000000</td>\n",
              "      <td>NaN</td>\n",
              "      <td>NaN</td>\n",
              "      <td>NaN</td>\n",
              "      <td>39.900000</td>\n",
              "      <td>13.080000</td>\n",
              "    </tr>\n",
              "    <tr>\n",
              "      <th>50%</th>\n",
              "      <td>NaN</td>\n",
              "      <td>1.000000</td>\n",
              "      <td>NaN</td>\n",
              "      <td>NaN</td>\n",
              "      <td>NaN</td>\n",
              "      <td>74.990000</td>\n",
              "      <td>16.260000</td>\n",
              "    </tr>\n",
              "    <tr>\n",
              "      <th>75%</th>\n",
              "      <td>NaN</td>\n",
              "      <td>1.000000</td>\n",
              "      <td>NaN</td>\n",
              "      <td>NaN</td>\n",
              "      <td>NaN</td>\n",
              "      <td>134.900000</td>\n",
              "      <td>21.150000</td>\n",
              "    </tr>\n",
              "    <tr>\n",
              "      <th>max</th>\n",
              "      <td>NaN</td>\n",
              "      <td>21.000000</td>\n",
              "      <td>NaN</td>\n",
              "      <td>NaN</td>\n",
              "      <td>NaN</td>\n",
              "      <td>6735.000000</td>\n",
              "      <td>409.680000</td>\n",
              "    </tr>\n",
              "  </tbody>\n",
              "</table>\n",
              "</div>"
            ],
            "text/plain": [
              "                                order_id  ...  freight_value\n",
              "count                             112650  ...  112650.000000\n",
              "unique                             98666  ...            NaN\n",
              "top     8272b63d03f5f79c56e9e4120aec44ef  ...            NaN\n",
              "freq                                  21  ...            NaN\n",
              "mean                                 NaN  ...      19.990320\n",
              "std                                  NaN  ...      15.806405\n",
              "min                                  NaN  ...       0.000000\n",
              "25%                                  NaN  ...      13.080000\n",
              "50%                                  NaN  ...      16.260000\n",
              "75%                                  NaN  ...      21.150000\n",
              "max                                  NaN  ...     409.680000\n",
              "\n",
              "[11 rows x 7 columns]"
            ]
          },
          "metadata": {
            "tags": []
          }
        },
        {
          "output_type": "display_data",
          "data": {
            "text/html": [
              "<div>\n",
              "<style scoped>\n",
              "    .dataframe tbody tr th:only-of-type {\n",
              "        vertical-align: middle;\n",
              "    }\n",
              "\n",
              "    .dataframe tbody tr th {\n",
              "        vertical-align: top;\n",
              "    }\n",
              "\n",
              "    .dataframe thead th {\n",
              "        text-align: right;\n",
              "    }\n",
              "</style>\n",
              "<table border=\"1\" class=\"dataframe\">\n",
              "  <thead>\n",
              "    <tr style=\"text-align: right;\">\n",
              "      <th></th>\n",
              "      <th>order_id</th>\n",
              "      <th>payment_sequential</th>\n",
              "      <th>payment_type</th>\n",
              "      <th>payment_installments</th>\n",
              "      <th>payment_value</th>\n",
              "    </tr>\n",
              "  </thead>\n",
              "  <tbody>\n",
              "    <tr>\n",
              "      <th>count</th>\n",
              "      <td>103886</td>\n",
              "      <td>103886.000000</td>\n",
              "      <td>103886</td>\n",
              "      <td>103886.000000</td>\n",
              "      <td>103886.000000</td>\n",
              "    </tr>\n",
              "    <tr>\n",
              "      <th>unique</th>\n",
              "      <td>99440</td>\n",
              "      <td>NaN</td>\n",
              "      <td>5</td>\n",
              "      <td>NaN</td>\n",
              "      <td>NaN</td>\n",
              "    </tr>\n",
              "    <tr>\n",
              "      <th>top</th>\n",
              "      <td>fa65dad1b0e818e3ccc5cb0e39231352</td>\n",
              "      <td>NaN</td>\n",
              "      <td>credit_card</td>\n",
              "      <td>NaN</td>\n",
              "      <td>NaN</td>\n",
              "    </tr>\n",
              "    <tr>\n",
              "      <th>freq</th>\n",
              "      <td>29</td>\n",
              "      <td>NaN</td>\n",
              "      <td>76795</td>\n",
              "      <td>NaN</td>\n",
              "      <td>NaN</td>\n",
              "    </tr>\n",
              "    <tr>\n",
              "      <th>mean</th>\n",
              "      <td>NaN</td>\n",
              "      <td>1.092679</td>\n",
              "      <td>NaN</td>\n",
              "      <td>2.853349</td>\n",
              "      <td>154.100380</td>\n",
              "    </tr>\n",
              "    <tr>\n",
              "      <th>std</th>\n",
              "      <td>NaN</td>\n",
              "      <td>0.706584</td>\n",
              "      <td>NaN</td>\n",
              "      <td>2.687051</td>\n",
              "      <td>217.494064</td>\n",
              "    </tr>\n",
              "    <tr>\n",
              "      <th>min</th>\n",
              "      <td>NaN</td>\n",
              "      <td>1.000000</td>\n",
              "      <td>NaN</td>\n",
              "      <td>0.000000</td>\n",
              "      <td>0.000000</td>\n",
              "    </tr>\n",
              "    <tr>\n",
              "      <th>25%</th>\n",
              "      <td>NaN</td>\n",
              "      <td>1.000000</td>\n",
              "      <td>NaN</td>\n",
              "      <td>1.000000</td>\n",
              "      <td>56.790000</td>\n",
              "    </tr>\n",
              "    <tr>\n",
              "      <th>50%</th>\n",
              "      <td>NaN</td>\n",
              "      <td>1.000000</td>\n",
              "      <td>NaN</td>\n",
              "      <td>1.000000</td>\n",
              "      <td>100.000000</td>\n",
              "    </tr>\n",
              "    <tr>\n",
              "      <th>75%</th>\n",
              "      <td>NaN</td>\n",
              "      <td>1.000000</td>\n",
              "      <td>NaN</td>\n",
              "      <td>4.000000</td>\n",
              "      <td>171.837500</td>\n",
              "    </tr>\n",
              "    <tr>\n",
              "      <th>max</th>\n",
              "      <td>NaN</td>\n",
              "      <td>29.000000</td>\n",
              "      <td>NaN</td>\n",
              "      <td>24.000000</td>\n",
              "      <td>13664.080000</td>\n",
              "    </tr>\n",
              "  </tbody>\n",
              "</table>\n",
              "</div>"
            ],
            "text/plain": [
              "                                order_id  ...  payment_value\n",
              "count                             103886  ...  103886.000000\n",
              "unique                             99440  ...            NaN\n",
              "top     fa65dad1b0e818e3ccc5cb0e39231352  ...            NaN\n",
              "freq                                  29  ...            NaN\n",
              "mean                                 NaN  ...     154.100380\n",
              "std                                  NaN  ...     217.494064\n",
              "min                                  NaN  ...       0.000000\n",
              "25%                                  NaN  ...      56.790000\n",
              "50%                                  NaN  ...     100.000000\n",
              "75%                                  NaN  ...     171.837500\n",
              "max                                  NaN  ...   13664.080000\n",
              "\n",
              "[11 rows x 5 columns]"
            ]
          },
          "metadata": {
            "tags": []
          }
        },
        {
          "output_type": "display_data",
          "data": {
            "text/html": [
              "<div>\n",
              "<style scoped>\n",
              "    .dataframe tbody tr th:only-of-type {\n",
              "        vertical-align: middle;\n",
              "    }\n",
              "\n",
              "    .dataframe tbody tr th {\n",
              "        vertical-align: top;\n",
              "    }\n",
              "\n",
              "    .dataframe thead th {\n",
              "        text-align: right;\n",
              "    }\n",
              "</style>\n",
              "<table border=\"1\" class=\"dataframe\">\n",
              "  <thead>\n",
              "    <tr style=\"text-align: right;\">\n",
              "      <th></th>\n",
              "      <th>review_id</th>\n",
              "      <th>order_id</th>\n",
              "      <th>review_score</th>\n",
              "      <th>review_comment_title</th>\n",
              "      <th>review_comment_message</th>\n",
              "      <th>review_creation_date</th>\n",
              "      <th>review_answer_timestamp</th>\n",
              "    </tr>\n",
              "  </thead>\n",
              "  <tbody>\n",
              "    <tr>\n",
              "      <th>count</th>\n",
              "      <td>100000</td>\n",
              "      <td>100000</td>\n",
              "      <td>100000.000000</td>\n",
              "      <td>11715</td>\n",
              "      <td>41753</td>\n",
              "      <td>100000</td>\n",
              "      <td>100000</td>\n",
              "    </tr>\n",
              "    <tr>\n",
              "      <th>unique</th>\n",
              "      <td>99173</td>\n",
              "      <td>99441</td>\n",
              "      <td>NaN</td>\n",
              "      <td>4600</td>\n",
              "      <td>36921</td>\n",
              "      <td>637</td>\n",
              "      <td>99010</td>\n",
              "    </tr>\n",
              "    <tr>\n",
              "      <th>top</th>\n",
              "      <td>e44840754f12fad2b8646712121b349a</td>\n",
              "      <td>8e17072ec97ce29f0e1f111e598b0c85</td>\n",
              "      <td>NaN</td>\n",
              "      <td>Recomendo</td>\n",
              "      <td>Muito bom</td>\n",
              "      <td>2017-12-19 00:00:00</td>\n",
              "      <td>2017-06-15 23:21:05</td>\n",
              "    </tr>\n",
              "    <tr>\n",
              "      <th>freq</th>\n",
              "      <td>3</td>\n",
              "      <td>3</td>\n",
              "      <td>NaN</td>\n",
              "      <td>426</td>\n",
              "      <td>230</td>\n",
              "      <td>466</td>\n",
              "      <td>4</td>\n",
              "    </tr>\n",
              "    <tr>\n",
              "      <th>mean</th>\n",
              "      <td>NaN</td>\n",
              "      <td>NaN</td>\n",
              "      <td>4.070890</td>\n",
              "      <td>NaN</td>\n",
              "      <td>NaN</td>\n",
              "      <td>NaN</td>\n",
              "      <td>NaN</td>\n",
              "    </tr>\n",
              "    <tr>\n",
              "      <th>std</th>\n",
              "      <td>NaN</td>\n",
              "      <td>NaN</td>\n",
              "      <td>1.359663</td>\n",
              "      <td>NaN</td>\n",
              "      <td>NaN</td>\n",
              "      <td>NaN</td>\n",
              "      <td>NaN</td>\n",
              "    </tr>\n",
              "    <tr>\n",
              "      <th>min</th>\n",
              "      <td>NaN</td>\n",
              "      <td>NaN</td>\n",
              "      <td>1.000000</td>\n",
              "      <td>NaN</td>\n",
              "      <td>NaN</td>\n",
              "      <td>NaN</td>\n",
              "      <td>NaN</td>\n",
              "    </tr>\n",
              "    <tr>\n",
              "      <th>25%</th>\n",
              "      <td>NaN</td>\n",
              "      <td>NaN</td>\n",
              "      <td>4.000000</td>\n",
              "      <td>NaN</td>\n",
              "      <td>NaN</td>\n",
              "      <td>NaN</td>\n",
              "      <td>NaN</td>\n",
              "    </tr>\n",
              "    <tr>\n",
              "      <th>50%</th>\n",
              "      <td>NaN</td>\n",
              "      <td>NaN</td>\n",
              "      <td>5.000000</td>\n",
              "      <td>NaN</td>\n",
              "      <td>NaN</td>\n",
              "      <td>NaN</td>\n",
              "      <td>NaN</td>\n",
              "    </tr>\n",
              "    <tr>\n",
              "      <th>75%</th>\n",
              "      <td>NaN</td>\n",
              "      <td>NaN</td>\n",
              "      <td>5.000000</td>\n",
              "      <td>NaN</td>\n",
              "      <td>NaN</td>\n",
              "      <td>NaN</td>\n",
              "      <td>NaN</td>\n",
              "    </tr>\n",
              "    <tr>\n",
              "      <th>max</th>\n",
              "      <td>NaN</td>\n",
              "      <td>NaN</td>\n",
              "      <td>5.000000</td>\n",
              "      <td>NaN</td>\n",
              "      <td>NaN</td>\n",
              "      <td>NaN</td>\n",
              "      <td>NaN</td>\n",
              "    </tr>\n",
              "  </tbody>\n",
              "</table>\n",
              "</div>"
            ],
            "text/plain": [
              "                               review_id  ... review_answer_timestamp\n",
              "count                             100000  ...                  100000\n",
              "unique                             99173  ...                   99010\n",
              "top     e44840754f12fad2b8646712121b349a  ...     2017-06-15 23:21:05\n",
              "freq                                   3  ...                       4\n",
              "mean                                 NaN  ...                     NaN\n",
              "std                                  NaN  ...                     NaN\n",
              "min                                  NaN  ...                     NaN\n",
              "25%                                  NaN  ...                     NaN\n",
              "50%                                  NaN  ...                     NaN\n",
              "75%                                  NaN  ...                     NaN\n",
              "max                                  NaN  ...                     NaN\n",
              "\n",
              "[11 rows x 7 columns]"
            ]
          },
          "metadata": {
            "tags": []
          }
        },
        {
          "output_type": "display_data",
          "data": {
            "text/html": [
              "<div>\n",
              "<style scoped>\n",
              "    .dataframe tbody tr th:only-of-type {\n",
              "        vertical-align: middle;\n",
              "    }\n",
              "\n",
              "    .dataframe tbody tr th {\n",
              "        vertical-align: top;\n",
              "    }\n",
              "\n",
              "    .dataframe thead th {\n",
              "        text-align: right;\n",
              "    }\n",
              "</style>\n",
              "<table border=\"1\" class=\"dataframe\">\n",
              "  <thead>\n",
              "    <tr style=\"text-align: right;\">\n",
              "      <th></th>\n",
              "      <th>order_id</th>\n",
              "      <th>customer_id</th>\n",
              "      <th>order_status</th>\n",
              "      <th>order_purchase_timestamp</th>\n",
              "      <th>order_approved_at</th>\n",
              "      <th>order_delivered_carrier_date</th>\n",
              "      <th>order_delivered_customer_date</th>\n",
              "      <th>order_estimated_delivery_date</th>\n",
              "    </tr>\n",
              "  </thead>\n",
              "  <tbody>\n",
              "    <tr>\n",
              "      <th>count</th>\n",
              "      <td>99441</td>\n",
              "      <td>99441</td>\n",
              "      <td>99441</td>\n",
              "      <td>99441</td>\n",
              "      <td>99281</td>\n",
              "      <td>97658</td>\n",
              "      <td>96476</td>\n",
              "      <td>99441</td>\n",
              "    </tr>\n",
              "    <tr>\n",
              "      <th>unique</th>\n",
              "      <td>99441</td>\n",
              "      <td>99441</td>\n",
              "      <td>8</td>\n",
              "      <td>98875</td>\n",
              "      <td>90733</td>\n",
              "      <td>81018</td>\n",
              "      <td>95664</td>\n",
              "      <td>459</td>\n",
              "    </tr>\n",
              "    <tr>\n",
              "      <th>top</th>\n",
              "      <td>4edb2debfd66979e4c68897c768c36b8</td>\n",
              "      <td>fabf96df570f9397309836fd077c8ad0</td>\n",
              "      <td>delivered</td>\n",
              "      <td>2017-11-20 11:46:30</td>\n",
              "      <td>2018-02-27 04:31:10</td>\n",
              "      <td>2018-05-09 15:48:00</td>\n",
              "      <td>2017-12-02 00:26:45</td>\n",
              "      <td>2017-12-20 00:00:00</td>\n",
              "    </tr>\n",
              "    <tr>\n",
              "      <th>freq</th>\n",
              "      <td>1</td>\n",
              "      <td>1</td>\n",
              "      <td>96478</td>\n",
              "      <td>3</td>\n",
              "      <td>9</td>\n",
              "      <td>47</td>\n",
              "      <td>3</td>\n",
              "      <td>522</td>\n",
              "    </tr>\n",
              "  </tbody>\n",
              "</table>\n",
              "</div>"
            ],
            "text/plain": [
              "                                order_id  ... order_estimated_delivery_date\n",
              "count                              99441  ...                         99441\n",
              "unique                             99441  ...                           459\n",
              "top     4edb2debfd66979e4c68897c768c36b8  ...           2017-12-20 00:00:00\n",
              "freq                                   1  ...                           522\n",
              "\n",
              "[4 rows x 8 columns]"
            ]
          },
          "metadata": {
            "tags": []
          }
        },
        {
          "output_type": "display_data",
          "data": {
            "text/html": [
              "<div>\n",
              "<style scoped>\n",
              "    .dataframe tbody tr th:only-of-type {\n",
              "        vertical-align: middle;\n",
              "    }\n",
              "\n",
              "    .dataframe tbody tr th {\n",
              "        vertical-align: top;\n",
              "    }\n",
              "\n",
              "    .dataframe thead th {\n",
              "        text-align: right;\n",
              "    }\n",
              "</style>\n",
              "<table border=\"1\" class=\"dataframe\">\n",
              "  <thead>\n",
              "    <tr style=\"text-align: right;\">\n",
              "      <th></th>\n",
              "      <th>product_id</th>\n",
              "      <th>product_category_name</th>\n",
              "      <th>product_name_lenght</th>\n",
              "      <th>product_description_lenght</th>\n",
              "      <th>product_photos_qty</th>\n",
              "      <th>product_weight_g</th>\n",
              "      <th>product_length_cm</th>\n",
              "      <th>product_height_cm</th>\n",
              "      <th>product_width_cm</th>\n",
              "    </tr>\n",
              "  </thead>\n",
              "  <tbody>\n",
              "    <tr>\n",
              "      <th>count</th>\n",
              "      <td>32951</td>\n",
              "      <td>32341</td>\n",
              "      <td>32341.000000</td>\n",
              "      <td>32341.000000</td>\n",
              "      <td>32341.000000</td>\n",
              "      <td>32949.000000</td>\n",
              "      <td>32949.000000</td>\n",
              "      <td>32949.000000</td>\n",
              "      <td>32949.000000</td>\n",
              "    </tr>\n",
              "    <tr>\n",
              "      <th>unique</th>\n",
              "      <td>32951</td>\n",
              "      <td>73</td>\n",
              "      <td>NaN</td>\n",
              "      <td>NaN</td>\n",
              "      <td>NaN</td>\n",
              "      <td>NaN</td>\n",
              "      <td>NaN</td>\n",
              "      <td>NaN</td>\n",
              "      <td>NaN</td>\n",
              "    </tr>\n",
              "    <tr>\n",
              "      <th>top</th>\n",
              "      <td>c6bc6e6265a9e3e202b0e843c983e77f</td>\n",
              "      <td>cama_mesa_banho</td>\n",
              "      <td>NaN</td>\n",
              "      <td>NaN</td>\n",
              "      <td>NaN</td>\n",
              "      <td>NaN</td>\n",
              "      <td>NaN</td>\n",
              "      <td>NaN</td>\n",
              "      <td>NaN</td>\n",
              "    </tr>\n",
              "    <tr>\n",
              "      <th>freq</th>\n",
              "      <td>1</td>\n",
              "      <td>3029</td>\n",
              "      <td>NaN</td>\n",
              "      <td>NaN</td>\n",
              "      <td>NaN</td>\n",
              "      <td>NaN</td>\n",
              "      <td>NaN</td>\n",
              "      <td>NaN</td>\n",
              "      <td>NaN</td>\n",
              "    </tr>\n",
              "    <tr>\n",
              "      <th>mean</th>\n",
              "      <td>NaN</td>\n",
              "      <td>NaN</td>\n",
              "      <td>48.476949</td>\n",
              "      <td>771.495285</td>\n",
              "      <td>2.188986</td>\n",
              "      <td>2276.472488</td>\n",
              "      <td>30.815078</td>\n",
              "      <td>16.937661</td>\n",
              "      <td>23.196728</td>\n",
              "    </tr>\n",
              "    <tr>\n",
              "      <th>std</th>\n",
              "      <td>NaN</td>\n",
              "      <td>NaN</td>\n",
              "      <td>10.245741</td>\n",
              "      <td>635.115225</td>\n",
              "      <td>1.736766</td>\n",
              "      <td>4282.038731</td>\n",
              "      <td>16.914458</td>\n",
              "      <td>13.637554</td>\n",
              "      <td>12.079047</td>\n",
              "    </tr>\n",
              "    <tr>\n",
              "      <th>min</th>\n",
              "      <td>NaN</td>\n",
              "      <td>NaN</td>\n",
              "      <td>5.000000</td>\n",
              "      <td>4.000000</td>\n",
              "      <td>1.000000</td>\n",
              "      <td>0.000000</td>\n",
              "      <td>7.000000</td>\n",
              "      <td>2.000000</td>\n",
              "      <td>6.000000</td>\n",
              "    </tr>\n",
              "    <tr>\n",
              "      <th>25%</th>\n",
              "      <td>NaN</td>\n",
              "      <td>NaN</td>\n",
              "      <td>42.000000</td>\n",
              "      <td>339.000000</td>\n",
              "      <td>1.000000</td>\n",
              "      <td>300.000000</td>\n",
              "      <td>18.000000</td>\n",
              "      <td>8.000000</td>\n",
              "      <td>15.000000</td>\n",
              "    </tr>\n",
              "    <tr>\n",
              "      <th>50%</th>\n",
              "      <td>NaN</td>\n",
              "      <td>NaN</td>\n",
              "      <td>51.000000</td>\n",
              "      <td>595.000000</td>\n",
              "      <td>1.000000</td>\n",
              "      <td>700.000000</td>\n",
              "      <td>25.000000</td>\n",
              "      <td>13.000000</td>\n",
              "      <td>20.000000</td>\n",
              "    </tr>\n",
              "    <tr>\n",
              "      <th>75%</th>\n",
              "      <td>NaN</td>\n",
              "      <td>NaN</td>\n",
              "      <td>57.000000</td>\n",
              "      <td>972.000000</td>\n",
              "      <td>3.000000</td>\n",
              "      <td>1900.000000</td>\n",
              "      <td>38.000000</td>\n",
              "      <td>21.000000</td>\n",
              "      <td>30.000000</td>\n",
              "    </tr>\n",
              "    <tr>\n",
              "      <th>max</th>\n",
              "      <td>NaN</td>\n",
              "      <td>NaN</td>\n",
              "      <td>76.000000</td>\n",
              "      <td>3992.000000</td>\n",
              "      <td>20.000000</td>\n",
              "      <td>40425.000000</td>\n",
              "      <td>105.000000</td>\n",
              "      <td>105.000000</td>\n",
              "      <td>118.000000</td>\n",
              "    </tr>\n",
              "  </tbody>\n",
              "</table>\n",
              "</div>"
            ],
            "text/plain": [
              "                              product_id  ... product_width_cm\n",
              "count                              32951  ...     32949.000000\n",
              "unique                             32951  ...              NaN\n",
              "top     c6bc6e6265a9e3e202b0e843c983e77f  ...              NaN\n",
              "freq                                   1  ...              NaN\n",
              "mean                                 NaN  ...        23.196728\n",
              "std                                  NaN  ...        12.079047\n",
              "min                                  NaN  ...         6.000000\n",
              "25%                                  NaN  ...        15.000000\n",
              "50%                                  NaN  ...        20.000000\n",
              "75%                                  NaN  ...        30.000000\n",
              "max                                  NaN  ...       118.000000\n",
              "\n",
              "[11 rows x 9 columns]"
            ]
          },
          "metadata": {
            "tags": []
          }
        },
        {
          "output_type": "display_data",
          "data": {
            "text/html": [
              "<div>\n",
              "<style scoped>\n",
              "    .dataframe tbody tr th:only-of-type {\n",
              "        vertical-align: middle;\n",
              "    }\n",
              "\n",
              "    .dataframe tbody tr th {\n",
              "        vertical-align: top;\n",
              "    }\n",
              "\n",
              "    .dataframe thead th {\n",
              "        text-align: right;\n",
              "    }\n",
              "</style>\n",
              "<table border=\"1\" class=\"dataframe\">\n",
              "  <thead>\n",
              "    <tr style=\"text-align: right;\">\n",
              "      <th></th>\n",
              "      <th>seller_id</th>\n",
              "      <th>seller_zip_code_prefix</th>\n",
              "      <th>seller_city</th>\n",
              "      <th>seller_state</th>\n",
              "    </tr>\n",
              "  </thead>\n",
              "  <tbody>\n",
              "    <tr>\n",
              "      <th>count</th>\n",
              "      <td>3095</td>\n",
              "      <td>3095.000000</td>\n",
              "      <td>3095</td>\n",
              "      <td>3095</td>\n",
              "    </tr>\n",
              "    <tr>\n",
              "      <th>unique</th>\n",
              "      <td>3095</td>\n",
              "      <td>NaN</td>\n",
              "      <td>611</td>\n",
              "      <td>23</td>\n",
              "    </tr>\n",
              "    <tr>\n",
              "      <th>top</th>\n",
              "      <td>c3cfdc648177fdbbbb35635a37472c53</td>\n",
              "      <td>NaN</td>\n",
              "      <td>sao paulo</td>\n",
              "      <td>SP</td>\n",
              "    </tr>\n",
              "    <tr>\n",
              "      <th>freq</th>\n",
              "      <td>1</td>\n",
              "      <td>NaN</td>\n",
              "      <td>694</td>\n",
              "      <td>1849</td>\n",
              "    </tr>\n",
              "    <tr>\n",
              "      <th>mean</th>\n",
              "      <td>NaN</td>\n",
              "      <td>32291.059451</td>\n",
              "      <td>NaN</td>\n",
              "      <td>NaN</td>\n",
              "    </tr>\n",
              "    <tr>\n",
              "      <th>std</th>\n",
              "      <td>NaN</td>\n",
              "      <td>32713.453830</td>\n",
              "      <td>NaN</td>\n",
              "      <td>NaN</td>\n",
              "    </tr>\n",
              "    <tr>\n",
              "      <th>min</th>\n",
              "      <td>NaN</td>\n",
              "      <td>1001.000000</td>\n",
              "      <td>NaN</td>\n",
              "      <td>NaN</td>\n",
              "    </tr>\n",
              "    <tr>\n",
              "      <th>25%</th>\n",
              "      <td>NaN</td>\n",
              "      <td>7093.500000</td>\n",
              "      <td>NaN</td>\n",
              "      <td>NaN</td>\n",
              "    </tr>\n",
              "    <tr>\n",
              "      <th>50%</th>\n",
              "      <td>NaN</td>\n",
              "      <td>14940.000000</td>\n",
              "      <td>NaN</td>\n",
              "      <td>NaN</td>\n",
              "    </tr>\n",
              "    <tr>\n",
              "      <th>75%</th>\n",
              "      <td>NaN</td>\n",
              "      <td>64552.500000</td>\n",
              "      <td>NaN</td>\n",
              "      <td>NaN</td>\n",
              "    </tr>\n",
              "    <tr>\n",
              "      <th>max</th>\n",
              "      <td>NaN</td>\n",
              "      <td>99730.000000</td>\n",
              "      <td>NaN</td>\n",
              "      <td>NaN</td>\n",
              "    </tr>\n",
              "  </tbody>\n",
              "</table>\n",
              "</div>"
            ],
            "text/plain": [
              "                               seller_id  ...  seller_state\n",
              "count                               3095  ...          3095\n",
              "unique                              3095  ...            23\n",
              "top     c3cfdc648177fdbbbb35635a37472c53  ...            SP\n",
              "freq                                   1  ...          1849\n",
              "mean                                 NaN  ...           NaN\n",
              "std                                  NaN  ...           NaN\n",
              "min                                  NaN  ...           NaN\n",
              "25%                                  NaN  ...           NaN\n",
              "50%                                  NaN  ...           NaN\n",
              "75%                                  NaN  ...           NaN\n",
              "max                                  NaN  ...           NaN\n",
              "\n",
              "[11 rows x 4 columns]"
            ]
          },
          "metadata": {
            "tags": []
          }
        },
        {
          "output_type": "display_data",
          "data": {
            "text/html": [
              "<div>\n",
              "<style scoped>\n",
              "    .dataframe tbody tr th:only-of-type {\n",
              "        vertical-align: middle;\n",
              "    }\n",
              "\n",
              "    .dataframe tbody tr th {\n",
              "        vertical-align: top;\n",
              "    }\n",
              "\n",
              "    .dataframe thead th {\n",
              "        text-align: right;\n",
              "    }\n",
              "</style>\n",
              "<table border=\"1\" class=\"dataframe\">\n",
              "  <thead>\n",
              "    <tr style=\"text-align: right;\">\n",
              "      <th></th>\n",
              "      <th>product_category_name</th>\n",
              "      <th>product_category_name_english</th>\n",
              "    </tr>\n",
              "  </thead>\n",
              "  <tbody>\n",
              "    <tr>\n",
              "      <th>count</th>\n",
              "      <td>71</td>\n",
              "      <td>71</td>\n",
              "    </tr>\n",
              "    <tr>\n",
              "      <th>unique</th>\n",
              "      <td>71</td>\n",
              "      <td>71</td>\n",
              "    </tr>\n",
              "    <tr>\n",
              "      <th>top</th>\n",
              "      <td>musica</td>\n",
              "      <td>fashion_sport</td>\n",
              "    </tr>\n",
              "    <tr>\n",
              "      <th>freq</th>\n",
              "      <td>1</td>\n",
              "      <td>1</td>\n",
              "    </tr>\n",
              "  </tbody>\n",
              "</table>\n",
              "</div>"
            ],
            "text/plain": [
              "       product_category_name product_category_name_english\n",
              "count                     71                            71\n",
              "unique                    71                            71\n",
              "top                   musica                 fashion_sport\n",
              "freq                       1                             1"
            ]
          },
          "metadata": {
            "tags": []
          }
        },
        {
          "output_type": "display_data",
          "data": {
            "text/html": [
              "<div>\n",
              "<style scoped>\n",
              "    .dataframe tbody tr th:only-of-type {\n",
              "        vertical-align: middle;\n",
              "    }\n",
              "\n",
              "    .dataframe tbody tr th {\n",
              "        vertical-align: top;\n",
              "    }\n",
              "\n",
              "    .dataframe thead th {\n",
              "        text-align: right;\n",
              "    }\n",
              "</style>\n",
              "<table border=\"1\" class=\"dataframe\">\n",
              "  <thead>\n",
              "    <tr style=\"text-align: right;\">\n",
              "      <th></th>\n",
              "      <th>Unnamed: 0</th>\n",
              "      <th>seller_city</th>\n",
              "      <th>seller_lat</th>\n",
              "      <th>seller_long</th>\n",
              "    </tr>\n",
              "  </thead>\n",
              "  <tbody>\n",
              "    <tr>\n",
              "      <th>count</th>\n",
              "      <td>581.000000</td>\n",
              "      <td>581</td>\n",
              "      <td>581.000000</td>\n",
              "      <td>581.000000</td>\n",
              "    </tr>\n",
              "    <tr>\n",
              "      <th>unique</th>\n",
              "      <td>NaN</td>\n",
              "      <td>581</td>\n",
              "      <td>NaN</td>\n",
              "      <td>NaN</td>\n",
              "    </tr>\n",
              "    <tr>\n",
              "      <th>top</th>\n",
              "      <td>NaN</td>\n",
              "      <td>marilia</td>\n",
              "      <td>NaN</td>\n",
              "      <td>NaN</td>\n",
              "    </tr>\n",
              "    <tr>\n",
              "      <th>freq</th>\n",
              "      <td>NaN</td>\n",
              "      <td>1</td>\n",
              "      <td>NaN</td>\n",
              "      <td>NaN</td>\n",
              "    </tr>\n",
              "    <tr>\n",
              "      <th>mean</th>\n",
              "      <td>264.254733</td>\n",
              "      <td>NaN</td>\n",
              "      <td>-21.842992</td>\n",
              "      <td>-46.775267</td>\n",
              "    </tr>\n",
              "    <tr>\n",
              "      <th>std</th>\n",
              "      <td>165.875069</td>\n",
              "      <td>NaN</td>\n",
              "      <td>5.969825</td>\n",
              "      <td>9.279180</td>\n",
              "    </tr>\n",
              "    <tr>\n",
              "      <th>min</th>\n",
              "      <td>0.000000</td>\n",
              "      <td>NaN</td>\n",
              "      <td>-32.084210</td>\n",
              "      <td>-63.893400</td>\n",
              "    </tr>\n",
              "    <tr>\n",
              "      <th>25%</th>\n",
              "      <td>118.000000</td>\n",
              "      <td>NaN</td>\n",
              "      <td>-24.554170</td>\n",
              "      <td>-49.951230</td>\n",
              "    </tr>\n",
              "    <tr>\n",
              "      <th>50%</th>\n",
              "      <td>263.000000</td>\n",
              "      <td>NaN</td>\n",
              "      <td>-22.761380</td>\n",
              "      <td>-47.567660</td>\n",
              "    </tr>\n",
              "    <tr>\n",
              "      <th>75%</th>\n",
              "      <td>408.000000</td>\n",
              "      <td>NaN</td>\n",
              "      <td>-20.734620</td>\n",
              "      <td>-44.889110</td>\n",
              "    </tr>\n",
              "    <tr>\n",
              "      <th>max</th>\n",
              "      <td>553.000000</td>\n",
              "      <td>NaN</td>\n",
              "      <td>38.707380</td>\n",
              "      <td>141.752000</td>\n",
              "    </tr>\n",
              "  </tbody>\n",
              "</table>\n",
              "</div>"
            ],
            "text/plain": [
              "        Unnamed: 0 seller_city  seller_lat  seller_long\n",
              "count   581.000000         581  581.000000   581.000000\n",
              "unique         NaN         581         NaN          NaN\n",
              "top            NaN     marilia         NaN          NaN\n",
              "freq           NaN           1         NaN          NaN\n",
              "mean    264.254733         NaN  -21.842992   -46.775267\n",
              "std     165.875069         NaN    5.969825     9.279180\n",
              "min       0.000000         NaN  -32.084210   -63.893400\n",
              "25%     118.000000         NaN  -24.554170   -49.951230\n",
              "50%     263.000000         NaN  -22.761380   -47.567660\n",
              "75%     408.000000         NaN  -20.734620   -44.889110\n",
              "max     553.000000         NaN   38.707380   141.752000"
            ]
          },
          "metadata": {
            "tags": []
          }
        }
      ]
    },
    {
      "cell_type": "markdown",
      "metadata": {
        "papermill": {
          "duration": 0.272804,
          "end_time": "2020-09-14T08:58:44.799123",
          "exception": false,
          "start_time": "2020-09-14T08:58:44.526319",
          "status": "completed"
        },
        "tags": [],
        "id": "xCg_nQylS7fn"
      },
      "source": [
        "### Checking for NA Values in datasets and cleaning them"
      ]
    },
    {
      "cell_type": "code",
      "metadata": {
        "execution": {
          "iopub.execute_input": "2020-09-14T08:58:45.391773Z",
          "iopub.status.busy": "2020-09-14T08:58:45.390923Z",
          "iopub.status.idle": "2020-09-14T08:58:45.865360Z",
          "shell.execute_reply": "2020-09-14T08:58:45.864555Z"
        },
        "papermill": {
          "duration": 0.795715,
          "end_time": "2020-09-14T08:58:45.865496",
          "exception": false,
          "start_time": "2020-09-14T08:58:45.069781",
          "status": "completed"
        },
        "tags": [],
        "id": "KLm239JLS7fo",
        "outputId": "0588b286-6c6d-4ef7-b241-a5d1aea1f712",
        "colab": {
          "base_uri": "https://localhost:8080/"
        }
      },
      "source": [
        "sno=0\n",
        "for i in df_list:\n",
        "    print(str(sno)+','+filenamelist[sno]+':  '+str(i.isnull().sum().sum()))\n",
        "    sno+=1"
      ],
      "execution_count": 221,
      "outputs": [
        {
          "output_type": "stream",
          "text": [
            "0,customers:  0\n",
            "1,geolocation:  0\n",
            "2,orderitems:  0\n",
            "3,orderpayments:  0\n",
            "4,orderreviews:  146532\n",
            "5,orders:  4908\n",
            "6,products:  2448\n",
            "7,sellers:  0\n",
            "8,categoryname:  0\n",
            "9,sellerlocation:  0\n"
          ],
          "name": "stdout"
        }
      ]
    },
    {
      "cell_type": "markdown",
      "metadata": {
        "papermill": {
          "duration": 0.279613,
          "end_time": "2020-09-14T08:58:46.464216",
          "exception": false,
          "start_time": "2020-09-14T08:58:46.184603",
          "status": "completed"
        },
        "tags": [],
        "id": "qdG8goePS7fr"
      },
      "source": [
        "#### Preprocessing on Customers ad Geolocation Dataframe"
      ]
    },
    {
      "cell_type": "code",
      "metadata": {
        "execution": {
          "iopub.execute_input": "2020-09-14T08:58:47.005547Z",
          "iopub.status.busy": "2020-09-14T08:58:47.004628Z",
          "iopub.status.idle": "2020-09-14T08:58:47.140101Z",
          "shell.execute_reply": "2020-09-14T08:58:47.139392Z"
        },
        "papermill": {
          "duration": 0.408275,
          "end_time": "2020-09-14T08:58:47.140256",
          "exception": false,
          "start_time": "2020-09-14T08:58:46.731981",
          "status": "completed"
        },
        "tags": [],
        "id": "pI3SdaxCS7fr",
        "outputId": "fc04f1c5-c064-4e2f-9650-388f39150931",
        "colab": {
          "base_uri": "https://localhost:8080/"
        }
      },
      "source": [
        "customers.nunique()"
      ],
      "execution_count": 222,
      "outputs": [
        {
          "output_type": "execute_result",
          "data": {
            "text/plain": [
              "customer_id                 99441\n",
              "customer_unique_id          96096\n",
              "customer_zip_code_prefix    14994\n",
              "customer_city                4119\n",
              "customer_state                 27\n",
              "dtype: int64"
            ]
          },
          "metadata": {
            "tags": []
          },
          "execution_count": 222
        }
      ]
    },
    {
      "cell_type": "code",
      "metadata": {
        "execution": {
          "iopub.execute_input": "2020-09-14T08:58:47.693608Z",
          "iopub.status.busy": "2020-09-14T08:58:47.692697Z",
          "iopub.status.idle": "2020-09-14T08:58:57.447106Z",
          "shell.execute_reply": "2020-09-14T08:58:57.446379Z"
        },
        "papermill": {
          "duration": 10.030972,
          "end_time": "2020-09-14T08:58:57.447287",
          "exception": false,
          "start_time": "2020-09-14T08:58:47.416315",
          "status": "completed"
        },
        "tags": [],
        "id": "TmSPa15tS7ft"
      },
      "source": [
        "customer_geolocation = pd.merge(customers,geolocation,how='left',right_on=['geolocation_zip_code_prefix','geolocation_city' ,'geolocation_state'], left_on=['customer_zip_code_prefix','customer_city','customer_state'],sort=False)\n",
        "customer_geolocation.drop(columns=['geolocation_zip_code_prefix','geolocation_city','geolocation_state'],inplace=True)"
      ],
      "execution_count": 223,
      "outputs": []
    },
    {
      "cell_type": "code",
      "metadata": {
        "execution": {
          "iopub.execute_input": "2020-09-14T08:58:58.645836Z",
          "iopub.status.busy": "2020-09-14T08:58:58.644590Z",
          "iopub.status.idle": "2020-09-14T08:59:00.193257Z",
          "shell.execute_reply": "2020-09-14T08:59:00.192418Z"
        },
        "papermill": {
          "duration": 2.475201,
          "end_time": "2020-09-14T08:59:00.193400",
          "exception": false,
          "start_time": "2020-09-14T08:58:57.718199",
          "status": "completed"
        },
        "tags": [],
        "id": "yzsmB3bFS7fv",
        "outputId": "3b6fd8da-066c-4d3e-cdb2-85f8bbf60e44",
        "colab": {
          "base_uri": "https://localhost:8080/",
          "height": 0
        }
      },
      "source": [
        "customer_geolocation.drop_duplicates(subset =\"customer_unique_id\",inplace=True,keep=\"first\")\n",
        "customer_geolocation=customer_geolocation[~customer_geolocation['geolocation_lat'].isnull()]\n",
        "customer_geolocation.head()"
      ],
      "execution_count": 224,
      "outputs": [
        {
          "output_type": "execute_result",
          "data": {
            "text/html": [
              "<div>\n",
              "<style scoped>\n",
              "    .dataframe tbody tr th:only-of-type {\n",
              "        vertical-align: middle;\n",
              "    }\n",
              "\n",
              "    .dataframe tbody tr th {\n",
              "        vertical-align: top;\n",
              "    }\n",
              "\n",
              "    .dataframe thead th {\n",
              "        text-align: right;\n",
              "    }\n",
              "</style>\n",
              "<table border=\"1\" class=\"dataframe\">\n",
              "  <thead>\n",
              "    <tr style=\"text-align: right;\">\n",
              "      <th></th>\n",
              "      <th>customer_id</th>\n",
              "      <th>customer_unique_id</th>\n",
              "      <th>customer_zip_code_prefix</th>\n",
              "      <th>customer_city</th>\n",
              "      <th>customer_state</th>\n",
              "      <th>geolocation_lat</th>\n",
              "      <th>geolocation_lng</th>\n",
              "    </tr>\n",
              "  </thead>\n",
              "  <tbody>\n",
              "    <tr>\n",
              "      <th>0</th>\n",
              "      <td>06b8999e2fba1a1fbc88172c00ba8bc7</td>\n",
              "      <td>861eff4711a542e4b93843c6dd7febb0</td>\n",
              "      <td>14409</td>\n",
              "      <td>franca</td>\n",
              "      <td>SP</td>\n",
              "      <td>-20.509897</td>\n",
              "      <td>-47.397866</td>\n",
              "    </tr>\n",
              "    <tr>\n",
              "      <th>147</th>\n",
              "      <td>18955e83d337fd6b2def6b18a428ac77</td>\n",
              "      <td>290c77bc529b7ac935b93aa66c333dc3</td>\n",
              "      <td>9790</td>\n",
              "      <td>sao bernardo do campo</td>\n",
              "      <td>SP</td>\n",
              "      <td>-23.726853</td>\n",
              "      <td>-46.545746</td>\n",
              "    </tr>\n",
              "    <tr>\n",
              "      <th>300</th>\n",
              "      <td>4e7b3e00288586ebd08712fdd0374a03</td>\n",
              "      <td>060e732b5b29e8181a18229c7b0b2b5e</td>\n",
              "      <td>1151</td>\n",
              "      <td>sao paulo</td>\n",
              "      <td>SP</td>\n",
              "      <td>-23.527788</td>\n",
              "      <td>-46.660310</td>\n",
              "    </tr>\n",
              "    <tr>\n",
              "      <th>387</th>\n",
              "      <td>b2b6027bc5c5109e529d4dc6358b12c3</td>\n",
              "      <td>259dac757896d24d7702b9acbbff3f3c</td>\n",
              "      <td>8775</td>\n",
              "      <td>mogi das cruzes</td>\n",
              "      <td>SP</td>\n",
              "      <td>-23.496930</td>\n",
              "      <td>-46.185352</td>\n",
              "    </tr>\n",
              "    <tr>\n",
              "      <th>520</th>\n",
              "      <td>4f2d8ab171c80ec8364f7c12e35b23ad</td>\n",
              "      <td>345ecd01c38d18a9036ed96c73b8d066</td>\n",
              "      <td>13056</td>\n",
              "      <td>campinas</td>\n",
              "      <td>SP</td>\n",
              "      <td>-22.987222</td>\n",
              "      <td>-47.151073</td>\n",
              "    </tr>\n",
              "  </tbody>\n",
              "</table>\n",
              "</div>"
            ],
            "text/plain": [
              "                          customer_id  ... geolocation_lng\n",
              "0    06b8999e2fba1a1fbc88172c00ba8bc7  ...      -47.397866\n",
              "147  18955e83d337fd6b2def6b18a428ac77  ...      -46.545746\n",
              "300  4e7b3e00288586ebd08712fdd0374a03  ...      -46.660310\n",
              "387  b2b6027bc5c5109e529d4dc6358b12c3  ...      -46.185352\n",
              "520  4f2d8ab171c80ec8364f7c12e35b23ad  ...      -47.151073\n",
              "\n",
              "[5 rows x 7 columns]"
            ]
          },
          "metadata": {
            "tags": []
          },
          "execution_count": 224
        }
      ]
    },
    {
      "cell_type": "markdown",
      "metadata": {
        "papermill": {
          "duration": 0.27467,
          "end_time": "2020-09-14T08:59:00.737536",
          "exception": false,
          "start_time": "2020-09-14T08:59:00.462866",
          "status": "completed"
        },
        "tags": [],
        "id": "nipgs910S7fy"
      },
      "source": [
        "#### Cleaning order items dataframe"
      ]
    },
    {
      "cell_type": "code",
      "metadata": {
        "execution": {
          "iopub.execute_input": "2020-09-14T08:59:01.300366Z",
          "iopub.status.busy": "2020-09-14T08:59:01.299185Z",
          "iopub.status.idle": "2020-09-14T08:59:01.997226Z",
          "shell.execute_reply": "2020-09-14T08:59:01.996456Z"
        },
        "papermill": {
          "duration": 0.990391,
          "end_time": "2020-09-14T08:59:01.997403",
          "exception": false,
          "start_time": "2020-09-14T08:59:01.007012",
          "status": "completed"
        },
        "tags": [],
        "id": "73aBo-0tS7fy",
        "outputId": "53bb2dcb-33d1-4eb3-8609-be76b752b71a",
        "colab": {
          "base_uri": "https://localhost:8080/",
          "height": 0
        }
      },
      "source": [
        "orderitems['shipping_limit_date'],orderitems['shipping_limit_time'] = orderitems['shipping_limit_date'].str.split(' ').str\n",
        "orderitems.head()"
      ],
      "execution_count": 225,
      "outputs": [
        {
          "output_type": "stream",
          "text": [
            "/usr/local/lib/python3.6/dist-packages/ipykernel_launcher.py:1: FutureWarning:\n",
            "\n",
            "Columnar iteration over characters will be deprecated in future releases.\n",
            "\n"
          ],
          "name": "stderr"
        },
        {
          "output_type": "execute_result",
          "data": {
            "text/html": [
              "<div>\n",
              "<style scoped>\n",
              "    .dataframe tbody tr th:only-of-type {\n",
              "        vertical-align: middle;\n",
              "    }\n",
              "\n",
              "    .dataframe tbody tr th {\n",
              "        vertical-align: top;\n",
              "    }\n",
              "\n",
              "    .dataframe thead th {\n",
              "        text-align: right;\n",
              "    }\n",
              "</style>\n",
              "<table border=\"1\" class=\"dataframe\">\n",
              "  <thead>\n",
              "    <tr style=\"text-align: right;\">\n",
              "      <th></th>\n",
              "      <th>order_id</th>\n",
              "      <th>order_item_id</th>\n",
              "      <th>product_id</th>\n",
              "      <th>seller_id</th>\n",
              "      <th>shipping_limit_date</th>\n",
              "      <th>price</th>\n",
              "      <th>freight_value</th>\n",
              "      <th>shipping_limit_time</th>\n",
              "    </tr>\n",
              "  </thead>\n",
              "  <tbody>\n",
              "    <tr>\n",
              "      <th>0</th>\n",
              "      <td>00010242fe8c5a6d1ba2dd792cb16214</td>\n",
              "      <td>1</td>\n",
              "      <td>4244733e06e7ecb4970a6e2683c13e61</td>\n",
              "      <td>48436dade18ac8b2bce089ec2a041202</td>\n",
              "      <td>2017-09-19</td>\n",
              "      <td>58.90</td>\n",
              "      <td>13.29</td>\n",
              "      <td>09:45:35</td>\n",
              "    </tr>\n",
              "    <tr>\n",
              "      <th>1</th>\n",
              "      <td>00018f77f2f0320c557190d7a144bdd3</td>\n",
              "      <td>1</td>\n",
              "      <td>e5f2d52b802189ee658865ca93d83a8f</td>\n",
              "      <td>dd7ddc04e1b6c2c614352b383efe2d36</td>\n",
              "      <td>2017-05-03</td>\n",
              "      <td>239.90</td>\n",
              "      <td>19.93</td>\n",
              "      <td>11:05:13</td>\n",
              "    </tr>\n",
              "    <tr>\n",
              "      <th>2</th>\n",
              "      <td>000229ec398224ef6ca0657da4fc703e</td>\n",
              "      <td>1</td>\n",
              "      <td>c777355d18b72b67abbeef9df44fd0fd</td>\n",
              "      <td>5b51032eddd242adc84c38acab88f23d</td>\n",
              "      <td>2018-01-18</td>\n",
              "      <td>199.00</td>\n",
              "      <td>17.87</td>\n",
              "      <td>14:48:30</td>\n",
              "    </tr>\n",
              "    <tr>\n",
              "      <th>3</th>\n",
              "      <td>00024acbcdf0a6daa1e931b038114c75</td>\n",
              "      <td>1</td>\n",
              "      <td>7634da152a4610f1595efa32f14722fc</td>\n",
              "      <td>9d7a1d34a5052409006425275ba1c2b4</td>\n",
              "      <td>2018-08-15</td>\n",
              "      <td>12.99</td>\n",
              "      <td>12.79</td>\n",
              "      <td>10:10:18</td>\n",
              "    </tr>\n",
              "    <tr>\n",
              "      <th>4</th>\n",
              "      <td>00042b26cf59d7ce69dfabb4e55b4fd9</td>\n",
              "      <td>1</td>\n",
              "      <td>ac6c3623068f30de03045865e4e10089</td>\n",
              "      <td>df560393f3a51e74553ab94004ba5c87</td>\n",
              "      <td>2017-02-13</td>\n",
              "      <td>199.90</td>\n",
              "      <td>18.14</td>\n",
              "      <td>13:57:51</td>\n",
              "    </tr>\n",
              "  </tbody>\n",
              "</table>\n",
              "</div>"
            ],
            "text/plain": [
              "                           order_id  ...  shipping_limit_time\n",
              "0  00010242fe8c5a6d1ba2dd792cb16214  ...             09:45:35\n",
              "1  00018f77f2f0320c557190d7a144bdd3  ...             11:05:13\n",
              "2  000229ec398224ef6ca0657da4fc703e  ...             14:48:30\n",
              "3  00024acbcdf0a6daa1e931b038114c75  ...             10:10:18\n",
              "4  00042b26cf59d7ce69dfabb4e55b4fd9  ...             13:57:51\n",
              "\n",
              "[5 rows x 8 columns]"
            ]
          },
          "metadata": {
            "tags": []
          },
          "execution_count": 225
        }
      ]
    },
    {
      "cell_type": "markdown",
      "metadata": {
        "papermill": {
          "duration": 0.268865,
          "end_time": "2020-09-14T08:59:02.538542",
          "exception": false,
          "start_time": "2020-09-14T08:59:02.269677",
          "status": "completed"
        },
        "tags": [],
        "id": "qLwX5IgbS7f1"
      },
      "source": [
        "#### Cleaning orderpayments dataframe"
      ]
    },
    {
      "cell_type": "code",
      "metadata": {
        "execution": {
          "iopub.execute_input": "2020-09-14T08:59:03.098518Z",
          "iopub.status.busy": "2020-09-14T08:59:03.097563Z",
          "iopub.status.idle": "2020-09-14T08:59:03.102572Z",
          "shell.execute_reply": "2020-09-14T08:59:03.101953Z"
        },
        "papermill": {
          "duration": 0.292237,
          "end_time": "2020-09-14T08:59:03.102707",
          "exception": false,
          "start_time": "2020-09-14T08:59:02.810470",
          "status": "completed"
        },
        "tags": [],
        "id": "ZJz6jSBES7f1",
        "outputId": "fd5a776a-0263-42fc-c073-cd7d72abc5c6",
        "colab": {
          "base_uri": "https://localhost:8080/",
          "height": 0
        }
      },
      "source": [
        "orderpayments.head()"
      ],
      "execution_count": 226,
      "outputs": [
        {
          "output_type": "execute_result",
          "data": {
            "text/html": [
              "<div>\n",
              "<style scoped>\n",
              "    .dataframe tbody tr th:only-of-type {\n",
              "        vertical-align: middle;\n",
              "    }\n",
              "\n",
              "    .dataframe tbody tr th {\n",
              "        vertical-align: top;\n",
              "    }\n",
              "\n",
              "    .dataframe thead th {\n",
              "        text-align: right;\n",
              "    }\n",
              "</style>\n",
              "<table border=\"1\" class=\"dataframe\">\n",
              "  <thead>\n",
              "    <tr style=\"text-align: right;\">\n",
              "      <th></th>\n",
              "      <th>order_id</th>\n",
              "      <th>payment_sequential</th>\n",
              "      <th>payment_type</th>\n",
              "      <th>payment_installments</th>\n",
              "      <th>payment_value</th>\n",
              "    </tr>\n",
              "  </thead>\n",
              "  <tbody>\n",
              "    <tr>\n",
              "      <th>0</th>\n",
              "      <td>b81ef226f3fe1789b1e8b2acac839d17</td>\n",
              "      <td>1</td>\n",
              "      <td>credit_card</td>\n",
              "      <td>8</td>\n",
              "      <td>99.33</td>\n",
              "    </tr>\n",
              "    <tr>\n",
              "      <th>1</th>\n",
              "      <td>a9810da82917af2d9aefd1278f1dcfa0</td>\n",
              "      <td>1</td>\n",
              "      <td>credit_card</td>\n",
              "      <td>1</td>\n",
              "      <td>24.39</td>\n",
              "    </tr>\n",
              "    <tr>\n",
              "      <th>2</th>\n",
              "      <td>25e8ea4e93396b6fa0d3dd708e76c1bd</td>\n",
              "      <td>1</td>\n",
              "      <td>credit_card</td>\n",
              "      <td>1</td>\n",
              "      <td>65.71</td>\n",
              "    </tr>\n",
              "    <tr>\n",
              "      <th>3</th>\n",
              "      <td>ba78997921bbcdc1373bb41e913ab953</td>\n",
              "      <td>1</td>\n",
              "      <td>credit_card</td>\n",
              "      <td>8</td>\n",
              "      <td>107.78</td>\n",
              "    </tr>\n",
              "    <tr>\n",
              "      <th>4</th>\n",
              "      <td>42fdf880ba16b47b59251dd489d4441a</td>\n",
              "      <td>1</td>\n",
              "      <td>credit_card</td>\n",
              "      <td>2</td>\n",
              "      <td>128.45</td>\n",
              "    </tr>\n",
              "  </tbody>\n",
              "</table>\n",
              "</div>"
            ],
            "text/plain": [
              "                           order_id  ...  payment_value\n",
              "0  b81ef226f3fe1789b1e8b2acac839d17  ...          99.33\n",
              "1  a9810da82917af2d9aefd1278f1dcfa0  ...          24.39\n",
              "2  25e8ea4e93396b6fa0d3dd708e76c1bd  ...          65.71\n",
              "3  ba78997921bbcdc1373bb41e913ab953  ...         107.78\n",
              "4  42fdf880ba16b47b59251dd489d4441a  ...         128.45\n",
              "\n",
              "[5 rows x 5 columns]"
            ]
          },
          "metadata": {
            "tags": []
          },
          "execution_count": 226
        }
      ]
    },
    {
      "cell_type": "markdown",
      "metadata": {
        "papermill": {
          "duration": 0.270853,
          "end_time": "2020-09-14T08:59:03.646721",
          "exception": false,
          "start_time": "2020-09-14T08:59:03.375868",
          "status": "completed"
        },
        "tags": [],
        "id": "7-YoDwp3S7f4"
      },
      "source": [
        "#### Cleaning orderreviews Dataframe"
      ]
    },
    {
      "cell_type": "code",
      "metadata": {
        "execution": {
          "iopub.execute_input": "2020-09-14T08:59:04.234528Z",
          "iopub.status.busy": "2020-09-14T08:59:04.220575Z",
          "iopub.status.idle": "2020-09-14T08:59:04.309545Z",
          "shell.execute_reply": "2020-09-14T08:59:04.310131Z"
        },
        "papermill": {
          "duration": 0.395272,
          "end_time": "2020-09-14T08:59:04.310320",
          "exception": false,
          "start_time": "2020-09-14T08:59:03.915048",
          "status": "completed"
        },
        "tags": [],
        "id": "X0AbxdxbS7f4",
        "outputId": "315c2268-5557-4c4e-90a2-19d5ff9efd5b",
        "colab": {
          "base_uri": "https://localhost:8080/",
          "height": 0
        }
      },
      "source": [
        "orderreviews['review_comment_title'].fillna('No_Title',inplace=True)\n",
        "orderreviews['review_comment_message'].fillna('No_Message',inplace=True)\n",
        "display(orderreviews.head())\n",
        "display(orderreviews.isnull().sum())"
      ],
      "execution_count": 227,
      "outputs": [
        {
          "output_type": "display_data",
          "data": {
            "text/html": [
              "<div>\n",
              "<style scoped>\n",
              "    .dataframe tbody tr th:only-of-type {\n",
              "        vertical-align: middle;\n",
              "    }\n",
              "\n",
              "    .dataframe tbody tr th {\n",
              "        vertical-align: top;\n",
              "    }\n",
              "\n",
              "    .dataframe thead th {\n",
              "        text-align: right;\n",
              "    }\n",
              "</style>\n",
              "<table border=\"1\" class=\"dataframe\">\n",
              "  <thead>\n",
              "    <tr style=\"text-align: right;\">\n",
              "      <th></th>\n",
              "      <th>review_id</th>\n",
              "      <th>order_id</th>\n",
              "      <th>review_score</th>\n",
              "      <th>review_comment_title</th>\n",
              "      <th>review_comment_message</th>\n",
              "      <th>review_creation_date</th>\n",
              "      <th>review_answer_timestamp</th>\n",
              "    </tr>\n",
              "  </thead>\n",
              "  <tbody>\n",
              "    <tr>\n",
              "      <th>0</th>\n",
              "      <td>7bc2406110b926393aa56f80a40eba40</td>\n",
              "      <td>73fc7af87114b39712e6da79b0a377eb</td>\n",
              "      <td>4</td>\n",
              "      <td>No_Title</td>\n",
              "      <td>No_Message</td>\n",
              "      <td>2018-01-18 00:00:00</td>\n",
              "      <td>2018-01-18 21:46:59</td>\n",
              "    </tr>\n",
              "    <tr>\n",
              "      <th>1</th>\n",
              "      <td>80e641a11e56f04c1ad469d5645fdfde</td>\n",
              "      <td>a548910a1c6147796b98fdf73dbeba33</td>\n",
              "      <td>5</td>\n",
              "      <td>No_Title</td>\n",
              "      <td>No_Message</td>\n",
              "      <td>2018-03-10 00:00:00</td>\n",
              "      <td>2018-03-11 03:05:13</td>\n",
              "    </tr>\n",
              "    <tr>\n",
              "      <th>2</th>\n",
              "      <td>228ce5500dc1d8e020d8d1322874b6f0</td>\n",
              "      <td>f9e4b658b201a9f2ecdecbb34bed034b</td>\n",
              "      <td>5</td>\n",
              "      <td>No_Title</td>\n",
              "      <td>No_Message</td>\n",
              "      <td>2018-02-17 00:00:00</td>\n",
              "      <td>2018-02-18 14:36:24</td>\n",
              "    </tr>\n",
              "    <tr>\n",
              "      <th>3</th>\n",
              "      <td>e64fb393e7b32834bb789ff8bb30750e</td>\n",
              "      <td>658677c97b385a9be170737859d3511b</td>\n",
              "      <td>5</td>\n",
              "      <td>No_Title</td>\n",
              "      <td>Recebi bem antes do prazo estipulado.</td>\n",
              "      <td>2017-04-21 00:00:00</td>\n",
              "      <td>2017-04-21 22:02:06</td>\n",
              "    </tr>\n",
              "    <tr>\n",
              "      <th>4</th>\n",
              "      <td>f7c4243c7fe1938f181bec41a392bdeb</td>\n",
              "      <td>8e6bfb81e283fa7e4f11123a3fb894f1</td>\n",
              "      <td>5</td>\n",
              "      <td>No_Title</td>\n",
              "      <td>Parabéns lojas lannister adorei comprar pela I...</td>\n",
              "      <td>2018-03-01 00:00:00</td>\n",
              "      <td>2018-03-02 10:26:53</td>\n",
              "    </tr>\n",
              "  </tbody>\n",
              "</table>\n",
              "</div>"
            ],
            "text/plain": [
              "                          review_id  ... review_answer_timestamp\n",
              "0  7bc2406110b926393aa56f80a40eba40  ...     2018-01-18 21:46:59\n",
              "1  80e641a11e56f04c1ad469d5645fdfde  ...     2018-03-11 03:05:13\n",
              "2  228ce5500dc1d8e020d8d1322874b6f0  ...     2018-02-18 14:36:24\n",
              "3  e64fb393e7b32834bb789ff8bb30750e  ...     2017-04-21 22:02:06\n",
              "4  f7c4243c7fe1938f181bec41a392bdeb  ...     2018-03-02 10:26:53\n",
              "\n",
              "[5 rows x 7 columns]"
            ]
          },
          "metadata": {
            "tags": []
          }
        },
        {
          "output_type": "display_data",
          "data": {
            "text/plain": [
              "review_id                  0\n",
              "order_id                   0\n",
              "review_score               0\n",
              "review_comment_title       0\n",
              "review_comment_message     0\n",
              "review_creation_date       0\n",
              "review_answer_timestamp    0\n",
              "dtype: int64"
            ]
          },
          "metadata": {
            "tags": []
          }
        }
      ]
    },
    {
      "cell_type": "markdown",
      "metadata": {
        "papermill": {
          "duration": 0.271351,
          "end_time": "2020-09-14T08:59:04.898575",
          "exception": false,
          "start_time": "2020-09-14T08:59:04.627224",
          "status": "completed"
        },
        "tags": [],
        "id": "Wica-oLcS7f6"
      },
      "source": [
        "#### Cleaning Orders Dataframe"
      ]
    },
    {
      "cell_type": "code",
      "metadata": {
        "id": "dyKPIqzjimUv",
        "outputId": "944b24c8-dd77-43d9-ced8-95985191e62b",
        "colab": {
          "base_uri": "https://localhost:8080/"
        }
      },
      "source": [
        "orders.isnull().sum()"
      ],
      "execution_count": 228,
      "outputs": [
        {
          "output_type": "execute_result",
          "data": {
            "text/plain": [
              "order_id                            0\n",
              "customer_id                         0\n",
              "order_status                        0\n",
              "order_purchase_timestamp            0\n",
              "order_approved_at                 160\n",
              "order_delivered_carrier_date     1783\n",
              "order_delivered_customer_date    2965\n",
              "order_estimated_delivery_date       0\n",
              "dtype: int64"
            ]
          },
          "metadata": {
            "tags": []
          },
          "execution_count": 228
        }
      ]
    },
    {
      "cell_type": "code",
      "metadata": {
        "execution": {
          "iopub.execute_input": "2020-09-14T08:59:05.475335Z",
          "iopub.status.busy": "2020-09-14T08:59:05.474301Z",
          "iopub.status.idle": "2020-09-14T08:59:05.512120Z",
          "shell.execute_reply": "2020-09-14T08:59:05.512711Z"
        },
        "papermill": {
          "duration": 0.340657,
          "end_time": "2020-09-14T08:59:05.512902",
          "exception": false,
          "start_time": "2020-09-14T08:59:05.172245",
          "status": "completed"
        },
        "tags": [],
        "id": "kBCTCpAaS7f7",
        "outputId": "9a708cb6-3a2c-4594-ffd1-f832990a697e",
        "colab": {
          "base_uri": "https://localhost:8080/"
        }
      },
      "source": [
        "orders['order_purchase_timestamp']=pd.to_datetime(orders['order_purchase_timestamp'])\n",
        "orders['order_approved_at']=pd.to_datetime(orders['order_approved_at'])\n",
        "orders['order_approved_at'].fillna(orders['order_purchase_timestamp']+pd.to_timedelta(2,unit='h'),inplace=True)\n",
        "orders.isnull().sum()"
      ],
      "execution_count": 229,
      "outputs": [
        {
          "output_type": "execute_result",
          "data": {
            "text/plain": [
              "order_id                            0\n",
              "customer_id                         0\n",
              "order_status                        0\n",
              "order_purchase_timestamp            0\n",
              "order_approved_at                   0\n",
              "order_delivered_carrier_date     1783\n",
              "order_delivered_customer_date    2965\n",
              "order_estimated_delivery_date       0\n",
              "dtype: int64"
            ]
          },
          "metadata": {
            "tags": []
          },
          "execution_count": 229
        }
      ]
    },
    {
      "cell_type": "code",
      "metadata": {
        "id": "NQssWGGmjgdE",
        "outputId": "84938bce-bee6-4ad2-9321-d6d2fa9206b8",
        "colab": {
          "base_uri": "https://localhost:8080/"
        }
      },
      "source": [
        "orders.dropna(how='any',inplace=True)\n",
        "print(len(orders))\n",
        "orders.isnull().sum()\n"
      ],
      "execution_count": 230,
      "outputs": [
        {
          "output_type": "stream",
          "text": [
            "96475\n"
          ],
          "name": "stdout"
        },
        {
          "output_type": "execute_result",
          "data": {
            "text/plain": [
              "order_id                         0\n",
              "customer_id                      0\n",
              "order_status                     0\n",
              "order_purchase_timestamp         0\n",
              "order_approved_at                0\n",
              "order_delivered_carrier_date     0\n",
              "order_delivered_customer_date    0\n",
              "order_estimated_delivery_date    0\n",
              "dtype: int64"
            ]
          },
          "metadata": {
            "tags": []
          },
          "execution_count": 230
        }
      ]
    },
    {
      "cell_type": "markdown",
      "metadata": {
        "papermill": {
          "duration": 0.273473,
          "end_time": "2020-09-14T08:59:08.481013",
          "exception": false,
          "start_time": "2020-09-14T08:59:08.207540",
          "status": "completed"
        },
        "tags": [],
        "id": "UPrClWP5S7gG"
      },
      "source": [
        "#### Cleaning products dataframe"
      ]
    },
    {
      "cell_type": "code",
      "metadata": {
        "execution": {
          "iopub.execute_input": "2020-09-14T08:59:09.035432Z",
          "iopub.status.busy": "2020-09-14T08:59:09.034590Z",
          "iopub.status.idle": "2020-09-14T08:59:09.040890Z",
          "shell.execute_reply": "2020-09-14T08:59:09.040235Z"
        },
        "papermill": {
          "duration": 0.285408,
          "end_time": "2020-09-14T08:59:09.041030",
          "exception": false,
          "start_time": "2020-09-14T08:59:08.755622",
          "status": "completed"
        },
        "tags": [],
        "id": "n_LDbYgcS7gG"
      },
      "source": [
        "products.rename(columns={'product_name_lenght':'product_name_length','product_description_lenght':'product_description_length'},inplace=True)"
      ],
      "execution_count": 231,
      "outputs": []
    },
    {
      "cell_type": "code",
      "metadata": {
        "execution": {
          "iopub.execute_input": "2020-09-14T08:59:09.600628Z",
          "iopub.status.busy": "2020-09-14T08:59:09.599768Z",
          "iopub.status.idle": "2020-09-14T08:59:09.624893Z",
          "shell.execute_reply": "2020-09-14T08:59:09.624076Z"
        },
        "papermill": {
          "duration": 0.307246,
          "end_time": "2020-09-14T08:59:09.625022",
          "exception": false,
          "start_time": "2020-09-14T08:59:09.317776",
          "status": "completed"
        },
        "tags": [],
        "id": "tO7V8I-KS7gI",
        "outputId": "d4bdae94-0fe3-4cff-914c-1a824e35f552",
        "colab": {
          "base_uri": "https://localhost:8080/"
        }
      },
      "source": [
        "products=products[~products['product_weight_g'].isnull()]\n",
        "products=products[~products['product_photos_qty'].isnull()]\n",
        "products.isnull().sum()"
      ],
      "execution_count": 232,
      "outputs": [
        {
          "output_type": "execute_result",
          "data": {
            "text/plain": [
              "product_id                    0\n",
              "product_category_name         0\n",
              "product_name_length           0\n",
              "product_description_length    0\n",
              "product_photos_qty            0\n",
              "product_weight_g              0\n",
              "product_length_cm             0\n",
              "product_height_cm             0\n",
              "product_width_cm              0\n",
              "dtype: int64"
            ]
          },
          "metadata": {
            "tags": []
          },
          "execution_count": 232
        }
      ]
    },
    {
      "cell_type": "code",
      "metadata": {
        "id": "BLa9-Jp1WEla",
        "outputId": "f9130d91-9f8b-4e98-ba5f-7b2eb8ff591a",
        "colab": {
          "base_uri": "https://localhost:8080/",
          "height": 0
        }
      },
      "source": [
        "products.head()"
      ],
      "execution_count": 233,
      "outputs": [
        {
          "output_type": "execute_result",
          "data": {
            "text/html": [
              "<div>\n",
              "<style scoped>\n",
              "    .dataframe tbody tr th:only-of-type {\n",
              "        vertical-align: middle;\n",
              "    }\n",
              "\n",
              "    .dataframe tbody tr th {\n",
              "        vertical-align: top;\n",
              "    }\n",
              "\n",
              "    .dataframe thead th {\n",
              "        text-align: right;\n",
              "    }\n",
              "</style>\n",
              "<table border=\"1\" class=\"dataframe\">\n",
              "  <thead>\n",
              "    <tr style=\"text-align: right;\">\n",
              "      <th></th>\n",
              "      <th>product_id</th>\n",
              "      <th>product_category_name</th>\n",
              "      <th>product_name_length</th>\n",
              "      <th>product_description_length</th>\n",
              "      <th>product_photos_qty</th>\n",
              "      <th>product_weight_g</th>\n",
              "      <th>product_length_cm</th>\n",
              "      <th>product_height_cm</th>\n",
              "      <th>product_width_cm</th>\n",
              "    </tr>\n",
              "  </thead>\n",
              "  <tbody>\n",
              "    <tr>\n",
              "      <th>0</th>\n",
              "      <td>1e9e8ef04dbcff4541ed26657ea517e5</td>\n",
              "      <td>perfumaria</td>\n",
              "      <td>40.0</td>\n",
              "      <td>287.0</td>\n",
              "      <td>1.0</td>\n",
              "      <td>225.0</td>\n",
              "      <td>16.0</td>\n",
              "      <td>10.0</td>\n",
              "      <td>14.0</td>\n",
              "    </tr>\n",
              "    <tr>\n",
              "      <th>1</th>\n",
              "      <td>3aa071139cb16b67ca9e5dea641aaa2f</td>\n",
              "      <td>artes</td>\n",
              "      <td>44.0</td>\n",
              "      <td>276.0</td>\n",
              "      <td>1.0</td>\n",
              "      <td>1000.0</td>\n",
              "      <td>30.0</td>\n",
              "      <td>18.0</td>\n",
              "      <td>20.0</td>\n",
              "    </tr>\n",
              "    <tr>\n",
              "      <th>2</th>\n",
              "      <td>96bd76ec8810374ed1b65e291975717f</td>\n",
              "      <td>esporte_lazer</td>\n",
              "      <td>46.0</td>\n",
              "      <td>250.0</td>\n",
              "      <td>1.0</td>\n",
              "      <td>154.0</td>\n",
              "      <td>18.0</td>\n",
              "      <td>9.0</td>\n",
              "      <td>15.0</td>\n",
              "    </tr>\n",
              "    <tr>\n",
              "      <th>3</th>\n",
              "      <td>cef67bcfe19066a932b7673e239eb23d</td>\n",
              "      <td>bebes</td>\n",
              "      <td>27.0</td>\n",
              "      <td>261.0</td>\n",
              "      <td>1.0</td>\n",
              "      <td>371.0</td>\n",
              "      <td>26.0</td>\n",
              "      <td>4.0</td>\n",
              "      <td>26.0</td>\n",
              "    </tr>\n",
              "    <tr>\n",
              "      <th>4</th>\n",
              "      <td>9dc1a7de274444849c219cff195d0b71</td>\n",
              "      <td>utilidades_domesticas</td>\n",
              "      <td>37.0</td>\n",
              "      <td>402.0</td>\n",
              "      <td>4.0</td>\n",
              "      <td>625.0</td>\n",
              "      <td>20.0</td>\n",
              "      <td>17.0</td>\n",
              "      <td>13.0</td>\n",
              "    </tr>\n",
              "  </tbody>\n",
              "</table>\n",
              "</div>"
            ],
            "text/plain": [
              "                         product_id  ... product_width_cm\n",
              "0  1e9e8ef04dbcff4541ed26657ea517e5  ...             14.0\n",
              "1  3aa071139cb16b67ca9e5dea641aaa2f  ...             20.0\n",
              "2  96bd76ec8810374ed1b65e291975717f  ...             15.0\n",
              "3  cef67bcfe19066a932b7673e239eb23d  ...             26.0\n",
              "4  9dc1a7de274444849c219cff195d0b71  ...             13.0\n",
              "\n",
              "[5 rows x 9 columns]"
            ]
          },
          "metadata": {
            "tags": []
          },
          "execution_count": 233
        }
      ]
    },
    {
      "cell_type": "code",
      "metadata": {
        "id": "Zm5RooSdl91e",
        "outputId": "1b55b054-85a8-4123-f983-79d79796dd11",
        "colab": {
          "base_uri": "https://localhost:8080/",
          "height": 0
        }
      },
      "source": [
        "orders.head()"
      ],
      "execution_count": 234,
      "outputs": [
        {
          "output_type": "execute_result",
          "data": {
            "text/html": [
              "<div>\n",
              "<style scoped>\n",
              "    .dataframe tbody tr th:only-of-type {\n",
              "        vertical-align: middle;\n",
              "    }\n",
              "\n",
              "    .dataframe tbody tr th {\n",
              "        vertical-align: top;\n",
              "    }\n",
              "\n",
              "    .dataframe thead th {\n",
              "        text-align: right;\n",
              "    }\n",
              "</style>\n",
              "<table border=\"1\" class=\"dataframe\">\n",
              "  <thead>\n",
              "    <tr style=\"text-align: right;\">\n",
              "      <th></th>\n",
              "      <th>order_id</th>\n",
              "      <th>customer_id</th>\n",
              "      <th>order_status</th>\n",
              "      <th>order_purchase_timestamp</th>\n",
              "      <th>order_approved_at</th>\n",
              "      <th>order_delivered_carrier_date</th>\n",
              "      <th>order_delivered_customer_date</th>\n",
              "      <th>order_estimated_delivery_date</th>\n",
              "    </tr>\n",
              "  </thead>\n",
              "  <tbody>\n",
              "    <tr>\n",
              "      <th>0</th>\n",
              "      <td>e481f51cbdc54678b7cc49136f2d6af7</td>\n",
              "      <td>9ef432eb6251297304e76186b10a928d</td>\n",
              "      <td>delivered</td>\n",
              "      <td>2017-10-02 10:56:33</td>\n",
              "      <td>2017-10-02 11:07:15</td>\n",
              "      <td>2017-10-04 19:55:00</td>\n",
              "      <td>2017-10-10 21:25:13</td>\n",
              "      <td>2017-10-18 00:00:00</td>\n",
              "    </tr>\n",
              "    <tr>\n",
              "      <th>1</th>\n",
              "      <td>53cdb2fc8bc7dce0b6741e2150273451</td>\n",
              "      <td>b0830fb4747a6c6d20dea0b8c802d7ef</td>\n",
              "      <td>delivered</td>\n",
              "      <td>2018-07-24 20:41:37</td>\n",
              "      <td>2018-07-26 03:24:27</td>\n",
              "      <td>2018-07-26 14:31:00</td>\n",
              "      <td>2018-08-07 15:27:45</td>\n",
              "      <td>2018-08-13 00:00:00</td>\n",
              "    </tr>\n",
              "    <tr>\n",
              "      <th>2</th>\n",
              "      <td>47770eb9100c2d0c44946d9cf07ec65d</td>\n",
              "      <td>41ce2a54c0b03bf3443c3d931a367089</td>\n",
              "      <td>delivered</td>\n",
              "      <td>2018-08-08 08:38:49</td>\n",
              "      <td>2018-08-08 08:55:23</td>\n",
              "      <td>2018-08-08 13:50:00</td>\n",
              "      <td>2018-08-17 18:06:29</td>\n",
              "      <td>2018-09-04 00:00:00</td>\n",
              "    </tr>\n",
              "    <tr>\n",
              "      <th>3</th>\n",
              "      <td>949d5b44dbf5de918fe9c16f97b45f8a</td>\n",
              "      <td>f88197465ea7920adcdbec7375364d82</td>\n",
              "      <td>delivered</td>\n",
              "      <td>2017-11-18 19:28:06</td>\n",
              "      <td>2017-11-18 19:45:59</td>\n",
              "      <td>2017-11-22 13:39:59</td>\n",
              "      <td>2017-12-02 00:28:42</td>\n",
              "      <td>2017-12-15 00:00:00</td>\n",
              "    </tr>\n",
              "    <tr>\n",
              "      <th>4</th>\n",
              "      <td>ad21c59c0840e6cb83a9ceb5573f8159</td>\n",
              "      <td>8ab97904e6daea8866dbdbc4fb7aad2c</td>\n",
              "      <td>delivered</td>\n",
              "      <td>2018-02-13 21:18:39</td>\n",
              "      <td>2018-02-13 22:20:29</td>\n",
              "      <td>2018-02-14 19:46:34</td>\n",
              "      <td>2018-02-16 18:17:02</td>\n",
              "      <td>2018-02-26 00:00:00</td>\n",
              "    </tr>\n",
              "  </tbody>\n",
              "</table>\n",
              "</div>"
            ],
            "text/plain": [
              "                           order_id  ... order_estimated_delivery_date\n",
              "0  e481f51cbdc54678b7cc49136f2d6af7  ...           2017-10-18 00:00:00\n",
              "1  53cdb2fc8bc7dce0b6741e2150273451  ...           2018-08-13 00:00:00\n",
              "2  47770eb9100c2d0c44946d9cf07ec65d  ...           2018-09-04 00:00:00\n",
              "3  949d5b44dbf5de918fe9c16f97b45f8a  ...           2017-12-15 00:00:00\n",
              "4  ad21c59c0840e6cb83a9ceb5573f8159  ...           2018-02-26 00:00:00\n",
              "\n",
              "[5 rows x 8 columns]"
            ]
          },
          "metadata": {
            "tags": []
          },
          "execution_count": 234
        }
      ]
    },
    {
      "cell_type": "code",
      "metadata": {
        "id": "IGE_mVW2l_kr",
        "outputId": "0cf12236-fdb8-45da-ce12-115b87cc78ae",
        "colab": {
          "base_uri": "https://localhost:8080/",
          "height": 0
        }
      },
      "source": [
        "orderpayments.head()"
      ],
      "execution_count": 235,
      "outputs": [
        {
          "output_type": "execute_result",
          "data": {
            "text/html": [
              "<div>\n",
              "<style scoped>\n",
              "    .dataframe tbody tr th:only-of-type {\n",
              "        vertical-align: middle;\n",
              "    }\n",
              "\n",
              "    .dataframe tbody tr th {\n",
              "        vertical-align: top;\n",
              "    }\n",
              "\n",
              "    .dataframe thead th {\n",
              "        text-align: right;\n",
              "    }\n",
              "</style>\n",
              "<table border=\"1\" class=\"dataframe\">\n",
              "  <thead>\n",
              "    <tr style=\"text-align: right;\">\n",
              "      <th></th>\n",
              "      <th>order_id</th>\n",
              "      <th>payment_sequential</th>\n",
              "      <th>payment_type</th>\n",
              "      <th>payment_installments</th>\n",
              "      <th>payment_value</th>\n",
              "    </tr>\n",
              "  </thead>\n",
              "  <tbody>\n",
              "    <tr>\n",
              "      <th>0</th>\n",
              "      <td>b81ef226f3fe1789b1e8b2acac839d17</td>\n",
              "      <td>1</td>\n",
              "      <td>credit_card</td>\n",
              "      <td>8</td>\n",
              "      <td>99.33</td>\n",
              "    </tr>\n",
              "    <tr>\n",
              "      <th>1</th>\n",
              "      <td>a9810da82917af2d9aefd1278f1dcfa0</td>\n",
              "      <td>1</td>\n",
              "      <td>credit_card</td>\n",
              "      <td>1</td>\n",
              "      <td>24.39</td>\n",
              "    </tr>\n",
              "    <tr>\n",
              "      <th>2</th>\n",
              "      <td>25e8ea4e93396b6fa0d3dd708e76c1bd</td>\n",
              "      <td>1</td>\n",
              "      <td>credit_card</td>\n",
              "      <td>1</td>\n",
              "      <td>65.71</td>\n",
              "    </tr>\n",
              "    <tr>\n",
              "      <th>3</th>\n",
              "      <td>ba78997921bbcdc1373bb41e913ab953</td>\n",
              "      <td>1</td>\n",
              "      <td>credit_card</td>\n",
              "      <td>8</td>\n",
              "      <td>107.78</td>\n",
              "    </tr>\n",
              "    <tr>\n",
              "      <th>4</th>\n",
              "      <td>42fdf880ba16b47b59251dd489d4441a</td>\n",
              "      <td>1</td>\n",
              "      <td>credit_card</td>\n",
              "      <td>2</td>\n",
              "      <td>128.45</td>\n",
              "    </tr>\n",
              "  </tbody>\n",
              "</table>\n",
              "</div>"
            ],
            "text/plain": [
              "                           order_id  ...  payment_value\n",
              "0  b81ef226f3fe1789b1e8b2acac839d17  ...          99.33\n",
              "1  a9810da82917af2d9aefd1278f1dcfa0  ...          24.39\n",
              "2  25e8ea4e93396b6fa0d3dd708e76c1bd  ...          65.71\n",
              "3  ba78997921bbcdc1373bb41e913ab953  ...         107.78\n",
              "4  42fdf880ba16b47b59251dd489d4441a  ...         128.45\n",
              "\n",
              "[5 rows x 5 columns]"
            ]
          },
          "metadata": {
            "tags": []
          },
          "execution_count": 235
        }
      ]
    },
    {
      "cell_type": "code",
      "metadata": {
        "id": "TZqf-3hXmFfg",
        "outputId": "a68c31a8-882f-4b85-9856-3ea54982e5b5",
        "colab": {
          "base_uri": "https://localhost:8080/",
          "height": 0
        }
      },
      "source": [
        "customer_geolocation.head()"
      ],
      "execution_count": 236,
      "outputs": [
        {
          "output_type": "execute_result",
          "data": {
            "text/html": [
              "<div>\n",
              "<style scoped>\n",
              "    .dataframe tbody tr th:only-of-type {\n",
              "        vertical-align: middle;\n",
              "    }\n",
              "\n",
              "    .dataframe tbody tr th {\n",
              "        vertical-align: top;\n",
              "    }\n",
              "\n",
              "    .dataframe thead th {\n",
              "        text-align: right;\n",
              "    }\n",
              "</style>\n",
              "<table border=\"1\" class=\"dataframe\">\n",
              "  <thead>\n",
              "    <tr style=\"text-align: right;\">\n",
              "      <th></th>\n",
              "      <th>customer_id</th>\n",
              "      <th>customer_unique_id</th>\n",
              "      <th>customer_zip_code_prefix</th>\n",
              "      <th>customer_city</th>\n",
              "      <th>customer_state</th>\n",
              "      <th>geolocation_lat</th>\n",
              "      <th>geolocation_lng</th>\n",
              "    </tr>\n",
              "  </thead>\n",
              "  <tbody>\n",
              "    <tr>\n",
              "      <th>0</th>\n",
              "      <td>06b8999e2fba1a1fbc88172c00ba8bc7</td>\n",
              "      <td>861eff4711a542e4b93843c6dd7febb0</td>\n",
              "      <td>14409</td>\n",
              "      <td>franca</td>\n",
              "      <td>SP</td>\n",
              "      <td>-20.509897</td>\n",
              "      <td>-47.397866</td>\n",
              "    </tr>\n",
              "    <tr>\n",
              "      <th>147</th>\n",
              "      <td>18955e83d337fd6b2def6b18a428ac77</td>\n",
              "      <td>290c77bc529b7ac935b93aa66c333dc3</td>\n",
              "      <td>9790</td>\n",
              "      <td>sao bernardo do campo</td>\n",
              "      <td>SP</td>\n",
              "      <td>-23.726853</td>\n",
              "      <td>-46.545746</td>\n",
              "    </tr>\n",
              "    <tr>\n",
              "      <th>300</th>\n",
              "      <td>4e7b3e00288586ebd08712fdd0374a03</td>\n",
              "      <td>060e732b5b29e8181a18229c7b0b2b5e</td>\n",
              "      <td>1151</td>\n",
              "      <td>sao paulo</td>\n",
              "      <td>SP</td>\n",
              "      <td>-23.527788</td>\n",
              "      <td>-46.660310</td>\n",
              "    </tr>\n",
              "    <tr>\n",
              "      <th>387</th>\n",
              "      <td>b2b6027bc5c5109e529d4dc6358b12c3</td>\n",
              "      <td>259dac757896d24d7702b9acbbff3f3c</td>\n",
              "      <td>8775</td>\n",
              "      <td>mogi das cruzes</td>\n",
              "      <td>SP</td>\n",
              "      <td>-23.496930</td>\n",
              "      <td>-46.185352</td>\n",
              "    </tr>\n",
              "    <tr>\n",
              "      <th>520</th>\n",
              "      <td>4f2d8ab171c80ec8364f7c12e35b23ad</td>\n",
              "      <td>345ecd01c38d18a9036ed96c73b8d066</td>\n",
              "      <td>13056</td>\n",
              "      <td>campinas</td>\n",
              "      <td>SP</td>\n",
              "      <td>-22.987222</td>\n",
              "      <td>-47.151073</td>\n",
              "    </tr>\n",
              "  </tbody>\n",
              "</table>\n",
              "</div>"
            ],
            "text/plain": [
              "                          customer_id  ... geolocation_lng\n",
              "0    06b8999e2fba1a1fbc88172c00ba8bc7  ...      -47.397866\n",
              "147  18955e83d337fd6b2def6b18a428ac77  ...      -46.545746\n",
              "300  4e7b3e00288586ebd08712fdd0374a03  ...      -46.660310\n",
              "387  b2b6027bc5c5109e529d4dc6358b12c3  ...      -46.185352\n",
              "520  4f2d8ab171c80ec8364f7c12e35b23ad  ...      -47.151073\n",
              "\n",
              "[5 rows x 7 columns]"
            ]
          },
          "metadata": {
            "tags": []
          },
          "execution_count": 236
        }
      ]
    },
    {
      "cell_type": "code",
      "metadata": {
        "id": "b1t40XMkmLrg",
        "outputId": "652942c8-cbbc-48f4-f572-e98a645a9f58",
        "colab": {
          "base_uri": "https://localhost:8080/",
          "height": 0
        }
      },
      "source": [
        "orderitems.head()"
      ],
      "execution_count": 237,
      "outputs": [
        {
          "output_type": "execute_result",
          "data": {
            "text/html": [
              "<div>\n",
              "<style scoped>\n",
              "    .dataframe tbody tr th:only-of-type {\n",
              "        vertical-align: middle;\n",
              "    }\n",
              "\n",
              "    .dataframe tbody tr th {\n",
              "        vertical-align: top;\n",
              "    }\n",
              "\n",
              "    .dataframe thead th {\n",
              "        text-align: right;\n",
              "    }\n",
              "</style>\n",
              "<table border=\"1\" class=\"dataframe\">\n",
              "  <thead>\n",
              "    <tr style=\"text-align: right;\">\n",
              "      <th></th>\n",
              "      <th>order_id</th>\n",
              "      <th>order_item_id</th>\n",
              "      <th>product_id</th>\n",
              "      <th>seller_id</th>\n",
              "      <th>shipping_limit_date</th>\n",
              "      <th>price</th>\n",
              "      <th>freight_value</th>\n",
              "      <th>shipping_limit_time</th>\n",
              "    </tr>\n",
              "  </thead>\n",
              "  <tbody>\n",
              "    <tr>\n",
              "      <th>0</th>\n",
              "      <td>00010242fe8c5a6d1ba2dd792cb16214</td>\n",
              "      <td>1</td>\n",
              "      <td>4244733e06e7ecb4970a6e2683c13e61</td>\n",
              "      <td>48436dade18ac8b2bce089ec2a041202</td>\n",
              "      <td>2017-09-19</td>\n",
              "      <td>58.90</td>\n",
              "      <td>13.29</td>\n",
              "      <td>09:45:35</td>\n",
              "    </tr>\n",
              "    <tr>\n",
              "      <th>1</th>\n",
              "      <td>00018f77f2f0320c557190d7a144bdd3</td>\n",
              "      <td>1</td>\n",
              "      <td>e5f2d52b802189ee658865ca93d83a8f</td>\n",
              "      <td>dd7ddc04e1b6c2c614352b383efe2d36</td>\n",
              "      <td>2017-05-03</td>\n",
              "      <td>239.90</td>\n",
              "      <td>19.93</td>\n",
              "      <td>11:05:13</td>\n",
              "    </tr>\n",
              "    <tr>\n",
              "      <th>2</th>\n",
              "      <td>000229ec398224ef6ca0657da4fc703e</td>\n",
              "      <td>1</td>\n",
              "      <td>c777355d18b72b67abbeef9df44fd0fd</td>\n",
              "      <td>5b51032eddd242adc84c38acab88f23d</td>\n",
              "      <td>2018-01-18</td>\n",
              "      <td>199.00</td>\n",
              "      <td>17.87</td>\n",
              "      <td>14:48:30</td>\n",
              "    </tr>\n",
              "    <tr>\n",
              "      <th>3</th>\n",
              "      <td>00024acbcdf0a6daa1e931b038114c75</td>\n",
              "      <td>1</td>\n",
              "      <td>7634da152a4610f1595efa32f14722fc</td>\n",
              "      <td>9d7a1d34a5052409006425275ba1c2b4</td>\n",
              "      <td>2018-08-15</td>\n",
              "      <td>12.99</td>\n",
              "      <td>12.79</td>\n",
              "      <td>10:10:18</td>\n",
              "    </tr>\n",
              "    <tr>\n",
              "      <th>4</th>\n",
              "      <td>00042b26cf59d7ce69dfabb4e55b4fd9</td>\n",
              "      <td>1</td>\n",
              "      <td>ac6c3623068f30de03045865e4e10089</td>\n",
              "      <td>df560393f3a51e74553ab94004ba5c87</td>\n",
              "      <td>2017-02-13</td>\n",
              "      <td>199.90</td>\n",
              "      <td>18.14</td>\n",
              "      <td>13:57:51</td>\n",
              "    </tr>\n",
              "  </tbody>\n",
              "</table>\n",
              "</div>"
            ],
            "text/plain": [
              "                           order_id  ...  shipping_limit_time\n",
              "0  00010242fe8c5a6d1ba2dd792cb16214  ...             09:45:35\n",
              "1  00018f77f2f0320c557190d7a144bdd3  ...             11:05:13\n",
              "2  000229ec398224ef6ca0657da4fc703e  ...             14:48:30\n",
              "3  00024acbcdf0a6daa1e931b038114c75  ...             10:10:18\n",
              "4  00042b26cf59d7ce69dfabb4e55b4fd9  ...             13:57:51\n",
              "\n",
              "[5 rows x 8 columns]"
            ]
          },
          "metadata": {
            "tags": []
          },
          "execution_count": 237
        }
      ]
    },
    {
      "cell_type": "code",
      "metadata": {
        "id": "wcdchTrcmPbL",
        "outputId": "baf8292a-7e5d-40ba-9522-c4346acf1656",
        "colab": {
          "base_uri": "https://localhost:8080/",
          "height": 0
        }
      },
      "source": [
        "sellers.head()"
      ],
      "execution_count": 238,
      "outputs": [
        {
          "output_type": "execute_result",
          "data": {
            "text/html": [
              "<div>\n",
              "<style scoped>\n",
              "    .dataframe tbody tr th:only-of-type {\n",
              "        vertical-align: middle;\n",
              "    }\n",
              "\n",
              "    .dataframe tbody tr th {\n",
              "        vertical-align: top;\n",
              "    }\n",
              "\n",
              "    .dataframe thead th {\n",
              "        text-align: right;\n",
              "    }\n",
              "</style>\n",
              "<table border=\"1\" class=\"dataframe\">\n",
              "  <thead>\n",
              "    <tr style=\"text-align: right;\">\n",
              "      <th></th>\n",
              "      <th>seller_id</th>\n",
              "      <th>seller_zip_code_prefix</th>\n",
              "      <th>seller_city</th>\n",
              "      <th>seller_state</th>\n",
              "    </tr>\n",
              "  </thead>\n",
              "  <tbody>\n",
              "    <tr>\n",
              "      <th>0</th>\n",
              "      <td>3442f8959a84dea7ee197c632cb2df15</td>\n",
              "      <td>13023</td>\n",
              "      <td>campinas</td>\n",
              "      <td>SP</td>\n",
              "    </tr>\n",
              "    <tr>\n",
              "      <th>1</th>\n",
              "      <td>d1b65fc7debc3361ea86b5f14c68d2e2</td>\n",
              "      <td>13844</td>\n",
              "      <td>mogi guacu</td>\n",
              "      <td>SP</td>\n",
              "    </tr>\n",
              "    <tr>\n",
              "      <th>2</th>\n",
              "      <td>ce3ad9de960102d0677a81f5d0bb7b2d</td>\n",
              "      <td>20031</td>\n",
              "      <td>rio de janeiro</td>\n",
              "      <td>RJ</td>\n",
              "    </tr>\n",
              "    <tr>\n",
              "      <th>3</th>\n",
              "      <td>c0f3eea2e14555b6faeea3dd58c1b1c3</td>\n",
              "      <td>4195</td>\n",
              "      <td>sao paulo</td>\n",
              "      <td>SP</td>\n",
              "    </tr>\n",
              "    <tr>\n",
              "      <th>4</th>\n",
              "      <td>51a04a8a6bdcb23deccc82b0b80742cf</td>\n",
              "      <td>12914</td>\n",
              "      <td>braganca paulista</td>\n",
              "      <td>SP</td>\n",
              "    </tr>\n",
              "  </tbody>\n",
              "</table>\n",
              "</div>"
            ],
            "text/plain": [
              "                          seller_id  ...  seller_state\n",
              "0  3442f8959a84dea7ee197c632cb2df15  ...            SP\n",
              "1  d1b65fc7debc3361ea86b5f14c68d2e2  ...            SP\n",
              "2  ce3ad9de960102d0677a81f5d0bb7b2d  ...            RJ\n",
              "3  c0f3eea2e14555b6faeea3dd58c1b1c3  ...            SP\n",
              "4  51a04a8a6bdcb23deccc82b0b80742cf  ...            SP\n",
              "\n",
              "[5 rows x 4 columns]"
            ]
          },
          "metadata": {
            "tags": []
          },
          "execution_count": 238
        }
      ]
    },
    {
      "cell_type": "code",
      "metadata": {
        "id": "oG9E5uWsmbPl",
        "outputId": "f6ed7269-750f-4d46-c636-d254c8ac15ae",
        "colab": {
          "base_uri": "https://localhost:8080/",
          "height": 0
        }
      },
      "source": [
        "categoryname.head()"
      ],
      "execution_count": 239,
      "outputs": [
        {
          "output_type": "execute_result",
          "data": {
            "text/html": [
              "<div>\n",
              "<style scoped>\n",
              "    .dataframe tbody tr th:only-of-type {\n",
              "        vertical-align: middle;\n",
              "    }\n",
              "\n",
              "    .dataframe tbody tr th {\n",
              "        vertical-align: top;\n",
              "    }\n",
              "\n",
              "    .dataframe thead th {\n",
              "        text-align: right;\n",
              "    }\n",
              "</style>\n",
              "<table border=\"1\" class=\"dataframe\">\n",
              "  <thead>\n",
              "    <tr style=\"text-align: right;\">\n",
              "      <th></th>\n",
              "      <th>product_category_name</th>\n",
              "      <th>product_category_name_english</th>\n",
              "    </tr>\n",
              "  </thead>\n",
              "  <tbody>\n",
              "    <tr>\n",
              "      <th>0</th>\n",
              "      <td>beleza_saude</td>\n",
              "      <td>health_beauty</td>\n",
              "    </tr>\n",
              "    <tr>\n",
              "      <th>1</th>\n",
              "      <td>informatica_acessorios</td>\n",
              "      <td>computers_accessories</td>\n",
              "    </tr>\n",
              "    <tr>\n",
              "      <th>2</th>\n",
              "      <td>automotivo</td>\n",
              "      <td>auto</td>\n",
              "    </tr>\n",
              "    <tr>\n",
              "      <th>3</th>\n",
              "      <td>cama_mesa_banho</td>\n",
              "      <td>bed_bath_table</td>\n",
              "    </tr>\n",
              "    <tr>\n",
              "      <th>4</th>\n",
              "      <td>moveis_decoracao</td>\n",
              "      <td>furniture_decor</td>\n",
              "    </tr>\n",
              "  </tbody>\n",
              "</table>\n",
              "</div>"
            ],
            "text/plain": [
              "    product_category_name product_category_name_english\n",
              "0            beleza_saude                 health_beauty\n",
              "1  informatica_acessorios         computers_accessories\n",
              "2              automotivo                          auto\n",
              "3         cama_mesa_banho                bed_bath_table\n",
              "4        moveis_decoracao               furniture_decor"
            ]
          },
          "metadata": {
            "tags": []
          },
          "execution_count": 239
        }
      ]
    },
    {
      "cell_type": "markdown",
      "metadata": {
        "id": "VxSSZL7YiESm"
      },
      "source": [
        "### Merging necessary dataframes to create the necessary dataset"
      ]
    },
    {
      "cell_type": "code",
      "metadata": {
        "id": "JK9vQ4VamdU-"
      },
      "source": [
        "orderdetails = orderitems.merge(products,on='product_id')\n",
        "orderdetails = orderdetails.merge(sellers,on='seller_id')\n",
        "orderdetails = orderdetails.merge(orders,on='order_id')\n",
        "orderdetails = orderdetails.merge(customer_geolocation,on='customer_id')\n",
        "orderdetails = orderdetails.merge(orderpayments,on='order_id')\n",
        "orderdetails = orderdetails.merge(sellerlocation,on='seller_city')"
      ],
      "execution_count": 240,
      "outputs": []
    },
    {
      "cell_type": "code",
      "metadata": {
        "id": "irCUBUXxdGJx",
        "outputId": "ccc1a046-5194-4891-abf4-81d9ea71de7f",
        "colab": {
          "base_uri": "https://localhost:8080/"
        }
      },
      "source": [
        "orderdetails.isnull().sum()"
      ],
      "execution_count": 241,
      "outputs": [
        {
          "output_type": "execute_result",
          "data": {
            "text/plain": [
              "order_id                         0\n",
              "order_item_id                    0\n",
              "product_id                       0\n",
              "seller_id                        0\n",
              "shipping_limit_date              0\n",
              "price                            0\n",
              "freight_value                    0\n",
              "shipping_limit_time              0\n",
              "product_category_name            0\n",
              "product_name_length              0\n",
              "product_description_length       0\n",
              "product_photos_qty               0\n",
              "product_weight_g                 0\n",
              "product_length_cm                0\n",
              "product_height_cm                0\n",
              "product_width_cm                 0\n",
              "seller_zip_code_prefix           0\n",
              "seller_city                      0\n",
              "seller_state                     0\n",
              "customer_id                      0\n",
              "order_status                     0\n",
              "order_purchase_timestamp         0\n",
              "order_approved_at                0\n",
              "order_delivered_carrier_date     0\n",
              "order_delivered_customer_date    0\n",
              "order_estimated_delivery_date    0\n",
              "customer_unique_id               0\n",
              "customer_zip_code_prefix         0\n",
              "customer_city                    0\n",
              "customer_state                   0\n",
              "geolocation_lat                  0\n",
              "geolocation_lng                  0\n",
              "payment_sequential               0\n",
              "payment_type                     0\n",
              "payment_installments             0\n",
              "payment_value                    0\n",
              "Unnamed: 0                       0\n",
              "seller_lat                       0\n",
              "seller_long                      0\n",
              "dtype: int64"
            ]
          },
          "metadata": {
            "tags": []
          },
          "execution_count": 241
        }
      ]
    },
    {
      "cell_type": "code",
      "metadata": {
        "id": "iicV2DP1eyUc"
      },
      "source": [
        "# orderdetails.to_csv('review2.csv')"
      ],
      "execution_count": 242,
      "outputs": []
    },
    {
      "cell_type": "markdown",
      "metadata": {
        "id": "SsQZCveNWB2U"
      },
      "source": [
        "# Preprocessing (Start of Review 2) (17337)"
      ]
    },
    {
      "cell_type": "code",
      "metadata": {
        "id": "QgRhb4lDiXSL"
      },
      "source": [
        "dataset = pd.read_csv('https://raw.githubusercontent.com/nivethsaran/PythonForDataScience/master/FODS_CASESTUDY_DATASET/completeorderdetails.csv')"
      ],
      "execution_count": 243,
      "outputs": []
    },
    {
      "cell_type": "code",
      "metadata": {
        "id": "9ayHWW0fi8kr"
      },
      "source": [
        "dataset= dataset[dataset['order_status']=='delivered']\n",
        "dataset.drop(labels=['payment_type','payment_sequential','payment_installments', 'payment_value','seller_zip_code_prefix','customer_zip_code_prefix','Unnamed: 0.1','Unnamed: 0','order_status','order_id','order_item_id','product_id','seller_id','customer_id','customer_unique_id'],axis=1,inplace=True)"
      ],
      "execution_count": 244,
      "outputs": []
    },
    {
      "cell_type": "code",
      "metadata": {
        "id": "G7evymvG81XL"
      },
      "source": [
        "dataset['product_category_name'] = dataset['product_category_name'].str.replace(' ', '')\n",
        "dataset['product_category_name'] = dataset['product_category_name'].str.replace(r'[^\\w\\s]', '')"
      ],
      "execution_count": 245,
      "outputs": []
    },
    {
      "cell_type": "code",
      "metadata": {
        "id": "9_kwVb38jl0A"
      },
      "source": [
        "dataset['order_approved_at']= pd.to_datetime(dataset['order_approved_at'])\n",
        "dataset['order_purchase_timestamp']= pd.to_datetime(dataset['order_purchase_timestamp'])\n",
        "dataset['order_delivered_carrier_date']= pd.to_datetime(dataset['order_delivered_carrier_date'])\n",
        "dataset['order_delivered_customer_date']= pd.to_datetime(dataset['order_delivered_customer_date'])\n",
        "dataset['order_estimated_delivery_date']= pd.to_datetime(dataset['order_estimated_delivery_date'])\n",
        "dataset['shipping_limit_date']= pd.to_datetime(dataset['shipping_limit_date'])\n",
        "\n",
        "dataset['order_approval_time']=dataset['order_approved_at']-dataset['order_purchase_timestamp']\n",
        "dataset['order_approval_time']=dataset['order_approval_time']/pd.Timedelta(hours=1)\n",
        "\n",
        "dataset['order_carrier_delivery_time']=dataset['order_delivered_carrier_date']-dataset['order_purchase_timestamp']\n",
        "dataset['order_carrier_delivery_time']=dataset['order_carrier_delivery_time']/np.timedelta64(1,'D')\n",
        "\n",
        "dataset['order_customer_delivery_time']=dataset['order_delivered_customer_date']-dataset['order_purchase_timestamp']\n",
        "dataset['order_customer_delivery_time']=dataset['order_customer_delivery_time']/np.timedelta64(1,'D')\n",
        "\n",
        "dataset['order_estimated_delivery_time']=dataset['order_estimated_delivery_date']-dataset['order_purchase_timestamp']\n",
        "dataset['order_estimated_delivery_time']=dataset['order_estimated_delivery_time']/np.timedelta64(1,'D')\n",
        "\n",
        "dataset['shipping_limit_time']=dataset['shipping_limit_date']-dataset['order_purchase_timestamp']\n",
        "dataset['shipping_limit_time']=dataset['shipping_limit_time']/np.timedelta64(1,'D')\n",
        "\n",
        "dataset.drop(labels=['order_purchase_timestamp','order_approved_at','order_delivered_carrier_date','order_delivered_customer_date','order_estimated_delivery_date','shipping_limit_date'],axis=1,inplace=True)\n",
        "\n",
        "one_hot_encoded_dataset=pd.concat([dataset,pd.get_dummies(dataset['product_category_name'], prefix='cat')],axis=1)\n",
        "one_hot_encoded_dataset=pd.concat([dataset,pd.get_dummies(dataset['seller_state'], prefix='st')],axis=1)\n",
        "dataset.drop(labels=['product_category_name','seller_city','seller_state','customer_city','customer_state'],axis=1,inplace=True)\n",
        "one_hot_encoded_dataset.drop(labels=['product_category_name','seller_city','seller_state','customer_city','customer_state'],axis=1,inplace=True)\n",
        "\n",
        "dataset=dataset[~(dataset['seller_long']==0)]"
      ],
      "execution_count": 246,
      "outputs": []
    },
    {
      "cell_type": "code",
      "metadata": {
        "id": "lqvEfLGmvfSP"
      },
      "source": [
        "from math import cos, asin, sqrt, pi\n",
        "\n",
        "def distance(row):\n",
        "    lat1=row['seller_lat']\n",
        "    lon1=row['seller_long']\n",
        "    lat2=row['geolocation_lat']\n",
        "    lon2=row['geolocation_lng']\n",
        "    p = pi/180\n",
        "    a = 0.5 - cos((lat2-lat1)*p)/2 + cos(lat1*p) * cos(lat2*p) * (1-cos((lon2-lon1)*p))/2\n",
        "    return 12742 * asin(sqrt(a))\n",
        "\n",
        "# dataset['seller_customer_distance']=dataset.apply(distance, axis=1)\n",
        "# dataset.drop(labels=['seller_lat','seller_long','geolocation_lat','geolocation_lng','product_photos_qty'],axis=1,inplace=True)\n",
        "\n",
        "\n",
        "customer_delivery_df=dataset.pop('order_customer_delivery_time')\n",
        "estimated_delivery_df=dataset.pop('order_estimated_delivery_time')\n",
        "dataset['order_customer_delivery_time']=customer_delivery_df\n",
        "dataset['order_estimated_delivery_time']=estimated_delivery_df"
      ],
      "execution_count": 247,
      "outputs": []
    },
    {
      "cell_type": "code",
      "metadata": {
        "id": "tvT8StRLyP96",
        "outputId": "b59dcfd3-6bfe-4a6d-d6ca-3cda96c45099",
        "colab": {
          "base_uri": "https://localhost:8080/",
          "height": 669
        }
      },
      "source": [
        "print(dataset.shape)\n",
        "print(dataset.columns)\n",
        "print(dataset.dtypes)\n",
        "dataset.head()"
      ],
      "execution_count": 248,
      "outputs": [
        {
          "output_type": "stream",
          "text": [
            "(108930, 18)\n",
            "Index(['price', 'freight_value', 'shipping_limit_time', 'product_name_length',\n",
            "       'product_description_length', 'product_photos_qty', 'product_weight_g',\n",
            "       'product_length_cm', 'product_height_cm', 'product_width_cm',\n",
            "       'geolocation_lat', 'geolocation_lng', 'seller_lat', 'seller_long',\n",
            "       'order_approval_time', 'order_carrier_delivery_time',\n",
            "       'order_customer_delivery_time', 'order_estimated_delivery_time'],\n",
            "      dtype='object')\n",
            "price                            float64\n",
            "freight_value                    float64\n",
            "shipping_limit_time              float64\n",
            "product_name_length              float64\n",
            "product_description_length       float64\n",
            "product_photos_qty               float64\n",
            "product_weight_g                 float64\n",
            "product_length_cm                float64\n",
            "product_height_cm                float64\n",
            "product_width_cm                 float64\n",
            "geolocation_lat                  float64\n",
            "geolocation_lng                  float64\n",
            "seller_lat                       float64\n",
            "seller_long                      float64\n",
            "order_approval_time              float64\n",
            "order_carrier_delivery_time      float64\n",
            "order_customer_delivery_time     float64\n",
            "order_estimated_delivery_time    float64\n",
            "dtype: object\n"
          ],
          "name": "stdout"
        },
        {
          "output_type": "execute_result",
          "data": {
            "text/html": [
              "<div>\n",
              "<style scoped>\n",
              "    .dataframe tbody tr th:only-of-type {\n",
              "        vertical-align: middle;\n",
              "    }\n",
              "\n",
              "    .dataframe tbody tr th {\n",
              "        vertical-align: top;\n",
              "    }\n",
              "\n",
              "    .dataframe thead th {\n",
              "        text-align: right;\n",
              "    }\n",
              "</style>\n",
              "<table border=\"1\" class=\"dataframe\">\n",
              "  <thead>\n",
              "    <tr style=\"text-align: right;\">\n",
              "      <th></th>\n",
              "      <th>price</th>\n",
              "      <th>freight_value</th>\n",
              "      <th>shipping_limit_time</th>\n",
              "      <th>product_name_length</th>\n",
              "      <th>product_description_length</th>\n",
              "      <th>product_photos_qty</th>\n",
              "      <th>product_weight_g</th>\n",
              "      <th>product_length_cm</th>\n",
              "      <th>product_height_cm</th>\n",
              "      <th>product_width_cm</th>\n",
              "      <th>geolocation_lat</th>\n",
              "      <th>geolocation_lng</th>\n",
              "      <th>seller_lat</th>\n",
              "      <th>seller_long</th>\n",
              "      <th>order_approval_time</th>\n",
              "      <th>order_carrier_delivery_time</th>\n",
              "      <th>order_customer_delivery_time</th>\n",
              "      <th>order_estimated_delivery_time</th>\n",
              "    </tr>\n",
              "  </thead>\n",
              "  <tbody>\n",
              "    <tr>\n",
              "      <th>0</th>\n",
              "      <td>58.9</td>\n",
              "      <td>13.29</td>\n",
              "      <td>5.625671</td>\n",
              "      <td>58.0</td>\n",
              "      <td>598.0</td>\n",
              "      <td>4.0</td>\n",
              "      <td>650.0</td>\n",
              "      <td>28.0</td>\n",
              "      <td>9.0</td>\n",
              "      <td>14.0</td>\n",
              "      <td>-21.758076</td>\n",
              "      <td>-41.312633</td>\n",
              "      <td>-22.50719</td>\n",
              "      <td>-44.09579</td>\n",
              "      <td>0.775833</td>\n",
              "      <td>6.399468</td>\n",
              "      <td>7.614421</td>\n",
              "      <td>15.625671</td>\n",
              "    </tr>\n",
              "    <tr>\n",
              "      <th>1</th>\n",
              "      <td>55.9</td>\n",
              "      <td>17.96</td>\n",
              "      <td>6.505324</td>\n",
              "      <td>58.0</td>\n",
              "      <td>598.0</td>\n",
              "      <td>4.0</td>\n",
              "      <td>650.0</td>\n",
              "      <td>28.0</td>\n",
              "      <td>9.0</td>\n",
              "      <td>14.0</td>\n",
              "      <td>-17.885607</td>\n",
              "      <td>-51.719640</td>\n",
              "      <td>-22.50719</td>\n",
              "      <td>-44.09579</td>\n",
              "      <td>14.864167</td>\n",
              "      <td>7.005706</td>\n",
              "      <td>15.366076</td>\n",
              "      <td>27.505324</td>\n",
              "    </tr>\n",
              "    <tr>\n",
              "      <th>2</th>\n",
              "      <td>64.9</td>\n",
              "      <td>18.33</td>\n",
              "      <td>4.565359</td>\n",
              "      <td>58.0</td>\n",
              "      <td>598.0</td>\n",
              "      <td>4.0</td>\n",
              "      <td>650.0</td>\n",
              "      <td>28.0</td>\n",
              "      <td>9.0</td>\n",
              "      <td>14.0</td>\n",
              "      <td>-19.918025</td>\n",
              "      <td>-43.976133</td>\n",
              "      <td>-22.50719</td>\n",
              "      <td>-44.09579</td>\n",
              "      <td>2.097222</td>\n",
              "      <td>5.152164</td>\n",
              "      <td>17.339271</td>\n",
              "      <td>19.565359</td>\n",
              "    </tr>\n",
              "    <tr>\n",
              "      <th>3</th>\n",
              "      <td>58.9</td>\n",
              "      <td>16.17</td>\n",
              "      <td>5.223125</td>\n",
              "      <td>58.0</td>\n",
              "      <td>598.0</td>\n",
              "      <td>4.0</td>\n",
              "      <td>650.0</td>\n",
              "      <td>28.0</td>\n",
              "      <td>9.0</td>\n",
              "      <td>14.0</td>\n",
              "      <td>-25.516321</td>\n",
              "      <td>-49.122818</td>\n",
              "      <td>-22.50719</td>\n",
              "      <td>-44.09579</td>\n",
              "      <td>0.273889</td>\n",
              "      <td>1.020069</td>\n",
              "      <td>8.116563</td>\n",
              "      <td>23.223125</td>\n",
              "    </tr>\n",
              "    <tr>\n",
              "      <th>4</th>\n",
              "      <td>58.9</td>\n",
              "      <td>13.29</td>\n",
              "      <td>5.091204</td>\n",
              "      <td>58.0</td>\n",
              "      <td>598.0</td>\n",
              "      <td>4.0</td>\n",
              "      <td>650.0</td>\n",
              "      <td>28.0</td>\n",
              "      <td>9.0</td>\n",
              "      <td>14.0</td>\n",
              "      <td>-20.653542</td>\n",
              "      <td>-43.790837</td>\n",
              "      <td>-22.50719</td>\n",
              "      <td>-44.09579</td>\n",
              "      <td>0.275278</td>\n",
              "      <td>0.912813</td>\n",
              "      <td>13.927558</td>\n",
              "      <td>21.091204</td>\n",
              "    </tr>\n",
              "  </tbody>\n",
              "</table>\n",
              "</div>"
            ],
            "text/plain": [
              "   price  ...  order_estimated_delivery_time\n",
              "0   58.9  ...                      15.625671\n",
              "1   55.9  ...                      27.505324\n",
              "2   64.9  ...                      19.565359\n",
              "3   58.9  ...                      23.223125\n",
              "4   58.9  ...                      21.091204\n",
              "\n",
              "[5 rows x 18 columns]"
            ]
          },
          "metadata": {
            "tags": []
          },
          "execution_count": 248
        }
      ]
    },
    {
      "cell_type": "markdown",
      "metadata": {
        "id": "h1s2srUJ6PhV"
      },
      "source": [
        "# Training and Prediction"
      ]
    },
    {
      "cell_type": "markdown",
      "metadata": {
        "id": "bWXmeRcP4wrT"
      },
      "source": [
        "## Hypothesis-1: Using t-Test to check if Avg. Est. Delivery Time > Actual Delivery Time\n",
        "\n",
        "    H0: Average Estimated Delivery Time = Average Delivery Time \n",
        "    H1: Average Estimated Delivery Time > Average Delivery Time  "
      ]
    },
    {
      "cell_type": "code",
      "metadata": {
        "id": "N1HojuftAvkr"
      },
      "source": [
        "estimated_delivery = dataset['order_estimated_delivery_time']\n",
        "actual_delivery = dataset['order_customer_delivery_time']\n"
      ],
      "execution_count": 249,
      "outputs": []
    },
    {
      "cell_type": "code",
      "metadata": {
        "id": "6ZfoDZ4OCib5"
      },
      "source": [
        "np.random.seed(0)\n",
        "rand_indices = np.random.randint(0, len(estimated_delivery), 100)\n",
        "estimated_100 = estimated_delivery.iloc[rand_indices]"
      ],
      "execution_count": 250,
      "outputs": []
    },
    {
      "cell_type": "code",
      "metadata": {
        "id": "eeMjXFthCvFH",
        "outputId": "763e6c71-d6fa-4fa9-85af-4d3c48d25ae2",
        "colab": {
          "base_uri": "https://localhost:8080/"
        }
      },
      "source": [
        "actual_mean = actual_delivery.mean()\n",
        "\n",
        "alpha = 0.1\n",
        "n = 100\n",
        "dof = n - 1\n",
        "sample_mean = estimated_100.mean()\n",
        "\n",
        "#one tailed t test\n",
        "critical_value = t.ppf(1-alpha, dof)\n",
        "test_value = (sample_mean - actual_mean) / (actual_delivery.std() / np.sqrt(n))\n",
        "\n",
        "print(critical_value, test_value)\n",
        "\n",
        "if test_value > critical_value:\n",
        "    print(\"Reject Null Hypothesis\")\n",
        "else:\n",
        "    print(\"Do not reject Null Hypothesis\")"
      ],
      "execution_count": 251,
      "outputs": [
        {
          "output_type": "stream",
          "text": [
            "1.2901614420275025 12.639203335604469\n",
            "Reject Null Hypothesis\n"
          ],
          "name": "stdout"
        }
      ]
    },
    {
      "cell_type": "markdown",
      "metadata": {
        "id": "WaaC_p7iDOLx"
      },
      "source": [
        "We can conclude that the avergae estimated delivery is greater than the average actual delivery time."
      ]
    },
    {
      "cell_type": "markdown",
      "metadata": {
        "id": "WGwXEtqLlcd6"
      },
      "source": [
        "## Hypothesis-2: Is price and delivery time dependent on each other?\n",
        "\n",
        "    H0: Price and Actual Delivery Time are independent on each other\n",
        "    H1: Price and Actual Delivery Time are dependent on each other"
      ]
    },
    {
      "cell_type": "code",
      "metadata": {
        "id": "dwtPVpNcnV60",
        "outputId": "40038569-3feb-4e72-f1bf-6d9477b99f36",
        "colab": {
          "base_uri": "https://localhost:8080/"
        }
      },
      "source": [
        "stat, p, dof, expected = chi2_contingency([dataset['price'], dataset['order_customer_delivery_time']])\n",
        "order_customer_delivery_time_pop = dataset.pop('order_customer_delivery_time')\n",
        "print(\"P value obtained :\", p)\n",
        "\n",
        "if p < 0.05:\n",
        "  print('Reject Null Hypothesis. Price and Delivery Time are dependent')\n",
        "else:\n",
        "  print('Do not reject Null Hypothesis. Price and Delivery Time are independent')"
      ],
      "execution_count": 252,
      "outputs": [
        {
          "output_type": "stream",
          "text": [
            "P value obtained : 0.0\n",
            "Reject Null Hypothesis. Price and Delivery Time are dependent\n"
          ],
          "name": "stdout"
        }
      ]
    },
    {
      "cell_type": "markdown",
      "metadata": {
        "id": "b7uWA9XCe2-k"
      },
      "source": [
        "## Hypothesis-3: Testing using F-statistic\n",
        "\n",
        "    H0: None of the features can be used to predict the estimated delivery time\n",
        "    H1: Atleast one of the features can be used to predict the estimated delivery time\n",
        "    \n"
      ]
    },
    {
      "cell_type": "code",
      "metadata": {
        "id": "4I6NmPf_czTL",
        "outputId": "ff2b468a-cd07-413d-be0b-553f87e07d9b",
        "colab": {
          "base_uri": "https://localhost:8080/"
        }
      },
      "source": [
        "ols_param='order_estimated_delivery_time ~ '\n",
        "for i in dataset.columns:\n",
        "  if i == 'order_estimated_delivery_time':\n",
        "    pass\n",
        "  else:\n",
        "    ols_param += i+'+'\n",
        "ols_param=ols_param[0:len(ols_param)-1]\n",
        "print(ols_param)"
      ],
      "execution_count": 253,
      "outputs": [
        {
          "output_type": "stream",
          "text": [
            "order_estimated_delivery_time ~ price+freight_value+shipping_limit_time+product_name_length+product_description_length+product_photos_qty+product_weight_g+product_length_cm+product_height_cm+product_width_cm+geolocation_lat+geolocation_lng+seller_lat+seller_long+order_approval_time+order_carrier_delivery_time\n"
          ],
          "name": "stdout"
        }
      ]
    },
    {
      "cell_type": "code",
      "metadata": {
        "id": "ka2ZFuwwbeyq",
        "outputId": "2dd09e63-f642-4e93-efdf-c2e42a719e79",
        "colab": {
          "base_uri": "https://localhost:8080/"
        }
      },
      "source": [
        "ols_model = sm.ols(ols_param,dataset).fit()\n",
        "print(ols_model.params)"
      ],
      "execution_count": 254,
      "outputs": [
        {
          "output_type": "stream",
          "text": [
            "Intercept                      8.341002\n",
            "price                         -0.001545\n",
            "freight_value                  0.150423\n",
            "shipping_limit_time            1.001132\n",
            "product_name_length           -0.004197\n",
            "product_description_length    -0.000214\n",
            "product_photos_qty             0.053137\n",
            "product_weight_g              -0.000324\n",
            "product_length_cm              0.002644\n",
            "product_height_cm              0.001283\n",
            "product_width_cm               0.000462\n",
            "geolocation_lat                0.402704\n",
            "geolocation_lng               -0.164725\n",
            "seller_lat                    -0.018986\n",
            "seller_long                   -0.174574\n",
            "order_approval_time           -0.035293\n",
            "order_carrier_delivery_time    0.159985\n",
            "dtype: float64\n"
          ],
          "name": "stdout"
        }
      ]
    },
    {
      "cell_type": "code",
      "metadata": {
        "id": "_1qDQbR-dzig",
        "outputId": "426c4954-6fc5-49c8-9366-d256e851f938",
        "colab": {
          "base_uri": "https://localhost:8080/",
          "height": 602
        }
      },
      "source": [
        "ols_model.summary2()"
      ],
      "execution_count": 255,
      "outputs": [
        {
          "output_type": "execute_result",
          "data": {
            "text/html": [
              "<table class=\"simpletable\">\n",
              "<tr>\n",
              "        <td>Model:</td>                     <td>OLS</td>                <td>Adj. R-squared:</td>      <td>0.302</td>   \n",
              "</tr>\n",
              "<tr>\n",
              "  <td>Dependent Variable:</td> <td>order_estimated_delivery_time</td>        <td>AIC:</td>         <td>744202.1279</td>\n",
              "</tr>\n",
              "<tr>\n",
              "         <td>Date:</td>              <td>2020-11-09 06:21</td>               <td>BIC:</td>         <td>744365.3017</td>\n",
              "</tr>\n",
              "<tr>\n",
              "   <td>No. Observations:</td>             <td>108930</td>               <td>Log-Likelihood:</td>   <td>-3.7208e+05</td>\n",
              "</tr>\n",
              "<tr>\n",
              "       <td>Df Model:</td>                   <td>16</td>                  <td>F-statistic:</td>        <td>2942.</td>   \n",
              "</tr>\n",
              "<tr>\n",
              "     <td>Df Residuals:</td>               <td>108913</td>             <td>Prob (F-statistic):</td>    <td>0.00</td>    \n",
              "</tr>\n",
              "<tr>\n",
              "      <td>R-squared:</td>                  <td>0.302</td>                   <td>Scale:</td>          <td>54.266</td>   \n",
              "</tr>\n",
              "</table>\n",
              "<table class=\"simpletable\">\n",
              "<tr>\n",
              "               <td></td>                <th>Coef.</th>  <th>Std.Err.</th>     <th>t</th>     <th>P>|t|</th> <th>[0.025</th>  <th>0.975]</th> \n",
              "</tr>\n",
              "<tr>\n",
              "  <th>Intercept</th>                   <td>8.3410</td>   <td>0.3635</td>   <td>22.9492</td> <td>0.0000</td> <td>7.6286</td>  <td>9.0534</td> \n",
              "</tr>\n",
              "<tr>\n",
              "  <th>price</th>                       <td>-0.0015</td>  <td>0.0001</td>  <td>-11.2977</td> <td>0.0000</td> <td>-0.0018</td> <td>-0.0013</td>\n",
              "</tr>\n",
              "<tr>\n",
              "  <th>freight_value</th>               <td>0.1504</td>   <td>0.0020</td>   <td>75.4431</td> <td>0.0000</td> <td>0.1465</td>  <td>0.1543</td> \n",
              "</tr>\n",
              "<tr>\n",
              "  <th>shipping_limit_time</th>         <td>1.0011</td>   <td>0.0077</td>  <td>129.7030</td> <td>0.0000</td> <td>0.9860</td>  <td>1.0163</td> \n",
              "</tr>\n",
              "<tr>\n",
              "  <th>product_name_length</th>         <td>-0.0042</td>  <td>0.0023</td>   <td>-1.8429</td> <td>0.0653</td> <td>-0.0087</td> <td>0.0003</td> \n",
              "</tr>\n",
              "<tr>\n",
              "  <th>product_description_length</th>  <td>-0.0002</td>  <td>0.0000</td>   <td>-6.0157</td> <td>0.0000</td> <td>-0.0003</td> <td>-0.0001</td>\n",
              "</tr>\n",
              "<tr>\n",
              "  <th>product_photos_qty</th>          <td>0.0531</td>   <td>0.0134</td>   <td>3.9684</td>  <td>0.0001</td> <td>0.0269</td>  <td>0.0794</td> \n",
              "</tr>\n",
              "<tr>\n",
              "  <th>product_weight_g</th>            <td>-0.0003</td>  <td>0.0000</td>  <td>-33.6553</td> <td>0.0000</td> <td>-0.0003</td> <td>-0.0003</td>\n",
              "</tr>\n",
              "<tr>\n",
              "  <th>product_length_cm</th>           <td>0.0026</td>   <td>0.0017</td>   <td>1.5436</td>  <td>0.1227</td> <td>-0.0007</td> <td>0.0060</td> \n",
              "</tr>\n",
              "<tr>\n",
              "  <th>product_height_cm</th>           <td>0.0013</td>   <td>0.0021</td>   <td>0.6197</td>  <td>0.5355</td> <td>-0.0028</td> <td>0.0053</td> \n",
              "</tr>\n",
              "<tr>\n",
              "  <th>product_width_cm</th>            <td>0.0005</td>   <td>0.0024</td>   <td>0.1908</td>  <td>0.8487</td> <td>-0.0043</td> <td>0.0052</td> \n",
              "</tr>\n",
              "<tr>\n",
              "  <th>geolocation_lat</th>             <td>0.4027</td>   <td>0.0048</td>   <td>84.4822</td> <td>0.0000</td> <td>0.3934</td>  <td>0.4120</td> \n",
              "</tr>\n",
              "<tr>\n",
              "  <th>geolocation_lng</th>             <td>-0.1647</td>  <td>0.0062</td>  <td>-26.6050</td> <td>0.0000</td> <td>-0.1769</td> <td>-0.1526</td>\n",
              "</tr>\n",
              "<tr>\n",
              "  <th>seller_lat</th>                  <td>-0.0190</td>  <td>0.0061</td>   <td>-3.1125</td> <td>0.0019</td> <td>-0.0309</td> <td>-0.0070</td>\n",
              "</tr>\n",
              "<tr>\n",
              "  <th>seller_long</th>                 <td>-0.1746</td>  <td>0.0069</td>  <td>-25.2075</td> <td>0.0000</td> <td>-0.1881</td> <td>-0.1610</td>\n",
              "</tr>\n",
              "<tr>\n",
              "  <th>order_approval_time</th>         <td>-0.0353</td>  <td>0.0011</td>  <td>-31.7196</td> <td>0.0000</td> <td>-0.0375</td> <td>-0.0331</td>\n",
              "</tr>\n",
              "<tr>\n",
              "  <th>order_carrier_delivery_time</th> <td>0.1600</td>   <td>0.0068</td>   <td>23.4038</td> <td>0.0000</td> <td>0.1466</td>  <td>0.1734</td> \n",
              "</tr>\n",
              "</table>\n",
              "<table class=\"simpletable\">\n",
              "<tr>\n",
              "     <td>Omnibus:</td>    <td>24394.896</td>  <td>Durbin-Watson:</td>      <td>1.431</td>  \n",
              "</tr>\n",
              "<tr>\n",
              "  <td>Prob(Omnibus):</td>   <td>0.000</td>   <td>Jarque-Bera (JB):</td> <td>139239.400</td>\n",
              "</tr>\n",
              "<tr>\n",
              "       <td>Skew:</td>       <td>0.960</td>       <td>Prob(JB):</td>        <td>0.000</td>  \n",
              "</tr>\n",
              "<tr>\n",
              "     <td>Kurtosis:</td>     <td>8.195</td>    <td>Condition No.:</td>      <td>70854</td>  \n",
              "</tr>\n",
              "</table>"
            ],
            "text/plain": [
              "<class 'statsmodels.iolib.summary2.Summary'>\n",
              "\"\"\"\n",
              "                         Results: Ordinary least squares\n",
              "=================================================================================\n",
              "Model:              OLS                           Adj. R-squared:     0.302      \n",
              "Dependent Variable: order_estimated_delivery_time AIC:                744202.1279\n",
              "Date:               2020-11-09 06:21              BIC:                744365.3017\n",
              "No. Observations:   108930                        Log-Likelihood:     -3.7208e+05\n",
              "Df Model:           16                            F-statistic:        2942.      \n",
              "Df Residuals:       108913                        Prob (F-statistic): 0.00       \n",
              "R-squared:          0.302                         Scale:              54.266     \n",
              "----------------------------------------------------------------------------------\n",
              "                              Coef.   Std.Err.     t      P>|t|    [0.025   0.975]\n",
              "----------------------------------------------------------------------------------\n",
              "Intercept                     8.3410    0.3635   22.9492  0.0000   7.6286   9.0534\n",
              "price                        -0.0015    0.0001  -11.2977  0.0000  -0.0018  -0.0013\n",
              "freight_value                 0.1504    0.0020   75.4431  0.0000   0.1465   0.1543\n",
              "shipping_limit_time           1.0011    0.0077  129.7030  0.0000   0.9860   1.0163\n",
              "product_name_length          -0.0042    0.0023   -1.8429  0.0653  -0.0087   0.0003\n",
              "product_description_length   -0.0002    0.0000   -6.0157  0.0000  -0.0003  -0.0001\n",
              "product_photos_qty            0.0531    0.0134    3.9684  0.0001   0.0269   0.0794\n",
              "product_weight_g             -0.0003    0.0000  -33.6553  0.0000  -0.0003  -0.0003\n",
              "product_length_cm             0.0026    0.0017    1.5436  0.1227  -0.0007   0.0060\n",
              "product_height_cm             0.0013    0.0021    0.6197  0.5355  -0.0028   0.0053\n",
              "product_width_cm              0.0005    0.0024    0.1908  0.8487  -0.0043   0.0052\n",
              "geolocation_lat               0.4027    0.0048   84.4822  0.0000   0.3934   0.4120\n",
              "geolocation_lng              -0.1647    0.0062  -26.6050  0.0000  -0.1769  -0.1526\n",
              "seller_lat                   -0.0190    0.0061   -3.1125  0.0019  -0.0309  -0.0070\n",
              "seller_long                  -0.1746    0.0069  -25.2075  0.0000  -0.1881  -0.1610\n",
              "order_approval_time          -0.0353    0.0011  -31.7196  0.0000  -0.0375  -0.0331\n",
              "order_carrier_delivery_time   0.1600    0.0068   23.4038  0.0000   0.1466   0.1734\n",
              "---------------------------------------------------------------------------------\n",
              "Omnibus:                 24394.896          Durbin-Watson:             1.431     \n",
              "Prob(Omnibus):           0.000              Jarque-Bera (JB):          139239.400\n",
              "Skew:                    0.960              Prob(JB):                  0.000     \n",
              "Kurtosis:                8.195              Condition No.:             70854     \n",
              "=================================================================================\n",
              "* The condition number is large (7e+04). This might indicate             strong\n",
              "multicollinearity or other numerical problems.\n",
              "\"\"\""
            ]
          },
          "metadata": {
            "tags": []
          },
          "execution_count": 255
        }
      ]
    },
    {
      "cell_type": "markdown",
      "metadata": {
        "id": "Lf3bGrsFFWur"
      },
      "source": [
        "Conclusion: Since F-statistic value 3791 is greater than 0, we can reject the Null Hypothesis and we can conclude that these set of features will help us in predicting the **order_estimated_delivery_time**"
      ]
    },
    {
      "cell_type": "markdown",
      "metadata": {
        "id": "7k3lYpw7B8vQ"
      },
      "source": [
        "## Scaling and Correlation Graphs"
      ]
    },
    {
      "cell_type": "code",
      "metadata": {
        "id": "Sn8NTMyo26Z8"
      },
      "source": [
        "y_val= dataset[\"order_estimated_delivery_time\"]\n",
        "x_data=dataset.drop(\"order_estimated_delivery_time\",axis=1)"
      ],
      "execution_count": 256,
      "outputs": []
    },
    {
      "cell_type": "code",
      "metadata": {
        "id": "Je0mVP2k7SxY"
      },
      "source": [
        "scaler = MinMaxScaler(feature_range=(0,1))\n",
        "dataset_scaled = scaler.fit_transform(dataset)"
      ],
      "execution_count": 257,
      "outputs": []
    },
    {
      "cell_type": "code",
      "metadata": {
        "id": "h5HkT9kZ1k8s"
      },
      "source": [
        "X_train, X_test, y_train, y_test = train_test_split(dataset_scaled[:,0:16], dataset_scaled[:,16], test_size=0.33, random_state=42)"
      ],
      "execution_count": 258,
      "outputs": []
    },
    {
      "cell_type": "code",
      "metadata": {
        "id": "8sBUovcGh3En",
        "outputId": "4d6cc244-326e-482f-ee68-4239fba4c7e4",
        "colab": {
          "base_uri": "https://localhost:8080/",
          "height": 1000
        }
      },
      "source": [
        "plt.figure(figsize=(20,15))\n",
        "plt.imshow(dataset.corr(), cmap=plt.cm.GnBu,interpolation='nearest',data=True)\n",
        "plt.colorbar()\n",
        "tick_marks = [i for i in range(len(dataset.columns))]\n",
        "plt.xticks(tick_marks, dataset.columns, rotation=90)\n",
        "plt.yticks(tick_marks, dataset.columns, rotation=0)\n",
        "plt.show()"
      ],
      "execution_count": 259,
      "outputs": [
        {
          "output_type": "display_data",
          "data": {
            "image/png": "[encoded data removed]",
            "text/plain": [
              "<Figure size 1440x1080 with 2 Axes>"
            ]
          },
          "metadata": {
            "tags": [],
            "needs_background": "light"
          }
        }
      ]
    },
    {
      "cell_type": "markdown",
      "metadata": {
        "id": "AC4b9rjkfdaU"
      },
      "source": [
        "## Prediction using Different Regression Models"
      ]
    },
    {
      "cell_type": "code",
      "metadata": {
        "id": "sS65XnZesVkd",
        "outputId": "8d884ec7-5ce6-461e-939e-fba41949fb03",
        "colab": {
          "base_uri": "https://localhost:8080/"
        }
      },
      "source": [
        "model_lr = LinearRegression()\n",
        "model_lr.fit(X_train, y_train)\n",
        "y_pred_lr=model_lr.predict(X_test)\n",
        "y_pred_lr_train = model_lr.predict(X_train)\n",
        "print('Linear Regression R2Score :',r2_score(y_test,y_pred_lr))\n",
        "print('RMSE Test:',sqrt(mean_squared_error(y_pred_lr_train,y_train)))\n",
        "print('RMSE Train:',sqrt(mean_squared_error(y_pred_lr,y_test)))"
      ],
      "execution_count": 260,
      "outputs": [
        {
          "output_type": "stream",
          "text": [
            "Linear Regression R2Score : 0.3016888858464444\n",
            "RMSE Test: 0.04807409323997109\n",
            "RMSE Train: 0.048175273337098534\n"
          ],
          "name": "stdout"
        }
      ]
    },
    {
      "cell_type": "code",
      "metadata": {
        "id": "WOmXeuyPsohK",
        "outputId": "f08190aa-f3cd-4197-f4ef-1c5749e71fad",
        "colab": {
          "base_uri": "https://localhost:8080/"
        }
      },
      "source": [
        "model_kn = KNeighborsRegressor(n_neighbors=15,weights='distance')\n",
        "model_kn.fit(X_train, y_train)\n",
        "y_pred_kn=model_kn.predict(X_test)\n",
        "y_pred_kn_train = model_kn.predict(X_train)\n",
        "print('NearestNeighbors R2Score :',r2_score(y_test,y_pred_kn))\n",
        "print('RMSE Test:',sqrt(mean_squared_error(y_pred_kn_train,y_train)))\n",
        "print('RMSE Train:',sqrt(mean_squared_error(y_pred_kn,y_test)))"
      ],
      "execution_count": 261,
      "outputs": [
        {
          "output_type": "stream",
          "text": [
            "NearestNeighbors R2Score : 0.4990157225179137\n",
            "RMSE Test: 2.6435270141888353e-18\n",
            "RMSE Train: 0.040804847450399126\n"
          ],
          "name": "stdout"
        }
      ]
    },
    {
      "cell_type": "code",
      "metadata": {
        "id": "wTxlJk1qsgtY",
        "outputId": "e5dc6982-76de-4d0d-c118-9d41f1ce1c9e",
        "colab": {
          "base_uri": "https://localhost:8080/"
        }
      },
      "source": [
        "model_dt = DecisionTreeRegressor(max_depth=15, random_state=42,min_samples_split = 5,min_samples_leaf = 1)\n",
        "model_dt.fit(X_train, y_train)\n",
        "y_pred_dt=model_dt.predict(X_test)\n",
        "y_pred_dt_train = model_dt.predict(X_train)\n",
        "print('DecisionTreeRegressor R2Score :',r2_score(y_test,y_pred_dt))\n",
        "print('RMSE Test:',sqrt(mean_squared_error(y_pred_dt_train,y_train)))\n",
        "print('RMSE Train:',sqrt(mean_squared_error(y_pred_dt,y_test)))"
      ],
      "execution_count": 262,
      "outputs": [
        {
          "output_type": "stream",
          "text": [
            "DecisionTreeRegressor R2Score : 0.4891329223663653\n",
            "RMSE Test: 0.029275641068437677\n",
            "RMSE Train: 0.04120535577353469\n"
          ],
          "name": "stdout"
        }
      ]
    },
    {
      "cell_type": "code",
      "metadata": {
        "id": "_bW_i8wF9vJY",
        "outputId": "54bce020-3525-4511-b6ee-43f12d9ae6fa",
        "colab": {
          "base_uri": "https://localhost:8080/"
        }
      },
      "source": [
        "model_gb = GradientBoostingRegressor(n_estimators=750,random_state=42,learning_rate=0.5,max_depth=15,min_samples_split = 5,min_samples_leaf = 1)\n",
        "model_gb.fit(X_train, y_train)\n",
        "y_pred_gb=model_gb.predict(X_test)\n",
        "y_pred_gb_train = model_gb.predict(X_train)\n",
        "print('GradientBoostingRegressor R2Score :',r2_score(y_test,y_pred_gb))\n",
        "print('RMSE Test:',sqrt(mean_squared_error(y_pred_gb_train,y_train)))\n",
        "print('RMSE Train:',sqrt(mean_squared_error(y_pred_gb,y_test)))"
      ],
      "execution_count": 263,
      "outputs": [
        {
          "output_type": "stream",
          "text": [
            "GradientBoostingRegressor R2Score : 0.5895496556523228\n",
            "RMSE Test: 0.0003162132964602538\n",
            "RMSE Train: 0.0369343127621319\n"
          ],
          "name": "stdout"
        }
      ]
    },
    {
      "cell_type": "code",
      "metadata": {
        "id": "4XI34cE-sbvy",
        "outputId": "297e0e19-fdd3-45cd-c3e3-ef4fb7ddf471",
        "colab": {
          "base_uri": "https://localhost:8080/"
        }
      },
      "source": [
        "model_rf = RandomForestRegressor(max_depth=15, random_state=42,min_samples_split = 5,min_samples_leaf = 1)\n",
        "model_rf.fit(X_train, y_train)\n",
        "y_pred_rf=model_rf.predict(X_test)\n",
        "y_pred_rf_train = model_rf.predict(X_train)\n",
        "print('RandomForestRegressor R2Score :',r2_score(y_test,y_pred_rf))\n",
        "print('RMSE Test:',sqrt(mean_squared_error(y_pred_rf_train,y_train)))\n",
        "print('RMSE Train:',sqrt(mean_squared_error(y_pred_rf,y_test)))"
      ],
      "execution_count": 264,
      "outputs": [
        {
          "output_type": "stream",
          "text": [
            "RandomForestRegressor R2Score : 0.62248931145617\n",
            "RMSE Test: 0.02772049678975935\n",
            "RMSE Train: 0.03542128697550644\n"
          ],
          "name": "stdout"
        }
      ]
    },
    {
      "cell_type": "markdown",
      "metadata": {
        "id": "iP9KHt8UE9qi"
      },
      "source": [
        "## Conclusion: \n",
        "\n",
        "**We have achieved an accuracy of 62.2% and also there is no overfitting since RMSE of test data and train data are similiar**"
      ]
    },
    {
      "cell_type": "code",
      "metadata": {
        "id": "q3EiQgenO25B",
        "outputId": "28a35473-6271-4738-d1f4-9fb60563bfdd",
        "colab": {
          "base_uri": "https://localhost:8080/",
          "height": 346
        }
      },
      "source": [
        "pred_arrays = [y_pred_lr,y_pred_kn,y_pred_dt,y_pred_gb,y_pred_rf]\n",
        "predictors = ['LinearRegression','KNeighborsRegressor','DecisionTreeRegressor','GradientBoostingRegressor','RandomForestRegressor'] \n",
        "r2scores = []\n",
        "for i in pred_arrays:\n",
        "  r2scores.append(r2_score(y_test,i))\n",
        "comp = sns.barplot(x=predictors, y=r2scores)\n",
        "comp.set_xticklabels(comp.get_xticklabels(),rotation=30)\n",
        "for p in comp.patches:\n",
        "    comp.annotate(format(p.get_height(), '.3f'), \n",
        "                   (p.get_x() + p.get_width() / 2., p.get_height()), \n",
        "                   ha = 'center', va = 'center', \n",
        "                   xytext = (0, 9), \n",
        "                   textcoords = 'offset points')\n",
        "plt.show()"
      ],
      "execution_count": 265,
      "outputs": [
        {
          "output_type": "display_data",
          "data": {
            "image/png": "[encoded data removed]",
            "text/plain": [
              "<Figure size 432x288 with 1 Axes>"
            ]
          },
          "metadata": {
            "tags": [],
            "needs_background": "light"
          }
        }
      ]
    }
  ]
}